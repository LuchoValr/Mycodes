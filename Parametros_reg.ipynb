{
  "nbformat": 4,
  "nbformat_minor": 0,
  "metadata": {
    "colab": {
      "name": "Parametros_reg.ipynb",
      "provenance": [],
      "authorship_tag": "ABX9TyOlPpiIkdXIMXnmYfhrlCIG",
      "include_colab_link": true
    },
    "kernelspec": {
      "name": "python3",
      "display_name": "Python 3"
    },
    "language_info": {
      "name": "python"
    }
  },
  "cells": [
    {
      "cell_type": "markdown",
      "metadata": {
        "id": "view-in-github",
        "colab_type": "text"
      },
      "source": [
        "<a href=\"https://colab.research.google.com/github/LuchoValr/Mycodes/blob/main/Parametros_reg.ipynb\" target=\"_parent\"><img src=\"https://colab.research.google.com/assets/colab-badge.svg\" alt=\"Open In Colab\"/></a>"
      ]
    },
    {
      "cell_type": "markdown",
      "source": [
        "##Generador de parametros de una regresion por medio de datos\n"
      ],
      "metadata": {
        "id": "3lAExuT6QMGb"
      }
    },
    {
      "cell_type": "code",
      "execution_count": null,
      "metadata": {
        "id": "sCXtoThJB2J3"
      },
      "outputs": [],
      "source": [
        "import numpy as np\n",
        "def vectores(y,x):\n",
        "  #Se crean variables sumatorias\n",
        "  s1 = 0\n",
        "  s2 = 0\n",
        "  #Sacamos las medias de cada lista\n",
        "  y1=np.mean(y)\n",
        "  x1=np.mean(x)\n",
        "  #Se crea bucle para operar b1\n",
        "  for i in y:\n",
        "    for j in x:\n",
        "      s1 += j*(i-y1)\n",
        "      s2 += j*(j-x1)\n",
        "      #Declaramos variables B1 y B0 (Fallo en la variable B1 porque toma s1 y s2 como 0)\n",
        "      B1=s1/s2\n",
        "      B0=(y1-B1)*x1\n",
        "  return B1, B0 "
      ]
    },
    {
      "cell_type": "code",
      "source": [
        "y =[1,2,3,4,5]\n",
        "x =[1,2,3,4,5]"
      ],
      "metadata": {
        "id": "0l3BFwblKdNJ"
      },
      "execution_count": null,
      "outputs": []
    },
    {
      "cell_type": "code",
      "source": [
        "vectores(y,x)"
      ],
      "metadata": {
        "colab": {
          "base_uri": "https://localhost:8080/"
        },
        "id": "avZM_43qE4KJ",
        "outputId": "b523baad-099e-4123-9ad2-40aa63627b04"
      },
      "execution_count": null,
      "outputs": [
        {
          "output_type": "stream",
          "name": "stderr",
          "text": [
            "/usr/local/lib/python3.7/dist-packages/ipykernel_launcher.py:15: RuntimeWarning: divide by zero encountered in double_scalars\n",
            "  from ipykernel import kernelapp as app\n"
          ]
        },
        {
          "output_type": "execute_result",
          "data": {
            "text/plain": [
              "(0.0, 9.0)"
            ]
          },
          "metadata": {},
          "execution_count": 147
        }
      ]
    },
    {
      "cell_type": "code",
      "source": [
        ""
      ],
      "metadata": {
        "id": "k0Af3R9SF2aV"
      },
      "execution_count": null,
      "outputs": []
    }
  ]
}