{
  "nbformat": 4,
  "nbformat_minor": 0,
  "metadata": {
    "colab": {
      "name": "Parametros_reg.ipynb",
      "provenance": [],
      "collapsed_sections": [],
      "authorship_tag": "ABX9TyNoHPEBi1I11T/lS5qySJlF",
      "include_colab_link": true
    },
    "kernelspec": {
      "name": "python3",
      "display_name": "Python 3"
    },
    "language_info": {
      "name": "python"
    }
  },
  "cells": [
    {
      "cell_type": "markdown",
      "metadata": {
        "id": "view-in-github",
        "colab_type": "text"
      },
      "source": [
        "<a href=\"https://colab.research.google.com/github/LuchoValr/Pruebas-codigos/blob/main/Parametros_reg.ipynb\" target=\"_parent\"><img src=\"https://colab.research.google.com/assets/colab-badge.svg\" alt=\"Open In Colab\"/></a>"
      ]
    },
    {
      "cell_type": "markdown",
      "source": [
        "##Generador de parametros de una regresion por medio de datos\n"
      ],
      "metadata": {
        "id": "3lAExuT6QMGb"
      }
    },
    {
      "cell_type": "code",
      "execution_count": 56,
      "metadata": {
        "id": "sCXtoThJB2J3"
      },
      "outputs": [],
      "source": [
        "import numpy as np\n",
        "def vectores(y,x):\n",
        "  #Se crean variables sumatorias\n",
        "  s1=0\n",
        "  s2=0\n",
        "  #Sacamos las medias de cada lista\n",
        "  y1=np.mean(y)\n",
        "  x1=np.mean(x)\n",
        "  #Se crea bucle para operar b1\n",
        "  for i, w in enumerate(x):\n",
        "      s1 += x[i]*(y[i]-y1)\n",
        "      s2 += x[i]*(x[i]-x1)\n",
        "      #Declaramos variables B1 y B0 \n",
        "      B1=s1/s2\n",
        "      B0=(y1-B1)*x1\n",
        "  return B1, B0 "
      ]
    },
    {
      "cell_type": "code",
      "source": [
        "y =[1,2,3,4,5]\n",
        "x =[1,2,3,4,5]"
      ],
      "metadata": {
        "id": "0l3BFwblKdNJ"
      },
      "execution_count": 57,
      "outputs": []
    },
    {
      "cell_type": "code",
      "source": [
        "vectores(y,x)"
      ],
      "metadata": {
        "colab": {
          "base_uri": "https://localhost:8080/"
        },
        "id": "avZM_43qE4KJ",
        "outputId": "17deb406-06d4-4d93-c2f2-5445183c780b"
      },
      "execution_count": 58,
      "outputs": [
        {
          "output_type": "stream",
          "name": "stderr",
          "text": [
            "/usr/local/lib/python3.7/dist-packages/ipykernel_launcher.py:14: RuntimeWarning: invalid value encountered in double_scalars\n",
            "  \n"
          ]
        },
        {
          "output_type": "execute_result",
          "data": {
            "text/plain": [
              "(1.0, 6.0)"
            ]
          },
          "metadata": {},
          "execution_count": 58
        }
      ]
    },
    {
      "cell_type": "code",
      "source": [
        ""
      ],
      "metadata": {
        "id": "k0Af3R9SF2aV"
      },
      "execution_count": 58,
      "outputs": []
    }
  ]
}