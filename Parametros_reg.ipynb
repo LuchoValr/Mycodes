{
  "nbformat": 4,
  "nbformat_minor": 0,
  "metadata": {
    "colab": {
      "name": "Parametros_reg.ipynb",
      "provenance": [],
      "collapsed_sections": [],
      "authorship_tag": "ABX9TyPSGl2g6JYm5lkpkBDxzi/x",
      "include_colab_link": true
    },
    "kernelspec": {
      "name": "python3",
      "display_name": "Python 3"
    },
    "language_info": {
      "name": "python"
    }
  },
  "cells": [
    {
      "cell_type": "markdown",
      "metadata": {
        "id": "view-in-github",
        "colab_type": "text"
      },
      "source": [
        "<a href=\"https://colab.research.google.com/github/LuchoValr/Pruebas-codigos/blob/main/Parametros_reg.ipynb\" target=\"_parent\"><img src=\"https://colab.research.google.com/assets/colab-badge.svg\" alt=\"Open In Colab\"/></a>"
      ]
    },
    {
      "cell_type": "markdown",
      "source": [
        "##Generador de parametros de una regresion\n"
      ],
      "metadata": {
        "id": "3lAExuT6QMGb"
      }
    },
    {
      "cell_type": "code",
      "execution_count": 165,
      "metadata": {
        "id": "sCXtoThJB2J3",
        "colab": {
          "base_uri": "https://localhost:8080/"
        },
        "outputId": "6631054a-65de-43e5-9d17-956e7ccb440a"
      },
      "outputs": [
        {
          "output_type": "stream",
          "name": "stdout",
          "text": [
            "B0 y B1 son [11.  -1.5]\n",
            "Los valores ajustados son [9.5 3.5 6.5 5.  3.5]\n",
            "Los Residuales son [-0.5 -1.5  1.5 -1.   1.5]\n",
            "SRC es 8.0 y SEC es 154.00000000000009. Entonces r2 es 0.9506172839506173 \n"
          ]
        }
      ],
      "source": [
        "import numpy as np\n",
        "y =np.array([9,2,8,4,5])\n",
        "x =np.array([[1,1],[1,5],[1,3],[1,4],[1,5]])\n",
        "n=np.size(y)\n",
        "y_mean=np.mean(y)\n",
        "#Transpuesta de x\n",
        "x_t=np.transpose(x)\n",
        "#Transpuesta de x por x\n",
        "x_t2=np.dot(x_t,x)\n",
        "#Transpuesta de x por y\n",
        "xt_y=np.dot(x_t,y)\n",
        "#Inversa de la transpuesta de x\n",
        "x_i_t=np.linalg.inv(x_t2)\n",
        "#Hallando los parametros B0 y B1 multiplicando Inversa de la transpuesta de x por Transpuesta de x por y\n",
        "vec=np.dot(x_i_t,xt_y)\n",
        "#Valores ajustados = x por los parametros\n",
        "y_hat=np.dot(x,vec)\n",
        "#Residuales = y menos valores ajustados\n",
        "u=y-y_hat\n",
        "#Transpuesta de u\n",
        "u_t=np.transpose(u)\n",
        "#Suma de los residuales al cuadrado\n",
        "SRC=np.dot(u_t,u)\n",
        "#Transpuesta de valores ajustados\n",
        "yt_hat=np.transpose(y_hat)\n",
        "#Suma explicada de cuadrados\n",
        "y_hat3 = np.dot(yt_hat,y_hat)\n",
        "SEC= y_hat3-(n*y_mean)\n",
        "#R2\n",
        "STC=SEC+SRC\n",
        "r2=SEC/STC\n",
        "print(f'B0 y B1 son {vec}')\n",
        "print(f'Los valores ajustados son {y_hat}')\n",
        "print(f'Los Residuales son {u}')\n",
        "print(f'SRC es {SRC} y SEC es {SEC}. Entonces r2 es {r2} ')"
      ]
    },
    {
      "cell_type": "code",
      "source": [
        ""
      ],
      "metadata": {
        "id": "4RuvftFj9ORB"
      },
      "execution_count": null,
      "outputs": []
    }
  ]
}