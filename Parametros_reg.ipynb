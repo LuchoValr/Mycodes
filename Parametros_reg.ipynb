{
  "nbformat": 4,
  "nbformat_minor": 0,
  "metadata": {
    "colab": {
      "name": "Parametros_reg.ipynb",
      "provenance": [],
      "collapsed_sections": [],
      "authorship_tag": "ABX9TyPSDoeSyUnet3WoAaXXrrM0",
      "include_colab_link": true
    },
    "kernelspec": {
      "name": "python3",
      "display_name": "Python 3"
    },
    "language_info": {
      "name": "python"
    }
  },
  "cells": [
    {
      "cell_type": "markdown",
      "metadata": {
        "id": "view-in-github",
        "colab_type": "text"
      },
      "source": [
        "<a href=\"https://colab.research.google.com/github/LuchoValr/Pruebas-codigos/blob/main/Parametros_reg.ipynb\" target=\"_parent\"><img src=\"https://colab.research.google.com/assets/colab-badge.svg\" alt=\"Open In Colab\"/></a>"
      ]
    },
    {
      "cell_type": "markdown",
      "source": [
        "##Generador de parametros de una regresion por medio de datos\n"
      ],
      "metadata": {
        "id": "3lAExuT6QMGb"
      }
    },
    {
      "cell_type": "code",
      "execution_count": 69,
      "metadata": {
        "id": "sCXtoThJB2J3"
      },
      "outputs": [],
      "source": [
        "import numpy as np\n",
        "def vectores(y,x):\n",
        "  #Se crean variables sumatorias\n",
        "  s1=0\n",
        "  s2=0\n",
        "  u=0\n",
        "  y_hat=0\n",
        "  #Sacamos las medias de cada lista\n",
        "  y1=np.mean(y)\n",
        "  x1=np.mean(x)\n",
        "  #Se crea bucle para operar b1\n",
        "  for i, w in enumerate(x):\n",
        "      s1 += x[i]*(y[i]-y1)\n",
        "      s2 += x[i]*(x[i]-x1)\n",
        "      #Declaramos variables B1 y B0 \n",
        "      B1=s1/s2\n",
        "      B0=(y1-B1)*x1\n",
        "      #Residuales\n",
        "      y_hat1 = []\n",
        "      u1 = []\n",
        "      for i in range:\n",
        "        u1.append(u2)\n",
        "        y_hat1.append(y_hat1)\n",
        "        u2 = y[i]-B0-(B1*x[i])\n",
        "        y_hat2 = y[i]-u\n",
        "  return B0,B1,u1,y_hat1"
      ]
    },
    {
      "cell_type": "code",
      "source": [
        "y =[1,2,3,4,5]\n",
        "x =[1,2,3,4,5]"
      ],
      "metadata": {
        "id": "0l3BFwblKdNJ"
      },
      "execution_count": 70,
      "outputs": []
    },
    {
      "cell_type": "code",
      "source": [
        "vectores(y,x)"
      ],
      "metadata": {
        "colab": {
          "base_uri": "https://localhost:8080/",
          "height": 287
        },
        "id": "avZM_43qE4KJ",
        "outputId": "993aee3c-6ae9-401b-f910-67fb055fdfaf"
      },
      "execution_count": 71,
      "outputs": [
        {
          "output_type": "error",
          "ename": "TypeError",
          "evalue": "ignored",
          "traceback": [
            "\u001b[0;31m---------------------------------------------------------------------------\u001b[0m",
            "\u001b[0;31mTypeError\u001b[0m                                 Traceback (most recent call last)",
            "\u001b[0;32m<ipython-input-71-b5857d689660>\u001b[0m in \u001b[0;36m<module>\u001b[0;34m()\u001b[0m\n\u001b[0;32m----> 1\u001b[0;31m \u001b[0mvectores\u001b[0m\u001b[0;34m(\u001b[0m\u001b[0my\u001b[0m\u001b[0;34m,\u001b[0m\u001b[0mx\u001b[0m\u001b[0;34m)\u001b[0m\u001b[0;34m\u001b[0m\u001b[0;34m\u001b[0m\u001b[0m\n\u001b[0m",
            "\u001b[0;32m<ipython-input-69-0c94cf26aba3>\u001b[0m in \u001b[0;36mvectores\u001b[0;34m(y, x)\u001b[0m\n\u001b[1;32m     19\u001b[0m       \u001b[0my_hat1\u001b[0m \u001b[0;34m=\u001b[0m \u001b[0;34m[\u001b[0m\u001b[0;34m]\u001b[0m\u001b[0;34m\u001b[0m\u001b[0;34m\u001b[0m\u001b[0m\n\u001b[1;32m     20\u001b[0m       \u001b[0mu1\u001b[0m \u001b[0;34m=\u001b[0m \u001b[0;34m[\u001b[0m\u001b[0;34m]\u001b[0m\u001b[0;34m\u001b[0m\u001b[0;34m\u001b[0m\u001b[0m\n\u001b[0;32m---> 21\u001b[0;31m       \u001b[0;32mfor\u001b[0m \u001b[0mi\u001b[0m \u001b[0;32min\u001b[0m \u001b[0mrange\u001b[0m\u001b[0;34m:\u001b[0m\u001b[0;34m\u001b[0m\u001b[0;34m\u001b[0m\u001b[0m\n\u001b[0m\u001b[1;32m     22\u001b[0m         \u001b[0mu1\u001b[0m\u001b[0;34m.\u001b[0m\u001b[0mappend\u001b[0m\u001b[0;34m(\u001b[0m\u001b[0mu2\u001b[0m\u001b[0;34m)\u001b[0m\u001b[0;34m\u001b[0m\u001b[0;34m\u001b[0m\u001b[0m\n\u001b[1;32m     23\u001b[0m         \u001b[0my_hat1\u001b[0m\u001b[0;34m.\u001b[0m\u001b[0mappend\u001b[0m\u001b[0;34m(\u001b[0m\u001b[0my_hat1\u001b[0m\u001b[0;34m)\u001b[0m\u001b[0;34m\u001b[0m\u001b[0;34m\u001b[0m\u001b[0m\n",
            "\u001b[0;31mTypeError\u001b[0m: 'type' object is not iterable"
          ]
        }
      ]
    },
    {
      "cell_type": "code",
      "source": [
        ""
      ],
      "metadata": {
        "id": "k0Af3R9SF2aV"
      },
      "execution_count": 35,
      "outputs": []
    }
  ]
}