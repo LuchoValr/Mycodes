{
 "cells": [
  {
   "cell_type": "code",
   "execution_count": 1,
   "id": "b83cfb67",
   "metadata": {
    "execution": {
     "iopub.execute_input": "2022-12-24T23:33:18.229312Z",
     "iopub.status.busy": "2022-12-24T23:33:18.228847Z",
     "iopub.status.idle": "2022-12-24T23:33:18.238885Z",
     "shell.execute_reply": "2022-12-24T23:33:18.238025Z"
    },
    "papermill": {
     "duration": 0.023621,
     "end_time": "2022-12-24T23:33:18.241123",
     "exception": false,
     "start_time": "2022-12-24T23:33:18.217502",
     "status": "completed"
    },
    "tags": []
   },
   "outputs": [],
   "source": [
    "import numpy as np\n",
    "import pandas as pd"
   ]
  },
  {
   "cell_type": "code",
   "execution_count": 2,
   "id": "be2dd57a",
   "metadata": {
    "execution": {
     "iopub.execute_input": "2022-12-24T23:33:18.259903Z",
     "iopub.status.busy": "2022-12-24T23:33:18.258921Z",
     "iopub.status.idle": "2022-12-24T23:33:18.286751Z",
     "shell.execute_reply": "2022-12-24T23:33:18.285611Z"
    },
    "papermill": {
     "duration": 0.0396,
     "end_time": "2022-12-24T23:33:18.289209",
     "exception": false,
     "start_time": "2022-12-24T23:33:18.249609",
     "status": "completed"
    },
    "tags": []
   },
   "outputs": [],
   "source": [
    "train=pd.read_csv('/kaggle/input/titanic/train.csv')\n",
    "test=pd.read_csv('/kaggle/input/titanic/test.csv')"
   ]
  },
  {
   "cell_type": "code",
   "execution_count": 3,
   "id": "f86a0e61",
   "metadata": {
    "execution": {
     "iopub.execute_input": "2022-12-24T23:33:18.307839Z",
     "iopub.status.busy": "2022-12-24T23:33:18.306791Z",
     "iopub.status.idle": "2022-12-24T23:33:18.336983Z",
     "shell.execute_reply": "2022-12-24T23:33:18.335807Z"
    },
    "papermill": {
     "duration": 0.042108,
     "end_time": "2022-12-24T23:33:18.339690",
     "exception": false,
     "start_time": "2022-12-24T23:33:18.297582",
     "status": "completed"
    },
    "tags": []
   },
   "outputs": [
    {
     "data": {
      "text/html": [
       "<div>\n",
       "<style scoped>\n",
       "    .dataframe tbody tr th:only-of-type {\n",
       "        vertical-align: middle;\n",
       "    }\n",
       "\n",
       "    .dataframe tbody tr th {\n",
       "        vertical-align: top;\n",
       "    }\n",
       "\n",
       "    .dataframe thead th {\n",
       "        text-align: right;\n",
       "    }\n",
       "</style>\n",
       "<table border=\"1\" class=\"dataframe\">\n",
       "  <thead>\n",
       "    <tr style=\"text-align: right;\">\n",
       "      <th></th>\n",
       "      <th>PassengerId</th>\n",
       "      <th>Survived</th>\n",
       "      <th>Pclass</th>\n",
       "      <th>Name</th>\n",
       "      <th>Sex</th>\n",
       "      <th>Age</th>\n",
       "      <th>SibSp</th>\n",
       "      <th>Parch</th>\n",
       "      <th>Ticket</th>\n",
       "      <th>Fare</th>\n",
       "      <th>Cabin</th>\n",
       "      <th>Embarked</th>\n",
       "    </tr>\n",
       "  </thead>\n",
       "  <tbody>\n",
       "    <tr>\n",
       "      <th>0</th>\n",
       "      <td>1</td>\n",
       "      <td>0</td>\n",
       "      <td>3</td>\n",
       "      <td>Braund, Mr. Owen Harris</td>\n",
       "      <td>male</td>\n",
       "      <td>22.0</td>\n",
       "      <td>1</td>\n",
       "      <td>0</td>\n",
       "      <td>A/5 21171</td>\n",
       "      <td>7.2500</td>\n",
       "      <td>NaN</td>\n",
       "      <td>S</td>\n",
       "    </tr>\n",
       "    <tr>\n",
       "      <th>1</th>\n",
       "      <td>2</td>\n",
       "      <td>1</td>\n",
       "      <td>1</td>\n",
       "      <td>Cumings, Mrs. John Bradley (Florence Briggs Th...</td>\n",
       "      <td>female</td>\n",
       "      <td>38.0</td>\n",
       "      <td>1</td>\n",
       "      <td>0</td>\n",
       "      <td>PC 17599</td>\n",
       "      <td>71.2833</td>\n",
       "      <td>C85</td>\n",
       "      <td>C</td>\n",
       "    </tr>\n",
       "    <tr>\n",
       "      <th>2</th>\n",
       "      <td>3</td>\n",
       "      <td>1</td>\n",
       "      <td>3</td>\n",
       "      <td>Heikkinen, Miss. Laina</td>\n",
       "      <td>female</td>\n",
       "      <td>26.0</td>\n",
       "      <td>0</td>\n",
       "      <td>0</td>\n",
       "      <td>STON/O2. 3101282</td>\n",
       "      <td>7.9250</td>\n",
       "      <td>NaN</td>\n",
       "      <td>S</td>\n",
       "    </tr>\n",
       "    <tr>\n",
       "      <th>3</th>\n",
       "      <td>4</td>\n",
       "      <td>1</td>\n",
       "      <td>1</td>\n",
       "      <td>Futrelle, Mrs. Jacques Heath (Lily May Peel)</td>\n",
       "      <td>female</td>\n",
       "      <td>35.0</td>\n",
       "      <td>1</td>\n",
       "      <td>0</td>\n",
       "      <td>113803</td>\n",
       "      <td>53.1000</td>\n",
       "      <td>C123</td>\n",
       "      <td>S</td>\n",
       "    </tr>\n",
       "    <tr>\n",
       "      <th>4</th>\n",
       "      <td>5</td>\n",
       "      <td>0</td>\n",
       "      <td>3</td>\n",
       "      <td>Allen, Mr. William Henry</td>\n",
       "      <td>male</td>\n",
       "      <td>35.0</td>\n",
       "      <td>0</td>\n",
       "      <td>0</td>\n",
       "      <td>373450</td>\n",
       "      <td>8.0500</td>\n",
       "      <td>NaN</td>\n",
       "      <td>S</td>\n",
       "    </tr>\n",
       "  </tbody>\n",
       "</table>\n",
       "</div>"
      ],
      "text/plain": [
       "   PassengerId  Survived  Pclass  \\\n",
       "0            1         0       3   \n",
       "1            2         1       1   \n",
       "2            3         1       3   \n",
       "3            4         1       1   \n",
       "4            5         0       3   \n",
       "\n",
       "                                                Name     Sex   Age  SibSp  \\\n",
       "0                            Braund, Mr. Owen Harris    male  22.0      1   \n",
       "1  Cumings, Mrs. John Bradley (Florence Briggs Th...  female  38.0      1   \n",
       "2                             Heikkinen, Miss. Laina  female  26.0      0   \n",
       "3       Futrelle, Mrs. Jacques Heath (Lily May Peel)  female  35.0      1   \n",
       "4                           Allen, Mr. William Henry    male  35.0      0   \n",
       "\n",
       "   Parch            Ticket     Fare Cabin Embarked  \n",
       "0      0         A/5 21171   7.2500   NaN        S  \n",
       "1      0          PC 17599  71.2833   C85        C  \n",
       "2      0  STON/O2. 3101282   7.9250   NaN        S  \n",
       "3      0            113803  53.1000  C123        S  \n",
       "4      0            373450   8.0500   NaN        S  "
      ]
     },
     "execution_count": 3,
     "metadata": {},
     "output_type": "execute_result"
    }
   ],
   "source": [
    "train.head()"
   ]
  },
  {
   "cell_type": "code",
   "execution_count": 4,
   "id": "e30f4f8f",
   "metadata": {
    "execution": {
     "iopub.execute_input": "2022-12-24T23:33:18.358556Z",
     "iopub.status.busy": "2022-12-24T23:33:18.357642Z",
     "iopub.status.idle": "2022-12-24T23:33:18.372506Z",
     "shell.execute_reply": "2022-12-24T23:33:18.371747Z"
    },
    "papermill": {
     "duration": 0.026605,
     "end_time": "2022-12-24T23:33:18.374690",
     "exception": false,
     "start_time": "2022-12-24T23:33:18.348085",
     "status": "completed"
    },
    "tags": []
   },
   "outputs": [
    {
     "data": {
      "text/html": [
       "<div>\n",
       "<style scoped>\n",
       "    .dataframe tbody tr th:only-of-type {\n",
       "        vertical-align: middle;\n",
       "    }\n",
       "\n",
       "    .dataframe tbody tr th {\n",
       "        vertical-align: top;\n",
       "    }\n",
       "\n",
       "    .dataframe thead th {\n",
       "        text-align: right;\n",
       "    }\n",
       "</style>\n",
       "<table border=\"1\" class=\"dataframe\">\n",
       "  <thead>\n",
       "    <tr style=\"text-align: right;\">\n",
       "      <th></th>\n",
       "      <th>PassengerId</th>\n",
       "      <th>Pclass</th>\n",
       "      <th>Name</th>\n",
       "      <th>Sex</th>\n",
       "      <th>Age</th>\n",
       "      <th>SibSp</th>\n",
       "      <th>Parch</th>\n",
       "      <th>Ticket</th>\n",
       "      <th>Fare</th>\n",
       "      <th>Cabin</th>\n",
       "      <th>Embarked</th>\n",
       "    </tr>\n",
       "  </thead>\n",
       "  <tbody>\n",
       "    <tr>\n",
       "      <th>0</th>\n",
       "      <td>892</td>\n",
       "      <td>3</td>\n",
       "      <td>Kelly, Mr. James</td>\n",
       "      <td>male</td>\n",
       "      <td>34.5</td>\n",
       "      <td>0</td>\n",
       "      <td>0</td>\n",
       "      <td>330911</td>\n",
       "      <td>7.8292</td>\n",
       "      <td>NaN</td>\n",
       "      <td>Q</td>\n",
       "    </tr>\n",
       "    <tr>\n",
       "      <th>1</th>\n",
       "      <td>893</td>\n",
       "      <td>3</td>\n",
       "      <td>Wilkes, Mrs. James (Ellen Needs)</td>\n",
       "      <td>female</td>\n",
       "      <td>47.0</td>\n",
       "      <td>1</td>\n",
       "      <td>0</td>\n",
       "      <td>363272</td>\n",
       "      <td>7.0000</td>\n",
       "      <td>NaN</td>\n",
       "      <td>S</td>\n",
       "    </tr>\n",
       "    <tr>\n",
       "      <th>2</th>\n",
       "      <td>894</td>\n",
       "      <td>2</td>\n",
       "      <td>Myles, Mr. Thomas Francis</td>\n",
       "      <td>male</td>\n",
       "      <td>62.0</td>\n",
       "      <td>0</td>\n",
       "      <td>0</td>\n",
       "      <td>240276</td>\n",
       "      <td>9.6875</td>\n",
       "      <td>NaN</td>\n",
       "      <td>Q</td>\n",
       "    </tr>\n",
       "    <tr>\n",
       "      <th>3</th>\n",
       "      <td>895</td>\n",
       "      <td>3</td>\n",
       "      <td>Wirz, Mr. Albert</td>\n",
       "      <td>male</td>\n",
       "      <td>27.0</td>\n",
       "      <td>0</td>\n",
       "      <td>0</td>\n",
       "      <td>315154</td>\n",
       "      <td>8.6625</td>\n",
       "      <td>NaN</td>\n",
       "      <td>S</td>\n",
       "    </tr>\n",
       "    <tr>\n",
       "      <th>4</th>\n",
       "      <td>896</td>\n",
       "      <td>3</td>\n",
       "      <td>Hirvonen, Mrs. Alexander (Helga E Lindqvist)</td>\n",
       "      <td>female</td>\n",
       "      <td>22.0</td>\n",
       "      <td>1</td>\n",
       "      <td>1</td>\n",
       "      <td>3101298</td>\n",
       "      <td>12.2875</td>\n",
       "      <td>NaN</td>\n",
       "      <td>S</td>\n",
       "    </tr>\n",
       "  </tbody>\n",
       "</table>\n",
       "</div>"
      ],
      "text/plain": [
       "   PassengerId  Pclass                                          Name     Sex  \\\n",
       "0          892       3                              Kelly, Mr. James    male   \n",
       "1          893       3              Wilkes, Mrs. James (Ellen Needs)  female   \n",
       "2          894       2                     Myles, Mr. Thomas Francis    male   \n",
       "3          895       3                              Wirz, Mr. Albert    male   \n",
       "4          896       3  Hirvonen, Mrs. Alexander (Helga E Lindqvist)  female   \n",
       "\n",
       "    Age  SibSp  Parch   Ticket     Fare Cabin Embarked  \n",
       "0  34.5      0      0   330911   7.8292   NaN        Q  \n",
       "1  47.0      1      0   363272   7.0000   NaN        S  \n",
       "2  62.0      0      0   240276   9.6875   NaN        Q  \n",
       "3  27.0      0      0   315154   8.6625   NaN        S  \n",
       "4  22.0      1      1  3101298  12.2875   NaN        S  "
      ]
     },
     "execution_count": 4,
     "metadata": {},
     "output_type": "execute_result"
    }
   ],
   "source": [
    "test.head()"
   ]
  },
  {
   "cell_type": "code",
   "execution_count": 5,
   "id": "fd1ce98e",
   "metadata": {
    "execution": {
     "iopub.execute_input": "2022-12-24T23:33:18.394235Z",
     "iopub.status.busy": "2022-12-24T23:33:18.393586Z",
     "iopub.status.idle": "2022-12-24T23:33:18.418804Z",
     "shell.execute_reply": "2022-12-24T23:33:18.417404Z"
    },
    "papermill": {
     "duration": 0.038237,
     "end_time": "2022-12-24T23:33:18.421797",
     "exception": false,
     "start_time": "2022-12-24T23:33:18.383560",
     "status": "completed"
    },
    "tags": []
   },
   "outputs": [
    {
     "name": "stdout",
     "output_type": "stream",
     "text": [
      "<class 'pandas.core.frame.DataFrame'>\n",
      "RangeIndex: 891 entries, 0 to 890\n",
      "Data columns (total 12 columns):\n",
      " #   Column       Non-Null Count  Dtype  \n",
      "---  ------       --------------  -----  \n",
      " 0   PassengerId  891 non-null    int64  \n",
      " 1   Survived     891 non-null    int64  \n",
      " 2   Pclass       891 non-null    int64  \n",
      " 3   Name         891 non-null    object \n",
      " 4   Sex          891 non-null    object \n",
      " 5   Age          714 non-null    float64\n",
      " 6   SibSp        891 non-null    int64  \n",
      " 7   Parch        891 non-null    int64  \n",
      " 8   Ticket       891 non-null    object \n",
      " 9   Fare         891 non-null    float64\n",
      " 10  Cabin        204 non-null    object \n",
      " 11  Embarked     889 non-null    object \n",
      "dtypes: float64(2), int64(5), object(5)\n",
      "memory usage: 83.7+ KB\n"
     ]
    }
   ],
   "source": [
    "train.info()"
   ]
  },
  {
   "cell_type": "code",
   "execution_count": 6,
   "id": "6b9c910b",
   "metadata": {
    "execution": {
     "iopub.execute_input": "2022-12-24T23:33:18.444815Z",
     "iopub.status.busy": "2022-12-24T23:33:18.444228Z",
     "iopub.status.idle": "2022-12-24T23:33:18.455747Z",
     "shell.execute_reply": "2022-12-24T23:33:18.454661Z"
    },
    "papermill": {
     "duration": 0.025225,
     "end_time": "2022-12-24T23:33:18.459327",
     "exception": false,
     "start_time": "2022-12-24T23:33:18.434102",
     "status": "completed"
    },
    "tags": []
   },
   "outputs": [
    {
     "name": "stdout",
     "output_type": "stream",
     "text": [
      "<class 'pandas.core.frame.DataFrame'>\n",
      "RangeIndex: 418 entries, 0 to 417\n",
      "Data columns (total 11 columns):\n",
      " #   Column       Non-Null Count  Dtype  \n",
      "---  ------       --------------  -----  \n",
      " 0   PassengerId  418 non-null    int64  \n",
      " 1   Pclass       418 non-null    int64  \n",
      " 2   Name         418 non-null    object \n",
      " 3   Sex          418 non-null    object \n",
      " 4   Age          332 non-null    float64\n",
      " 5   SibSp        418 non-null    int64  \n",
      " 6   Parch        418 non-null    int64  \n",
      " 7   Ticket       418 non-null    object \n",
      " 8   Fare         417 non-null    float64\n",
      " 9   Cabin        91 non-null     object \n",
      " 10  Embarked     418 non-null    object \n",
      "dtypes: float64(2), int64(4), object(5)\n",
      "memory usage: 36.0+ KB\n"
     ]
    }
   ],
   "source": [
    "test.info()"
   ]
  },
  {
   "cell_type": "code",
   "execution_count": 7,
   "id": "398930ad",
   "metadata": {
    "execution": {
     "iopub.execute_input": "2022-12-24T23:33:18.479935Z",
     "iopub.status.busy": "2022-12-24T23:33:18.479004Z",
     "iopub.status.idle": "2022-12-24T23:33:18.518225Z",
     "shell.execute_reply": "2022-12-24T23:33:18.516974Z"
    },
    "papermill": {
     "duration": 0.051637,
     "end_time": "2022-12-24T23:33:18.520572",
     "exception": false,
     "start_time": "2022-12-24T23:33:18.468935",
     "status": "completed"
    },
    "tags": []
   },
   "outputs": [
    {
     "data": {
      "text/html": [
       "<div>\n",
       "<style scoped>\n",
       "    .dataframe tbody tr th:only-of-type {\n",
       "        vertical-align: middle;\n",
       "    }\n",
       "\n",
       "    .dataframe tbody tr th {\n",
       "        vertical-align: top;\n",
       "    }\n",
       "\n",
       "    .dataframe thead tr th {\n",
       "        text-align: left;\n",
       "    }\n",
       "\n",
       "    .dataframe thead tr:last-of-type th {\n",
       "        text-align: right;\n",
       "    }\n",
       "</style>\n",
       "<table border=\"1\" class=\"dataframe\">\n",
       "  <thead>\n",
       "    <tr>\n",
       "      <th></th>\n",
       "      <th></th>\n",
       "      <th></th>\n",
       "      <th>mean</th>\n",
       "      <th>median</th>\n",
       "    </tr>\n",
       "    <tr>\n",
       "      <th></th>\n",
       "      <th></th>\n",
       "      <th></th>\n",
       "      <th>Age</th>\n",
       "      <th>Age</th>\n",
       "    </tr>\n",
       "    <tr>\n",
       "      <th>SibSp</th>\n",
       "      <th>Parch</th>\n",
       "      <th>Sex</th>\n",
       "      <th></th>\n",
       "      <th></th>\n",
       "    </tr>\n",
       "  </thead>\n",
       "  <tbody>\n",
       "    <tr>\n",
       "      <th rowspan=\"9\" valign=\"top\">0</th>\n",
       "      <th rowspan=\"2\" valign=\"top\">0</th>\n",
       "      <th>female</th>\n",
       "      <td>30.150000</td>\n",
       "      <td>28.5</td>\n",
       "    </tr>\n",
       "    <tr>\n",
       "      <th>male</th>\n",
       "      <td>32.901316</td>\n",
       "      <td>30.0</td>\n",
       "    </tr>\n",
       "    <tr>\n",
       "      <th rowspan=\"2\" valign=\"top\">1</th>\n",
       "      <th>female</th>\n",
       "      <td>27.086957</td>\n",
       "      <td>22.0</td>\n",
       "    </tr>\n",
       "    <tr>\n",
       "      <th>male</th>\n",
       "      <td>33.530000</td>\n",
       "      <td>36.5</td>\n",
       "    </tr>\n",
       "    <tr>\n",
       "      <th rowspan=\"2\" valign=\"top\">2</th>\n",
       "      <th>female</th>\n",
       "      <td>20.705882</td>\n",
       "      <td>22.0</td>\n",
       "    </tr>\n",
       "    <tr>\n",
       "      <th>male</th>\n",
       "      <td>21.536667</td>\n",
       "      <td>17.0</td>\n",
       "    </tr>\n",
       "    <tr>\n",
       "      <th>3</th>\n",
       "      <th>female</th>\n",
       "      <td>24.000000</td>\n",
       "      <td>24.0</td>\n",
       "    </tr>\n",
       "    <tr>\n",
       "      <th>4</th>\n",
       "      <th>female</th>\n",
       "      <td>29.000000</td>\n",
       "      <td>29.0</td>\n",
       "    </tr>\n",
       "    <tr>\n",
       "      <th>5</th>\n",
       "      <th>female</th>\n",
       "      <td>40.000000</td>\n",
       "      <td>40.0</td>\n",
       "    </tr>\n",
       "    <tr>\n",
       "      <th rowspan=\"13\" valign=\"top\">1</th>\n",
       "      <th rowspan=\"2\" valign=\"top\">0</th>\n",
       "      <th>female</th>\n",
       "      <td>31.806122</td>\n",
       "      <td>29.0</td>\n",
       "    </tr>\n",
       "    <tr>\n",
       "      <th>male</th>\n",
       "      <td>32.311321</td>\n",
       "      <td>30.0</td>\n",
       "    </tr>\n",
       "    <tr>\n",
       "      <th rowspan=\"2\" valign=\"top\">1</th>\n",
       "      <th>female</th>\n",
       "      <td>29.160000</td>\n",
       "      <td>31.0</td>\n",
       "    </tr>\n",
       "    <tr>\n",
       "      <th>male</th>\n",
       "      <td>25.258621</td>\n",
       "      <td>19.0</td>\n",
       "    </tr>\n",
       "    <tr>\n",
       "      <th rowspan=\"2\" valign=\"top\">2</th>\n",
       "      <th>female</th>\n",
       "      <td>21.200000</td>\n",
       "      <td>23.0</td>\n",
       "    </tr>\n",
       "    <tr>\n",
       "      <th>male</th>\n",
       "      <td>19.417143</td>\n",
       "      <td>25.0</td>\n",
       "    </tr>\n",
       "    <tr>\n",
       "      <th rowspan=\"2\" valign=\"top\">3</th>\n",
       "      <th>female</th>\n",
       "      <td>51.000000</td>\n",
       "      <td>51.0</td>\n",
       "    </tr>\n",
       "    <tr>\n",
       "      <th>male</th>\n",
       "      <td>16.000000</td>\n",
       "      <td>16.0</td>\n",
       "    </tr>\n",
       "    <tr>\n",
       "      <th rowspan=\"2\" valign=\"top\">4</th>\n",
       "      <th>female</th>\n",
       "      <td>45.000000</td>\n",
       "      <td>45.0</td>\n",
       "    </tr>\n",
       "    <tr>\n",
       "      <th>male</th>\n",
       "      <td>52.000000</td>\n",
       "      <td>52.0</td>\n",
       "    </tr>\n",
       "    <tr>\n",
       "      <th rowspan=\"2\" valign=\"top\">5</th>\n",
       "      <th>female</th>\n",
       "      <td>38.500000</td>\n",
       "      <td>38.5</td>\n",
       "    </tr>\n",
       "    <tr>\n",
       "      <th>male</th>\n",
       "      <td>39.000000</td>\n",
       "      <td>39.0</td>\n",
       "    </tr>\n",
       "    <tr>\n",
       "      <th>6</th>\n",
       "      <th>female</th>\n",
       "      <td>43.000000</td>\n",
       "      <td>43.0</td>\n",
       "    </tr>\n",
       "    <tr>\n",
       "      <th rowspan=\"6\" valign=\"top\">2</th>\n",
       "      <th rowspan=\"2\" valign=\"top\">0</th>\n",
       "      <th>female</th>\n",
       "      <td>35.500000</td>\n",
       "      <td>35.5</td>\n",
       "    </tr>\n",
       "    <tr>\n",
       "      <th>male</th>\n",
       "      <td>31.181818</td>\n",
       "      <td>28.0</td>\n",
       "    </tr>\n",
       "    <tr>\n",
       "      <th rowspan=\"2\" valign=\"top\">1</th>\n",
       "      <th>female</th>\n",
       "      <td>6.900000</td>\n",
       "      <td>4.0</td>\n",
       "    </tr>\n",
       "    <tr>\n",
       "      <th>male</th>\n",
       "      <td>12.000000</td>\n",
       "      <td>12.0</td>\n",
       "    </tr>\n",
       "    <tr>\n",
       "      <th>2</th>\n",
       "      <th>female</th>\n",
       "      <td>17.250000</td>\n",
       "      <td>19.5</td>\n",
       "    </tr>\n",
       "    <tr>\n",
       "      <th>3</th>\n",
       "      <th>female</th>\n",
       "      <td>24.000000</td>\n",
       "      <td>24.0</td>\n",
       "    </tr>\n",
       "    <tr>\n",
       "      <th rowspan=\"5\" valign=\"top\">3</th>\n",
       "      <th>0</th>\n",
       "      <th>female</th>\n",
       "      <td>31.500000</td>\n",
       "      <td>31.5</td>\n",
       "    </tr>\n",
       "    <tr>\n",
       "      <th rowspan=\"2\" valign=\"top\">1</th>\n",
       "      <th>female</th>\n",
       "      <td>5.500000</td>\n",
       "      <td>5.5</td>\n",
       "    </tr>\n",
       "    <tr>\n",
       "      <th>male</th>\n",
       "      <td>2.000000</td>\n",
       "      <td>2.0</td>\n",
       "    </tr>\n",
       "    <tr>\n",
       "      <th rowspan=\"2\" valign=\"top\">2</th>\n",
       "      <th>female</th>\n",
       "      <td>14.500000</td>\n",
       "      <td>16.0</td>\n",
       "    </tr>\n",
       "    <tr>\n",
       "      <th>male</th>\n",
       "      <td>11.000000</td>\n",
       "      <td>10.0</td>\n",
       "    </tr>\n",
       "    <tr>\n",
       "      <th rowspan=\"3\" valign=\"top\">4</th>\n",
       "      <th>1</th>\n",
       "      <th>male</th>\n",
       "      <td>6.777778</td>\n",
       "      <td>7.0</td>\n",
       "    </tr>\n",
       "    <tr>\n",
       "      <th rowspan=\"2\" valign=\"top\">2</th>\n",
       "      <th>female</th>\n",
       "      <td>8.333333</td>\n",
       "      <td>7.5</td>\n",
       "    </tr>\n",
       "    <tr>\n",
       "      <th>male</th>\n",
       "      <td>5.333333</td>\n",
       "      <td>4.0</td>\n",
       "    </tr>\n",
       "    <tr>\n",
       "      <th rowspan=\"2\" valign=\"top\">5</th>\n",
       "      <th rowspan=\"2\" valign=\"top\">2</th>\n",
       "      <th>female</th>\n",
       "      <td>16.000000</td>\n",
       "      <td>16.0</td>\n",
       "    </tr>\n",
       "    <tr>\n",
       "      <th>male</th>\n",
       "      <td>8.750000</td>\n",
       "      <td>10.0</td>\n",
       "    </tr>\n",
       "  </tbody>\n",
       "</table>\n",
       "</div>"
      ],
      "text/plain": [
       "                         mean median\n",
       "                          Age    Age\n",
       "SibSp Parch Sex                     \n",
       "0     0     female  30.150000   28.5\n",
       "            male    32.901316   30.0\n",
       "      1     female  27.086957   22.0\n",
       "            male    33.530000   36.5\n",
       "      2     female  20.705882   22.0\n",
       "            male    21.536667   17.0\n",
       "      3     female  24.000000   24.0\n",
       "      4     female  29.000000   29.0\n",
       "      5     female  40.000000   40.0\n",
       "1     0     female  31.806122   29.0\n",
       "            male    32.311321   30.0\n",
       "      1     female  29.160000   31.0\n",
       "            male    25.258621   19.0\n",
       "      2     female  21.200000   23.0\n",
       "            male    19.417143   25.0\n",
       "      3     female  51.000000   51.0\n",
       "            male    16.000000   16.0\n",
       "      4     female  45.000000   45.0\n",
       "            male    52.000000   52.0\n",
       "      5     female  38.500000   38.5\n",
       "            male    39.000000   39.0\n",
       "      6     female  43.000000   43.0\n",
       "2     0     female  35.500000   35.5\n",
       "            male    31.181818   28.0\n",
       "      1     female   6.900000    4.0\n",
       "            male    12.000000   12.0\n",
       "      2     female  17.250000   19.5\n",
       "      3     female  24.000000   24.0\n",
       "3     0     female  31.500000   31.5\n",
       "      1     female   5.500000    5.5\n",
       "            male     2.000000    2.0\n",
       "      2     female  14.500000   16.0\n",
       "            male    11.000000   10.0\n",
       "4     1     male     6.777778    7.0\n",
       "      2     female   8.333333    7.5\n",
       "            male     5.333333    4.0\n",
       "5     2     female  16.000000   16.0\n",
       "            male     8.750000   10.0"
      ]
     },
     "execution_count": 7,
     "metadata": {},
     "output_type": "execute_result"
    }
   ],
   "source": [
    "train.pivot_table(index=['SibSp','Parch','Sex'],values='Age',aggfunc=['mean','median'])"
   ]
  },
  {
   "cell_type": "code",
   "execution_count": 8,
   "id": "773d48dc",
   "metadata": {
    "execution": {
     "iopub.execute_input": "2022-12-24T23:33:18.542015Z",
     "iopub.status.busy": "2022-12-24T23:33:18.541230Z",
     "iopub.status.idle": "2022-12-24T23:33:18.549970Z",
     "shell.execute_reply": "2022-12-24T23:33:18.549036Z"
    },
    "papermill": {
     "duration": 0.021738,
     "end_time": "2022-12-24T23:33:18.552302",
     "exception": false,
     "start_time": "2022-12-24T23:33:18.530564",
     "status": "completed"
    },
    "tags": []
   },
   "outputs": [],
   "source": [
    "train['Age']=train['Age'].fillna(train.groupby(['SibSp','Parch','Sex'])['Age'].transform('median'))"
   ]
  },
  {
   "cell_type": "code",
   "execution_count": 9,
   "id": "f232eb92",
   "metadata": {
    "execution": {
     "iopub.execute_input": "2022-12-24T23:33:18.572962Z",
     "iopub.status.busy": "2022-12-24T23:33:18.572222Z",
     "iopub.status.idle": "2022-12-24T23:33:18.580974Z",
     "shell.execute_reply": "2022-12-24T23:33:18.579768Z"
    },
    "papermill": {
     "duration": 0.021746,
     "end_time": "2022-12-24T23:33:18.583336",
     "exception": false,
     "start_time": "2022-12-24T23:33:18.561590",
     "status": "completed"
    },
    "tags": []
   },
   "outputs": [
    {
     "data": {
      "text/plain": [
       "S    644\n",
       "C    168\n",
       "Q     77\n",
       "Name: Embarked, dtype: int64"
      ]
     },
     "execution_count": 9,
     "metadata": {},
     "output_type": "execute_result"
    }
   ],
   "source": [
    "train['Embarked'].value_counts()"
   ]
  },
  {
   "cell_type": "code",
   "execution_count": 10,
   "id": "63c23969",
   "metadata": {
    "execution": {
     "iopub.execute_input": "2022-12-24T23:33:18.605724Z",
     "iopub.status.busy": "2022-12-24T23:33:18.605363Z",
     "iopub.status.idle": "2022-12-24T23:33:18.610501Z",
     "shell.execute_reply": "2022-12-24T23:33:18.609507Z"
    },
    "papermill": {
     "duration": 0.018091,
     "end_time": "2022-12-24T23:33:18.612720",
     "exception": false,
     "start_time": "2022-12-24T23:33:18.594629",
     "status": "completed"
    },
    "tags": []
   },
   "outputs": [],
   "source": [
    "train['Embarked']=train['Embarked'].fillna('S')"
   ]
  },
  {
   "cell_type": "code",
   "execution_count": 11,
   "id": "818a258a",
   "metadata": {
    "execution": {
     "iopub.execute_input": "2022-12-24T23:33:18.634037Z",
     "iopub.status.busy": "2022-12-24T23:33:18.633251Z",
     "iopub.status.idle": "2022-12-24T23:33:18.638934Z",
     "shell.execute_reply": "2022-12-24T23:33:18.638139Z"
    },
    "papermill": {
     "duration": 0.018561,
     "end_time": "2022-12-24T23:33:18.641048",
     "exception": false,
     "start_time": "2022-12-24T23:33:18.622487",
     "status": "completed"
    },
    "tags": []
   },
   "outputs": [],
   "source": [
    "train['Age']=train['Age'].fillna(30)"
   ]
  },
  {
   "cell_type": "code",
   "execution_count": 12,
   "id": "b1f3f1de",
   "metadata": {
    "execution": {
     "iopub.execute_input": "2022-12-24T23:33:18.661902Z",
     "iopub.status.busy": "2022-12-24T23:33:18.661156Z",
     "iopub.status.idle": "2022-12-24T23:33:18.674871Z",
     "shell.execute_reply": "2022-12-24T23:33:18.673236Z"
    },
    "papermill": {
     "duration": 0.026902,
     "end_time": "2022-12-24T23:33:18.677129",
     "exception": false,
     "start_time": "2022-12-24T23:33:18.650227",
     "status": "completed"
    },
    "tags": []
   },
   "outputs": [
    {
     "name": "stdout",
     "output_type": "stream",
     "text": [
      "<class 'pandas.core.frame.DataFrame'>\n",
      "RangeIndex: 891 entries, 0 to 890\n",
      "Data columns (total 12 columns):\n",
      " #   Column       Non-Null Count  Dtype  \n",
      "---  ------       --------------  -----  \n",
      " 0   PassengerId  891 non-null    int64  \n",
      " 1   Survived     891 non-null    int64  \n",
      " 2   Pclass       891 non-null    int64  \n",
      " 3   Name         891 non-null    object \n",
      " 4   Sex          891 non-null    object \n",
      " 5   Age          891 non-null    float64\n",
      " 6   SibSp        891 non-null    int64  \n",
      " 7   Parch        891 non-null    int64  \n",
      " 8   Ticket       891 non-null    object \n",
      " 9   Fare         891 non-null    float64\n",
      " 10  Cabin        204 non-null    object \n",
      " 11  Embarked     891 non-null    object \n",
      "dtypes: float64(2), int64(5), object(5)\n",
      "memory usage: 83.7+ KB\n"
     ]
    }
   ],
   "source": [
    "train.info()"
   ]
  },
  {
   "cell_type": "code",
   "execution_count": 13,
   "id": "aebe0862",
   "metadata": {
    "execution": {
     "iopub.execute_input": "2022-12-24T23:33:18.698106Z",
     "iopub.status.busy": "2022-12-24T23:33:18.697375Z",
     "iopub.status.idle": "2022-12-24T23:33:18.727296Z",
     "shell.execute_reply": "2022-12-24T23:33:18.726211Z"
    },
    "papermill": {
     "duration": 0.043248,
     "end_time": "2022-12-24T23:33:18.729799",
     "exception": false,
     "start_time": "2022-12-24T23:33:18.686551",
     "status": "completed"
    },
    "tags": []
   },
   "outputs": [
    {
     "data": {
      "text/html": [
       "<div>\n",
       "<style scoped>\n",
       "    .dataframe tbody tr th:only-of-type {\n",
       "        vertical-align: middle;\n",
       "    }\n",
       "\n",
       "    .dataframe tbody tr th {\n",
       "        vertical-align: top;\n",
       "    }\n",
       "\n",
       "    .dataframe thead tr th {\n",
       "        text-align: left;\n",
       "    }\n",
       "\n",
       "    .dataframe thead tr:last-of-type th {\n",
       "        text-align: right;\n",
       "    }\n",
       "</style>\n",
       "<table border=\"1\" class=\"dataframe\">\n",
       "  <thead>\n",
       "    <tr>\n",
       "      <th></th>\n",
       "      <th></th>\n",
       "      <th></th>\n",
       "      <th>mean</th>\n",
       "      <th>median</th>\n",
       "    </tr>\n",
       "    <tr>\n",
       "      <th></th>\n",
       "      <th></th>\n",
       "      <th></th>\n",
       "      <th>Age</th>\n",
       "      <th>Age</th>\n",
       "    </tr>\n",
       "    <tr>\n",
       "      <th>SibSp</th>\n",
       "      <th>Parch</th>\n",
       "      <th>Sex</th>\n",
       "      <th></th>\n",
       "      <th></th>\n",
       "    </tr>\n",
       "  </thead>\n",
       "  <tbody>\n",
       "    <tr>\n",
       "      <th rowspan=\"7\" valign=\"top\">0</th>\n",
       "      <th rowspan=\"2\" valign=\"top\">0</th>\n",
       "      <th>female</th>\n",
       "      <td>29.205882</td>\n",
       "      <td>28.00</td>\n",
       "    </tr>\n",
       "    <tr>\n",
       "      <th>male</th>\n",
       "      <td>30.262963</td>\n",
       "      <td>27.00</td>\n",
       "    </tr>\n",
       "    <tr>\n",
       "      <th rowspan=\"2\" valign=\"top\">1</th>\n",
       "      <th>female</th>\n",
       "      <td>33.777778</td>\n",
       "      <td>23.00</td>\n",
       "    </tr>\n",
       "    <tr>\n",
       "      <th>male</th>\n",
       "      <td>22.566000</td>\n",
       "      <td>21.00</td>\n",
       "    </tr>\n",
       "    <tr>\n",
       "      <th rowspan=\"2\" valign=\"top\">2</th>\n",
       "      <th>female</th>\n",
       "      <td>37.375000</td>\n",
       "      <td>36.00</td>\n",
       "    </tr>\n",
       "    <tr>\n",
       "      <th>male</th>\n",
       "      <td>13.266000</td>\n",
       "      <td>8.00</td>\n",
       "    </tr>\n",
       "    <tr>\n",
       "      <th>3</th>\n",
       "      <th>female</th>\n",
       "      <td>36.000000</td>\n",
       "      <td>36.00</td>\n",
       "    </tr>\n",
       "    <tr>\n",
       "      <th rowspan=\"11\" valign=\"top\">1</th>\n",
       "      <th rowspan=\"2\" valign=\"top\">0</th>\n",
       "      <th>female</th>\n",
       "      <td>35.440000</td>\n",
       "      <td>30.00</td>\n",
       "    </tr>\n",
       "    <tr>\n",
       "      <th>male</th>\n",
       "      <td>38.410714</td>\n",
       "      <td>37.25</td>\n",
       "    </tr>\n",
       "    <tr>\n",
       "      <th rowspan=\"2\" valign=\"top\">1</th>\n",
       "      <th>female</th>\n",
       "      <td>23.058824</td>\n",
       "      <td>19.00</td>\n",
       "    </tr>\n",
       "    <tr>\n",
       "      <th>male</th>\n",
       "      <td>30.160714</td>\n",
       "      <td>33.50</td>\n",
       "    </tr>\n",
       "    <tr>\n",
       "      <th rowspan=\"2\" valign=\"top\">2</th>\n",
       "      <th>female</th>\n",
       "      <td>14.348333</td>\n",
       "      <td>12.50</td>\n",
       "    </tr>\n",
       "    <tr>\n",
       "      <th>male</th>\n",
       "      <td>39.500000</td>\n",
       "      <td>39.50</td>\n",
       "    </tr>\n",
       "    <tr>\n",
       "      <th rowspan=\"2\" valign=\"top\">3</th>\n",
       "      <th>female</th>\n",
       "      <td>48.000000</td>\n",
       "      <td>48.00</td>\n",
       "    </tr>\n",
       "    <tr>\n",
       "      <th>male</th>\n",
       "      <td>61.000000</td>\n",
       "      <td>61.00</td>\n",
       "    </tr>\n",
       "    <tr>\n",
       "      <th>4</th>\n",
       "      <th>female</th>\n",
       "      <td>60.000000</td>\n",
       "      <td>60.00</td>\n",
       "    </tr>\n",
       "    <tr>\n",
       "      <th>5</th>\n",
       "      <th>male</th>\n",
       "      <td>40.000000</td>\n",
       "      <td>40.00</td>\n",
       "    </tr>\n",
       "    <tr>\n",
       "      <th>6</th>\n",
       "      <th>male</th>\n",
       "      <td>40.000000</td>\n",
       "      <td>40.00</td>\n",
       "    </tr>\n",
       "    <tr>\n",
       "      <th rowspan=\"4\" valign=\"top\">2</th>\n",
       "      <th rowspan=\"2\" valign=\"top\">0</th>\n",
       "      <th>female</th>\n",
       "      <td>45.333333</td>\n",
       "      <td>55.00</td>\n",
       "    </tr>\n",
       "    <tr>\n",
       "      <th>male</th>\n",
       "      <td>21.000000</td>\n",
       "      <td>21.50</td>\n",
       "    </tr>\n",
       "    <tr>\n",
       "      <th>1</th>\n",
       "      <th>female</th>\n",
       "      <td>16.000000</td>\n",
       "      <td>16.00</td>\n",
       "    </tr>\n",
       "    <tr>\n",
       "      <th>2</th>\n",
       "      <th>male</th>\n",
       "      <td>15.500000</td>\n",
       "      <td>15.50</td>\n",
       "    </tr>\n",
       "    <tr>\n",
       "      <th rowspan=\"3\" valign=\"top\">3</th>\n",
       "      <th>0</th>\n",
       "      <th>male</th>\n",
       "      <td>31.000000</td>\n",
       "      <td>31.00</td>\n",
       "    </tr>\n",
       "    <tr>\n",
       "      <th>1</th>\n",
       "      <th>male</th>\n",
       "      <td>17.500000</td>\n",
       "      <td>17.50</td>\n",
       "    </tr>\n",
       "    <tr>\n",
       "      <th>2</th>\n",
       "      <th>female</th>\n",
       "      <td>28.000000</td>\n",
       "      <td>28.00</td>\n",
       "    </tr>\n",
       "    <tr>\n",
       "      <th rowspan=\"3\" valign=\"top\">4</th>\n",
       "      <th>1</th>\n",
       "      <th>male</th>\n",
       "      <td>10.000000</td>\n",
       "      <td>10.00</td>\n",
       "    </tr>\n",
       "    <tr>\n",
       "      <th rowspan=\"2\" valign=\"top\">2</th>\n",
       "      <th>female</th>\n",
       "      <td>38.000000</td>\n",
       "      <td>38.00</td>\n",
       "    </tr>\n",
       "    <tr>\n",
       "      <th>male</th>\n",
       "      <td>9.000000</td>\n",
       "      <td>9.00</td>\n",
       "    </tr>\n",
       "    <tr>\n",
       "      <th>5</th>\n",
       "      <th>2</th>\n",
       "      <th>female</th>\n",
       "      <td>10.000000</td>\n",
       "      <td>10.00</td>\n",
       "    </tr>\n",
       "    <tr>\n",
       "      <th>8</th>\n",
       "      <th>2</th>\n",
       "      <th>male</th>\n",
       "      <td>14.500000</td>\n",
       "      <td>14.50</td>\n",
       "    </tr>\n",
       "  </tbody>\n",
       "</table>\n",
       "</div>"
      ],
      "text/plain": [
       "                         mean median\n",
       "                          Age    Age\n",
       "SibSp Parch Sex                     \n",
       "0     0     female  29.205882  28.00\n",
       "            male    30.262963  27.00\n",
       "      1     female  33.777778  23.00\n",
       "            male    22.566000  21.00\n",
       "      2     female  37.375000  36.00\n",
       "            male    13.266000   8.00\n",
       "      3     female  36.000000  36.00\n",
       "1     0     female  35.440000  30.00\n",
       "            male    38.410714  37.25\n",
       "      1     female  23.058824  19.00\n",
       "            male    30.160714  33.50\n",
       "      2     female  14.348333  12.50\n",
       "            male    39.500000  39.50\n",
       "      3     female  48.000000  48.00\n",
       "            male    61.000000  61.00\n",
       "      4     female  60.000000  60.00\n",
       "      5     male    40.000000  40.00\n",
       "      6     male    40.000000  40.00\n",
       "2     0     female  45.333333  55.00\n",
       "            male    21.000000  21.50\n",
       "      1     female  16.000000  16.00\n",
       "      2     male    15.500000  15.50\n",
       "3     0     male    31.000000  31.00\n",
       "      1     male    17.500000  17.50\n",
       "      2     female  28.000000  28.00\n",
       "4     1     male    10.000000  10.00\n",
       "      2     female  38.000000  38.00\n",
       "            male     9.000000   9.00\n",
       "5     2     female  10.000000  10.00\n",
       "8     2     male    14.500000  14.50"
      ]
     },
     "execution_count": 13,
     "metadata": {},
     "output_type": "execute_result"
    }
   ],
   "source": [
    "test.pivot_table(index=['SibSp','Parch','Sex'],values='Age',aggfunc=['mean','median'])"
   ]
  },
  {
   "cell_type": "code",
   "execution_count": 14,
   "id": "94e7cf87",
   "metadata": {
    "execution": {
     "iopub.execute_input": "2022-12-24T23:33:18.751160Z",
     "iopub.status.busy": "2022-12-24T23:33:18.750462Z",
     "iopub.status.idle": "2022-12-24T23:33:18.758083Z",
     "shell.execute_reply": "2022-12-24T23:33:18.757251Z"
    },
    "papermill": {
     "duration": 0.020762,
     "end_time": "2022-12-24T23:33:18.760281",
     "exception": false,
     "start_time": "2022-12-24T23:33:18.739519",
     "status": "completed"
    },
    "tags": []
   },
   "outputs": [],
   "source": [
    "test['Age']=test['Age'].fillna(train.groupby(['SibSp','Parch','Sex'])['Age'].transform('median'))"
   ]
  },
  {
   "cell_type": "code",
   "execution_count": 15,
   "id": "9e77fe04",
   "metadata": {
    "execution": {
     "iopub.execute_input": "2022-12-24T23:33:18.781898Z",
     "iopub.status.busy": "2022-12-24T23:33:18.781220Z",
     "iopub.status.idle": "2022-12-24T23:33:18.787491Z",
     "shell.execute_reply": "2022-12-24T23:33:18.786730Z"
    },
    "papermill": {
     "duration": 0.019292,
     "end_time": "2022-12-24T23:33:18.789361",
     "exception": false,
     "start_time": "2022-12-24T23:33:18.770069",
     "status": "completed"
    },
    "tags": []
   },
   "outputs": [
    {
     "data": {
      "text/plain": [
       "35.627188489208635"
      ]
     },
     "execution_count": 15,
     "metadata": {},
     "output_type": "execute_result"
    }
   ],
   "source": [
    "test['Fare'].mean()"
   ]
  },
  {
   "cell_type": "code",
   "execution_count": 16,
   "id": "f9431003",
   "metadata": {
    "execution": {
     "iopub.execute_input": "2022-12-24T23:33:18.810725Z",
     "iopub.status.busy": "2022-12-24T23:33:18.810009Z",
     "iopub.status.idle": "2022-12-24T23:33:18.814998Z",
     "shell.execute_reply": "2022-12-24T23:33:18.814184Z"
    },
    "papermill": {
     "duration": 0.018122,
     "end_time": "2022-12-24T23:33:18.816992",
     "exception": false,
     "start_time": "2022-12-24T23:33:18.798870",
     "status": "completed"
    },
    "tags": []
   },
   "outputs": [],
   "source": [
    "test['Fare']=test['Fare'].fillna(36)"
   ]
  },
  {
   "cell_type": "code",
   "execution_count": 17,
   "id": "2e962671",
   "metadata": {
    "execution": {
     "iopub.execute_input": "2022-12-24T23:33:18.838349Z",
     "iopub.status.busy": "2022-12-24T23:33:18.837660Z",
     "iopub.status.idle": "2022-12-24T23:33:18.850469Z",
     "shell.execute_reply": "2022-12-24T23:33:18.849036Z"
    },
    "papermill": {
     "duration": 0.025947,
     "end_time": "2022-12-24T23:33:18.852508",
     "exception": false,
     "start_time": "2022-12-24T23:33:18.826561",
     "status": "completed"
    },
    "tags": []
   },
   "outputs": [
    {
     "name": "stdout",
     "output_type": "stream",
     "text": [
      "<class 'pandas.core.frame.DataFrame'>\n",
      "RangeIndex: 418 entries, 0 to 417\n",
      "Data columns (total 11 columns):\n",
      " #   Column       Non-Null Count  Dtype  \n",
      "---  ------       --------------  -----  \n",
      " 0   PassengerId  418 non-null    int64  \n",
      " 1   Pclass       418 non-null    int64  \n",
      " 2   Name         418 non-null    object \n",
      " 3   Sex          418 non-null    object \n",
      " 4   Age          418 non-null    float64\n",
      " 5   SibSp        418 non-null    int64  \n",
      " 6   Parch        418 non-null    int64  \n",
      " 7   Ticket       418 non-null    object \n",
      " 8   Fare         418 non-null    float64\n",
      " 9   Cabin        91 non-null     object \n",
      " 10  Embarked     418 non-null    object \n",
      "dtypes: float64(2), int64(4), object(5)\n",
      "memory usage: 36.0+ KB\n"
     ]
    }
   ],
   "source": [
    "test.info()"
   ]
  },
  {
   "cell_type": "code",
   "execution_count": 18,
   "id": "23556f8e",
   "metadata": {
    "execution": {
     "iopub.execute_input": "2022-12-24T23:33:18.874158Z",
     "iopub.status.busy": "2022-12-24T23:33:18.873443Z",
     "iopub.status.idle": "2022-12-24T23:33:18.883113Z",
     "shell.execute_reply": "2022-12-24T23:33:18.881923Z"
    },
    "papermill": {
     "duration": 0.023201,
     "end_time": "2022-12-24T23:33:18.885432",
     "exception": false,
     "start_time": "2022-12-24T23:33:18.862231",
     "status": "completed"
    },
    "tags": []
   },
   "outputs": [
    {
     "name": "stdout",
     "output_type": "stream",
     "text": [
      "0.6296296296296297 0.47282608695652173 0.24236252545824846\n"
     ]
    }
   ],
   "source": [
    "#Class\n",
    "Fclass=train.loc[train.Pclass==1]['Survived']\n",
    "rate_Fclass=sum(Fclass)/len(Fclass)\n",
    "\n",
    "Sclass=train.loc[train.Pclass==2]['Survived']\n",
    "rate_Sclass=sum(Sclass)/len(Sclass)\n",
    "\n",
    "Tclass=train.loc[train.Pclass==3]['Survived']\n",
    "rate_Tclass=sum(Tclass)/len(Tclass)\n",
    "\n",
    "print(rate_Fclass,rate_Sclass,rate_Tclass)\n"
   ]
  },
  {
   "cell_type": "code",
   "execution_count": 19,
   "id": "cce0c9b4",
   "metadata": {
    "execution": {
     "iopub.execute_input": "2022-12-24T23:33:18.907159Z",
     "iopub.status.busy": "2022-12-24T23:33:18.906544Z",
     "iopub.status.idle": "2022-12-24T23:33:18.912090Z",
     "shell.execute_reply": "2022-12-24T23:33:18.911235Z"
    },
    "papermill": {
     "duration": 0.01885,
     "end_time": "2022-12-24T23:33:18.914143",
     "exception": false,
     "start_time": "2022-12-24T23:33:18.895293",
     "status": "completed"
    },
    "tags": []
   },
   "outputs": [],
   "source": [
    "Fcfemale=train[(train.Pclass==1)&(train.Sex=='female')]"
   ]
  },
  {
   "cell_type": "code",
   "execution_count": 20,
   "id": "fea971fe",
   "metadata": {
    "execution": {
     "iopub.execute_input": "2022-12-24T23:33:18.935420Z",
     "iopub.status.busy": "2022-12-24T23:33:18.935042Z",
     "iopub.status.idle": "2022-12-24T23:33:18.943248Z",
     "shell.execute_reply": "2022-12-24T23:33:18.942125Z"
    },
    "papermill": {
     "duration": 0.021693,
     "end_time": "2022-12-24T23:33:18.945639",
     "exception": false,
     "start_time": "2022-12-24T23:33:18.923946",
     "status": "completed"
    },
    "tags": []
   },
   "outputs": [
    {
     "data": {
      "text/plain": [
       "0.9680851063829787"
      ]
     },
     "execution_count": 20,
     "metadata": {},
     "output_type": "execute_result"
    }
   ],
   "source": [
    "len(Fcfemale[(Fcfemale.Survived==1)])/len(Fcfemale)"
   ]
  },
  {
   "cell_type": "code",
   "execution_count": 21,
   "id": "9d30c45b",
   "metadata": {
    "execution": {
     "iopub.execute_input": "2022-12-24T23:33:18.967019Z",
     "iopub.status.busy": "2022-12-24T23:33:18.966051Z",
     "iopub.status.idle": "2022-12-24T23:33:18.972154Z",
     "shell.execute_reply": "2022-12-24T23:33:18.971418Z"
    },
    "papermill": {
     "duration": 0.018716,
     "end_time": "2022-12-24T23:33:18.974091",
     "exception": false,
     "start_time": "2022-12-24T23:33:18.955375",
     "status": "completed"
    },
    "tags": []
   },
   "outputs": [],
   "source": [
    "train['Ffemale']=np.where((train.Pclass==1)&(train.Sex=='female'),1,0)"
   ]
  },
  {
   "cell_type": "code",
   "execution_count": 22,
   "id": "67bbbbfa",
   "metadata": {
    "execution": {
     "iopub.execute_input": "2022-12-24T23:33:18.997862Z",
     "iopub.status.busy": "2022-12-24T23:33:18.996660Z",
     "iopub.status.idle": "2022-12-24T23:33:19.017771Z",
     "shell.execute_reply": "2022-12-24T23:33:19.016127Z"
    },
    "papermill": {
     "duration": 0.037203,
     "end_time": "2022-12-24T23:33:19.021125",
     "exception": false,
     "start_time": "2022-12-24T23:33:18.983922",
     "status": "completed"
    },
    "tags": []
   },
   "outputs": [
    {
     "data": {
      "text/html": [
       "<div>\n",
       "<style scoped>\n",
       "    .dataframe tbody tr th:only-of-type {\n",
       "        vertical-align: middle;\n",
       "    }\n",
       "\n",
       "    .dataframe tbody tr th {\n",
       "        vertical-align: top;\n",
       "    }\n",
       "\n",
       "    .dataframe thead th {\n",
       "        text-align: right;\n",
       "    }\n",
       "</style>\n",
       "<table border=\"1\" class=\"dataframe\">\n",
       "  <thead>\n",
       "    <tr style=\"text-align: right;\">\n",
       "      <th></th>\n",
       "      <th>PassengerId</th>\n",
       "      <th>Survived</th>\n",
       "      <th>Pclass</th>\n",
       "      <th>Name</th>\n",
       "      <th>Sex</th>\n",
       "      <th>Age</th>\n",
       "      <th>SibSp</th>\n",
       "      <th>Parch</th>\n",
       "      <th>Ticket</th>\n",
       "      <th>Fare</th>\n",
       "      <th>Cabin</th>\n",
       "      <th>Embarked</th>\n",
       "      <th>Ffemale</th>\n",
       "    </tr>\n",
       "  </thead>\n",
       "  <tbody>\n",
       "    <tr>\n",
       "      <th>0</th>\n",
       "      <td>1</td>\n",
       "      <td>0</td>\n",
       "      <td>3</td>\n",
       "      <td>Braund, Mr. Owen Harris</td>\n",
       "      <td>male</td>\n",
       "      <td>22.0</td>\n",
       "      <td>1</td>\n",
       "      <td>0</td>\n",
       "      <td>A/5 21171</td>\n",
       "      <td>7.2500</td>\n",
       "      <td>NaN</td>\n",
       "      <td>S</td>\n",
       "      <td>0</td>\n",
       "    </tr>\n",
       "    <tr>\n",
       "      <th>1</th>\n",
       "      <td>2</td>\n",
       "      <td>1</td>\n",
       "      <td>1</td>\n",
       "      <td>Cumings, Mrs. John Bradley (Florence Briggs Th...</td>\n",
       "      <td>female</td>\n",
       "      <td>38.0</td>\n",
       "      <td>1</td>\n",
       "      <td>0</td>\n",
       "      <td>PC 17599</td>\n",
       "      <td>71.2833</td>\n",
       "      <td>C85</td>\n",
       "      <td>C</td>\n",
       "      <td>1</td>\n",
       "    </tr>\n",
       "    <tr>\n",
       "      <th>2</th>\n",
       "      <td>3</td>\n",
       "      <td>1</td>\n",
       "      <td>3</td>\n",
       "      <td>Heikkinen, Miss. Laina</td>\n",
       "      <td>female</td>\n",
       "      <td>26.0</td>\n",
       "      <td>0</td>\n",
       "      <td>0</td>\n",
       "      <td>STON/O2. 3101282</td>\n",
       "      <td>7.9250</td>\n",
       "      <td>NaN</td>\n",
       "      <td>S</td>\n",
       "      <td>0</td>\n",
       "    </tr>\n",
       "    <tr>\n",
       "      <th>3</th>\n",
       "      <td>4</td>\n",
       "      <td>1</td>\n",
       "      <td>1</td>\n",
       "      <td>Futrelle, Mrs. Jacques Heath (Lily May Peel)</td>\n",
       "      <td>female</td>\n",
       "      <td>35.0</td>\n",
       "      <td>1</td>\n",
       "      <td>0</td>\n",
       "      <td>113803</td>\n",
       "      <td>53.1000</td>\n",
       "      <td>C123</td>\n",
       "      <td>S</td>\n",
       "      <td>1</td>\n",
       "    </tr>\n",
       "    <tr>\n",
       "      <th>4</th>\n",
       "      <td>5</td>\n",
       "      <td>0</td>\n",
       "      <td>3</td>\n",
       "      <td>Allen, Mr. William Henry</td>\n",
       "      <td>male</td>\n",
       "      <td>35.0</td>\n",
       "      <td>0</td>\n",
       "      <td>0</td>\n",
       "      <td>373450</td>\n",
       "      <td>8.0500</td>\n",
       "      <td>NaN</td>\n",
       "      <td>S</td>\n",
       "      <td>0</td>\n",
       "    </tr>\n",
       "  </tbody>\n",
       "</table>\n",
       "</div>"
      ],
      "text/plain": [
       "   PassengerId  Survived  Pclass  \\\n",
       "0            1         0       3   \n",
       "1            2         1       1   \n",
       "2            3         1       3   \n",
       "3            4         1       1   \n",
       "4            5         0       3   \n",
       "\n",
       "                                                Name     Sex   Age  SibSp  \\\n",
       "0                            Braund, Mr. Owen Harris    male  22.0      1   \n",
       "1  Cumings, Mrs. John Bradley (Florence Briggs Th...  female  38.0      1   \n",
       "2                             Heikkinen, Miss. Laina  female  26.0      0   \n",
       "3       Futrelle, Mrs. Jacques Heath (Lily May Peel)  female  35.0      1   \n",
       "4                           Allen, Mr. William Henry    male  35.0      0   \n",
       "\n",
       "   Parch            Ticket     Fare Cabin Embarked  Ffemale  \n",
       "0      0         A/5 21171   7.2500   NaN        S        0  \n",
       "1      0          PC 17599  71.2833   C85        C        1  \n",
       "2      0  STON/O2. 3101282   7.9250   NaN        S        0  \n",
       "3      0            113803  53.1000  C123        S        1  \n",
       "4      0            373450   8.0500   NaN        S        0  "
      ]
     },
     "execution_count": 22,
     "metadata": {},
     "output_type": "execute_result"
    }
   ],
   "source": [
    "train.head()"
   ]
  },
  {
   "cell_type": "code",
   "execution_count": 23,
   "id": "5def5f6f",
   "metadata": {
    "execution": {
     "iopub.execute_input": "2022-12-24T23:33:19.049759Z",
     "iopub.status.busy": "2022-12-24T23:33:19.049106Z",
     "iopub.status.idle": "2022-12-24T23:33:20.115354Z",
     "shell.execute_reply": "2022-12-24T23:33:20.114256Z"
    },
    "papermill": {
     "duration": 1.086137,
     "end_time": "2022-12-24T23:33:20.118082",
     "exception": false,
     "start_time": "2022-12-24T23:33:19.031945",
     "status": "completed"
    },
    "tags": []
   },
   "outputs": [],
   "source": [
    "from sklearn.model_selection import train_test_split"
   ]
  },
  {
   "cell_type": "code",
   "execution_count": 24,
   "id": "7321d83a",
   "metadata": {
    "execution": {
     "iopub.execute_input": "2022-12-24T23:33:20.141307Z",
     "iopub.status.busy": "2022-12-24T23:33:20.140858Z",
     "iopub.status.idle": "2022-12-24T23:33:20.147299Z",
     "shell.execute_reply": "2022-12-24T23:33:20.146353Z"
    },
    "papermill": {
     "duration": 0.02072,
     "end_time": "2022-12-24T23:33:20.149572",
     "exception": false,
     "start_time": "2022-12-24T23:33:20.128852",
     "status": "completed"
    },
    "tags": []
   },
   "outputs": [],
   "source": [
    "train=train.drop(['PassengerId','Name','Ticket','Cabin'],axis=1)"
   ]
  },
  {
   "cell_type": "code",
   "execution_count": 25,
   "id": "f198a489",
   "metadata": {
    "execution": {
     "iopub.execute_input": "2022-12-24T23:33:20.171591Z",
     "iopub.status.busy": "2022-12-24T23:33:20.171138Z",
     "iopub.status.idle": "2022-12-24T23:33:20.178227Z",
     "shell.execute_reply": "2022-12-24T23:33:20.177228Z"
    },
    "papermill": {
     "duration": 0.020738,
     "end_time": "2022-12-24T23:33:20.180496",
     "exception": false,
     "start_time": "2022-12-24T23:33:20.159758",
     "status": "completed"
    },
    "tags": []
   },
   "outputs": [],
   "source": [
    "test['Ffemale']=np.where((test.Pclass==1)&(test.Sex=='female'),1,0)"
   ]
  },
  {
   "cell_type": "code",
   "execution_count": 26,
   "id": "8301414c",
   "metadata": {
    "execution": {
     "iopub.execute_input": "2022-12-24T23:33:20.203686Z",
     "iopub.status.busy": "2022-12-24T23:33:20.202696Z",
     "iopub.status.idle": "2022-12-24T23:33:20.223189Z",
     "shell.execute_reply": "2022-12-24T23:33:20.222363Z"
    },
    "papermill": {
     "duration": 0.034746,
     "end_time": "2022-12-24T23:33:20.225568",
     "exception": false,
     "start_time": "2022-12-24T23:33:20.190822",
     "status": "completed"
    },
    "tags": []
   },
   "outputs": [],
   "source": [
    "#'Sex','Pclass','Embarked'\n",
    "\n",
    "\n",
    "dummies1 = pd.get_dummies(train['Embarked'])\n",
    "\n",
    "train = pd.concat([train,dummies1],axis=1)\n",
    "\n",
    "dummies2 = pd.get_dummies(test['Embarked'])\n",
    "\n",
    "test = pd.concat([test,dummies2],axis=1)\n",
    "\n",
    "del train['Embarked']\n",
    "del test['Embarked']\n",
    "\n",
    "dummies1 = pd.get_dummies(train['Sex'])\n",
    "\n",
    "train = pd.concat([train,dummies1],axis=1)\n",
    "\n",
    "dummies2 = pd.get_dummies(test['Sex'])\n",
    "\n",
    "test = pd.concat([test,dummies2],axis=1)\n",
    "\n",
    "del train['Sex']\n",
    "del test['Sex']\n",
    "\n",
    "dummies1 = pd.get_dummies(train['Pclass'])\n",
    "\n",
    "train = pd.concat([train,dummies1],axis=1)\n",
    "\n",
    "dummies2 = pd.get_dummies(test['Pclass'])\n",
    "\n",
    "test = pd.concat([test,dummies2],axis=1)\n",
    "\n",
    "del train['Pclass']\n",
    "del test['Pclass']"
   ]
  },
  {
   "cell_type": "code",
   "execution_count": 27,
   "id": "9df4b939",
   "metadata": {
    "execution": {
     "iopub.execute_input": "2022-12-24T23:33:20.248151Z",
     "iopub.status.busy": "2022-12-24T23:33:20.247408Z",
     "iopub.status.idle": "2022-12-24T23:33:20.263169Z",
     "shell.execute_reply": "2022-12-24T23:33:20.262303Z"
    },
    "papermill": {
     "duration": 0.030239,
     "end_time": "2022-12-24T23:33:20.266052",
     "exception": false,
     "start_time": "2022-12-24T23:33:20.235813",
     "status": "completed"
    },
    "tags": []
   },
   "outputs": [
    {
     "name": "stdout",
     "output_type": "stream",
     "text": [
      "<class 'pandas.core.frame.DataFrame'>\n",
      "RangeIndex: 891 entries, 0 to 890\n",
      "Data columns (total 14 columns):\n",
      " #   Column    Non-Null Count  Dtype  \n",
      "---  ------    --------------  -----  \n",
      " 0   Survived  891 non-null    int64  \n",
      " 1   Age       891 non-null    float64\n",
      " 2   SibSp     891 non-null    int64  \n",
      " 3   Parch     891 non-null    int64  \n",
      " 4   Fare      891 non-null    float64\n",
      " 5   Ffemale   891 non-null    int64  \n",
      " 6   C         891 non-null    uint8  \n",
      " 7   Q         891 non-null    uint8  \n",
      " 8   S         891 non-null    uint8  \n",
      " 9   female    891 non-null    uint8  \n",
      " 10  male      891 non-null    uint8  \n",
      " 11  1         891 non-null    uint8  \n",
      " 12  2         891 non-null    uint8  \n",
      " 13  3         891 non-null    uint8  \n",
      "dtypes: float64(2), int64(4), uint8(8)\n",
      "memory usage: 48.9 KB\n"
     ]
    }
   ],
   "source": [
    "train.info()"
   ]
  },
  {
   "cell_type": "code",
   "execution_count": 28,
   "id": "c7db039d",
   "metadata": {
    "execution": {
     "iopub.execute_input": "2022-12-24T23:33:20.289011Z",
     "iopub.status.busy": "2022-12-24T23:33:20.288611Z",
     "iopub.status.idle": "2022-12-24T23:33:20.305903Z",
     "shell.execute_reply": "2022-12-24T23:33:20.304723Z"
    },
    "papermill": {
     "duration": 0.031829,
     "end_time": "2022-12-24T23:33:20.308777",
     "exception": false,
     "start_time": "2022-12-24T23:33:20.276948",
     "status": "completed"
    },
    "tags": []
   },
   "outputs": [
    {
     "name": "stdout",
     "output_type": "stream",
     "text": [
      "<class 'pandas.core.frame.DataFrame'>\n",
      "RangeIndex: 418 entries, 0 to 417\n",
      "Data columns (total 13 columns):\n",
      " #   Column   Non-Null Count  Dtype  \n",
      "---  ------   --------------  -----  \n",
      " 0   Age      418 non-null    float64\n",
      " 1   SibSp    418 non-null    int64  \n",
      " 2   Parch    418 non-null    int64  \n",
      " 3   Fare     418 non-null    float64\n",
      " 4   Ffemale  418 non-null    int64  \n",
      " 5   C        418 non-null    uint8  \n",
      " 6   Q        418 non-null    uint8  \n",
      " 7   S        418 non-null    uint8  \n",
      " 8   female   418 non-null    uint8  \n",
      " 9   male     418 non-null    uint8  \n",
      " 10  1        418 non-null    uint8  \n",
      " 11  2        418 non-null    uint8  \n",
      " 12  3        418 non-null    uint8  \n",
      "dtypes: float64(2), int64(3), uint8(8)\n",
      "memory usage: 19.7 KB\n"
     ]
    }
   ],
   "source": [
    "test=test.drop(['PassengerId','Name','Ticket','Cabin'],axis=1)\n",
    "x_t=test.values\n",
    "#x_t.shape\n",
    "test.info()"
   ]
  },
  {
   "cell_type": "code",
   "execution_count": 29,
   "id": "7ffcc54d",
   "metadata": {
    "execution": {
     "iopub.execute_input": "2022-12-24T23:33:20.332293Z",
     "iopub.status.busy": "2022-12-24T23:33:20.331134Z",
     "iopub.status.idle": "2022-12-24T23:33:20.338006Z",
     "shell.execute_reply": "2022-12-24T23:33:20.337262Z"
    },
    "papermill": {
     "duration": 0.020974,
     "end_time": "2022-12-24T23:33:20.340209",
     "exception": false,
     "start_time": "2022-12-24T23:33:20.319235",
     "status": "completed"
    },
    "tags": []
   },
   "outputs": [],
   "source": [
    "y_df=train['Survived']\n",
    "x_df=train.drop(['Survived'],axis=1)"
   ]
  },
  {
   "cell_type": "code",
   "execution_count": 30,
   "id": "b661383f",
   "metadata": {
    "execution": {
     "iopub.execute_input": "2022-12-24T23:33:20.363416Z",
     "iopub.status.busy": "2022-12-24T23:33:20.362179Z",
     "iopub.status.idle": "2022-12-24T23:33:20.369877Z",
     "shell.execute_reply": "2022-12-24T23:33:20.368761Z"
    },
    "papermill": {
     "duration": 0.021223,
     "end_time": "2022-12-24T23:33:20.371921",
     "exception": false,
     "start_time": "2022-12-24T23:33:20.350698",
     "status": "completed"
    },
    "tags": []
   },
   "outputs": [
    {
     "name": "stdout",
     "output_type": "stream",
     "text": [
      "(891,) (891, 13)\n"
     ]
    }
   ],
   "source": [
    "y=y_df.values\n",
    "x=x_df.values\n",
    "print(y.shape,\n",
    "x.shape)"
   ]
  },
  {
   "cell_type": "code",
   "execution_count": 31,
   "id": "ce9c8603",
   "metadata": {
    "execution": {
     "iopub.execute_input": "2022-12-24T23:33:20.394667Z",
     "iopub.status.busy": "2022-12-24T23:33:20.394257Z",
     "iopub.status.idle": "2022-12-24T23:33:20.400436Z",
     "shell.execute_reply": "2022-12-24T23:33:20.399619Z"
    },
    "papermill": {
     "duration": 0.020123,
     "end_time": "2022-12-24T23:33:20.402557",
     "exception": false,
     "start_time": "2022-12-24T23:33:20.382434",
     "status": "completed"
    },
    "tags": []
   },
   "outputs": [],
   "source": [
    "X_train, X_test, y_train, y_test = train_test_split(x, y, \n",
    "                                                    test_size=0.33, \n",
    "                                                    random_state=42)"
   ]
  },
  {
   "cell_type": "code",
   "execution_count": 32,
   "id": "28bfe944",
   "metadata": {
    "execution": {
     "iopub.execute_input": "2022-12-24T23:33:20.426069Z",
     "iopub.status.busy": "2022-12-24T23:33:20.425439Z",
     "iopub.status.idle": "2022-12-24T23:33:20.431284Z",
     "shell.execute_reply": "2022-12-24T23:33:20.430467Z"
    },
    "papermill": {
     "duration": 0.020346,
     "end_time": "2022-12-24T23:33:20.433465",
     "exception": false,
     "start_time": "2022-12-24T23:33:20.413119",
     "status": "completed"
    },
    "tags": []
   },
   "outputs": [],
   "source": [
    "X_train, X_val, y_train, y_val = train_test_split(X_train, y_train, \n",
    "                                                    test_size=0.1, \n",
    "                                                    random_state=42)"
   ]
  },
  {
   "cell_type": "code",
   "execution_count": 33,
   "id": "608780bc",
   "metadata": {
    "execution": {
     "iopub.execute_input": "2022-12-24T23:33:20.456897Z",
     "iopub.status.busy": "2022-12-24T23:33:20.456512Z",
     "iopub.status.idle": "2022-12-24T23:33:21.004827Z",
     "shell.execute_reply": "2022-12-24T23:33:21.003384Z"
    },
    "papermill": {
     "duration": 0.563258,
     "end_time": "2022-12-24T23:33:21.007713",
     "exception": false,
     "start_time": "2022-12-24T23:33:20.444455",
     "status": "completed"
    },
    "tags": []
   },
   "outputs": [],
   "source": [
    "import xgboost as xgb\n",
    "booster = xgb.XGBClassifier(n_jobs=-1)\n",
    "booster = booster.fit(X_train,y_train)\n"
   ]
  },
  {
   "cell_type": "code",
   "execution_count": 34,
   "id": "f15bd884",
   "metadata": {
    "execution": {
     "iopub.execute_input": "2022-12-24T23:33:21.041742Z",
     "iopub.status.busy": "2022-12-24T23:33:21.040358Z",
     "iopub.status.idle": "2022-12-24T23:33:21.102947Z",
     "shell.execute_reply": "2022-12-24T23:33:21.102221Z"
    },
    "papermill": {
     "duration": 0.083412,
     "end_time": "2022-12-24T23:33:21.104893",
     "exception": false,
     "start_time": "2022-12-24T23:33:21.021481",
     "status": "completed"
    },
    "tags": []
   },
   "outputs": [
    {
     "data": {
      "text/html": [
       "<div>\n",
       "<style scoped>\n",
       "    .dataframe tbody tr th:only-of-type {\n",
       "        vertical-align: middle;\n",
       "    }\n",
       "\n",
       "    .dataframe tbody tr th {\n",
       "        vertical-align: top;\n",
       "    }\n",
       "\n",
       "    .dataframe thead th {\n",
       "        text-align: right;\n",
       "    }\n",
       "</style>\n",
       "<table border=\"1\" class=\"dataframe\">\n",
       "  <thead>\n",
       "    <tr style=\"text-align: right;\">\n",
       "      <th></th>\n",
       "      <th>PassengerId</th>\n",
       "      <th>Survived</th>\n",
       "    </tr>\n",
       "  </thead>\n",
       "  <tbody>\n",
       "    <tr>\n",
       "      <th>0</th>\n",
       "      <td>892</td>\n",
       "      <td>0</td>\n",
       "    </tr>\n",
       "    <tr>\n",
       "      <th>1</th>\n",
       "      <td>893</td>\n",
       "      <td>0</td>\n",
       "    </tr>\n",
       "    <tr>\n",
       "      <th>2</th>\n",
       "      <td>894</td>\n",
       "      <td>0</td>\n",
       "    </tr>\n",
       "    <tr>\n",
       "      <th>3</th>\n",
       "      <td>895</td>\n",
       "      <td>0</td>\n",
       "    </tr>\n",
       "    <tr>\n",
       "      <th>4</th>\n",
       "      <td>896</td>\n",
       "      <td>1</td>\n",
       "    </tr>\n",
       "    <tr>\n",
       "      <th>...</th>\n",
       "      <td>...</td>\n",
       "      <td>...</td>\n",
       "    </tr>\n",
       "    <tr>\n",
       "      <th>413</th>\n",
       "      <td>1305</td>\n",
       "      <td>0</td>\n",
       "    </tr>\n",
       "    <tr>\n",
       "      <th>414</th>\n",
       "      <td>1306</td>\n",
       "      <td>1</td>\n",
       "    </tr>\n",
       "    <tr>\n",
       "      <th>415</th>\n",
       "      <td>1307</td>\n",
       "      <td>0</td>\n",
       "    </tr>\n",
       "    <tr>\n",
       "      <th>416</th>\n",
       "      <td>1308</td>\n",
       "      <td>0</td>\n",
       "    </tr>\n",
       "    <tr>\n",
       "      <th>417</th>\n",
       "      <td>1309</td>\n",
       "      <td>1</td>\n",
       "    </tr>\n",
       "  </tbody>\n",
       "</table>\n",
       "<p>418 rows × 2 columns</p>\n",
       "</div>"
      ],
      "text/plain": [
       "     PassengerId  Survived\n",
       "0            892         0\n",
       "1            893         0\n",
       "2            894         0\n",
       "3            895         0\n",
       "4            896         1\n",
       "..           ...       ...\n",
       "413         1305         0\n",
       "414         1306         1\n",
       "415         1307         0\n",
       "416         1308         0\n",
       "417         1309         1\n",
       "\n",
       "[418 rows x 2 columns]"
      ]
     },
     "execution_count": 34,
     "metadata": {},
     "output_type": "execute_result"
    }
   ],
   "source": [
    "pred=booster.predict(x_t)\n",
    "pred1=pd.DataFrame(pred)\n",
    "pred1=pred1.round().astype(int)\n",
    "\n",
    "test1=pd.read_csv('/kaggle/input/titanic/test.csv')\n",
    "Pas=test1['PassengerId']\n",
    "output=pd.concat([Pas,pred1],axis=1)\n",
    "output=output.rename(columns={0:'Survived'})\n",
    "#output = pd.DataFrame({'PassengerId': test1.PassengerId, 'Survived': pred1})\n",
    "output.to_csv('submission.csv', index=False)\n",
    "output\n",
    "#the score that kaggle gave me was 0.76"
   ]
  },
  {
   "cell_type": "markdown",
   "id": "cb050daf",
   "metadata": {
    "papermill": {
     "duration": 0.010569,
     "end_time": "2022-12-24T23:33:21.126222",
     "exception": false,
     "start_time": "2022-12-24T23:33:21.115653",
     "status": "completed"
    },
    "tags": []
   },
   "source": [
    "# **Last submission kaggle gave me a score of 0.76**"
   ]
  },
  {
   "cell_type": "code",
   "execution_count": null,
   "id": "87d124c0",
   "metadata": {
    "papermill": {
     "duration": 0.010284,
     "end_time": "2022-12-24T23:33:21.147143",
     "exception": false,
     "start_time": "2022-12-24T23:33:21.136859",
     "status": "completed"
    },
    "tags": []
   },
   "outputs": [],
   "source": []
  }
 ],
 "metadata": {
  "kernelspec": {
   "display_name": "Python 3",
   "language": "python",
   "name": "python3"
  },
  "language_info": {
   "codemirror_mode": {
    "name": "ipython",
    "version": 3
   },
   "file_extension": ".py",
   "mimetype": "text/x-python",
   "name": "python",
   "nbconvert_exporter": "python",
   "pygments_lexer": "ipython3",
   "version": "3.7.12"
  },
  "papermill": {
   "default_parameters": {},
   "duration": 11.994901,
   "end_time": "2022-12-24T23:33:21.878804",
   "environment_variables": {},
   "exception": null,
   "input_path": "__notebook__.ipynb",
   "output_path": "__notebook__.ipynb",
   "parameters": {},
   "start_time": "2022-12-24T23:33:09.883903",
   "version": "2.3.4"
  }
 },
 "nbformat": 4,
 "nbformat_minor": 5
}
