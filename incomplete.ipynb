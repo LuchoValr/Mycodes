{
 "cells": [
  {
   "cell_type": "code",
   "execution_count": 1,
   "id": "87938098",
   "metadata": {
    "execution": {
     "iopub.execute_input": "2023-01-09T03:41:44.074695Z",
     "iopub.status.busy": "2023-01-09T03:41:44.073947Z",
     "iopub.status.idle": "2023-01-09T03:41:44.083638Z",
     "shell.execute_reply": "2023-01-09T03:41:44.082636Z"
    },
    "papermill": {
     "duration": 0.033412,
     "end_time": "2023-01-09T03:41:44.086122",
     "exception": false,
     "start_time": "2023-01-09T03:41:44.052710",
     "status": "completed"
    },
    "tags": []
   },
   "outputs": [],
   "source": [
    "import numpy as np\n",
    "import pandas as pd"
   ]
  },
  {
   "cell_type": "code",
   "execution_count": 2,
   "id": "39a84c01",
   "metadata": {
    "execution": {
     "iopub.execute_input": "2023-01-09T03:41:44.119631Z",
     "iopub.status.busy": "2023-01-09T03:41:44.118899Z",
     "iopub.status.idle": "2023-01-09T03:41:44.204016Z",
     "shell.execute_reply": "2023-01-09T03:41:44.202805Z"
    },
    "papermill": {
     "duration": 0.105236,
     "end_time": "2023-01-09T03:41:44.206785",
     "exception": false,
     "start_time": "2023-01-09T03:41:44.101549",
     "status": "completed"
    },
    "tags": []
   },
   "outputs": [],
   "source": [
    "train=pd.read_csv('/kaggle/input/spaceship-titanic/train.csv')\n",
    "test=pd.read_csv('/kaggle/input/spaceship-titanic/test.csv')"
   ]
  },
  {
   "cell_type": "code",
   "execution_count": 3,
   "id": "b9be1b4c",
   "metadata": {
    "execution": {
     "iopub.execute_input": "2023-01-09T03:41:44.238502Z",
     "iopub.status.busy": "2023-01-09T03:41:44.238136Z",
     "iopub.status.idle": "2023-01-09T03:41:44.269474Z",
     "shell.execute_reply": "2023-01-09T03:41:44.268177Z"
    },
    "papermill": {
     "duration": 0.050897,
     "end_time": "2023-01-09T03:41:44.272685",
     "exception": false,
     "start_time": "2023-01-09T03:41:44.221788",
     "status": "completed"
    },
    "tags": []
   },
   "outputs": [
    {
     "data": {
      "text/html": [
       "<div>\n",
       "<style scoped>\n",
       "    .dataframe tbody tr th:only-of-type {\n",
       "        vertical-align: middle;\n",
       "    }\n",
       "\n",
       "    .dataframe tbody tr th {\n",
       "        vertical-align: top;\n",
       "    }\n",
       "\n",
       "    .dataframe thead th {\n",
       "        text-align: right;\n",
       "    }\n",
       "</style>\n",
       "<table border=\"1\" class=\"dataframe\">\n",
       "  <thead>\n",
       "    <tr style=\"text-align: right;\">\n",
       "      <th></th>\n",
       "      <th>PassengerId</th>\n",
       "      <th>HomePlanet</th>\n",
       "      <th>CryoSleep</th>\n",
       "      <th>Cabin</th>\n",
       "      <th>Destination</th>\n",
       "      <th>Age</th>\n",
       "      <th>VIP</th>\n",
       "      <th>RoomService</th>\n",
       "      <th>FoodCourt</th>\n",
       "      <th>ShoppingMall</th>\n",
       "      <th>Spa</th>\n",
       "      <th>VRDeck</th>\n",
       "      <th>Name</th>\n",
       "      <th>Transported</th>\n",
       "    </tr>\n",
       "  </thead>\n",
       "  <tbody>\n",
       "    <tr>\n",
       "      <th>0</th>\n",
       "      <td>0001_01</td>\n",
       "      <td>Europa</td>\n",
       "      <td>False</td>\n",
       "      <td>B/0/P</td>\n",
       "      <td>TRAPPIST-1e</td>\n",
       "      <td>39.0</td>\n",
       "      <td>False</td>\n",
       "      <td>0.0</td>\n",
       "      <td>0.0</td>\n",
       "      <td>0.0</td>\n",
       "      <td>0.0</td>\n",
       "      <td>0.0</td>\n",
       "      <td>Maham Ofracculy</td>\n",
       "      <td>False</td>\n",
       "    </tr>\n",
       "    <tr>\n",
       "      <th>1</th>\n",
       "      <td>0002_01</td>\n",
       "      <td>Earth</td>\n",
       "      <td>False</td>\n",
       "      <td>F/0/S</td>\n",
       "      <td>TRAPPIST-1e</td>\n",
       "      <td>24.0</td>\n",
       "      <td>False</td>\n",
       "      <td>109.0</td>\n",
       "      <td>9.0</td>\n",
       "      <td>25.0</td>\n",
       "      <td>549.0</td>\n",
       "      <td>44.0</td>\n",
       "      <td>Juanna Vines</td>\n",
       "      <td>True</td>\n",
       "    </tr>\n",
       "    <tr>\n",
       "      <th>2</th>\n",
       "      <td>0003_01</td>\n",
       "      <td>Europa</td>\n",
       "      <td>False</td>\n",
       "      <td>A/0/S</td>\n",
       "      <td>TRAPPIST-1e</td>\n",
       "      <td>58.0</td>\n",
       "      <td>True</td>\n",
       "      <td>43.0</td>\n",
       "      <td>3576.0</td>\n",
       "      <td>0.0</td>\n",
       "      <td>6715.0</td>\n",
       "      <td>49.0</td>\n",
       "      <td>Altark Susent</td>\n",
       "      <td>False</td>\n",
       "    </tr>\n",
       "    <tr>\n",
       "      <th>3</th>\n",
       "      <td>0003_02</td>\n",
       "      <td>Europa</td>\n",
       "      <td>False</td>\n",
       "      <td>A/0/S</td>\n",
       "      <td>TRAPPIST-1e</td>\n",
       "      <td>33.0</td>\n",
       "      <td>False</td>\n",
       "      <td>0.0</td>\n",
       "      <td>1283.0</td>\n",
       "      <td>371.0</td>\n",
       "      <td>3329.0</td>\n",
       "      <td>193.0</td>\n",
       "      <td>Solam Susent</td>\n",
       "      <td>False</td>\n",
       "    </tr>\n",
       "    <tr>\n",
       "      <th>4</th>\n",
       "      <td>0004_01</td>\n",
       "      <td>Earth</td>\n",
       "      <td>False</td>\n",
       "      <td>F/1/S</td>\n",
       "      <td>TRAPPIST-1e</td>\n",
       "      <td>16.0</td>\n",
       "      <td>False</td>\n",
       "      <td>303.0</td>\n",
       "      <td>70.0</td>\n",
       "      <td>151.0</td>\n",
       "      <td>565.0</td>\n",
       "      <td>2.0</td>\n",
       "      <td>Willy Santantines</td>\n",
       "      <td>True</td>\n",
       "    </tr>\n",
       "  </tbody>\n",
       "</table>\n",
       "</div>"
      ],
      "text/plain": [
       "  PassengerId HomePlanet CryoSleep  Cabin  Destination   Age    VIP  \\\n",
       "0     0001_01     Europa     False  B/0/P  TRAPPIST-1e  39.0  False   \n",
       "1     0002_01      Earth     False  F/0/S  TRAPPIST-1e  24.0  False   \n",
       "2     0003_01     Europa     False  A/0/S  TRAPPIST-1e  58.0   True   \n",
       "3     0003_02     Europa     False  A/0/S  TRAPPIST-1e  33.0  False   \n",
       "4     0004_01      Earth     False  F/1/S  TRAPPIST-1e  16.0  False   \n",
       "\n",
       "   RoomService  FoodCourt  ShoppingMall     Spa  VRDeck               Name  \\\n",
       "0          0.0        0.0           0.0     0.0     0.0    Maham Ofracculy   \n",
       "1        109.0        9.0          25.0   549.0    44.0       Juanna Vines   \n",
       "2         43.0     3576.0           0.0  6715.0    49.0      Altark Susent   \n",
       "3          0.0     1283.0         371.0  3329.0   193.0       Solam Susent   \n",
       "4        303.0       70.0         151.0   565.0     2.0  Willy Santantines   \n",
       "\n",
       "   Transported  \n",
       "0        False  \n",
       "1         True  \n",
       "2        False  \n",
       "3        False  \n",
       "4         True  "
      ]
     },
     "execution_count": 3,
     "metadata": {},
     "output_type": "execute_result"
    }
   ],
   "source": [
    "train.head()"
   ]
  },
  {
   "cell_type": "code",
   "execution_count": 4,
   "id": "7f3dd38d",
   "metadata": {
    "execution": {
     "iopub.execute_input": "2023-01-09T03:41:44.306198Z",
     "iopub.status.busy": "2023-01-09T03:41:44.305786Z",
     "iopub.status.idle": "2023-01-09T03:41:44.326275Z",
     "shell.execute_reply": "2023-01-09T03:41:44.325060Z"
    },
    "papermill": {
     "duration": 0.039837,
     "end_time": "2023-01-09T03:41:44.328470",
     "exception": false,
     "start_time": "2023-01-09T03:41:44.288633",
     "status": "completed"
    },
    "tags": []
   },
   "outputs": [
    {
     "data": {
      "text/html": [
       "<div>\n",
       "<style scoped>\n",
       "    .dataframe tbody tr th:only-of-type {\n",
       "        vertical-align: middle;\n",
       "    }\n",
       "\n",
       "    .dataframe tbody tr th {\n",
       "        vertical-align: top;\n",
       "    }\n",
       "\n",
       "    .dataframe thead th {\n",
       "        text-align: right;\n",
       "    }\n",
       "</style>\n",
       "<table border=\"1\" class=\"dataframe\">\n",
       "  <thead>\n",
       "    <tr style=\"text-align: right;\">\n",
       "      <th></th>\n",
       "      <th>PassengerId</th>\n",
       "      <th>HomePlanet</th>\n",
       "      <th>CryoSleep</th>\n",
       "      <th>Cabin</th>\n",
       "      <th>Destination</th>\n",
       "      <th>Age</th>\n",
       "      <th>VIP</th>\n",
       "      <th>RoomService</th>\n",
       "      <th>FoodCourt</th>\n",
       "      <th>ShoppingMall</th>\n",
       "      <th>Spa</th>\n",
       "      <th>VRDeck</th>\n",
       "      <th>Name</th>\n",
       "    </tr>\n",
       "  </thead>\n",
       "  <tbody>\n",
       "    <tr>\n",
       "      <th>0</th>\n",
       "      <td>0013_01</td>\n",
       "      <td>Earth</td>\n",
       "      <td>True</td>\n",
       "      <td>G/3/S</td>\n",
       "      <td>TRAPPIST-1e</td>\n",
       "      <td>27.0</td>\n",
       "      <td>False</td>\n",
       "      <td>0.0</td>\n",
       "      <td>0.0</td>\n",
       "      <td>0.0</td>\n",
       "      <td>0.0</td>\n",
       "      <td>0.0</td>\n",
       "      <td>Nelly Carsoning</td>\n",
       "    </tr>\n",
       "    <tr>\n",
       "      <th>1</th>\n",
       "      <td>0018_01</td>\n",
       "      <td>Earth</td>\n",
       "      <td>False</td>\n",
       "      <td>F/4/S</td>\n",
       "      <td>TRAPPIST-1e</td>\n",
       "      <td>19.0</td>\n",
       "      <td>False</td>\n",
       "      <td>0.0</td>\n",
       "      <td>9.0</td>\n",
       "      <td>0.0</td>\n",
       "      <td>2823.0</td>\n",
       "      <td>0.0</td>\n",
       "      <td>Lerome Peckers</td>\n",
       "    </tr>\n",
       "    <tr>\n",
       "      <th>2</th>\n",
       "      <td>0019_01</td>\n",
       "      <td>Europa</td>\n",
       "      <td>True</td>\n",
       "      <td>C/0/S</td>\n",
       "      <td>55 Cancri e</td>\n",
       "      <td>31.0</td>\n",
       "      <td>False</td>\n",
       "      <td>0.0</td>\n",
       "      <td>0.0</td>\n",
       "      <td>0.0</td>\n",
       "      <td>0.0</td>\n",
       "      <td>0.0</td>\n",
       "      <td>Sabih Unhearfus</td>\n",
       "    </tr>\n",
       "    <tr>\n",
       "      <th>3</th>\n",
       "      <td>0021_01</td>\n",
       "      <td>Europa</td>\n",
       "      <td>False</td>\n",
       "      <td>C/1/S</td>\n",
       "      <td>TRAPPIST-1e</td>\n",
       "      <td>38.0</td>\n",
       "      <td>False</td>\n",
       "      <td>0.0</td>\n",
       "      <td>6652.0</td>\n",
       "      <td>0.0</td>\n",
       "      <td>181.0</td>\n",
       "      <td>585.0</td>\n",
       "      <td>Meratz Caltilter</td>\n",
       "    </tr>\n",
       "    <tr>\n",
       "      <th>4</th>\n",
       "      <td>0023_01</td>\n",
       "      <td>Earth</td>\n",
       "      <td>False</td>\n",
       "      <td>F/5/S</td>\n",
       "      <td>TRAPPIST-1e</td>\n",
       "      <td>20.0</td>\n",
       "      <td>False</td>\n",
       "      <td>10.0</td>\n",
       "      <td>0.0</td>\n",
       "      <td>635.0</td>\n",
       "      <td>0.0</td>\n",
       "      <td>0.0</td>\n",
       "      <td>Brence Harperez</td>\n",
       "    </tr>\n",
       "  </tbody>\n",
       "</table>\n",
       "</div>"
      ],
      "text/plain": [
       "  PassengerId HomePlanet CryoSleep  Cabin  Destination   Age    VIP  \\\n",
       "0     0013_01      Earth      True  G/3/S  TRAPPIST-1e  27.0  False   \n",
       "1     0018_01      Earth     False  F/4/S  TRAPPIST-1e  19.0  False   \n",
       "2     0019_01     Europa      True  C/0/S  55 Cancri e  31.0  False   \n",
       "3     0021_01     Europa     False  C/1/S  TRAPPIST-1e  38.0  False   \n",
       "4     0023_01      Earth     False  F/5/S  TRAPPIST-1e  20.0  False   \n",
       "\n",
       "   RoomService  FoodCourt  ShoppingMall     Spa  VRDeck              Name  \n",
       "0          0.0        0.0           0.0     0.0     0.0   Nelly Carsoning  \n",
       "1          0.0        9.0           0.0  2823.0     0.0    Lerome Peckers  \n",
       "2          0.0        0.0           0.0     0.0     0.0   Sabih Unhearfus  \n",
       "3          0.0     6652.0           0.0   181.0   585.0  Meratz Caltilter  \n",
       "4         10.0        0.0         635.0     0.0     0.0   Brence Harperez  "
      ]
     },
     "execution_count": 4,
     "metadata": {},
     "output_type": "execute_result"
    }
   ],
   "source": [
    "test.head()"
   ]
  },
  {
   "cell_type": "code",
   "execution_count": 5,
   "id": "6e5d2099",
   "metadata": {
    "execution": {
     "iopub.execute_input": "2023-01-09T03:41:44.361252Z",
     "iopub.status.busy": "2023-01-09T03:41:44.360865Z",
     "iopub.status.idle": "2023-01-09T03:41:44.390354Z",
     "shell.execute_reply": "2023-01-09T03:41:44.388765Z"
    },
    "papermill": {
     "duration": 0.050208,
     "end_time": "2023-01-09T03:41:44.394245",
     "exception": false,
     "start_time": "2023-01-09T03:41:44.344037",
     "status": "completed"
    },
    "tags": []
   },
   "outputs": [
    {
     "name": "stdout",
     "output_type": "stream",
     "text": [
      "<class 'pandas.core.frame.DataFrame'>\n",
      "RangeIndex: 8693 entries, 0 to 8692\n",
      "Data columns (total 14 columns):\n",
      " #   Column        Non-Null Count  Dtype  \n",
      "---  ------        --------------  -----  \n",
      " 0   PassengerId   8693 non-null   object \n",
      " 1   HomePlanet    8492 non-null   object \n",
      " 2   CryoSleep     8476 non-null   object \n",
      " 3   Cabin         8494 non-null   object \n",
      " 4   Destination   8511 non-null   object \n",
      " 5   Age           8514 non-null   float64\n",
      " 6   VIP           8490 non-null   object \n",
      " 7   RoomService   8512 non-null   float64\n",
      " 8   FoodCourt     8510 non-null   float64\n",
      " 9   ShoppingMall  8485 non-null   float64\n",
      " 10  Spa           8510 non-null   float64\n",
      " 11  VRDeck        8505 non-null   float64\n",
      " 12  Name          8493 non-null   object \n",
      " 13  Transported   8693 non-null   bool   \n",
      "dtypes: bool(1), float64(6), object(7)\n",
      "memory usage: 891.5+ KB\n"
     ]
    }
   ],
   "source": [
    "train.info()"
   ]
  },
  {
   "cell_type": "code",
   "execution_count": 6,
   "id": "ac9469c6",
   "metadata": {
    "execution": {
     "iopub.execute_input": "2023-01-09T03:41:44.443858Z",
     "iopub.status.busy": "2023-01-09T03:41:44.443415Z",
     "iopub.status.idle": "2023-01-09T03:41:44.458336Z",
     "shell.execute_reply": "2023-01-09T03:41:44.457532Z"
    },
    "papermill": {
     "duration": 0.042818,
     "end_time": "2023-01-09T03:41:44.462621",
     "exception": false,
     "start_time": "2023-01-09T03:41:44.419803",
     "status": "completed"
    },
    "tags": []
   },
   "outputs": [
    {
     "name": "stdout",
     "output_type": "stream",
     "text": [
      "<class 'pandas.core.frame.DataFrame'>\n",
      "RangeIndex: 4277 entries, 0 to 4276\n",
      "Data columns (total 13 columns):\n",
      " #   Column        Non-Null Count  Dtype  \n",
      "---  ------        --------------  -----  \n",
      " 0   PassengerId   4277 non-null   object \n",
      " 1   HomePlanet    4190 non-null   object \n",
      " 2   CryoSleep     4184 non-null   object \n",
      " 3   Cabin         4177 non-null   object \n",
      " 4   Destination   4185 non-null   object \n",
      " 5   Age           4186 non-null   float64\n",
      " 6   VIP           4184 non-null   object \n",
      " 7   RoomService   4195 non-null   float64\n",
      " 8   FoodCourt     4171 non-null   float64\n",
      " 9   ShoppingMall  4179 non-null   float64\n",
      " 10  Spa           4176 non-null   float64\n",
      " 11  VRDeck        4197 non-null   float64\n",
      " 12  Name          4183 non-null   object \n",
      "dtypes: float64(6), object(7)\n",
      "memory usage: 434.5+ KB\n"
     ]
    }
   ],
   "source": [
    "test.info()"
   ]
  },
  {
   "cell_type": "code",
   "execution_count": 7,
   "id": "fc51989a",
   "metadata": {
    "execution": {
     "iopub.execute_input": "2023-01-09T03:41:44.498793Z",
     "iopub.status.busy": "2023-01-09T03:41:44.498342Z",
     "iopub.status.idle": "2023-01-09T03:41:44.508272Z",
     "shell.execute_reply": "2023-01-09T03:41:44.506985Z"
    },
    "papermill": {
     "duration": 0.030034,
     "end_time": "2023-01-09T03:41:44.510357",
     "exception": false,
     "start_time": "2023-01-09T03:41:44.480323",
     "status": "completed"
    },
    "tags": []
   },
   "outputs": [
    {
     "data": {
      "text/plain": [
       "Earth     4602\n",
       "Europa    2131\n",
       "Mars      1759\n",
       "Name: HomePlanet, dtype: int64"
      ]
     },
     "execution_count": 7,
     "metadata": {},
     "output_type": "execute_result"
    }
   ],
   "source": [
    "train['HomePlanet'].value_counts()"
   ]
  },
  {
   "cell_type": "code",
   "execution_count": 8,
   "id": "897f2507",
   "metadata": {
    "execution": {
     "iopub.execute_input": "2023-01-09T03:41:44.546737Z",
     "iopub.status.busy": "2023-01-09T03:41:44.545961Z",
     "iopub.status.idle": "2023-01-09T03:41:44.561857Z",
     "shell.execute_reply": "2023-01-09T03:41:44.560638Z"
    },
    "papermill": {
     "duration": 0.037187,
     "end_time": "2023-01-09T03:41:44.564185",
     "exception": false,
     "start_time": "2023-01-09T03:41:44.526998",
     "status": "completed"
    },
    "tags": []
   },
   "outputs": [
    {
     "data": {
      "text/plain": [
       "TRAPPIST-1e      5915\n",
       "55 Cancri e      1800\n",
       "PSO J318.5-22     796\n",
       "Name: Destination, dtype: int64"
      ]
     },
     "execution_count": 8,
     "metadata": {},
     "output_type": "execute_result"
    }
   ],
   "source": [
    "train['Destination'].value_counts()"
   ]
  },
  {
   "cell_type": "code",
   "execution_count": 9,
   "id": "b1505ba5",
   "metadata": {
    "execution": {
     "iopub.execute_input": "2023-01-09T03:41:44.601309Z",
     "iopub.status.busy": "2023-01-09T03:41:44.600918Z",
     "iopub.status.idle": "2023-01-09T03:41:44.609642Z",
     "shell.execute_reply": "2023-01-09T03:41:44.608385Z"
    },
    "papermill": {
     "duration": 0.029406,
     "end_time": "2023-01-09T03:41:44.612012",
     "exception": false,
     "start_time": "2023-01-09T03:41:44.582606",
     "status": "completed"
    },
    "tags": []
   },
   "outputs": [
    {
     "data": {
      "text/plain": [
       "Earth     2263\n",
       "Europa    1002\n",
       "Mars       925\n",
       "Name: HomePlanet, dtype: int64"
      ]
     },
     "execution_count": 9,
     "metadata": {},
     "output_type": "execute_result"
    }
   ],
   "source": [
    "test['HomePlanet'].value_counts()"
   ]
  },
  {
   "cell_type": "code",
   "execution_count": 10,
   "id": "4b66ca19",
   "metadata": {
    "execution": {
     "iopub.execute_input": "2023-01-09T03:41:44.647213Z",
     "iopub.status.busy": "2023-01-09T03:41:44.646279Z",
     "iopub.status.idle": "2023-01-09T03:41:44.657487Z",
     "shell.execute_reply": "2023-01-09T03:41:44.656125Z"
    },
    "papermill": {
     "duration": 0.031655,
     "end_time": "2023-01-09T03:41:44.659756",
     "exception": false,
     "start_time": "2023-01-09T03:41:44.628101",
     "status": "completed"
    },
    "tags": []
   },
   "outputs": [
    {
     "data": {
      "text/plain": [
       "TRAPPIST-1e      2956\n",
       "55 Cancri e       841\n",
       "PSO J318.5-22     388\n",
       "Name: Destination, dtype: int64"
      ]
     },
     "execution_count": 10,
     "metadata": {},
     "output_type": "execute_result"
    }
   ],
   "source": [
    "test['Destination'].value_counts()"
   ]
  },
  {
   "cell_type": "code",
   "execution_count": 11,
   "id": "5ce85045",
   "metadata": {
    "execution": {
     "iopub.execute_input": "2023-01-09T03:41:44.696156Z",
     "iopub.status.busy": "2023-01-09T03:41:44.695772Z",
     "iopub.status.idle": "2023-01-09T03:41:44.706596Z",
     "shell.execute_reply": "2023-01-09T03:41:44.705370Z"
    },
    "papermill": {
     "duration": 0.030302,
     "end_time": "2023-01-09T03:41:44.708805",
     "exception": false,
     "start_time": "2023-01-09T03:41:44.678503",
     "status": "completed"
    },
    "tags": []
   },
   "outputs": [],
   "source": [
    "train['HomePlanet'] = train['HomePlanet'].fillna('Earth')\n",
    "train['Destination']=train['Destination'].fillna('TRAPPIST-1e')\n",
    "test['HomePlanet']=test['HomePlanet'].fillna('Earth')\n",
    "test['Destination']=test['Destination'].fillna('TRAPPIST-1e')"
   ]
  },
  {
   "cell_type": "code",
   "execution_count": 12,
   "id": "acef84a9",
   "metadata": {
    "execution": {
     "iopub.execute_input": "2023-01-09T03:41:44.743326Z",
     "iopub.status.busy": "2023-01-09T03:41:44.742618Z",
     "iopub.status.idle": "2023-01-09T03:41:44.751377Z",
     "shell.execute_reply": "2023-01-09T03:41:44.750217Z"
    },
    "papermill": {
     "duration": 0.028963,
     "end_time": "2023-01-09T03:41:44.753811",
     "exception": false,
     "start_time": "2023-01-09T03:41:44.724848",
     "status": "completed"
    },
    "tags": []
   },
   "outputs": [
    {
     "data": {
      "text/plain": [
       "0.35830580462482303"
      ]
     },
     "execution_count": 12,
     "metadata": {},
     "output_type": "execute_result"
    }
   ],
   "source": [
    "train['CryoSleep']=1*(train['CryoSleep'])\n",
    "train['CryoSleep'].mean()"
   ]
  },
  {
   "cell_type": "code",
   "execution_count": 13,
   "id": "dc77ada9",
   "metadata": {
    "execution": {
     "iopub.execute_input": "2023-01-09T03:41:44.794121Z",
     "iopub.status.busy": "2023-01-09T03:41:44.792467Z",
     "iopub.status.idle": "2023-01-09T03:41:44.801805Z",
     "shell.execute_reply": "2023-01-09T03:41:44.800596Z"
    },
    "papermill": {
     "duration": 0.033509,
     "end_time": "2023-01-09T03:41:44.804004",
     "exception": false,
     "start_time": "2023-01-09T03:41:44.770495",
     "status": "completed"
    },
    "tags": []
   },
   "outputs": [
    {
     "data": {
      "text/plain": [
       "0    5439\n",
       "1    3037\n",
       "Name: CryoSleep, dtype: int64"
      ]
     },
     "execution_count": 13,
     "metadata": {},
     "output_type": "execute_result"
    }
   ],
   "source": [
    "train['CryoSleep'].value_counts()"
   ]
  },
  {
   "cell_type": "code",
   "execution_count": 14,
   "id": "6d0b5098",
   "metadata": {
    "execution": {
     "iopub.execute_input": "2023-01-09T03:41:44.844002Z",
     "iopub.status.busy": "2023-01-09T03:41:44.842817Z",
     "iopub.status.idle": "2023-01-09T03:41:44.856775Z",
     "shell.execute_reply": "2023-01-09T03:41:44.855627Z"
    },
    "papermill": {
     "duration": 0.036353,
     "end_time": "2023-01-09T03:41:44.861068",
     "exception": false,
     "start_time": "2023-01-09T03:41:44.824715",
     "status": "completed"
    },
    "tags": []
   },
   "outputs": [],
   "source": [
    "train['CryoSleep']=train['CryoSleep'].fillna(0)\n",
    "test['CryoSleep']=test['CryoSleep'].fillna(0)"
   ]
  },
  {
   "cell_type": "code",
   "execution_count": 15,
   "id": "9a49b9b7",
   "metadata": {
    "execution": {
     "iopub.execute_input": "2023-01-09T03:41:44.898145Z",
     "iopub.status.busy": "2023-01-09T03:41:44.897443Z",
     "iopub.status.idle": "2023-01-09T03:41:44.905733Z",
     "shell.execute_reply": "2023-01-09T03:41:44.904434Z"
    },
    "papermill": {
     "duration": 0.028428,
     "end_time": "2023-01-09T03:41:44.908185",
     "exception": false,
     "start_time": "2023-01-09T03:41:44.879757",
     "status": "completed"
    },
    "tags": []
   },
   "outputs": [
    {
     "data": {
      "text/plain": [
       "28.82793046746535"
      ]
     },
     "execution_count": 15,
     "metadata": {},
     "output_type": "execute_result"
    }
   ],
   "source": [
    "train['Age'].mean()"
   ]
  },
  {
   "cell_type": "code",
   "execution_count": 16,
   "id": "72487a03",
   "metadata": {
    "execution": {
     "iopub.execute_input": "2023-01-09T03:41:44.944731Z",
     "iopub.status.busy": "2023-01-09T03:41:44.943697Z",
     "iopub.status.idle": "2023-01-09T03:41:45.001404Z",
     "shell.execute_reply": "2023-01-09T03:41:45.000152Z"
    },
    "papermill": {
     "duration": 0.078229,
     "end_time": "2023-01-09T03:41:45.004041",
     "exception": false,
     "start_time": "2023-01-09T03:41:44.925812",
     "status": "completed"
    },
    "tags": []
   },
   "outputs": [
    {
     "data": {
      "text/html": [
       "<div>\n",
       "<style scoped>\n",
       "    .dataframe tbody tr th:only-of-type {\n",
       "        vertical-align: middle;\n",
       "    }\n",
       "\n",
       "    .dataframe tbody tr th {\n",
       "        vertical-align: top;\n",
       "    }\n",
       "\n",
       "    .dataframe thead tr th {\n",
       "        text-align: left;\n",
       "    }\n",
       "\n",
       "    .dataframe thead tr:last-of-type th {\n",
       "        text-align: right;\n",
       "    }\n",
       "</style>\n",
       "<table border=\"1\" class=\"dataframe\">\n",
       "  <thead>\n",
       "    <tr>\n",
       "      <th></th>\n",
       "      <th></th>\n",
       "      <th></th>\n",
       "      <th>mean</th>\n",
       "      <th>median</th>\n",
       "    </tr>\n",
       "    <tr>\n",
       "      <th></th>\n",
       "      <th></th>\n",
       "      <th></th>\n",
       "      <th>Age</th>\n",
       "      <th>Age</th>\n",
       "    </tr>\n",
       "    <tr>\n",
       "      <th>HomePlanet</th>\n",
       "      <th>FoodCourt</th>\n",
       "      <th>ShoppingMall</th>\n",
       "      <th></th>\n",
       "      <th></th>\n",
       "    </tr>\n",
       "  </thead>\n",
       "  <tbody>\n",
       "    <tr>\n",
       "      <th rowspan=\"5\" valign=\"top\">Earth</th>\n",
       "      <th rowspan=\"5\" valign=\"top\">0.0</th>\n",
       "      <th>0.0</th>\n",
       "      <td>22.089412</td>\n",
       "      <td>21.0</td>\n",
       "    </tr>\n",
       "    <tr>\n",
       "      <th>1.0</th>\n",
       "      <td>30.921053</td>\n",
       "      <td>25.5</td>\n",
       "    </tr>\n",
       "    <tr>\n",
       "      <th>2.0</th>\n",
       "      <td>28.736842</td>\n",
       "      <td>29.0</td>\n",
       "    </tr>\n",
       "    <tr>\n",
       "      <th>3.0</th>\n",
       "      <td>22.636364</td>\n",
       "      <td>20.0</td>\n",
       "    </tr>\n",
       "    <tr>\n",
       "      <th>4.0</th>\n",
       "      <td>23.615385</td>\n",
       "      <td>23.0</td>\n",
       "    </tr>\n",
       "    <tr>\n",
       "      <th>...</th>\n",
       "      <th>...</th>\n",
       "      <th>...</th>\n",
       "      <td>...</td>\n",
       "      <td>...</td>\n",
       "    </tr>\n",
       "    <tr>\n",
       "      <th rowspan=\"5\" valign=\"top\">Mars</th>\n",
       "      <th>2119.0</th>\n",
       "      <th>315.0</th>\n",
       "      <td>43.000000</td>\n",
       "      <td>43.0</td>\n",
       "    </tr>\n",
       "    <tr>\n",
       "      <th>2207.0</th>\n",
       "      <th>163.0</th>\n",
       "      <td>24.000000</td>\n",
       "      <td>24.0</td>\n",
       "    </tr>\n",
       "    <tr>\n",
       "      <th>2318.0</th>\n",
       "      <th>5.0</th>\n",
       "      <td>38.000000</td>\n",
       "      <td>38.0</td>\n",
       "    </tr>\n",
       "    <tr>\n",
       "      <th>2876.0</th>\n",
       "      <th>202.0</th>\n",
       "      <td>22.000000</td>\n",
       "      <td>22.0</td>\n",
       "    </tr>\n",
       "    <tr>\n",
       "      <th>4389.0</th>\n",
       "      <th>1015.0</th>\n",
       "      <td>35.000000</td>\n",
       "      <td>35.0</td>\n",
       "    </tr>\n",
       "  </tbody>\n",
       "</table>\n",
       "<p>3447 rows × 2 columns</p>\n",
       "</div>"
      ],
      "text/plain": [
       "                                        mean median\n",
       "                                         Age    Age\n",
       "HomePlanet FoodCourt ShoppingMall                  \n",
       "Earth      0.0       0.0           22.089412   21.0\n",
       "                     1.0           30.921053   25.5\n",
       "                     2.0           28.736842   29.0\n",
       "                     3.0           22.636364   20.0\n",
       "                     4.0           23.615385   23.0\n",
       "...                                      ...    ...\n",
       "Mars       2119.0    315.0         43.000000   43.0\n",
       "           2207.0    163.0         24.000000   24.0\n",
       "           2318.0    5.0           38.000000   38.0\n",
       "           2876.0    202.0         22.000000   22.0\n",
       "           4389.0    1015.0        35.000000   35.0\n",
       "\n",
       "[3447 rows x 2 columns]"
      ]
     },
     "execution_count": 16,
     "metadata": {},
     "output_type": "execute_result"
    }
   ],
   "source": [
    "train.pivot_table(index=['HomePlanet','FoodCourt','ShoppingMall'],values='Age',aggfunc=['mean','median'])"
   ]
  },
  {
   "cell_type": "code",
   "execution_count": 17,
   "id": "988c9dea",
   "metadata": {
    "execution": {
     "iopub.execute_input": "2023-01-09T03:41:45.039709Z",
     "iopub.status.busy": "2023-01-09T03:41:45.038536Z",
     "iopub.status.idle": "2023-01-09T03:41:45.050063Z",
     "shell.execute_reply": "2023-01-09T03:41:45.048975Z"
    },
    "papermill": {
     "duration": 0.031916,
     "end_time": "2023-01-09T03:41:45.052674",
     "exception": false,
     "start_time": "2023-01-09T03:41:45.020758",
     "status": "completed"
    },
    "tags": []
   },
   "outputs": [],
   "source": [
    "train['Age']=train['Age'].fillna(train.groupby(['HomePlanet','FoodCourt','ShoppingMall'])['Age'].transform('median'))"
   ]
  },
  {
   "cell_type": "code",
   "execution_count": 18,
   "id": "87ef5920",
   "metadata": {
    "execution": {
     "iopub.execute_input": "2023-01-09T03:41:45.087445Z",
     "iopub.status.busy": "2023-01-09T03:41:45.087016Z",
     "iopub.status.idle": "2023-01-09T03:41:45.092840Z",
     "shell.execute_reply": "2023-01-09T03:41:45.092002Z"
    },
    "papermill": {
     "duration": 0.025689,
     "end_time": "2023-01-09T03:41:45.094976",
     "exception": false,
     "start_time": "2023-01-09T03:41:45.069287",
     "status": "completed"
    },
    "tags": []
   },
   "outputs": [],
   "source": [
    "train['Age']=train['Age'].fillna(29)"
   ]
  },
  {
   "cell_type": "code",
   "execution_count": 19,
   "id": "857a4a0a",
   "metadata": {
    "execution": {
     "iopub.execute_input": "2023-01-09T03:41:45.130992Z",
     "iopub.status.busy": "2023-01-09T03:41:45.130143Z",
     "iopub.status.idle": "2023-01-09T03:41:45.137284Z",
     "shell.execute_reply": "2023-01-09T03:41:45.136486Z"
    },
    "papermill": {
     "duration": 0.027915,
     "end_time": "2023-01-09T03:41:45.139532",
     "exception": false,
     "start_time": "2023-01-09T03:41:45.111617",
     "status": "completed"
    },
    "tags": []
   },
   "outputs": [
    {
     "data": {
      "text/plain": [
       "28.65814620162446"
      ]
     },
     "execution_count": 19,
     "metadata": {},
     "output_type": "execute_result"
    }
   ],
   "source": [
    "test['Age'].mean()"
   ]
  },
  {
   "cell_type": "code",
   "execution_count": 20,
   "id": "afb93ba3",
   "metadata": {
    "execution": {
     "iopub.execute_input": "2023-01-09T03:41:45.175335Z",
     "iopub.status.busy": "2023-01-09T03:41:45.174666Z",
     "iopub.status.idle": "2023-01-09T03:41:45.215952Z",
     "shell.execute_reply": "2023-01-09T03:41:45.214637Z"
    },
    "papermill": {
     "duration": 0.062017,
     "end_time": "2023-01-09T03:41:45.218496",
     "exception": false,
     "start_time": "2023-01-09T03:41:45.156479",
     "status": "completed"
    },
    "tags": []
   },
   "outputs": [
    {
     "data": {
      "text/html": [
       "<div>\n",
       "<style scoped>\n",
       "    .dataframe tbody tr th:only-of-type {\n",
       "        vertical-align: middle;\n",
       "    }\n",
       "\n",
       "    .dataframe tbody tr th {\n",
       "        vertical-align: top;\n",
       "    }\n",
       "\n",
       "    .dataframe thead tr th {\n",
       "        text-align: left;\n",
       "    }\n",
       "\n",
       "    .dataframe thead tr:last-of-type th {\n",
       "        text-align: right;\n",
       "    }\n",
       "</style>\n",
       "<table border=\"1\" class=\"dataframe\">\n",
       "  <thead>\n",
       "    <tr>\n",
       "      <th></th>\n",
       "      <th></th>\n",
       "      <th></th>\n",
       "      <th>mean</th>\n",
       "      <th>median</th>\n",
       "    </tr>\n",
       "    <tr>\n",
       "      <th></th>\n",
       "      <th></th>\n",
       "      <th></th>\n",
       "      <th>Age</th>\n",
       "      <th>Age</th>\n",
       "    </tr>\n",
       "    <tr>\n",
       "      <th>HomePlanet</th>\n",
       "      <th>FoodCourt</th>\n",
       "      <th>ShoppingMall</th>\n",
       "      <th></th>\n",
       "      <th></th>\n",
       "    </tr>\n",
       "  </thead>\n",
       "  <tbody>\n",
       "    <tr>\n",
       "      <th rowspan=\"5\" valign=\"top\">Earth</th>\n",
       "      <th rowspan=\"5\" valign=\"top\">0.0</th>\n",
       "      <th>0.0</th>\n",
       "      <td>22.551456</td>\n",
       "      <td>21.0</td>\n",
       "    </tr>\n",
       "    <tr>\n",
       "      <th>1.0</th>\n",
       "      <td>21.928571</td>\n",
       "      <td>22.5</td>\n",
       "    </tr>\n",
       "    <tr>\n",
       "      <th>2.0</th>\n",
       "      <td>30.666667</td>\n",
       "      <td>28.0</td>\n",
       "    </tr>\n",
       "    <tr>\n",
       "      <th>3.0</th>\n",
       "      <td>29.727273</td>\n",
       "      <td>25.0</td>\n",
       "    </tr>\n",
       "    <tr>\n",
       "      <th>4.0</th>\n",
       "      <td>36.600000</td>\n",
       "      <td>44.0</td>\n",
       "    </tr>\n",
       "    <tr>\n",
       "      <th>...</th>\n",
       "      <th>...</th>\n",
       "      <th>...</th>\n",
       "      <td>...</td>\n",
       "      <td>...</td>\n",
       "    </tr>\n",
       "    <tr>\n",
       "      <th rowspan=\"5\" valign=\"top\">Mars</th>\n",
       "      <th>1347.0</th>\n",
       "      <th>197.0</th>\n",
       "      <td>38.000000</td>\n",
       "      <td>38.0</td>\n",
       "    </tr>\n",
       "    <tr>\n",
       "      <th>1439.0</th>\n",
       "      <th>528.0</th>\n",
       "      <td>43.000000</td>\n",
       "      <td>43.0</td>\n",
       "    </tr>\n",
       "    <tr>\n",
       "      <th>1628.0</th>\n",
       "      <th>1184.0</th>\n",
       "      <td>50.000000</td>\n",
       "      <td>50.0</td>\n",
       "    </tr>\n",
       "    <tr>\n",
       "      <th>1633.0</th>\n",
       "      <th>83.0</th>\n",
       "      <td>20.000000</td>\n",
       "      <td>20.0</td>\n",
       "    </tr>\n",
       "    <tr>\n",
       "      <th>1977.0</th>\n",
       "      <th>188.0</th>\n",
       "      <td>43.000000</td>\n",
       "      <td>43.0</td>\n",
       "    </tr>\n",
       "  </tbody>\n",
       "</table>\n",
       "<p>1801 rows × 2 columns</p>\n",
       "</div>"
      ],
      "text/plain": [
       "                                        mean median\n",
       "                                         Age    Age\n",
       "HomePlanet FoodCourt ShoppingMall                  \n",
       "Earth      0.0       0.0           22.551456   21.0\n",
       "                     1.0           21.928571   22.5\n",
       "                     2.0           30.666667   28.0\n",
       "                     3.0           29.727273   25.0\n",
       "                     4.0           36.600000   44.0\n",
       "...                                      ...    ...\n",
       "Mars       1347.0    197.0         38.000000   38.0\n",
       "           1439.0    528.0         43.000000   43.0\n",
       "           1628.0    1184.0        50.000000   50.0\n",
       "           1633.0    83.0          20.000000   20.0\n",
       "           1977.0    188.0         43.000000   43.0\n",
       "\n",
       "[1801 rows x 2 columns]"
      ]
     },
     "execution_count": 20,
     "metadata": {},
     "output_type": "execute_result"
    }
   ],
   "source": [
    "test.pivot_table(index=['HomePlanet','FoodCourt','ShoppingMall'],values='Age',aggfunc=['mean','median'])"
   ]
  },
  {
   "cell_type": "code",
   "execution_count": 21,
   "id": "1abf6a17",
   "metadata": {
    "execution": {
     "iopub.execute_input": "2023-01-09T03:41:45.254851Z",
     "iopub.status.busy": "2023-01-09T03:41:45.254422Z",
     "iopub.status.idle": "2023-01-09T03:41:45.265072Z",
     "shell.execute_reply": "2023-01-09T03:41:45.264068Z"
    },
    "papermill": {
     "duration": 0.032042,
     "end_time": "2023-01-09T03:41:45.267643",
     "exception": false,
     "start_time": "2023-01-09T03:41:45.235601",
     "status": "completed"
    },
    "tags": []
   },
   "outputs": [],
   "source": [
    "test['Age']=test['Age'].fillna(test.groupby(['HomePlanet','FoodCourt','ShoppingMall'])['Age'].transform('median'))"
   ]
  },
  {
   "cell_type": "code",
   "execution_count": 22,
   "id": "bf5d4761",
   "metadata": {
    "execution": {
     "iopub.execute_input": "2023-01-09T03:41:45.305841Z",
     "iopub.status.busy": "2023-01-09T03:41:45.305129Z",
     "iopub.status.idle": "2023-01-09T03:41:45.310945Z",
     "shell.execute_reply": "2023-01-09T03:41:45.310079Z"
    },
    "papermill": {
     "duration": 0.028581,
     "end_time": "2023-01-09T03:41:45.313429",
     "exception": false,
     "start_time": "2023-01-09T03:41:45.284848",
     "status": "completed"
    },
    "tags": []
   },
   "outputs": [],
   "source": [
    "test['Age']=test['Age'].fillna(29)"
   ]
  },
  {
   "cell_type": "code",
   "execution_count": 23,
   "id": "0ef966a1",
   "metadata": {
    "execution": {
     "iopub.execute_input": "2023-01-09T03:41:45.350863Z",
     "iopub.status.busy": "2023-01-09T03:41:45.350198Z",
     "iopub.status.idle": "2023-01-09T03:41:45.359363Z",
     "shell.execute_reply": "2023-01-09T03:41:45.357971Z"
    },
    "papermill": {
     "duration": 0.031181,
     "end_time": "2023-01-09T03:41:45.362650",
     "exception": false,
     "start_time": "2023-01-09T03:41:45.331469",
     "status": "completed"
    },
    "tags": []
   },
   "outputs": [
    {
     "data": {
      "text/plain": [
       "0.023439340400471142"
      ]
     },
     "execution_count": 23,
     "metadata": {},
     "output_type": "execute_result"
    }
   ],
   "source": [
    "train['VIP']=1*(train['VIP'])\n",
    "train['VIP'].mean()"
   ]
  },
  {
   "cell_type": "code",
   "execution_count": 24,
   "id": "68b0318d",
   "metadata": {
    "execution": {
     "iopub.execute_input": "2023-01-09T03:41:45.401131Z",
     "iopub.status.busy": "2023-01-09T03:41:45.400697Z",
     "iopub.status.idle": "2023-01-09T03:41:45.410934Z",
     "shell.execute_reply": "2023-01-09T03:41:45.409734Z"
    },
    "papermill": {
     "duration": 0.033281,
     "end_time": "2023-01-09T03:41:45.413666",
     "exception": false,
     "start_time": "2023-01-09T03:41:45.380385",
     "status": "completed"
    },
    "tags": []
   },
   "outputs": [],
   "source": [
    "train['VIP']=train['VIP'].fillna(0)"
   ]
  },
  {
   "cell_type": "code",
   "execution_count": 25,
   "id": "8709742a",
   "metadata": {
    "execution": {
     "iopub.execute_input": "2023-01-09T03:41:45.451324Z",
     "iopub.status.busy": "2023-01-09T03:41:45.450408Z",
     "iopub.status.idle": "2023-01-09T03:41:45.459733Z",
     "shell.execute_reply": "2023-01-09T03:41:45.458563Z"
    },
    "papermill": {
     "duration": 0.031632,
     "end_time": "2023-01-09T03:41:45.462745",
     "exception": false,
     "start_time": "2023-01-09T03:41:45.431113",
     "status": "completed"
    },
    "tags": []
   },
   "outputs": [
    {
     "data": {
      "text/plain": [
       "0.01768642447418738"
      ]
     },
     "execution_count": 25,
     "metadata": {},
     "output_type": "execute_result"
    }
   ],
   "source": [
    "test['VIP']=1*(test['VIP'])\n",
    "test['VIP'].mean()"
   ]
  },
  {
   "cell_type": "code",
   "execution_count": 26,
   "id": "9ed08283",
   "metadata": {
    "execution": {
     "iopub.execute_input": "2023-01-09T03:41:45.500792Z",
     "iopub.status.busy": "2023-01-09T03:41:45.500330Z",
     "iopub.status.idle": "2023-01-09T03:41:45.508756Z",
     "shell.execute_reply": "2023-01-09T03:41:45.507591Z"
    },
    "papermill": {
     "duration": 0.030482,
     "end_time": "2023-01-09T03:41:45.511422",
     "exception": false,
     "start_time": "2023-01-09T03:41:45.480940",
     "status": "completed"
    },
    "tags": []
   },
   "outputs": [],
   "source": [
    "test['VIP']=test['VIP'].fillna(0)"
   ]
  },
  {
   "cell_type": "code",
   "execution_count": 27,
   "id": "9cd36939",
   "metadata": {
    "execution": {
     "iopub.execute_input": "2023-01-09T03:41:45.549929Z",
     "iopub.status.busy": "2023-01-09T03:41:45.549140Z",
     "iopub.status.idle": "2023-01-09T03:41:45.557401Z",
     "shell.execute_reply": "2023-01-09T03:41:45.556106Z"
    },
    "papermill": {
     "duration": 0.030885,
     "end_time": "2023-01-09T03:41:45.560117",
     "exception": false,
     "start_time": "2023-01-09T03:41:45.529232",
     "status": "completed"
    },
    "tags": []
   },
   "outputs": [
    {
     "data": {
      "text/plain": [
       "224.687617481203"
      ]
     },
     "execution_count": 27,
     "metadata": {},
     "output_type": "execute_result"
    }
   ],
   "source": [
    "train['RoomService'].mean()"
   ]
  },
  {
   "cell_type": "code",
   "execution_count": 28,
   "id": "55ac7417",
   "metadata": {
    "execution": {
     "iopub.execute_input": "2023-01-09T03:41:45.599434Z",
     "iopub.status.busy": "2023-01-09T03:41:45.599053Z",
     "iopub.status.idle": "2023-01-09T03:41:45.647030Z",
     "shell.execute_reply": "2023-01-09T03:41:45.645803Z"
    },
    "papermill": {
     "duration": 0.071734,
     "end_time": "2023-01-09T03:41:45.649564",
     "exception": false,
     "start_time": "2023-01-09T03:41:45.577830",
     "status": "completed"
    },
    "tags": []
   },
   "outputs": [
    {
     "data": {
      "text/html": [
       "<div>\n",
       "<style scoped>\n",
       "    .dataframe tbody tr th:only-of-type {\n",
       "        vertical-align: middle;\n",
       "    }\n",
       "\n",
       "    .dataframe tbody tr th {\n",
       "        vertical-align: top;\n",
       "    }\n",
       "\n",
       "    .dataframe thead tr th {\n",
       "        text-align: left;\n",
       "    }\n",
       "\n",
       "    .dataframe thead tr:last-of-type th {\n",
       "        text-align: right;\n",
       "    }\n",
       "</style>\n",
       "<table border=\"1\" class=\"dataframe\">\n",
       "  <thead>\n",
       "    <tr>\n",
       "      <th></th>\n",
       "      <th></th>\n",
       "      <th></th>\n",
       "      <th></th>\n",
       "      <th>mean</th>\n",
       "      <th>median</th>\n",
       "    </tr>\n",
       "    <tr>\n",
       "      <th></th>\n",
       "      <th></th>\n",
       "      <th></th>\n",
       "      <th></th>\n",
       "      <th>RoomService</th>\n",
       "      <th>RoomService</th>\n",
       "    </tr>\n",
       "    <tr>\n",
       "      <th>HomePlanet</th>\n",
       "      <th>Age</th>\n",
       "      <th>CryoSleep</th>\n",
       "      <th>Destination</th>\n",
       "      <th></th>\n",
       "      <th></th>\n",
       "    </tr>\n",
       "  </thead>\n",
       "  <tbody>\n",
       "    <tr>\n",
       "      <th rowspan=\"5\" valign=\"top\">Earth</th>\n",
       "      <th rowspan=\"5\" valign=\"top\">0.0</th>\n",
       "      <th rowspan=\"2\" valign=\"top\">0</th>\n",
       "      <th>55 Cancri e</th>\n",
       "      <td>0.0</td>\n",
       "      <td>0.0</td>\n",
       "    </tr>\n",
       "    <tr>\n",
       "      <th>TRAPPIST-1e</th>\n",
       "      <td>0.0</td>\n",
       "      <td>0.0</td>\n",
       "    </tr>\n",
       "    <tr>\n",
       "      <th rowspan=\"3\" valign=\"top\">1</th>\n",
       "      <th>55 Cancri e</th>\n",
       "      <td>0.0</td>\n",
       "      <td>0.0</td>\n",
       "    </tr>\n",
       "    <tr>\n",
       "      <th>PSO J318.5-22</th>\n",
       "      <td>0.0</td>\n",
       "      <td>0.0</td>\n",
       "    </tr>\n",
       "    <tr>\n",
       "      <th>TRAPPIST-1e</th>\n",
       "      <td>0.0</td>\n",
       "      <td>0.0</td>\n",
       "    </tr>\n",
       "    <tr>\n",
       "      <th>...</th>\n",
       "      <th>...</th>\n",
       "      <th>...</th>\n",
       "      <th>...</th>\n",
       "      <td>...</td>\n",
       "      <td>...</td>\n",
       "    </tr>\n",
       "    <tr>\n",
       "      <th rowspan=\"5\" valign=\"top\">Mars</th>\n",
       "      <th rowspan=\"2\" valign=\"top\">71.0</th>\n",
       "      <th>0</th>\n",
       "      <th>TRAPPIST-1e</th>\n",
       "      <td>1072.0</td>\n",
       "      <td>1072.0</td>\n",
       "    </tr>\n",
       "    <tr>\n",
       "      <th>1</th>\n",
       "      <th>PSO J318.5-22</th>\n",
       "      <td>0.0</td>\n",
       "      <td>0.0</td>\n",
       "    </tr>\n",
       "    <tr>\n",
       "      <th>73.0</th>\n",
       "      <th>0</th>\n",
       "      <th>TRAPPIST-1e</th>\n",
       "      <td>413.0</td>\n",
       "      <td>413.0</td>\n",
       "    </tr>\n",
       "    <tr>\n",
       "      <th>75.0</th>\n",
       "      <th>1</th>\n",
       "      <th>TRAPPIST-1e</th>\n",
       "      <td>0.0</td>\n",
       "      <td>0.0</td>\n",
       "    </tr>\n",
       "    <tr>\n",
       "      <th>76.0</th>\n",
       "      <th>1</th>\n",
       "      <th>TRAPPIST-1e</th>\n",
       "      <td>0.0</td>\n",
       "      <td>0.0</td>\n",
       "    </tr>\n",
       "  </tbody>\n",
       "</table>\n",
       "<p>915 rows × 2 columns</p>\n",
       "</div>"
      ],
      "text/plain": [
       "                                               mean      median\n",
       "                                        RoomService RoomService\n",
       "HomePlanet Age  CryoSleep Destination                          \n",
       "Earth      0.0  0         55 Cancri e           0.0         0.0\n",
       "                          TRAPPIST-1e           0.0         0.0\n",
       "                1         55 Cancri e           0.0         0.0\n",
       "                          PSO J318.5-22         0.0         0.0\n",
       "                          TRAPPIST-1e           0.0         0.0\n",
       "...                                             ...         ...\n",
       "Mars       71.0 0         TRAPPIST-1e        1072.0      1072.0\n",
       "                1         PSO J318.5-22         0.0         0.0\n",
       "           73.0 0         TRAPPIST-1e         413.0       413.0\n",
       "           75.0 1         TRAPPIST-1e           0.0         0.0\n",
       "           76.0 1         TRAPPIST-1e           0.0         0.0\n",
       "\n",
       "[915 rows x 2 columns]"
      ]
     },
     "execution_count": 28,
     "metadata": {},
     "output_type": "execute_result"
    }
   ],
   "source": [
    "train.pivot_table(index=['HomePlanet','Age','CryoSleep','Destination'],values='RoomService',aggfunc=['mean','median'])"
   ]
  },
  {
   "cell_type": "code",
   "execution_count": 29,
   "id": "e4f1b9e1",
   "metadata": {
    "execution": {
     "iopub.execute_input": "2023-01-09T03:41:45.687240Z",
     "iopub.status.busy": "2023-01-09T03:41:45.686474Z",
     "iopub.status.idle": "2023-01-09T03:41:45.697219Z",
     "shell.execute_reply": "2023-01-09T03:41:45.696059Z"
    },
    "papermill": {
     "duration": 0.032203,
     "end_time": "2023-01-09T03:41:45.699676",
     "exception": false,
     "start_time": "2023-01-09T03:41:45.667473",
     "status": "completed"
    },
    "tags": []
   },
   "outputs": [],
   "source": [
    "train['RoomService']=train['RoomService'].fillna(train.groupby(['HomePlanet','Age','CryoSleep','Destination'])['RoomService'].transform('median'))"
   ]
  },
  {
   "cell_type": "code",
   "execution_count": 30,
   "id": "53eac4f3",
   "metadata": {
    "execution": {
     "iopub.execute_input": "2023-01-09T03:41:45.736789Z",
     "iopub.status.busy": "2023-01-09T03:41:45.735544Z",
     "iopub.status.idle": "2023-01-09T03:41:45.741890Z",
     "shell.execute_reply": "2023-01-09T03:41:45.740655Z"
    },
    "papermill": {
     "duration": 0.027385,
     "end_time": "2023-01-09T03:41:45.744320",
     "exception": false,
     "start_time": "2023-01-09T03:41:45.716935",
     "status": "completed"
    },
    "tags": []
   },
   "outputs": [],
   "source": [
    "train['RoomService']=train['RoomService'].fillna(225)"
   ]
  },
  {
   "cell_type": "code",
   "execution_count": 31,
   "id": "9208e3dc",
   "metadata": {
    "execution": {
     "iopub.execute_input": "2023-01-09T03:41:45.781372Z",
     "iopub.status.busy": "2023-01-09T03:41:45.780943Z",
     "iopub.status.idle": "2023-01-09T03:41:45.790245Z",
     "shell.execute_reply": "2023-01-09T03:41:45.789109Z"
    },
    "papermill": {
     "duration": 0.030654,
     "end_time": "2023-01-09T03:41:45.792487",
     "exception": false,
     "start_time": "2023-01-09T03:41:45.761833",
     "status": "completed"
    },
    "tags": []
   },
   "outputs": [
    {
     "data": {
      "text/plain": [
       "219.26626936829558"
      ]
     },
     "execution_count": 31,
     "metadata": {},
     "output_type": "execute_result"
    }
   ],
   "source": [
    "test['RoomService'].mean()"
   ]
  },
  {
   "cell_type": "code",
   "execution_count": 32,
   "id": "2f9287e3",
   "metadata": {
    "execution": {
     "iopub.execute_input": "2023-01-09T03:41:45.829835Z",
     "iopub.status.busy": "2023-01-09T03:41:45.829399Z",
     "iopub.status.idle": "2023-01-09T03:41:45.872841Z",
     "shell.execute_reply": "2023-01-09T03:41:45.871688Z"
    },
    "papermill": {
     "duration": 0.065298,
     "end_time": "2023-01-09T03:41:45.875477",
     "exception": false,
     "start_time": "2023-01-09T03:41:45.810179",
     "status": "completed"
    },
    "tags": []
   },
   "outputs": [
    {
     "data": {
      "text/html": [
       "<div>\n",
       "<style scoped>\n",
       "    .dataframe tbody tr th:only-of-type {\n",
       "        vertical-align: middle;\n",
       "    }\n",
       "\n",
       "    .dataframe tbody tr th {\n",
       "        vertical-align: top;\n",
       "    }\n",
       "\n",
       "    .dataframe thead tr th {\n",
       "        text-align: left;\n",
       "    }\n",
       "\n",
       "    .dataframe thead tr:last-of-type th {\n",
       "        text-align: right;\n",
       "    }\n",
       "</style>\n",
       "<table border=\"1\" class=\"dataframe\">\n",
       "  <thead>\n",
       "    <tr>\n",
       "      <th></th>\n",
       "      <th></th>\n",
       "      <th></th>\n",
       "      <th></th>\n",
       "      <th>mean</th>\n",
       "      <th>median</th>\n",
       "    </tr>\n",
       "    <tr>\n",
       "      <th></th>\n",
       "      <th></th>\n",
       "      <th></th>\n",
       "      <th></th>\n",
       "      <th>RoomService</th>\n",
       "      <th>RoomService</th>\n",
       "    </tr>\n",
       "    <tr>\n",
       "      <th>HomePlanet</th>\n",
       "      <th>Age</th>\n",
       "      <th>CryoSleep</th>\n",
       "      <th>Destination</th>\n",
       "      <th></th>\n",
       "      <th></th>\n",
       "    </tr>\n",
       "  </thead>\n",
       "  <tbody>\n",
       "    <tr>\n",
       "      <th rowspan=\"5\" valign=\"top\">Earth</th>\n",
       "      <th rowspan=\"5\" valign=\"top\">0.0</th>\n",
       "      <th rowspan=\"3\" valign=\"top\">False</th>\n",
       "      <th>55 Cancri e</th>\n",
       "      <td>0.0</td>\n",
       "      <td>0.0</td>\n",
       "    </tr>\n",
       "    <tr>\n",
       "      <th>PSO J318.5-22</th>\n",
       "      <td>0.0</td>\n",
       "      <td>0.0</td>\n",
       "    </tr>\n",
       "    <tr>\n",
       "      <th>TRAPPIST-1e</th>\n",
       "      <td>0.0</td>\n",
       "      <td>0.0</td>\n",
       "    </tr>\n",
       "    <tr>\n",
       "      <th rowspan=\"2\" valign=\"top\">True</th>\n",
       "      <th>55 Cancri e</th>\n",
       "      <td>0.0</td>\n",
       "      <td>0.0</td>\n",
       "    </tr>\n",
       "    <tr>\n",
       "      <th>PSO J318.5-22</th>\n",
       "      <td>0.0</td>\n",
       "      <td>0.0</td>\n",
       "    </tr>\n",
       "    <tr>\n",
       "      <th>...</th>\n",
       "      <th>...</th>\n",
       "      <th>...</th>\n",
       "      <th>...</th>\n",
       "      <td>...</td>\n",
       "      <td>...</td>\n",
       "    </tr>\n",
       "    <tr>\n",
       "      <th rowspan=\"5\" valign=\"top\">Mars</th>\n",
       "      <th>70.0</th>\n",
       "      <th>True</th>\n",
       "      <th>TRAPPIST-1e</th>\n",
       "      <td>0.0</td>\n",
       "      <td>0.0</td>\n",
       "    </tr>\n",
       "    <tr>\n",
       "      <th>71.0</th>\n",
       "      <th>True</th>\n",
       "      <th>TRAPPIST-1e</th>\n",
       "      <td>0.0</td>\n",
       "      <td>0.0</td>\n",
       "    </tr>\n",
       "    <tr>\n",
       "      <th>72.0</th>\n",
       "      <th>False</th>\n",
       "      <th>TRAPPIST-1e</th>\n",
       "      <td>2596.0</td>\n",
       "      <td>2596.0</td>\n",
       "    </tr>\n",
       "    <tr>\n",
       "      <th>73.0</th>\n",
       "      <th>False</th>\n",
       "      <th>TRAPPIST-1e</th>\n",
       "      <td>1263.5</td>\n",
       "      <td>1263.5</td>\n",
       "    </tr>\n",
       "    <tr>\n",
       "      <th>75.0</th>\n",
       "      <th>False</th>\n",
       "      <th>TRAPPIST-1e</th>\n",
       "      <td>940.0</td>\n",
       "      <td>940.0</td>\n",
       "    </tr>\n",
       "  </tbody>\n",
       "</table>\n",
       "<p>765 rows × 2 columns</p>\n",
       "</div>"
      ],
      "text/plain": [
       "                                               mean      median\n",
       "                                        RoomService RoomService\n",
       "HomePlanet Age  CryoSleep Destination                          \n",
       "Earth      0.0  False     55 Cancri e           0.0         0.0\n",
       "                          PSO J318.5-22         0.0         0.0\n",
       "                          TRAPPIST-1e           0.0         0.0\n",
       "                True      55 Cancri e           0.0         0.0\n",
       "                          PSO J318.5-22         0.0         0.0\n",
       "...                                             ...         ...\n",
       "Mars       70.0 True      TRAPPIST-1e           0.0         0.0\n",
       "           71.0 True      TRAPPIST-1e           0.0         0.0\n",
       "           72.0 False     TRAPPIST-1e        2596.0      2596.0\n",
       "           73.0 False     TRAPPIST-1e        1263.5      1263.5\n",
       "           75.0 False     TRAPPIST-1e         940.0       940.0\n",
       "\n",
       "[765 rows x 2 columns]"
      ]
     },
     "execution_count": 32,
     "metadata": {},
     "output_type": "execute_result"
    }
   ],
   "source": [
    "test.pivot_table(index=['HomePlanet','Age','CryoSleep','Destination'],values='RoomService',aggfunc=['mean','median'])"
   ]
  },
  {
   "cell_type": "code",
   "execution_count": 33,
   "id": "3125af72",
   "metadata": {
    "execution": {
     "iopub.execute_input": "2023-01-09T03:41:45.913720Z",
     "iopub.status.busy": "2023-01-09T03:41:45.913304Z",
     "iopub.status.idle": "2023-01-09T03:41:45.923728Z",
     "shell.execute_reply": "2023-01-09T03:41:45.922640Z"
    },
    "papermill": {
     "duration": 0.032497,
     "end_time": "2023-01-09T03:41:45.926213",
     "exception": false,
     "start_time": "2023-01-09T03:41:45.893716",
     "status": "completed"
    },
    "tags": []
   },
   "outputs": [],
   "source": [
    "test['RoomService']=test['RoomService'].fillna(test.groupby(['HomePlanet','Age','CryoSleep','Destination'])['RoomService'].transform('median'))"
   ]
  },
  {
   "cell_type": "code",
   "execution_count": 34,
   "id": "397f0748",
   "metadata": {
    "execution": {
     "iopub.execute_input": "2023-01-09T03:41:45.964398Z",
     "iopub.status.busy": "2023-01-09T03:41:45.963994Z",
     "iopub.status.idle": "2023-01-09T03:41:45.969642Z",
     "shell.execute_reply": "2023-01-09T03:41:45.968738Z"
    },
    "papermill": {
     "duration": 0.027124,
     "end_time": "2023-01-09T03:41:45.971626",
     "exception": false,
     "start_time": "2023-01-09T03:41:45.944502",
     "status": "completed"
    },
    "tags": []
   },
   "outputs": [],
   "source": [
    "test['RoomService']=test['RoomService'].fillna(219)"
   ]
  },
  {
   "cell_type": "code",
   "execution_count": 35,
   "id": "795d5784",
   "metadata": {
    "execution": {
     "iopub.execute_input": "2023-01-09T03:41:46.009360Z",
     "iopub.status.busy": "2023-01-09T03:41:46.008981Z",
     "iopub.status.idle": "2023-01-09T03:41:46.017212Z",
     "shell.execute_reply": "2023-01-09T03:41:46.015936Z"
    },
    "papermill": {
     "duration": 0.029811,
     "end_time": "2023-01-09T03:41:46.019536",
     "exception": false,
     "start_time": "2023-01-09T03:41:45.989725",
     "status": "completed"
    },
    "tags": []
   },
   "outputs": [
    {
     "data": {
      "text/plain": [
       "458.07720329024676"
      ]
     },
     "execution_count": 35,
     "metadata": {},
     "output_type": "execute_result"
    }
   ],
   "source": [
    "train['FoodCourt'].mean()"
   ]
  },
  {
   "cell_type": "code",
   "execution_count": 36,
   "id": "f93d15cd",
   "metadata": {
    "execution": {
     "iopub.execute_input": "2023-01-09T03:41:46.057474Z",
     "iopub.status.busy": "2023-01-09T03:41:46.057057Z",
     "iopub.status.idle": "2023-01-09T03:41:46.100352Z",
     "shell.execute_reply": "2023-01-09T03:41:46.099357Z"
    },
    "papermill": {
     "duration": 0.065491,
     "end_time": "2023-01-09T03:41:46.103125",
     "exception": false,
     "start_time": "2023-01-09T03:41:46.037634",
     "status": "completed"
    },
    "tags": []
   },
   "outputs": [
    {
     "data": {
      "text/html": [
       "<div>\n",
       "<style scoped>\n",
       "    .dataframe tbody tr th:only-of-type {\n",
       "        vertical-align: middle;\n",
       "    }\n",
       "\n",
       "    .dataframe tbody tr th {\n",
       "        vertical-align: top;\n",
       "    }\n",
       "\n",
       "    .dataframe thead tr th {\n",
       "        text-align: left;\n",
       "    }\n",
       "\n",
       "    .dataframe thead tr:last-of-type th {\n",
       "        text-align: right;\n",
       "    }\n",
       "</style>\n",
       "<table border=\"1\" class=\"dataframe\">\n",
       "  <thead>\n",
       "    <tr>\n",
       "      <th></th>\n",
       "      <th></th>\n",
       "      <th></th>\n",
       "      <th></th>\n",
       "      <th>mean</th>\n",
       "      <th>median</th>\n",
       "    </tr>\n",
       "    <tr>\n",
       "      <th></th>\n",
       "      <th></th>\n",
       "      <th></th>\n",
       "      <th></th>\n",
       "      <th>FoodCourt</th>\n",
       "      <th>FoodCourt</th>\n",
       "    </tr>\n",
       "    <tr>\n",
       "      <th>HomePlanet</th>\n",
       "      <th>Age</th>\n",
       "      <th>CryoSleep</th>\n",
       "      <th>Destination</th>\n",
       "      <th></th>\n",
       "      <th></th>\n",
       "    </tr>\n",
       "  </thead>\n",
       "  <tbody>\n",
       "    <tr>\n",
       "      <th rowspan=\"5\" valign=\"top\">Earth</th>\n",
       "      <th rowspan=\"5\" valign=\"top\">0.0</th>\n",
       "      <th rowspan=\"2\" valign=\"top\">0</th>\n",
       "      <th>55 Cancri e</th>\n",
       "      <td>0.0</td>\n",
       "      <td>0.0</td>\n",
       "    </tr>\n",
       "    <tr>\n",
       "      <th>TRAPPIST-1e</th>\n",
       "      <td>0.0</td>\n",
       "      <td>0.0</td>\n",
       "    </tr>\n",
       "    <tr>\n",
       "      <th rowspan=\"3\" valign=\"top\">1</th>\n",
       "      <th>55 Cancri e</th>\n",
       "      <td>0.0</td>\n",
       "      <td>0.0</td>\n",
       "    </tr>\n",
       "    <tr>\n",
       "      <th>PSO J318.5-22</th>\n",
       "      <td>0.0</td>\n",
       "      <td>0.0</td>\n",
       "    </tr>\n",
       "    <tr>\n",
       "      <th>TRAPPIST-1e</th>\n",
       "      <td>0.0</td>\n",
       "      <td>0.0</td>\n",
       "    </tr>\n",
       "    <tr>\n",
       "      <th>...</th>\n",
       "      <th>...</th>\n",
       "      <th>...</th>\n",
       "      <th>...</th>\n",
       "      <td>...</td>\n",
       "      <td>...</td>\n",
       "    </tr>\n",
       "    <tr>\n",
       "      <th rowspan=\"5\" valign=\"top\">Mars</th>\n",
       "      <th>71.0</th>\n",
       "      <th>1</th>\n",
       "      <th>PSO J318.5-22</th>\n",
       "      <td>0.0</td>\n",
       "      <td>0.0</td>\n",
       "    </tr>\n",
       "    <tr>\n",
       "      <th>72.0</th>\n",
       "      <th>1</th>\n",
       "      <th>TRAPPIST-1e</th>\n",
       "      <td>0.0</td>\n",
       "      <td>0.0</td>\n",
       "    </tr>\n",
       "    <tr>\n",
       "      <th>73.0</th>\n",
       "      <th>0</th>\n",
       "      <th>TRAPPIST-1e</th>\n",
       "      <td>1.0</td>\n",
       "      <td>1.0</td>\n",
       "    </tr>\n",
       "    <tr>\n",
       "      <th>75.0</th>\n",
       "      <th>1</th>\n",
       "      <th>TRAPPIST-1e</th>\n",
       "      <td>0.0</td>\n",
       "      <td>0.0</td>\n",
       "    </tr>\n",
       "    <tr>\n",
       "      <th>76.0</th>\n",
       "      <th>1</th>\n",
       "      <th>TRAPPIST-1e</th>\n",
       "      <td>0.0</td>\n",
       "      <td>0.0</td>\n",
       "    </tr>\n",
       "  </tbody>\n",
       "</table>\n",
       "<p>916 rows × 2 columns</p>\n",
       "</div>"
      ],
      "text/plain": [
       "                                             mean    median\n",
       "                                        FoodCourt FoodCourt\n",
       "HomePlanet Age  CryoSleep Destination                      \n",
       "Earth      0.0  0         55 Cancri e         0.0       0.0\n",
       "                          TRAPPIST-1e         0.0       0.0\n",
       "                1         55 Cancri e         0.0       0.0\n",
       "                          PSO J318.5-22       0.0       0.0\n",
       "                          TRAPPIST-1e         0.0       0.0\n",
       "...                                           ...       ...\n",
       "Mars       71.0 1         PSO J318.5-22       0.0       0.0\n",
       "           72.0 1         TRAPPIST-1e         0.0       0.0\n",
       "           73.0 0         TRAPPIST-1e         1.0       1.0\n",
       "           75.0 1         TRAPPIST-1e         0.0       0.0\n",
       "           76.0 1         TRAPPIST-1e         0.0       0.0\n",
       "\n",
       "[916 rows x 2 columns]"
      ]
     },
     "execution_count": 36,
     "metadata": {},
     "output_type": "execute_result"
    }
   ],
   "source": [
    "train.pivot_table(index=['HomePlanet','Age','CryoSleep','Destination'],values='FoodCourt',aggfunc=['mean','median'])"
   ]
  },
  {
   "cell_type": "code",
   "execution_count": 37,
   "id": "0f3e1ab2",
   "metadata": {
    "execution": {
     "iopub.execute_input": "2023-01-09T03:41:46.141860Z",
     "iopub.status.busy": "2023-01-09T03:41:46.141009Z",
     "iopub.status.idle": "2023-01-09T03:41:46.151267Z",
     "shell.execute_reply": "2023-01-09T03:41:46.150176Z"
    },
    "papermill": {
     "duration": 0.032106,
     "end_time": "2023-01-09T03:41:46.153645",
     "exception": false,
     "start_time": "2023-01-09T03:41:46.121539",
     "status": "completed"
    },
    "tags": []
   },
   "outputs": [],
   "source": [
    "train['FoodCourt']=train['FoodCourt'].fillna(train.groupby(['HomePlanet','Age','CryoSleep','Destination'])['FoodCourt'].transform('median'))"
   ]
  },
  {
   "cell_type": "code",
   "execution_count": 38,
   "id": "fdaa7b4f",
   "metadata": {
    "execution": {
     "iopub.execute_input": "2023-01-09T03:41:46.191573Z",
     "iopub.status.busy": "2023-01-09T03:41:46.191161Z",
     "iopub.status.idle": "2023-01-09T03:41:46.197613Z",
     "shell.execute_reply": "2023-01-09T03:41:46.196490Z"
    },
    "papermill": {
     "duration": 0.027942,
     "end_time": "2023-01-09T03:41:46.199924",
     "exception": false,
     "start_time": "2023-01-09T03:41:46.171982",
     "status": "completed"
    },
    "tags": []
   },
   "outputs": [],
   "source": [
    "train['FoodCourt']=train['FoodCourt'].fillna(458)"
   ]
  },
  {
   "cell_type": "code",
   "execution_count": 39,
   "id": "37a96a86",
   "metadata": {
    "execution": {
     "iopub.execute_input": "2023-01-09T03:41:46.238233Z",
     "iopub.status.busy": "2023-01-09T03:41:46.237557Z",
     "iopub.status.idle": "2023-01-09T03:41:46.246280Z",
     "shell.execute_reply": "2023-01-09T03:41:46.245084Z"
    },
    "papermill": {
     "duration": 0.030623,
     "end_time": "2023-01-09T03:41:46.248688",
     "exception": false,
     "start_time": "2023-01-09T03:41:46.218065",
     "status": "completed"
    },
    "tags": []
   },
   "outputs": [
    {
     "data": {
      "text/plain": [
       "439.4842963318149"
      ]
     },
     "execution_count": 39,
     "metadata": {},
     "output_type": "execute_result"
    }
   ],
   "source": [
    "test['FoodCourt'].mean()"
   ]
  },
  {
   "cell_type": "code",
   "execution_count": 40,
   "id": "877341cd",
   "metadata": {
    "execution": {
     "iopub.execute_input": "2023-01-09T03:41:46.287449Z",
     "iopub.status.busy": "2023-01-09T03:41:46.286385Z",
     "iopub.status.idle": "2023-01-09T03:41:46.326526Z",
     "shell.execute_reply": "2023-01-09T03:41:46.325344Z"
    },
    "papermill": {
     "duration": 0.062159,
     "end_time": "2023-01-09T03:41:46.329125",
     "exception": false,
     "start_time": "2023-01-09T03:41:46.266966",
     "status": "completed"
    },
    "tags": []
   },
   "outputs": [
    {
     "data": {
      "text/html": [
       "<div>\n",
       "<style scoped>\n",
       "    .dataframe tbody tr th:only-of-type {\n",
       "        vertical-align: middle;\n",
       "    }\n",
       "\n",
       "    .dataframe tbody tr th {\n",
       "        vertical-align: top;\n",
       "    }\n",
       "\n",
       "    .dataframe thead tr th {\n",
       "        text-align: left;\n",
       "    }\n",
       "\n",
       "    .dataframe thead tr:last-of-type th {\n",
       "        text-align: right;\n",
       "    }\n",
       "</style>\n",
       "<table border=\"1\" class=\"dataframe\">\n",
       "  <thead>\n",
       "    <tr>\n",
       "      <th></th>\n",
       "      <th></th>\n",
       "      <th></th>\n",
       "      <th></th>\n",
       "      <th>mean</th>\n",
       "      <th>median</th>\n",
       "    </tr>\n",
       "    <tr>\n",
       "      <th></th>\n",
       "      <th></th>\n",
       "      <th></th>\n",
       "      <th></th>\n",
       "      <th>FoodCourt</th>\n",
       "      <th>FoodCourt</th>\n",
       "    </tr>\n",
       "    <tr>\n",
       "      <th>HomePlanet</th>\n",
       "      <th>Age</th>\n",
       "      <th>CryoSleep</th>\n",
       "      <th>Destination</th>\n",
       "      <th></th>\n",
       "      <th></th>\n",
       "    </tr>\n",
       "  </thead>\n",
       "  <tbody>\n",
       "    <tr>\n",
       "      <th rowspan=\"5\" valign=\"top\">Earth</th>\n",
       "      <th rowspan=\"5\" valign=\"top\">0.0</th>\n",
       "      <th rowspan=\"3\" valign=\"top\">False</th>\n",
       "      <th>55 Cancri e</th>\n",
       "      <td>0.0</td>\n",
       "      <td>0.0</td>\n",
       "    </tr>\n",
       "    <tr>\n",
       "      <th>PSO J318.5-22</th>\n",
       "      <td>0.0</td>\n",
       "      <td>0.0</td>\n",
       "    </tr>\n",
       "    <tr>\n",
       "      <th>TRAPPIST-1e</th>\n",
       "      <td>0.0</td>\n",
       "      <td>0.0</td>\n",
       "    </tr>\n",
       "    <tr>\n",
       "      <th rowspan=\"2\" valign=\"top\">True</th>\n",
       "      <th>55 Cancri e</th>\n",
       "      <td>0.0</td>\n",
       "      <td>0.0</td>\n",
       "    </tr>\n",
       "    <tr>\n",
       "      <th>PSO J318.5-22</th>\n",
       "      <td>0.0</td>\n",
       "      <td>0.0</td>\n",
       "    </tr>\n",
       "    <tr>\n",
       "      <th>...</th>\n",
       "      <th>...</th>\n",
       "      <th>...</th>\n",
       "      <th>...</th>\n",
       "      <td>...</td>\n",
       "      <td>...</td>\n",
       "    </tr>\n",
       "    <tr>\n",
       "      <th rowspan=\"5\" valign=\"top\">Mars</th>\n",
       "      <th>70.0</th>\n",
       "      <th>True</th>\n",
       "      <th>TRAPPIST-1e</th>\n",
       "      <td>0.0</td>\n",
       "      <td>0.0</td>\n",
       "    </tr>\n",
       "    <tr>\n",
       "      <th>71.0</th>\n",
       "      <th>True</th>\n",
       "      <th>TRAPPIST-1e</th>\n",
       "      <td>0.0</td>\n",
       "      <td>0.0</td>\n",
       "    </tr>\n",
       "    <tr>\n",
       "      <th>72.0</th>\n",
       "      <th>False</th>\n",
       "      <th>TRAPPIST-1e</th>\n",
       "      <td>0.0</td>\n",
       "      <td>0.0</td>\n",
       "    </tr>\n",
       "    <tr>\n",
       "      <th>73.0</th>\n",
       "      <th>False</th>\n",
       "      <th>TRAPPIST-1e</th>\n",
       "      <td>42.5</td>\n",
       "      <td>42.5</td>\n",
       "    </tr>\n",
       "    <tr>\n",
       "      <th>75.0</th>\n",
       "      <th>False</th>\n",
       "      <th>TRAPPIST-1e</th>\n",
       "      <td>0.0</td>\n",
       "      <td>0.0</td>\n",
       "    </tr>\n",
       "  </tbody>\n",
       "</table>\n",
       "<p>765 rows × 2 columns</p>\n",
       "</div>"
      ],
      "text/plain": [
       "                                             mean    median\n",
       "                                        FoodCourt FoodCourt\n",
       "HomePlanet Age  CryoSleep Destination                      \n",
       "Earth      0.0  False     55 Cancri e         0.0       0.0\n",
       "                          PSO J318.5-22       0.0       0.0\n",
       "                          TRAPPIST-1e         0.0       0.0\n",
       "                True      55 Cancri e         0.0       0.0\n",
       "                          PSO J318.5-22       0.0       0.0\n",
       "...                                           ...       ...\n",
       "Mars       70.0 True      TRAPPIST-1e         0.0       0.0\n",
       "           71.0 True      TRAPPIST-1e         0.0       0.0\n",
       "           72.0 False     TRAPPIST-1e         0.0       0.0\n",
       "           73.0 False     TRAPPIST-1e        42.5      42.5\n",
       "           75.0 False     TRAPPIST-1e         0.0       0.0\n",
       "\n",
       "[765 rows x 2 columns]"
      ]
     },
     "execution_count": 40,
     "metadata": {},
     "output_type": "execute_result"
    }
   ],
   "source": [
    "test.pivot_table(index=['HomePlanet','Age','CryoSleep','Destination'],values='FoodCourt',aggfunc=['mean','median'])"
   ]
  },
  {
   "cell_type": "code",
   "execution_count": 41,
   "id": "b89c1852",
   "metadata": {
    "execution": {
     "iopub.execute_input": "2023-01-09T03:41:46.367835Z",
     "iopub.status.busy": "2023-01-09T03:41:46.367391Z",
     "iopub.status.idle": "2023-01-09T03:41:46.378609Z",
     "shell.execute_reply": "2023-01-09T03:41:46.377466Z"
    },
    "papermill": {
     "duration": 0.033222,
     "end_time": "2023-01-09T03:41:46.381048",
     "exception": false,
     "start_time": "2023-01-09T03:41:46.347826",
     "status": "completed"
    },
    "tags": []
   },
   "outputs": [],
   "source": [
    "test['FoodCourt']=test['FoodCourt'].fillna(test.groupby(['HomePlanet','Age','CryoSleep','Destination'])['FoodCourt'].transform('median'))"
   ]
  },
  {
   "cell_type": "code",
   "execution_count": 42,
   "id": "ed9c02e2",
   "metadata": {
    "execution": {
     "iopub.execute_input": "2023-01-09T03:41:46.434743Z",
     "iopub.status.busy": "2023-01-09T03:41:46.433000Z",
     "iopub.status.idle": "2023-01-09T03:41:46.440334Z",
     "shell.execute_reply": "2023-01-09T03:41:46.439416Z"
    },
    "papermill": {
     "duration": 0.039176,
     "end_time": "2023-01-09T03:41:46.443178",
     "exception": false,
     "start_time": "2023-01-09T03:41:46.404002",
     "status": "completed"
    },
    "tags": []
   },
   "outputs": [],
   "source": [
    "test['FoodCourt']=test['FoodCourt'].fillna(439)"
   ]
  },
  {
   "cell_type": "code",
   "execution_count": 43,
   "id": "234a6c06",
   "metadata": {
    "execution": {
     "iopub.execute_input": "2023-01-09T03:41:46.497015Z",
     "iopub.status.busy": "2023-01-09T03:41:46.495891Z",
     "iopub.status.idle": "2023-01-09T03:41:46.508112Z",
     "shell.execute_reply": "2023-01-09T03:41:46.506671Z"
    },
    "papermill": {
     "duration": 0.04058,
     "end_time": "2023-01-09T03:41:46.511024",
     "exception": false,
     "start_time": "2023-01-09T03:41:46.470444",
     "status": "completed"
    },
    "tags": []
   },
   "outputs": [
    {
     "data": {
      "text/plain": [
       "173.72916912197996"
      ]
     },
     "execution_count": 43,
     "metadata": {},
     "output_type": "execute_result"
    }
   ],
   "source": [
    "train['ShoppingMall'].mean()"
   ]
  },
  {
   "cell_type": "code",
   "execution_count": 44,
   "id": "f1abd288",
   "metadata": {
    "execution": {
     "iopub.execute_input": "2023-01-09T03:41:46.554684Z",
     "iopub.status.busy": "2023-01-09T03:41:46.554235Z",
     "iopub.status.idle": "2023-01-09T03:41:46.602550Z",
     "shell.execute_reply": "2023-01-09T03:41:46.601251Z"
    },
    "papermill": {
     "duration": 0.073293,
     "end_time": "2023-01-09T03:41:46.605263",
     "exception": false,
     "start_time": "2023-01-09T03:41:46.531970",
     "status": "completed"
    },
    "tags": []
   },
   "outputs": [
    {
     "data": {
      "text/html": [
       "<div>\n",
       "<style scoped>\n",
       "    .dataframe tbody tr th:only-of-type {\n",
       "        vertical-align: middle;\n",
       "    }\n",
       "\n",
       "    .dataframe tbody tr th {\n",
       "        vertical-align: top;\n",
       "    }\n",
       "\n",
       "    .dataframe thead tr th {\n",
       "        text-align: left;\n",
       "    }\n",
       "\n",
       "    .dataframe thead tr:last-of-type th {\n",
       "        text-align: right;\n",
       "    }\n",
       "</style>\n",
       "<table border=\"1\" class=\"dataframe\">\n",
       "  <thead>\n",
       "    <tr>\n",
       "      <th></th>\n",
       "      <th></th>\n",
       "      <th></th>\n",
       "      <th></th>\n",
       "      <th>mean</th>\n",
       "      <th>median</th>\n",
       "    </tr>\n",
       "    <tr>\n",
       "      <th></th>\n",
       "      <th></th>\n",
       "      <th></th>\n",
       "      <th></th>\n",
       "      <th>ShoppingMall</th>\n",
       "      <th>ShoppingMall</th>\n",
       "    </tr>\n",
       "    <tr>\n",
       "      <th>HomePlanet</th>\n",
       "      <th>Age</th>\n",
       "      <th>CryoSleep</th>\n",
       "      <th>Destination</th>\n",
       "      <th></th>\n",
       "      <th></th>\n",
       "    </tr>\n",
       "  </thead>\n",
       "  <tbody>\n",
       "    <tr>\n",
       "      <th rowspan=\"5\" valign=\"top\">Earth</th>\n",
       "      <th rowspan=\"5\" valign=\"top\">0.0</th>\n",
       "      <th rowspan=\"2\" valign=\"top\">0</th>\n",
       "      <th>55 Cancri e</th>\n",
       "      <td>0.0</td>\n",
       "      <td>0.0</td>\n",
       "    </tr>\n",
       "    <tr>\n",
       "      <th>TRAPPIST-1e</th>\n",
       "      <td>0.0</td>\n",
       "      <td>0.0</td>\n",
       "    </tr>\n",
       "    <tr>\n",
       "      <th rowspan=\"3\" valign=\"top\">1</th>\n",
       "      <th>55 Cancri e</th>\n",
       "      <td>0.0</td>\n",
       "      <td>0.0</td>\n",
       "    </tr>\n",
       "    <tr>\n",
       "      <th>PSO J318.5-22</th>\n",
       "      <td>0.0</td>\n",
       "      <td>0.0</td>\n",
       "    </tr>\n",
       "    <tr>\n",
       "      <th>TRAPPIST-1e</th>\n",
       "      <td>0.0</td>\n",
       "      <td>0.0</td>\n",
       "    </tr>\n",
       "    <tr>\n",
       "      <th>...</th>\n",
       "      <th>...</th>\n",
       "      <th>...</th>\n",
       "      <th>...</th>\n",
       "      <td>...</td>\n",
       "      <td>...</td>\n",
       "    </tr>\n",
       "    <tr>\n",
       "      <th rowspan=\"5\" valign=\"top\">Mars</th>\n",
       "      <th>71.0</th>\n",
       "      <th>1</th>\n",
       "      <th>PSO J318.5-22</th>\n",
       "      <td>0.0</td>\n",
       "      <td>0.0</td>\n",
       "    </tr>\n",
       "    <tr>\n",
       "      <th>72.0</th>\n",
       "      <th>1</th>\n",
       "      <th>TRAPPIST-1e</th>\n",
       "      <td>0.0</td>\n",
       "      <td>0.0</td>\n",
       "    </tr>\n",
       "    <tr>\n",
       "      <th>73.0</th>\n",
       "      <th>0</th>\n",
       "      <th>TRAPPIST-1e</th>\n",
       "      <td>130.5</td>\n",
       "      <td>130.5</td>\n",
       "    </tr>\n",
       "    <tr>\n",
       "      <th>75.0</th>\n",
       "      <th>1</th>\n",
       "      <th>TRAPPIST-1e</th>\n",
       "      <td>0.0</td>\n",
       "      <td>0.0</td>\n",
       "    </tr>\n",
       "    <tr>\n",
       "      <th>76.0</th>\n",
       "      <th>1</th>\n",
       "      <th>TRAPPIST-1e</th>\n",
       "      <td>0.0</td>\n",
       "      <td>0.0</td>\n",
       "    </tr>\n",
       "  </tbody>\n",
       "</table>\n",
       "<p>919 rows × 2 columns</p>\n",
       "</div>"
      ],
      "text/plain": [
       "                                                mean       median\n",
       "                                        ShoppingMall ShoppingMall\n",
       "HomePlanet Age  CryoSleep Destination                            \n",
       "Earth      0.0  0         55 Cancri e            0.0          0.0\n",
       "                          TRAPPIST-1e            0.0          0.0\n",
       "                1         55 Cancri e            0.0          0.0\n",
       "                          PSO J318.5-22          0.0          0.0\n",
       "                          TRAPPIST-1e            0.0          0.0\n",
       "...                                              ...          ...\n",
       "Mars       71.0 1         PSO J318.5-22          0.0          0.0\n",
       "           72.0 1         TRAPPIST-1e            0.0          0.0\n",
       "           73.0 0         TRAPPIST-1e          130.5        130.5\n",
       "           75.0 1         TRAPPIST-1e            0.0          0.0\n",
       "           76.0 1         TRAPPIST-1e            0.0          0.0\n",
       "\n",
       "[919 rows x 2 columns]"
      ]
     },
     "execution_count": 44,
     "metadata": {},
     "output_type": "execute_result"
    }
   ],
   "source": [
    "train.pivot_table(index=['HomePlanet','Age','CryoSleep','Destination'],values='ShoppingMall',aggfunc=['mean','median'])"
   ]
  },
  {
   "cell_type": "code",
   "execution_count": 45,
   "id": "39999bb5",
   "metadata": {
    "execution": {
     "iopub.execute_input": "2023-01-09T03:41:46.645377Z",
     "iopub.status.busy": "2023-01-09T03:41:46.644558Z",
     "iopub.status.idle": "2023-01-09T03:41:46.656967Z",
     "shell.execute_reply": "2023-01-09T03:41:46.655889Z"
    },
    "papermill": {
     "duration": 0.035117,
     "end_time": "2023-01-09T03:41:46.659421",
     "exception": false,
     "start_time": "2023-01-09T03:41:46.624304",
     "status": "completed"
    },
    "tags": []
   },
   "outputs": [],
   "source": [
    "train['ShoppingMall']=train['ShoppingMall'].fillna(train.groupby(['HomePlanet','Age','CryoSleep','Destination'])['ShoppingMall'].transform('median'))"
   ]
  },
  {
   "cell_type": "code",
   "execution_count": 46,
   "id": "bf13ec2f",
   "metadata": {
    "execution": {
     "iopub.execute_input": "2023-01-09T03:41:46.701231Z",
     "iopub.status.busy": "2023-01-09T03:41:46.700509Z",
     "iopub.status.idle": "2023-01-09T03:41:46.706857Z",
     "shell.execute_reply": "2023-01-09T03:41:46.705644Z"
    },
    "papermill": {
     "duration": 0.028938,
     "end_time": "2023-01-09T03:41:46.709237",
     "exception": false,
     "start_time": "2023-01-09T03:41:46.680299",
     "status": "completed"
    },
    "tags": []
   },
   "outputs": [],
   "source": [
    "train['ShoppingMall']=train['ShoppingMall'].fillna(173)"
   ]
  },
  {
   "cell_type": "code",
   "execution_count": 47,
   "id": "67e18cd5",
   "metadata": {
    "execution": {
     "iopub.execute_input": "2023-01-09T03:41:46.749462Z",
     "iopub.status.busy": "2023-01-09T03:41:46.748543Z",
     "iopub.status.idle": "2023-01-09T03:41:46.757279Z",
     "shell.execute_reply": "2023-01-09T03:41:46.756178Z"
    },
    "papermill": {
     "duration": 0.031122,
     "end_time": "2023-01-09T03:41:46.759361",
     "exception": false,
     "start_time": "2023-01-09T03:41:46.728239",
     "status": "completed"
    },
    "tags": []
   },
   "outputs": [
    {
     "data": {
      "text/plain": [
       "177.29552524527398"
      ]
     },
     "execution_count": 47,
     "metadata": {},
     "output_type": "execute_result"
    }
   ],
   "source": [
    "test['ShoppingMall'].mean()"
   ]
  },
  {
   "cell_type": "code",
   "execution_count": 48,
   "id": "324f6ef0",
   "metadata": {
    "execution": {
     "iopub.execute_input": "2023-01-09T03:41:46.801159Z",
     "iopub.status.busy": "2023-01-09T03:41:46.800787Z",
     "iopub.status.idle": "2023-01-09T03:41:46.846317Z",
     "shell.execute_reply": "2023-01-09T03:41:46.845155Z"
    },
    "papermill": {
     "duration": 0.070152,
     "end_time": "2023-01-09T03:41:46.848852",
     "exception": false,
     "start_time": "2023-01-09T03:41:46.778700",
     "status": "completed"
    },
    "tags": []
   },
   "outputs": [
    {
     "data": {
      "text/html": [
       "<div>\n",
       "<style scoped>\n",
       "    .dataframe tbody tr th:only-of-type {\n",
       "        vertical-align: middle;\n",
       "    }\n",
       "\n",
       "    .dataframe tbody tr th {\n",
       "        vertical-align: top;\n",
       "    }\n",
       "\n",
       "    .dataframe thead tr th {\n",
       "        text-align: left;\n",
       "    }\n",
       "\n",
       "    .dataframe thead tr:last-of-type th {\n",
       "        text-align: right;\n",
       "    }\n",
       "</style>\n",
       "<table border=\"1\" class=\"dataframe\">\n",
       "  <thead>\n",
       "    <tr>\n",
       "      <th></th>\n",
       "      <th></th>\n",
       "      <th></th>\n",
       "      <th></th>\n",
       "      <th>mean</th>\n",
       "      <th>median</th>\n",
       "    </tr>\n",
       "    <tr>\n",
       "      <th></th>\n",
       "      <th></th>\n",
       "      <th></th>\n",
       "      <th></th>\n",
       "      <th>ShoppingMall</th>\n",
       "      <th>ShoppingMall</th>\n",
       "    </tr>\n",
       "    <tr>\n",
       "      <th>HomePlanet</th>\n",
       "      <th>Age</th>\n",
       "      <th>CryoSleep</th>\n",
       "      <th>Destination</th>\n",
       "      <th></th>\n",
       "      <th></th>\n",
       "    </tr>\n",
       "  </thead>\n",
       "  <tbody>\n",
       "    <tr>\n",
       "      <th rowspan=\"5\" valign=\"top\">Earth</th>\n",
       "      <th rowspan=\"5\" valign=\"top\">0.0</th>\n",
       "      <th rowspan=\"3\" valign=\"top\">False</th>\n",
       "      <th>55 Cancri e</th>\n",
       "      <td>0.0</td>\n",
       "      <td>0.0</td>\n",
       "    </tr>\n",
       "    <tr>\n",
       "      <th>PSO J318.5-22</th>\n",
       "      <td>0.0</td>\n",
       "      <td>0.0</td>\n",
       "    </tr>\n",
       "    <tr>\n",
       "      <th>TRAPPIST-1e</th>\n",
       "      <td>0.0</td>\n",
       "      <td>0.0</td>\n",
       "    </tr>\n",
       "    <tr>\n",
       "      <th rowspan=\"2\" valign=\"top\">True</th>\n",
       "      <th>55 Cancri e</th>\n",
       "      <td>0.0</td>\n",
       "      <td>0.0</td>\n",
       "    </tr>\n",
       "    <tr>\n",
       "      <th>PSO J318.5-22</th>\n",
       "      <td>0.0</td>\n",
       "      <td>0.0</td>\n",
       "    </tr>\n",
       "    <tr>\n",
       "      <th>...</th>\n",
       "      <th>...</th>\n",
       "      <th>...</th>\n",
       "      <th>...</th>\n",
       "      <td>...</td>\n",
       "      <td>...</td>\n",
       "    </tr>\n",
       "    <tr>\n",
       "      <th rowspan=\"5\" valign=\"top\">Mars</th>\n",
       "      <th>69.0</th>\n",
       "      <th>False</th>\n",
       "      <th>TRAPPIST-1e</th>\n",
       "      <td>1131.0</td>\n",
       "      <td>1131.0</td>\n",
       "    </tr>\n",
       "    <tr>\n",
       "      <th>70.0</th>\n",
       "      <th>True</th>\n",
       "      <th>TRAPPIST-1e</th>\n",
       "      <td>0.0</td>\n",
       "      <td>0.0</td>\n",
       "    </tr>\n",
       "    <tr>\n",
       "      <th>72.0</th>\n",
       "      <th>False</th>\n",
       "      <th>TRAPPIST-1e</th>\n",
       "      <td>193.0</td>\n",
       "      <td>193.0</td>\n",
       "    </tr>\n",
       "    <tr>\n",
       "      <th>73.0</th>\n",
       "      <th>False</th>\n",
       "      <th>TRAPPIST-1e</th>\n",
       "      <td>662.5</td>\n",
       "      <td>662.5</td>\n",
       "    </tr>\n",
       "    <tr>\n",
       "      <th>75.0</th>\n",
       "      <th>False</th>\n",
       "      <th>TRAPPIST-1e</th>\n",
       "      <td>0.0</td>\n",
       "      <td>0.0</td>\n",
       "    </tr>\n",
       "  </tbody>\n",
       "</table>\n",
       "<p>763 rows × 2 columns</p>\n",
       "</div>"
      ],
      "text/plain": [
       "                                                mean       median\n",
       "                                        ShoppingMall ShoppingMall\n",
       "HomePlanet Age  CryoSleep Destination                            \n",
       "Earth      0.0  False     55 Cancri e            0.0          0.0\n",
       "                          PSO J318.5-22          0.0          0.0\n",
       "                          TRAPPIST-1e            0.0          0.0\n",
       "                True      55 Cancri e            0.0          0.0\n",
       "                          PSO J318.5-22          0.0          0.0\n",
       "...                                              ...          ...\n",
       "Mars       69.0 False     TRAPPIST-1e         1131.0       1131.0\n",
       "           70.0 True      TRAPPIST-1e            0.0          0.0\n",
       "           72.0 False     TRAPPIST-1e          193.0        193.0\n",
       "           73.0 False     TRAPPIST-1e          662.5        662.5\n",
       "           75.0 False     TRAPPIST-1e            0.0          0.0\n",
       "\n",
       "[763 rows x 2 columns]"
      ]
     },
     "execution_count": 48,
     "metadata": {},
     "output_type": "execute_result"
    }
   ],
   "source": [
    "test.pivot_table(index=['HomePlanet','Age','CryoSleep','Destination'],values='ShoppingMall',aggfunc=['mean','median'])"
   ]
  },
  {
   "cell_type": "code",
   "execution_count": 49,
   "id": "6623a6e8",
   "metadata": {
    "execution": {
     "iopub.execute_input": "2023-01-09T03:41:46.889787Z",
     "iopub.status.busy": "2023-01-09T03:41:46.889370Z",
     "iopub.status.idle": "2023-01-09T03:41:46.900303Z",
     "shell.execute_reply": "2023-01-09T03:41:46.899107Z"
    },
    "papermill": {
     "duration": 0.034055,
     "end_time": "2023-01-09T03:41:46.902766",
     "exception": false,
     "start_time": "2023-01-09T03:41:46.868711",
     "status": "completed"
    },
    "tags": []
   },
   "outputs": [],
   "source": [
    "test['ShoppingMall']=test['ShoppingMall'].fillna(test.groupby(['HomePlanet','Age','CryoSleep','Destination'])['ShoppingMall'].transform('median'))"
   ]
  },
  {
   "cell_type": "code",
   "execution_count": 50,
   "id": "55d498b5",
   "metadata": {
    "execution": {
     "iopub.execute_input": "2023-01-09T03:41:46.945379Z",
     "iopub.status.busy": "2023-01-09T03:41:46.944065Z",
     "iopub.status.idle": "2023-01-09T03:41:46.951001Z",
     "shell.execute_reply": "2023-01-09T03:41:46.949950Z"
    },
    "papermill": {
     "duration": 0.030556,
     "end_time": "2023-01-09T03:41:46.953302",
     "exception": false,
     "start_time": "2023-01-09T03:41:46.922746",
     "status": "completed"
    },
    "tags": []
   },
   "outputs": [],
   "source": [
    "test['ShoppingMall']=test['ShoppingMall'].fillna(177)"
   ]
  },
  {
   "cell_type": "code",
   "execution_count": 51,
   "id": "87ca61ac",
   "metadata": {
    "execution": {
     "iopub.execute_input": "2023-01-09T03:41:46.996137Z",
     "iopub.status.busy": "2023-01-09T03:41:46.995023Z",
     "iopub.status.idle": "2023-01-09T03:41:47.003071Z",
     "shell.execute_reply": "2023-01-09T03:41:47.001973Z"
    },
    "papermill": {
     "duration": 0.031686,
     "end_time": "2023-01-09T03:41:47.005362",
     "exception": false,
     "start_time": "2023-01-09T03:41:46.973676",
     "status": "completed"
    },
    "tags": []
   },
   "outputs": [
    {
     "data": {
      "text/plain": [
       "311.1387779083431"
      ]
     },
     "execution_count": 51,
     "metadata": {},
     "output_type": "execute_result"
    }
   ],
   "source": [
    "train['Spa'].mean()"
   ]
  },
  {
   "cell_type": "code",
   "execution_count": 52,
   "id": "bc1fbcd3",
   "metadata": {
    "execution": {
     "iopub.execute_input": "2023-01-09T03:41:47.045791Z",
     "iopub.status.busy": "2023-01-09T03:41:47.045335Z",
     "iopub.status.idle": "2023-01-09T03:41:47.091367Z",
     "shell.execute_reply": "2023-01-09T03:41:47.090566Z"
    },
    "papermill": {
     "duration": 0.069097,
     "end_time": "2023-01-09T03:41:47.093963",
     "exception": false,
     "start_time": "2023-01-09T03:41:47.024866",
     "status": "completed"
    },
    "tags": []
   },
   "outputs": [
    {
     "data": {
      "text/html": [
       "<div>\n",
       "<style scoped>\n",
       "    .dataframe tbody tr th:only-of-type {\n",
       "        vertical-align: middle;\n",
       "    }\n",
       "\n",
       "    .dataframe tbody tr th {\n",
       "        vertical-align: top;\n",
       "    }\n",
       "\n",
       "    .dataframe thead tr th {\n",
       "        text-align: left;\n",
       "    }\n",
       "\n",
       "    .dataframe thead tr:last-of-type th {\n",
       "        text-align: right;\n",
       "    }\n",
       "</style>\n",
       "<table border=\"1\" class=\"dataframe\">\n",
       "  <thead>\n",
       "    <tr>\n",
       "      <th></th>\n",
       "      <th></th>\n",
       "      <th></th>\n",
       "      <th></th>\n",
       "      <th>mean</th>\n",
       "      <th>median</th>\n",
       "    </tr>\n",
       "    <tr>\n",
       "      <th></th>\n",
       "      <th></th>\n",
       "      <th></th>\n",
       "      <th></th>\n",
       "      <th>Spa</th>\n",
       "      <th>Spa</th>\n",
       "    </tr>\n",
       "    <tr>\n",
       "      <th>HomePlanet</th>\n",
       "      <th>Age</th>\n",
       "      <th>CryoSleep</th>\n",
       "      <th>Destination</th>\n",
       "      <th></th>\n",
       "      <th></th>\n",
       "    </tr>\n",
       "  </thead>\n",
       "  <tbody>\n",
       "    <tr>\n",
       "      <th rowspan=\"5\" valign=\"top\">Earth</th>\n",
       "      <th rowspan=\"5\" valign=\"top\">0.0</th>\n",
       "      <th rowspan=\"2\" valign=\"top\">0</th>\n",
       "      <th>55 Cancri e</th>\n",
       "      <td>0.0</td>\n",
       "      <td>0.0</td>\n",
       "    </tr>\n",
       "    <tr>\n",
       "      <th>TRAPPIST-1e</th>\n",
       "      <td>0.0</td>\n",
       "      <td>0.0</td>\n",
       "    </tr>\n",
       "    <tr>\n",
       "      <th rowspan=\"3\" valign=\"top\">1</th>\n",
       "      <th>55 Cancri e</th>\n",
       "      <td>0.0</td>\n",
       "      <td>0.0</td>\n",
       "    </tr>\n",
       "    <tr>\n",
       "      <th>PSO J318.5-22</th>\n",
       "      <td>0.0</td>\n",
       "      <td>0.0</td>\n",
       "    </tr>\n",
       "    <tr>\n",
       "      <th>TRAPPIST-1e</th>\n",
       "      <td>0.0</td>\n",
       "      <td>0.0</td>\n",
       "    </tr>\n",
       "    <tr>\n",
       "      <th>...</th>\n",
       "      <th>...</th>\n",
       "      <th>...</th>\n",
       "      <th>...</th>\n",
       "      <td>...</td>\n",
       "      <td>...</td>\n",
       "    </tr>\n",
       "    <tr>\n",
       "      <th rowspan=\"5\" valign=\"top\">Mars</th>\n",
       "      <th>71.0</th>\n",
       "      <th>1</th>\n",
       "      <th>PSO J318.5-22</th>\n",
       "      <td>0.0</td>\n",
       "      <td>0.0</td>\n",
       "    </tr>\n",
       "    <tr>\n",
       "      <th>72.0</th>\n",
       "      <th>1</th>\n",
       "      <th>TRAPPIST-1e</th>\n",
       "      <td>0.0</td>\n",
       "      <td>0.0</td>\n",
       "    </tr>\n",
       "    <tr>\n",
       "      <th>73.0</th>\n",
       "      <th>0</th>\n",
       "      <th>TRAPPIST-1e</th>\n",
       "      <td>638.0</td>\n",
       "      <td>638.0</td>\n",
       "    </tr>\n",
       "    <tr>\n",
       "      <th>75.0</th>\n",
       "      <th>1</th>\n",
       "      <th>TRAPPIST-1e</th>\n",
       "      <td>0.0</td>\n",
       "      <td>0.0</td>\n",
       "    </tr>\n",
       "    <tr>\n",
       "      <th>76.0</th>\n",
       "      <th>1</th>\n",
       "      <th>TRAPPIST-1e</th>\n",
       "      <td>0.0</td>\n",
       "      <td>0.0</td>\n",
       "    </tr>\n",
       "  </tbody>\n",
       "</table>\n",
       "<p>916 rows × 2 columns</p>\n",
       "</div>"
      ],
      "text/plain": [
       "                                          mean median\n",
       "                                           Spa    Spa\n",
       "HomePlanet Age  CryoSleep Destination                \n",
       "Earth      0.0  0         55 Cancri e      0.0    0.0\n",
       "                          TRAPPIST-1e      0.0    0.0\n",
       "                1         55 Cancri e      0.0    0.0\n",
       "                          PSO J318.5-22    0.0    0.0\n",
       "                          TRAPPIST-1e      0.0    0.0\n",
       "...                                        ...    ...\n",
       "Mars       71.0 1         PSO J318.5-22    0.0    0.0\n",
       "           72.0 1         TRAPPIST-1e      0.0    0.0\n",
       "           73.0 0         TRAPPIST-1e    638.0  638.0\n",
       "           75.0 1         TRAPPIST-1e      0.0    0.0\n",
       "           76.0 1         TRAPPIST-1e      0.0    0.0\n",
       "\n",
       "[916 rows x 2 columns]"
      ]
     },
     "execution_count": 52,
     "metadata": {},
     "output_type": "execute_result"
    }
   ],
   "source": [
    "train.pivot_table(index=['HomePlanet','Age','CryoSleep','Destination'],values='Spa',aggfunc=['mean','median'])"
   ]
  },
  {
   "cell_type": "code",
   "execution_count": 53,
   "id": "23e91bd3",
   "metadata": {
    "execution": {
     "iopub.execute_input": "2023-01-09T03:41:47.136620Z",
     "iopub.status.busy": "2023-01-09T03:41:47.135847Z",
     "iopub.status.idle": "2023-01-09T03:41:47.146782Z",
     "shell.execute_reply": "2023-01-09T03:41:47.145934Z"
    },
    "papermill": {
     "duration": 0.035022,
     "end_time": "2023-01-09T03:41:47.149299",
     "exception": false,
     "start_time": "2023-01-09T03:41:47.114277",
     "status": "completed"
    },
    "tags": []
   },
   "outputs": [],
   "source": [
    "train['Spa']=train['Spa'].fillna(train.groupby(['HomePlanet','Age','CryoSleep','Destination'])['Spa'].transform('median'))"
   ]
  },
  {
   "cell_type": "code",
   "execution_count": 54,
   "id": "091fbfc5",
   "metadata": {
    "execution": {
     "iopub.execute_input": "2023-01-09T03:41:47.191600Z",
     "iopub.status.busy": "2023-01-09T03:41:47.190948Z",
     "iopub.status.idle": "2023-01-09T03:41:47.196611Z",
     "shell.execute_reply": "2023-01-09T03:41:47.195784Z"
    },
    "papermill": {
     "duration": 0.029418,
     "end_time": "2023-01-09T03:41:47.198860",
     "exception": false,
     "start_time": "2023-01-09T03:41:47.169442",
     "status": "completed"
    },
    "tags": []
   },
   "outputs": [],
   "source": [
    "train['Spa']=train['Spa'].fillna(311)"
   ]
  },
  {
   "cell_type": "code",
   "execution_count": 55,
   "id": "a9cd552b",
   "metadata": {
    "execution": {
     "iopub.execute_input": "2023-01-09T03:41:47.241385Z",
     "iopub.status.busy": "2023-01-09T03:41:47.240754Z",
     "iopub.status.idle": "2023-01-09T03:41:47.247636Z",
     "shell.execute_reply": "2023-01-09T03:41:47.246776Z"
    },
    "papermill": {
     "duration": 0.0309,
     "end_time": "2023-01-09T03:41:47.249736",
     "exception": false,
     "start_time": "2023-01-09T03:41:47.218836",
     "status": "completed"
    },
    "tags": []
   },
   "outputs": [
    {
     "data": {
      "text/plain": [
       "303.05244252873564"
      ]
     },
     "execution_count": 55,
     "metadata": {},
     "output_type": "execute_result"
    }
   ],
   "source": [
    "test['Spa'].mean()"
   ]
  },
  {
   "cell_type": "code",
   "execution_count": 56,
   "id": "3506c274",
   "metadata": {
    "execution": {
     "iopub.execute_input": "2023-01-09T03:41:47.296034Z",
     "iopub.status.busy": "2023-01-09T03:41:47.295277Z",
     "iopub.status.idle": "2023-01-09T03:41:47.338188Z",
     "shell.execute_reply": "2023-01-09T03:41:47.336990Z"
    },
    "papermill": {
     "duration": 0.069795,
     "end_time": "2023-01-09T03:41:47.340977",
     "exception": false,
     "start_time": "2023-01-09T03:41:47.271182",
     "status": "completed"
    },
    "tags": []
   },
   "outputs": [
    {
     "data": {
      "text/html": [
       "<div>\n",
       "<style scoped>\n",
       "    .dataframe tbody tr th:only-of-type {\n",
       "        vertical-align: middle;\n",
       "    }\n",
       "\n",
       "    .dataframe tbody tr th {\n",
       "        vertical-align: top;\n",
       "    }\n",
       "\n",
       "    .dataframe thead tr th {\n",
       "        text-align: left;\n",
       "    }\n",
       "\n",
       "    .dataframe thead tr:last-of-type th {\n",
       "        text-align: right;\n",
       "    }\n",
       "</style>\n",
       "<table border=\"1\" class=\"dataframe\">\n",
       "  <thead>\n",
       "    <tr>\n",
       "      <th></th>\n",
       "      <th></th>\n",
       "      <th></th>\n",
       "      <th></th>\n",
       "      <th>mean</th>\n",
       "      <th>median</th>\n",
       "    </tr>\n",
       "    <tr>\n",
       "      <th></th>\n",
       "      <th></th>\n",
       "      <th></th>\n",
       "      <th></th>\n",
       "      <th>Spa</th>\n",
       "      <th>Spa</th>\n",
       "    </tr>\n",
       "    <tr>\n",
       "      <th>HomePlanet</th>\n",
       "      <th>Age</th>\n",
       "      <th>CryoSleep</th>\n",
       "      <th>Destination</th>\n",
       "      <th></th>\n",
       "      <th></th>\n",
       "    </tr>\n",
       "  </thead>\n",
       "  <tbody>\n",
       "    <tr>\n",
       "      <th rowspan=\"5\" valign=\"top\">Earth</th>\n",
       "      <th rowspan=\"5\" valign=\"top\">0.0</th>\n",
       "      <th rowspan=\"3\" valign=\"top\">False</th>\n",
       "      <th>55 Cancri e</th>\n",
       "      <td>0.0</td>\n",
       "      <td>0.0</td>\n",
       "    </tr>\n",
       "    <tr>\n",
       "      <th>PSO J318.5-22</th>\n",
       "      <td>0.0</td>\n",
       "      <td>0.0</td>\n",
       "    </tr>\n",
       "    <tr>\n",
       "      <th>TRAPPIST-1e</th>\n",
       "      <td>0.0</td>\n",
       "      <td>0.0</td>\n",
       "    </tr>\n",
       "    <tr>\n",
       "      <th rowspan=\"2\" valign=\"top\">True</th>\n",
       "      <th>55 Cancri e</th>\n",
       "      <td>0.0</td>\n",
       "      <td>0.0</td>\n",
       "    </tr>\n",
       "    <tr>\n",
       "      <th>PSO J318.5-22</th>\n",
       "      <td>0.0</td>\n",
       "      <td>0.0</td>\n",
       "    </tr>\n",
       "    <tr>\n",
       "      <th>...</th>\n",
       "      <th>...</th>\n",
       "      <th>...</th>\n",
       "      <th>...</th>\n",
       "      <td>...</td>\n",
       "      <td>...</td>\n",
       "    </tr>\n",
       "    <tr>\n",
       "      <th rowspan=\"5\" valign=\"top\">Mars</th>\n",
       "      <th>70.0</th>\n",
       "      <th>True</th>\n",
       "      <th>TRAPPIST-1e</th>\n",
       "      <td>0.0</td>\n",
       "      <td>0.0</td>\n",
       "    </tr>\n",
       "    <tr>\n",
       "      <th>71.0</th>\n",
       "      <th>True</th>\n",
       "      <th>TRAPPIST-1e</th>\n",
       "      <td>0.0</td>\n",
       "      <td>0.0</td>\n",
       "    </tr>\n",
       "    <tr>\n",
       "      <th>72.0</th>\n",
       "      <th>False</th>\n",
       "      <th>TRAPPIST-1e</th>\n",
       "      <td>0.0</td>\n",
       "      <td>0.0</td>\n",
       "    </tr>\n",
       "    <tr>\n",
       "      <th>73.0</th>\n",
       "      <th>False</th>\n",
       "      <th>TRAPPIST-1e</th>\n",
       "      <td>817.5</td>\n",
       "      <td>817.5</td>\n",
       "    </tr>\n",
       "    <tr>\n",
       "      <th>75.0</th>\n",
       "      <th>False</th>\n",
       "      <th>TRAPPIST-1e</th>\n",
       "      <td>1188.0</td>\n",
       "      <td>1188.0</td>\n",
       "    </tr>\n",
       "  </tbody>\n",
       "</table>\n",
       "<p>760 rows × 2 columns</p>\n",
       "</div>"
      ],
      "text/plain": [
       "                                           mean  median\n",
       "                                            Spa     Spa\n",
       "HomePlanet Age  CryoSleep Destination                  \n",
       "Earth      0.0  False     55 Cancri e       0.0     0.0\n",
       "                          PSO J318.5-22     0.0     0.0\n",
       "                          TRAPPIST-1e       0.0     0.0\n",
       "                True      55 Cancri e       0.0     0.0\n",
       "                          PSO J318.5-22     0.0     0.0\n",
       "...                                         ...     ...\n",
       "Mars       70.0 True      TRAPPIST-1e       0.0     0.0\n",
       "           71.0 True      TRAPPIST-1e       0.0     0.0\n",
       "           72.0 False     TRAPPIST-1e       0.0     0.0\n",
       "           73.0 False     TRAPPIST-1e     817.5   817.5\n",
       "           75.0 False     TRAPPIST-1e    1188.0  1188.0\n",
       "\n",
       "[760 rows x 2 columns]"
      ]
     },
     "execution_count": 56,
     "metadata": {},
     "output_type": "execute_result"
    }
   ],
   "source": [
    "test.pivot_table(index=['HomePlanet','Age','CryoSleep','Destination'],values='Spa',aggfunc=['mean','median'])"
   ]
  },
  {
   "cell_type": "code",
   "execution_count": 57,
   "id": "bc479a29",
   "metadata": {
    "execution": {
     "iopub.execute_input": "2023-01-09T03:41:47.383408Z",
     "iopub.status.busy": "2023-01-09T03:41:47.382703Z",
     "iopub.status.idle": "2023-01-09T03:41:47.392705Z",
     "shell.execute_reply": "2023-01-09T03:41:47.391759Z"
    },
    "papermill": {
     "duration": 0.03392,
     "end_time": "2023-01-09T03:41:47.395305",
     "exception": false,
     "start_time": "2023-01-09T03:41:47.361385",
     "status": "completed"
    },
    "tags": []
   },
   "outputs": [],
   "source": [
    "test['Spa']=test['Spa'].fillna(test.groupby(['HomePlanet','Age','CryoSleep','Destination'])['Spa'].transform('median'))"
   ]
  },
  {
   "cell_type": "code",
   "execution_count": 58,
   "id": "a79cc3ad",
   "metadata": {
    "execution": {
     "iopub.execute_input": "2023-01-09T03:41:47.440347Z",
     "iopub.status.busy": "2023-01-09T03:41:47.439975Z",
     "iopub.status.idle": "2023-01-09T03:41:47.445871Z",
     "shell.execute_reply": "2023-01-09T03:41:47.444825Z"
    },
    "papermill": {
     "duration": 0.030931,
     "end_time": "2023-01-09T03:41:47.448097",
     "exception": false,
     "start_time": "2023-01-09T03:41:47.417166",
     "status": "completed"
    },
    "tags": []
   },
   "outputs": [],
   "source": [
    "test['Spa']=test['Spa'].fillna(303)"
   ]
  },
  {
   "cell_type": "code",
   "execution_count": 59,
   "id": "8b077cb0",
   "metadata": {
    "execution": {
     "iopub.execute_input": "2023-01-09T03:41:47.490526Z",
     "iopub.status.busy": "2023-01-09T03:41:47.489790Z",
     "iopub.status.idle": "2023-01-09T03:41:47.497792Z",
     "shell.execute_reply": "2023-01-09T03:41:47.496754Z"
    },
    "papermill": {
     "duration": 0.031723,
     "end_time": "2023-01-09T03:41:47.500075",
     "exception": false,
     "start_time": "2023-01-09T03:41:47.468352",
     "status": "completed"
    },
    "tags": []
   },
   "outputs": [
    {
     "data": {
      "text/plain": [
       "304.8547912992357"
      ]
     },
     "execution_count": 59,
     "metadata": {},
     "output_type": "execute_result"
    }
   ],
   "source": [
    "train['VRDeck'].mean()"
   ]
  },
  {
   "cell_type": "code",
   "execution_count": 60,
   "id": "9d328dac",
   "metadata": {
    "execution": {
     "iopub.execute_input": "2023-01-09T03:41:47.543429Z",
     "iopub.status.busy": "2023-01-09T03:41:47.542314Z",
     "iopub.status.idle": "2023-01-09T03:41:47.590604Z",
     "shell.execute_reply": "2023-01-09T03:41:47.589603Z"
    },
    "papermill": {
     "duration": 0.072742,
     "end_time": "2023-01-09T03:41:47.593143",
     "exception": false,
     "start_time": "2023-01-09T03:41:47.520401",
     "status": "completed"
    },
    "tags": []
   },
   "outputs": [
    {
     "data": {
      "text/html": [
       "<div>\n",
       "<style scoped>\n",
       "    .dataframe tbody tr th:only-of-type {\n",
       "        vertical-align: middle;\n",
       "    }\n",
       "\n",
       "    .dataframe tbody tr th {\n",
       "        vertical-align: top;\n",
       "    }\n",
       "\n",
       "    .dataframe thead tr th {\n",
       "        text-align: left;\n",
       "    }\n",
       "\n",
       "    .dataframe thead tr:last-of-type th {\n",
       "        text-align: right;\n",
       "    }\n",
       "</style>\n",
       "<table border=\"1\" class=\"dataframe\">\n",
       "  <thead>\n",
       "    <tr>\n",
       "      <th></th>\n",
       "      <th></th>\n",
       "      <th></th>\n",
       "      <th></th>\n",
       "      <th>mean</th>\n",
       "      <th>median</th>\n",
       "    </tr>\n",
       "    <tr>\n",
       "      <th></th>\n",
       "      <th></th>\n",
       "      <th></th>\n",
       "      <th></th>\n",
       "      <th>VRDeck</th>\n",
       "      <th>VRDeck</th>\n",
       "    </tr>\n",
       "    <tr>\n",
       "      <th>HomePlanet</th>\n",
       "      <th>Age</th>\n",
       "      <th>CryoSleep</th>\n",
       "      <th>Destination</th>\n",
       "      <th></th>\n",
       "      <th></th>\n",
       "    </tr>\n",
       "  </thead>\n",
       "  <tbody>\n",
       "    <tr>\n",
       "      <th rowspan=\"5\" valign=\"top\">Earth</th>\n",
       "      <th rowspan=\"5\" valign=\"top\">0.0</th>\n",
       "      <th rowspan=\"2\" valign=\"top\">0</th>\n",
       "      <th>55 Cancri e</th>\n",
       "      <td>0.0</td>\n",
       "      <td>0.0</td>\n",
       "    </tr>\n",
       "    <tr>\n",
       "      <th>TRAPPIST-1e</th>\n",
       "      <td>0.0</td>\n",
       "      <td>0.0</td>\n",
       "    </tr>\n",
       "    <tr>\n",
       "      <th rowspan=\"3\" valign=\"top\">1</th>\n",
       "      <th>55 Cancri e</th>\n",
       "      <td>0.0</td>\n",
       "      <td>0.0</td>\n",
       "    </tr>\n",
       "    <tr>\n",
       "      <th>PSO J318.5-22</th>\n",
       "      <td>0.0</td>\n",
       "      <td>0.0</td>\n",
       "    </tr>\n",
       "    <tr>\n",
       "      <th>TRAPPIST-1e</th>\n",
       "      <td>0.0</td>\n",
       "      <td>0.0</td>\n",
       "    </tr>\n",
       "    <tr>\n",
       "      <th>...</th>\n",
       "      <th>...</th>\n",
       "      <th>...</th>\n",
       "      <th>...</th>\n",
       "      <td>...</td>\n",
       "      <td>...</td>\n",
       "    </tr>\n",
       "    <tr>\n",
       "      <th rowspan=\"5\" valign=\"top\">Mars</th>\n",
       "      <th>71.0</th>\n",
       "      <th>1</th>\n",
       "      <th>PSO J318.5-22</th>\n",
       "      <td>0.0</td>\n",
       "      <td>0.0</td>\n",
       "    </tr>\n",
       "    <tr>\n",
       "      <th>72.0</th>\n",
       "      <th>1</th>\n",
       "      <th>TRAPPIST-1e</th>\n",
       "      <td>0.0</td>\n",
       "      <td>0.0</td>\n",
       "    </tr>\n",
       "    <tr>\n",
       "      <th>73.0</th>\n",
       "      <th>0</th>\n",
       "      <th>TRAPPIST-1e</th>\n",
       "      <td>0.0</td>\n",
       "      <td>0.0</td>\n",
       "    </tr>\n",
       "    <tr>\n",
       "      <th>75.0</th>\n",
       "      <th>1</th>\n",
       "      <th>TRAPPIST-1e</th>\n",
       "      <td>0.0</td>\n",
       "      <td>0.0</td>\n",
       "    </tr>\n",
       "    <tr>\n",
       "      <th>76.0</th>\n",
       "      <th>1</th>\n",
       "      <th>TRAPPIST-1e</th>\n",
       "      <td>0.0</td>\n",
       "      <td>0.0</td>\n",
       "    </tr>\n",
       "  </tbody>\n",
       "</table>\n",
       "<p>918 rows × 2 columns</p>\n",
       "</div>"
      ],
      "text/plain": [
       "                                          mean median\n",
       "                                        VRDeck VRDeck\n",
       "HomePlanet Age  CryoSleep Destination                \n",
       "Earth      0.0  0         55 Cancri e      0.0    0.0\n",
       "                          TRAPPIST-1e      0.0    0.0\n",
       "                1         55 Cancri e      0.0    0.0\n",
       "                          PSO J318.5-22    0.0    0.0\n",
       "                          TRAPPIST-1e      0.0    0.0\n",
       "...                                        ...    ...\n",
       "Mars       71.0 1         PSO J318.5-22    0.0    0.0\n",
       "           72.0 1         TRAPPIST-1e      0.0    0.0\n",
       "           73.0 0         TRAPPIST-1e      0.0    0.0\n",
       "           75.0 1         TRAPPIST-1e      0.0    0.0\n",
       "           76.0 1         TRAPPIST-1e      0.0    0.0\n",
       "\n",
       "[918 rows x 2 columns]"
      ]
     },
     "execution_count": 60,
     "metadata": {},
     "output_type": "execute_result"
    }
   ],
   "source": [
    "train.pivot_table(index=['HomePlanet','Age','CryoSleep','Destination'],values='VRDeck',aggfunc=['mean','median'])"
   ]
  },
  {
   "cell_type": "code",
   "execution_count": 61,
   "id": "02750fce",
   "metadata": {
    "execution": {
     "iopub.execute_input": "2023-01-09T03:41:47.637407Z",
     "iopub.status.busy": "2023-01-09T03:41:47.637023Z",
     "iopub.status.idle": "2023-01-09T03:41:47.648522Z",
     "shell.execute_reply": "2023-01-09T03:41:47.647680Z"
    },
    "papermill": {
     "duration": 0.035798,
     "end_time": "2023-01-09T03:41:47.650782",
     "exception": false,
     "start_time": "2023-01-09T03:41:47.614984",
     "status": "completed"
    },
    "tags": []
   },
   "outputs": [],
   "source": [
    "train['VRDeck']=train['VRDeck'].fillna(train.groupby(['HomePlanet','Age','CryoSleep','Destination'])['VRDeck'].transform('median'))"
   ]
  },
  {
   "cell_type": "code",
   "execution_count": 62,
   "id": "b1838340",
   "metadata": {
    "execution": {
     "iopub.execute_input": "2023-01-09T03:41:47.694248Z",
     "iopub.status.busy": "2023-01-09T03:41:47.693422Z",
     "iopub.status.idle": "2023-01-09T03:41:47.699588Z",
     "shell.execute_reply": "2023-01-09T03:41:47.698658Z"
    },
    "papermill": {
     "duration": 0.030051,
     "end_time": "2023-01-09T03:41:47.701538",
     "exception": false,
     "start_time": "2023-01-09T03:41:47.671487",
     "status": "completed"
    },
    "tags": []
   },
   "outputs": [],
   "source": [
    "train['VRDeck']=train['VRDeck'].fillna(304)"
   ]
  },
  {
   "cell_type": "code",
   "execution_count": 63,
   "id": "73575310",
   "metadata": {
    "execution": {
     "iopub.execute_input": "2023-01-09T03:41:47.745017Z",
     "iopub.status.busy": "2023-01-09T03:41:47.744463Z",
     "iopub.status.idle": "2023-01-09T03:41:47.752415Z",
     "shell.execute_reply": "2023-01-09T03:41:47.751345Z"
    },
    "papermill": {
     "duration": 0.032373,
     "end_time": "2023-01-09T03:41:47.754561",
     "exception": false,
     "start_time": "2023-01-09T03:41:47.722188",
     "status": "completed"
    },
    "tags": []
   },
   "outputs": [
    {
     "data": {
      "text/plain": [
       "310.71003097450557"
      ]
     },
     "execution_count": 63,
     "metadata": {},
     "output_type": "execute_result"
    }
   ],
   "source": [
    "test['VRDeck'].mean()"
   ]
  },
  {
   "cell_type": "code",
   "execution_count": 64,
   "id": "a697f94d",
   "metadata": {
    "execution": {
     "iopub.execute_input": "2023-01-09T03:41:47.797265Z",
     "iopub.status.busy": "2023-01-09T03:41:47.796801Z",
     "iopub.status.idle": "2023-01-09T03:41:47.841555Z",
     "shell.execute_reply": "2023-01-09T03:41:47.840455Z"
    },
    "papermill": {
     "duration": 0.069087,
     "end_time": "2023-01-09T03:41:47.844260",
     "exception": false,
     "start_time": "2023-01-09T03:41:47.775173",
     "status": "completed"
    },
    "tags": []
   },
   "outputs": [
    {
     "data": {
      "text/html": [
       "<div>\n",
       "<style scoped>\n",
       "    .dataframe tbody tr th:only-of-type {\n",
       "        vertical-align: middle;\n",
       "    }\n",
       "\n",
       "    .dataframe tbody tr th {\n",
       "        vertical-align: top;\n",
       "    }\n",
       "\n",
       "    .dataframe thead tr th {\n",
       "        text-align: left;\n",
       "    }\n",
       "\n",
       "    .dataframe thead tr:last-of-type th {\n",
       "        text-align: right;\n",
       "    }\n",
       "</style>\n",
       "<table border=\"1\" class=\"dataframe\">\n",
       "  <thead>\n",
       "    <tr>\n",
       "      <th></th>\n",
       "      <th></th>\n",
       "      <th></th>\n",
       "      <th></th>\n",
       "      <th>mean</th>\n",
       "      <th>median</th>\n",
       "    </tr>\n",
       "    <tr>\n",
       "      <th></th>\n",
       "      <th></th>\n",
       "      <th></th>\n",
       "      <th></th>\n",
       "      <th>VRDeck</th>\n",
       "      <th>VRDeck</th>\n",
       "    </tr>\n",
       "    <tr>\n",
       "      <th>HomePlanet</th>\n",
       "      <th>Age</th>\n",
       "      <th>CryoSleep</th>\n",
       "      <th>Destination</th>\n",
       "      <th></th>\n",
       "      <th></th>\n",
       "    </tr>\n",
       "  </thead>\n",
       "  <tbody>\n",
       "    <tr>\n",
       "      <th rowspan=\"5\" valign=\"top\">Earth</th>\n",
       "      <th rowspan=\"5\" valign=\"top\">0.0</th>\n",
       "      <th rowspan=\"3\" valign=\"top\">False</th>\n",
       "      <th>55 Cancri e</th>\n",
       "      <td>0.0</td>\n",
       "      <td>0.0</td>\n",
       "    </tr>\n",
       "    <tr>\n",
       "      <th>PSO J318.5-22</th>\n",
       "      <td>0.0</td>\n",
       "      <td>0.0</td>\n",
       "    </tr>\n",
       "    <tr>\n",
       "      <th>TRAPPIST-1e</th>\n",
       "      <td>0.0</td>\n",
       "      <td>0.0</td>\n",
       "    </tr>\n",
       "    <tr>\n",
       "      <th rowspan=\"2\" valign=\"top\">True</th>\n",
       "      <th>55 Cancri e</th>\n",
       "      <td>0.0</td>\n",
       "      <td>0.0</td>\n",
       "    </tr>\n",
       "    <tr>\n",
       "      <th>PSO J318.5-22</th>\n",
       "      <td>0.0</td>\n",
       "      <td>0.0</td>\n",
       "    </tr>\n",
       "    <tr>\n",
       "      <th>...</th>\n",
       "      <th>...</th>\n",
       "      <th>...</th>\n",
       "      <th>...</th>\n",
       "      <td>...</td>\n",
       "      <td>...</td>\n",
       "    </tr>\n",
       "    <tr>\n",
       "      <th rowspan=\"5\" valign=\"top\">Mars</th>\n",
       "      <th>70.0</th>\n",
       "      <th>True</th>\n",
       "      <th>TRAPPIST-1e</th>\n",
       "      <td>0.0</td>\n",
       "      <td>0.0</td>\n",
       "    </tr>\n",
       "    <tr>\n",
       "      <th>71.0</th>\n",
       "      <th>True</th>\n",
       "      <th>TRAPPIST-1e</th>\n",
       "      <td>0.0</td>\n",
       "      <td>0.0</td>\n",
       "    </tr>\n",
       "    <tr>\n",
       "      <th>72.0</th>\n",
       "      <th>False</th>\n",
       "      <th>TRAPPIST-1e</th>\n",
       "      <td>0.0</td>\n",
       "      <td>0.0</td>\n",
       "    </tr>\n",
       "    <tr>\n",
       "      <th>73.0</th>\n",
       "      <th>False</th>\n",
       "      <th>TRAPPIST-1e</th>\n",
       "      <td>164.5</td>\n",
       "      <td>164.5</td>\n",
       "    </tr>\n",
       "    <tr>\n",
       "      <th>75.0</th>\n",
       "      <th>False</th>\n",
       "      <th>TRAPPIST-1e</th>\n",
       "      <td>60.0</td>\n",
       "      <td>60.0</td>\n",
       "    </tr>\n",
       "  </tbody>\n",
       "</table>\n",
       "<p>764 rows × 2 columns</p>\n",
       "</div>"
      ],
      "text/plain": [
       "                                          mean median\n",
       "                                        VRDeck VRDeck\n",
       "HomePlanet Age  CryoSleep Destination                \n",
       "Earth      0.0  False     55 Cancri e      0.0    0.0\n",
       "                          PSO J318.5-22    0.0    0.0\n",
       "                          TRAPPIST-1e      0.0    0.0\n",
       "                True      55 Cancri e      0.0    0.0\n",
       "                          PSO J318.5-22    0.0    0.0\n",
       "...                                        ...    ...\n",
       "Mars       70.0 True      TRAPPIST-1e      0.0    0.0\n",
       "           71.0 True      TRAPPIST-1e      0.0    0.0\n",
       "           72.0 False     TRAPPIST-1e      0.0    0.0\n",
       "           73.0 False     TRAPPIST-1e    164.5  164.5\n",
       "           75.0 False     TRAPPIST-1e     60.0   60.0\n",
       "\n",
       "[764 rows x 2 columns]"
      ]
     },
     "execution_count": 64,
     "metadata": {},
     "output_type": "execute_result"
    }
   ],
   "source": [
    "test.pivot_table(index=['HomePlanet','Age','CryoSleep','Destination'],values='VRDeck',aggfunc=['mean','median'])"
   ]
  },
  {
   "cell_type": "code",
   "execution_count": 65,
   "id": "3ae29bb4",
   "metadata": {
    "execution": {
     "iopub.execute_input": "2023-01-09T03:41:47.888283Z",
     "iopub.status.busy": "2023-01-09T03:41:47.887828Z",
     "iopub.status.idle": "2023-01-09T03:41:47.898312Z",
     "shell.execute_reply": "2023-01-09T03:41:47.897155Z"
    },
    "papermill": {
     "duration": 0.035598,
     "end_time": "2023-01-09T03:41:47.900913",
     "exception": false,
     "start_time": "2023-01-09T03:41:47.865315",
     "status": "completed"
    },
    "tags": []
   },
   "outputs": [],
   "source": [
    "test['VRDeck']=test['VRDeck'].fillna(test.groupby(['HomePlanet','Age','CryoSleep','Destination'])['VRDeck'].transform('median'))"
   ]
  },
  {
   "cell_type": "code",
   "execution_count": 66,
   "id": "9a9244e1",
   "metadata": {
    "execution": {
     "iopub.execute_input": "2023-01-09T03:41:47.944838Z",
     "iopub.status.busy": "2023-01-09T03:41:47.944442Z",
     "iopub.status.idle": "2023-01-09T03:41:47.950814Z",
     "shell.execute_reply": "2023-01-09T03:41:47.949622Z"
    },
    "papermill": {
     "duration": 0.031185,
     "end_time": "2023-01-09T03:41:47.953353",
     "exception": false,
     "start_time": "2023-01-09T03:41:47.922168",
     "status": "completed"
    },
    "tags": []
   },
   "outputs": [],
   "source": [
    "test['VRDeck']=test['VRDeck'].fillna(310)"
   ]
  },
  {
   "cell_type": "code",
   "execution_count": 67,
   "id": "ab51dd59",
   "metadata": {
    "execution": {
     "iopub.execute_input": "2023-01-09T03:41:47.999176Z",
     "iopub.status.busy": "2023-01-09T03:41:47.998809Z",
     "iopub.status.idle": "2023-01-09T03:41:48.015960Z",
     "shell.execute_reply": "2023-01-09T03:41:48.014158Z"
    },
    "papermill": {
     "duration": 0.04281,
     "end_time": "2023-01-09T03:41:48.018342",
     "exception": false,
     "start_time": "2023-01-09T03:41:47.975532",
     "status": "completed"
    },
    "tags": []
   },
   "outputs": [
    {
     "name": "stdout",
     "output_type": "stream",
     "text": [
      "<class 'pandas.core.frame.DataFrame'>\n",
      "RangeIndex: 8693 entries, 0 to 8692\n",
      "Data columns (total 14 columns):\n",
      " #   Column        Non-Null Count  Dtype  \n",
      "---  ------        --------------  -----  \n",
      " 0   PassengerId   8693 non-null   object \n",
      " 1   HomePlanet    8693 non-null   object \n",
      " 2   CryoSleep     8693 non-null   int64  \n",
      " 3   Cabin         8494 non-null   object \n",
      " 4   Destination   8693 non-null   object \n",
      " 5   Age           8693 non-null   float64\n",
      " 6   VIP           8693 non-null   int64  \n",
      " 7   RoomService   8693 non-null   float64\n",
      " 8   FoodCourt     8693 non-null   float64\n",
      " 9   ShoppingMall  8693 non-null   float64\n",
      " 10  Spa           8693 non-null   float64\n",
      " 11  VRDeck        8693 non-null   float64\n",
      " 12  Name          8493 non-null   object \n",
      " 13  Transported   8693 non-null   bool   \n",
      "dtypes: bool(1), float64(6), int64(2), object(5)\n",
      "memory usage: 891.5+ KB\n"
     ]
    }
   ],
   "source": [
    "train.info()"
   ]
  },
  {
   "cell_type": "code",
   "execution_count": 68,
   "id": "18652053",
   "metadata": {
    "execution": {
     "iopub.execute_input": "2023-01-09T03:41:48.065226Z",
     "iopub.status.busy": "2023-01-09T03:41:48.064521Z",
     "iopub.status.idle": "2023-01-09T03:41:48.079599Z",
     "shell.execute_reply": "2023-01-09T03:41:48.077954Z"
    },
    "papermill": {
     "duration": 0.040889,
     "end_time": "2023-01-09T03:41:48.081858",
     "exception": false,
     "start_time": "2023-01-09T03:41:48.040969",
     "status": "completed"
    },
    "tags": []
   },
   "outputs": [
    {
     "name": "stdout",
     "output_type": "stream",
     "text": [
      "<class 'pandas.core.frame.DataFrame'>\n",
      "RangeIndex: 4277 entries, 0 to 4276\n",
      "Data columns (total 13 columns):\n",
      " #   Column        Non-Null Count  Dtype  \n",
      "---  ------        --------------  -----  \n",
      " 0   PassengerId   4277 non-null   object \n",
      " 1   HomePlanet    4277 non-null   object \n",
      " 2   CryoSleep     4277 non-null   object \n",
      " 3   Cabin         4177 non-null   object \n",
      " 4   Destination   4277 non-null   object \n",
      " 5   Age           4277 non-null   float64\n",
      " 6   VIP           4277 non-null   int64  \n",
      " 7   RoomService   4277 non-null   float64\n",
      " 8   FoodCourt     4277 non-null   float64\n",
      " 9   ShoppingMall  4277 non-null   float64\n",
      " 10  Spa           4277 non-null   float64\n",
      " 11  VRDeck        4277 non-null   float64\n",
      " 12  Name          4183 non-null   object \n",
      "dtypes: float64(6), int64(1), object(6)\n",
      "memory usage: 434.5+ KB\n"
     ]
    }
   ],
   "source": [
    "test.info()"
   ]
  },
  {
   "cell_type": "code",
   "execution_count": null,
   "id": "4618656d",
   "metadata": {
    "papermill": {
     "duration": 0.021097,
     "end_time": "2023-01-09T03:41:48.124907",
     "exception": false,
     "start_time": "2023-01-09T03:41:48.103810",
     "status": "completed"
    },
    "tags": []
   },
   "outputs": [],
   "source": []
  }
 ],
 "metadata": {
  "kernelspec": {
   "display_name": "Python 3",
   "language": "python",
   "name": "python3"
  },
  "language_info": {
   "codemirror_mode": {
    "name": "ipython",
    "version": 3
   },
   "file_extension": ".py",
   "mimetype": "text/x-python",
   "name": "python",
   "nbconvert_exporter": "python",
   "pygments_lexer": "ipython3",
   "version": "3.7.12"
  },
  "papermill": {
   "default_parameters": {},
   "duration": 13.47194,
   "end_time": "2023-01-09T03:41:48.867221",
   "environment_variables": {},
   "exception": null,
   "input_path": "__notebook__.ipynb",
   "output_path": "__notebook__.ipynb",
   "parameters": {},
   "start_time": "2023-01-09T03:41:35.395281",
   "version": "2.3.4"
  }
 },
 "nbformat": 4,
 "nbformat_minor": 5
}
