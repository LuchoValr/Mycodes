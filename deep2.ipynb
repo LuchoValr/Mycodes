{
 "cells": [
  {
   "cell_type": "code",
   "execution_count": 1,
   "metadata": {
    "_cell_guid": "e62dee04-0bdc-4136-8d3c-9efbbd6d30e4",
    "_uuid": "e8b261ed3bf92f4c7e26f6ef8c656381d7261e80",
    "execution": {
     "iopub.execute_input": "2022-12-24T02:25:59.100396Z",
     "iopub.status.busy": "2022-12-24T02:25:59.100087Z",
     "iopub.status.idle": "2022-12-24T02:26:00.226738Z",
     "shell.execute_reply": "2022-12-24T02:26:00.226002Z",
     "shell.execute_reply.started": "2022-12-24T02:25:59.100348Z"
    }
   },
   "outputs": [],
   "source": [
    "import pandas as pd\n",
    "import numpy as np\n",
    "%matplotlib inline\n",
    "import matplotlib.pyplot as plt\n",
    "import matplotlib.lines as mlines\n",
    "from mpl_toolkits.mplot3d import Axes3D\n",
    "import seaborn as sns\n",
    "from sklearn.model_selection import train_test_split, learning_curve\n",
    "from sklearn.metrics import average_precision_score\n",
    "from xgboost.sklearn import XGBClassifier\n",
    "from xgboost import plot_importance, to_graphviz\n",
    "from tqdm import tqdm"
   ]
  },
  {
   "cell_type": "code",
   "execution_count": 2,
   "metadata": {
    "_cell_guid": "507f9385-4132-4b15-a15b-ba386e5ce1d9",
    "_uuid": "74a1f29a66d01639561fdd2a9b6820db616e233c",
    "execution": {
     "iopub.execute_input": "2022-12-24T02:26:02.377987Z",
     "iopub.status.busy": "2022-12-24T02:26:02.377650Z",
     "iopub.status.idle": "2022-12-24T02:26:02.459102Z",
     "shell.execute_reply": "2022-12-24T02:26:02.458150Z",
     "shell.execute_reply.started": "2022-12-24T02:26:02.377931Z"
    }
   },
   "outputs": [],
   "source": [
    "def plot_confusion_matrix(cm,\n",
    "                          target_names,\n",
    "                          title='Confusion matrix',\n",
    "                          cmap=None,\n",
    "                          normalize=True):\n",
    "    \"\"\"\n",
    "    given a sklearn confusion matrix (cm), make a nice plot\n",
    "\n",
    "    Arguments\n",
    "    ---------\n",
    "    cm:           confusion matrix from sklearn.metrics.confusion_matrix\n",
    "\n",
    "    target_names: given classification classes such as [0, 1, 2]\n",
    "                  the class names, for example: ['high', 'medium', 'low']\n",
    "\n",
    "    title:        the text to display at the top of the matrix\n",
    "\n",
    "    cmap:         the gradient of the values displayed from matplotlib.pyplot.cm\n",
    "                  see http://matplotlib.org/examples/color/colormaps_reference.html\n",
    "                  plt.get_cmap('jet') or plt.cm.Blues\n",
    "\n",
    "    normalize:    If False, plot the raw numbers\n",
    "                  If True, plot the proportions\n",
    "\n",
    "    Usage\n",
    "    -----\n",
    "    plot_confusion_matrix(cm           = cm,                  # confusion matrix created by\n",
    "                                                              # sklearn.metrics.confusion_matrix\n",
    "                          normalize    = True,                # show proportions\n",
    "                          target_names = y_labels_vals,       # list of names of the classes\n",
    "                          title        = best_estimator_name) # title of graph\n",
    "\n",
    "    Citiation\n",
    "    ---------\n",
    "    http://scikit-learn.org/stable/auto_examples/model_selection/plot_confusion_matrix.html\n",
    "\n",
    "    \"\"\"\n",
    "    import matplotlib.pyplot as plt\n",
    "    import numpy as np\n",
    "    import itertools\n",
    "\n",
    "    accuracy = np.trace(cm) / float(np.sum(cm))\n",
    "    misclass = 1 - accuracy\n",
    "\n",
    "    if cmap is None:\n",
    "        cmap = plt.get_cmap('Blues')\n",
    "\n",
    "    plt.figure(figsize=(8, 6))\n",
    "    plt.imshow(cm, interpolation='nearest', cmap=cmap)\n",
    "    plt.title(title)\n",
    "    plt.colorbar()\n",
    "\n",
    "    if target_names is not None:\n",
    "        tick_marks = np.arange(len(target_names))\n",
    "        plt.xticks(tick_marks, target_names, rotation=45)\n",
    "        plt.yticks(tick_marks, target_names)\n",
    "\n",
    "    if normalize:\n",
    "        cm = cm.astype('float') / cm.sum(axis=1)[:, np.newaxis]\n",
    "\n",
    "\n",
    "    thresh = cm.max() / 1.5 if normalize else cm.max() / 2\n",
    "    for i, j in itertools.product(range(cm.shape[0]), range(cm.shape[1])):\n",
    "        if normalize:\n",
    "            plt.text(j, i, \"{:0.4f}\".format(cm[i, j]),\n",
    "                     horizontalalignment=\"center\",\n",
    "                     color=\"white\" if cm[i, j] > thresh else \"black\")\n",
    "        else:\n",
    "            plt.text(j, i, \"{:,}\".format(cm[i, j]),\n",
    "                     horizontalalignment=\"center\",\n",
    "                     color=\"white\" if cm[i, j] > thresh else \"black\")\n",
    "\n",
    "\n",
    "    plt.tight_layout()\n",
    "    plt.ylabel('True label')\n",
    "    plt.xlabel('Predicted label\\naccuracy={:0.4f}; misclass={:0.4f}'.format(accuracy, misclass))\n",
    "    plt.savefig('confusion.png')\n",
    "    plt.show()"
   ]
  },
  {
   "cell_type": "code",
   "execution_count": 3,
   "metadata": {
    "_cell_guid": "322444d0-bfee-44e0-9b1e-8a49050f5581",
    "_uuid": "459796f2ac540a92e84eecf7799a487e6bcee487",
    "execution": {
     "iopub.execute_input": "2022-12-24T02:26:03.264132Z",
     "iopub.status.busy": "2022-12-24T02:26:03.263782Z",
     "iopub.status.idle": "2022-12-24T02:26:27.341013Z",
     "shell.execute_reply": "2022-12-24T02:26:27.340123Z",
     "shell.execute_reply.started": "2022-12-24T02:26:03.264065Z"
    }
   },
   "outputs": [],
   "source": [
    "df = pd.read_csv('../input/PS_20174392719_1491204439457_log.csv')\n",
    "df = df.rename(columns={'oldbalanceOrg':'oldBalanceOrig', 'newbalanceOrig':'newBalanceOrig', \\\n",
    "                        'oldbalanceDest':'oldBalanceDest', 'newbalanceDest':'newBalanceDest'})"
   ]
  },
  {
   "cell_type": "code",
   "execution_count": 4,
   "metadata": {
    "_cell_guid": "d60d77f1-9b10-4e28-9791-91aff790e330",
    "_uuid": "2210606418c582a4f0ddf163b018f32bd0bcec15",
    "execution": {
     "iopub.execute_input": "2022-12-24T02:26:31.540965Z",
     "iopub.status.busy": "2022-12-24T02:26:31.540265Z",
     "iopub.status.idle": "2022-12-24T02:26:31.567324Z",
     "shell.execute_reply": "2022-12-24T02:26:31.566337Z",
     "shell.execute_reply.started": "2022-12-24T02:26:31.540595Z"
    }
   },
   "outputs": [
    {
     "data": {
      "text/html": [
       "<div>\n",
       "<style>\n",
       "    .dataframe thead tr:only-child th {\n",
       "        text-align: right;\n",
       "    }\n",
       "\n",
       "    .dataframe thead th {\n",
       "        text-align: left;\n",
       "    }\n",
       "\n",
       "    .dataframe tbody tr th {\n",
       "        vertical-align: top;\n",
       "    }\n",
       "</style>\n",
       "<table border=\"1\" class=\"dataframe\">\n",
       "  <thead>\n",
       "    <tr style=\"text-align: right;\">\n",
       "      <th></th>\n",
       "      <th>step</th>\n",
       "      <th>type</th>\n",
       "      <th>amount</th>\n",
       "      <th>nameOrig</th>\n",
       "      <th>oldBalanceOrig</th>\n",
       "      <th>newBalanceOrig</th>\n",
       "      <th>nameDest</th>\n",
       "      <th>oldBalanceDest</th>\n",
       "      <th>newBalanceDest</th>\n",
       "      <th>isFraud</th>\n",
       "      <th>isFlaggedFraud</th>\n",
       "    </tr>\n",
       "  </thead>\n",
       "  <tbody>\n",
       "    <tr>\n",
       "      <th>0</th>\n",
       "      <td>1</td>\n",
       "      <td>PAYMENT</td>\n",
       "      <td>9839.64</td>\n",
       "      <td>C1231006815</td>\n",
       "      <td>170136.0</td>\n",
       "      <td>160296.36</td>\n",
       "      <td>M1979787155</td>\n",
       "      <td>0.0</td>\n",
       "      <td>0.0</td>\n",
       "      <td>0</td>\n",
       "      <td>0</td>\n",
       "    </tr>\n",
       "    <tr>\n",
       "      <th>1</th>\n",
       "      <td>1</td>\n",
       "      <td>PAYMENT</td>\n",
       "      <td>1864.28</td>\n",
       "      <td>C1666544295</td>\n",
       "      <td>21249.0</td>\n",
       "      <td>19384.72</td>\n",
       "      <td>M2044282225</td>\n",
       "      <td>0.0</td>\n",
       "      <td>0.0</td>\n",
       "      <td>0</td>\n",
       "      <td>0</td>\n",
       "    </tr>\n",
       "    <tr>\n",
       "      <th>2</th>\n",
       "      <td>1</td>\n",
       "      <td>TRANSFER</td>\n",
       "      <td>181.00</td>\n",
       "      <td>C1305486145</td>\n",
       "      <td>181.0</td>\n",
       "      <td>0.00</td>\n",
       "      <td>C553264065</td>\n",
       "      <td>0.0</td>\n",
       "      <td>0.0</td>\n",
       "      <td>1</td>\n",
       "      <td>0</td>\n",
       "    </tr>\n",
       "    <tr>\n",
       "      <th>3</th>\n",
       "      <td>1</td>\n",
       "      <td>CASH_OUT</td>\n",
       "      <td>181.00</td>\n",
       "      <td>C840083671</td>\n",
       "      <td>181.0</td>\n",
       "      <td>0.00</td>\n",
       "      <td>C38997010</td>\n",
       "      <td>21182.0</td>\n",
       "      <td>0.0</td>\n",
       "      <td>1</td>\n",
       "      <td>0</td>\n",
       "    </tr>\n",
       "    <tr>\n",
       "      <th>4</th>\n",
       "      <td>1</td>\n",
       "      <td>PAYMENT</td>\n",
       "      <td>11668.14</td>\n",
       "      <td>C2048537720</td>\n",
       "      <td>41554.0</td>\n",
       "      <td>29885.86</td>\n",
       "      <td>M1230701703</td>\n",
       "      <td>0.0</td>\n",
       "      <td>0.0</td>\n",
       "      <td>0</td>\n",
       "      <td>0</td>\n",
       "    </tr>\n",
       "  </tbody>\n",
       "</table>\n",
       "</div>"
      ],
      "text/plain": [
       "   step      type    amount     nameOrig  oldBalanceOrig  newBalanceOrig  \\\n",
       "0     1   PAYMENT   9839.64  C1231006815        170136.0       160296.36   \n",
       "1     1   PAYMENT   1864.28  C1666544295         21249.0        19384.72   \n",
       "2     1  TRANSFER    181.00  C1305486145           181.0            0.00   \n",
       "3     1  CASH_OUT    181.00   C840083671           181.0            0.00   \n",
       "4     1   PAYMENT  11668.14  C2048537720         41554.0        29885.86   \n",
       "\n",
       "      nameDest  oldBalanceDest  newBalanceDest  isFraud  isFlaggedFraud  \n",
       "0  M1979787155             0.0             0.0        0               0  \n",
       "1  M2044282225             0.0             0.0        0               0  \n",
       "2   C553264065             0.0             0.0        1               0  \n",
       "3    C38997010         21182.0             0.0        1               0  \n",
       "4  M1230701703             0.0             0.0        0               0  "
      ]
     },
     "execution_count": 4,
     "metadata": {},
     "output_type": "execute_result"
    }
   ],
   "source": [
    "df.head()"
   ]
  },
  {
   "cell_type": "code",
   "execution_count": 5,
   "metadata": {
    "_cell_guid": "d6b8416c-aed2-4995-9514-aa4120612ab2",
    "_uuid": "c555c4e4e0218d36f114718763bd574c4898d197",
    "execution": {
     "iopub.execute_input": "2022-12-24T02:26:32.720560Z",
     "iopub.status.busy": "2022-12-24T02:26:32.720257Z",
     "iopub.status.idle": "2022-12-24T02:26:32.748548Z",
     "shell.execute_reply": "2022-12-24T02:26:32.747910Z",
     "shell.execute_reply.started": "2022-12-24T02:26:32.720514Z"
    }
   },
   "outputs": [
    {
     "data": {
      "text/plain": [
       "array(['TRANSFER', 'CASH_OUT'], dtype=object)"
      ]
     },
     "execution_count": 5,
     "metadata": {},
     "output_type": "execute_result"
    }
   ],
   "source": [
    "df.loc[df.isFraud == 1].type.drop_duplicates().values"
   ]
  },
  {
   "cell_type": "code",
   "execution_count": 6,
   "metadata": {
    "_cell_guid": "bf2306d5-b48d-441c-b217-478ede54f36d",
    "_uuid": "8b773d7747aa7fee6cf563ce2e11a4b636279314",
    "execution": {
     "iopub.execute_input": "2022-12-24T02:26:33.856042Z",
     "iopub.status.busy": "2022-12-24T02:26:33.855706Z",
     "iopub.status.idle": "2022-12-24T02:26:35.152630Z",
     "shell.execute_reply": "2022-12-24T02:26:35.151947Z",
     "shell.execute_reply.started": "2022-12-24T02:26:33.855988Z"
    }
   },
   "outputs": [],
   "source": [
    "df = df[(df.type == 'TRANSFER') | (df.type == 'CASH_OUT')]"
   ]
  },
  {
   "cell_type": "code",
   "execution_count": 7,
   "metadata": {
    "_cell_guid": "e72d88af-5953-41c2-9121-9ff3779ce3db",
    "_uuid": "01ad26ddbab8ad8694d57c20559616881731e9ed",
    "execution": {
     "iopub.execute_input": "2022-12-24T02:26:36.363278Z",
     "iopub.status.busy": "2022-12-24T02:26:36.362668Z",
     "iopub.status.idle": "2022-12-24T02:26:36.368337Z",
     "shell.execute_reply": "2022-12-24T02:26:36.367659Z",
     "shell.execute_reply.started": "2022-12-24T02:26:36.363224Z"
    }
   },
   "outputs": [
    {
     "data": {
      "text/plain": [
       "2770409"
      ]
     },
     "execution_count": 7,
     "metadata": {},
     "output_type": "execute_result"
    }
   ],
   "source": [
    "len(df)"
   ]
  },
  {
   "cell_type": "markdown",
   "metadata": {},
   "source": [
    "# **Heuristico**"
   ]
  },
  {
   "cell_type": "code",
   "execution_count": 8,
   "metadata": {
    "_cell_guid": "02d2d83a-508d-48ba-9c6d-52e104c7f9ae",
    "_uuid": "8b925d89ed3a57de62b217beeb8271bd658bf028",
    "execution": {
     "iopub.execute_input": "2022-12-24T02:26:38.694523Z",
     "iopub.status.busy": "2022-12-24T02:26:38.694223Z",
     "iopub.status.idle": "2022-12-24T02:26:39.010187Z",
     "shell.execute_reply": "2022-12-24T02:26:39.009442Z",
     "shell.execute_reply.started": "2022-12-24T02:26:38.694477Z"
    }
   },
   "outputs": [],
   "source": [
    "df['Fraud_Heuristic'] = np.where(((df['type'] == 'TRANSFER') & \n",
    "                                  (df['amount'] > 200000)),1,0)"
   ]
  },
  {
   "cell_type": "code",
   "execution_count": 9,
   "metadata": {
    "_cell_guid": "40c869bd-e7a7-46ed-be93-c830f91d67f3",
    "_uuid": "d0c38aec031ea0a7db6166b442f8459dfb17b1aa",
    "execution": {
     "iopub.execute_input": "2022-12-24T02:26:40.039018Z",
     "iopub.status.busy": "2022-12-24T02:26:40.038326Z",
     "iopub.status.idle": "2022-12-24T02:26:40.047188Z",
     "shell.execute_reply": "2022-12-24T02:26:40.046379Z",
     "shell.execute_reply.started": "2022-12-24T02:26:40.038961Z"
    }
   },
   "outputs": [
    {
     "data": {
      "text/plain": [
       "409110"
      ]
     },
     "execution_count": 9,
     "metadata": {},
     "output_type": "execute_result"
    }
   ],
   "source": [
    "df['Fraud_Heuristic'].sum()"
   ]
  },
  {
   "cell_type": "code",
   "execution_count": 10,
   "metadata": {
    "_cell_guid": "9c5cbc9f-fabc-4e13-bbe2-d746a8843870",
    "_uuid": "eac3355b75135db37e92b38f32cf31bd42807d6b",
    "execution": {
     "iopub.execute_input": "2022-12-24T02:26:40.931191Z",
     "iopub.status.busy": "2022-12-24T02:26:40.930797Z",
     "iopub.status.idle": "2022-12-24T02:26:40.935901Z",
     "shell.execute_reply": "2022-12-24T02:26:40.935004Z",
     "shell.execute_reply.started": "2022-12-24T02:26:40.931122Z"
    }
   },
   "outputs": [],
   "source": [
    "from sklearn.metrics import f1_score"
   ]
  },
  {
   "cell_type": "code",
   "execution_count": 11,
   "metadata": {
    "_cell_guid": "ef3fc933-ec5e-4d29-b591-e46b29427895",
    "_uuid": "29dd79d48db0a9a15cba1e004e85434536920d7a",
    "execution": {
     "iopub.execute_input": "2022-12-24T02:26:42.048143Z",
     "iopub.status.busy": "2022-12-24T02:26:42.047833Z",
     "iopub.status.idle": "2022-12-24T02:26:42.991682Z",
     "shell.execute_reply": "2022-12-24T02:26:42.990870Z",
     "shell.execute_reply.started": "2022-12-24T02:26:42.048091Z"
    }
   },
   "outputs": [
    {
     "data": {
      "text/plain": [
       "0.013131315551742895"
      ]
     },
     "execution_count": 11,
     "metadata": {},
     "output_type": "execute_result"
    }
   ],
   "source": [
    "f1_score(y_pred=df['Fraud_Heuristic'],y_true=df['isFraud'])"
   ]
  },
  {
   "cell_type": "code",
   "execution_count": 12,
   "metadata": {
    "_cell_guid": "2b65ae69-b0bf-46f1-8136-9a830cf4e925",
    "_uuid": "b8b81e8cf76e619f9764d2e2e90fee73e03911f5",
    "execution": {
     "iopub.execute_input": "2022-12-24T02:26:43.813653Z",
     "iopub.status.busy": "2022-12-24T02:26:43.813342Z",
     "iopub.status.idle": "2022-12-24T02:26:43.817982Z",
     "shell.execute_reply": "2022-12-24T02:26:43.817008Z",
     "shell.execute_reply.started": "2022-12-24T02:26:43.813603Z"
    }
   },
   "outputs": [],
   "source": [
    "from sklearn.metrics import confusion_matrix"
   ]
  },
  {
   "cell_type": "code",
   "execution_count": 13,
   "metadata": {
    "_cell_guid": "bbfcb1f4-947b-47fe-a4cf-66418054babf",
    "_uuid": "27d9d487195374de27f878ca8418816852e2ec0a",
    "execution": {
     "iopub.execute_input": "2022-12-24T02:26:44.659644Z",
     "iopub.status.busy": "2022-12-24T02:26:44.659323Z",
     "iopub.status.idle": "2022-12-24T02:26:47.253528Z",
     "shell.execute_reply": "2022-12-24T02:26:47.252694Z",
     "shell.execute_reply.started": "2022-12-24T02:26:44.659592Z"
    }
   },
   "outputs": [],
   "source": [
    "cm = confusion_matrix(y_pred=df['Fraud_Heuristic'],y_true=df['isFraud'])"
   ]
  },
  {
   "cell_type": "code",
   "execution_count": 14,
   "metadata": {
    "_cell_guid": "90f6de0d-1127-4f9c-a537-8eaab117f514",
    "_uuid": "2c1c67161bb26996050859c23e2479228459baa0",
    "execution": {
     "iopub.execute_input": "2022-12-24T02:26:47.254937Z",
     "iopub.status.busy": "2022-12-24T02:26:47.254639Z",
     "iopub.status.idle": "2022-12-24T02:26:47.633908Z",
     "shell.execute_reply": "2022-12-24T02:26:47.632998Z",
     "shell.execute_reply.started": "2022-12-24T02:26:47.254881Z"
    }
   },
   "outputs": [
    {
     "data": {
      "image/png": "[encoded data removed]",
      "text/plain": [
       "<matplotlib.figure.Figure at 0x7f0326629b00>"
      ]
     },
     "metadata": {},
     "output_type": "display_data"
    }
   ],
   "source": [
    "plot_confusion_matrix(cm,['Genuine','Fraud'], normalize=False)"
   ]
  },
  {
   "cell_type": "code",
   "execution_count": 15,
   "metadata": {
    "_cell_guid": "1edc03e0-9f12-4865-80dc-e306ba034cba",
    "_uuid": "4c624a6ce3b51651bb8af42ccf2f3337d4b4400a",
    "execution": {
     "iopub.execute_input": "2022-12-24T02:26:50.757356Z",
     "iopub.status.busy": "2022-12-24T02:26:50.756752Z",
     "iopub.status.idle": "2022-12-24T02:26:50.762871Z",
     "shell.execute_reply": "2022-12-24T02:26:50.762039Z",
     "shell.execute_reply.started": "2022-12-24T02:26:50.757283Z"
    }
   },
   "outputs": [
    {
     "data": {
      "text/plain": [
       "(2770409, 12)"
      ]
     },
     "execution_count": 15,
     "metadata": {},
     "output_type": "execute_result"
    }
   ],
   "source": [
    "df.shape"
   ]
  },
  {
   "cell_type": "markdown",
   "metadata": {},
   "source": [
    "# **Caracteristicas**"
   ]
  },
  {
   "cell_type": "code",
   "execution_count": 16,
   "metadata": {
    "_cell_guid": "2995d88e-9b19-44d2-8cba-070e631670a5",
    "_uuid": "5e0089ef984e7cc1a243d5e1bdb7fbdba7118ed9",
    "execution": {
     "iopub.execute_input": "2022-12-24T02:26:52.838918Z",
     "iopub.status.busy": "2022-12-24T02:26:52.838274Z",
     "iopub.status.idle": "2022-12-24T02:26:52.908306Z",
     "shell.execute_reply": "2022-12-24T02:26:52.907440Z",
     "shell.execute_reply.started": "2022-12-24T02:26:52.838862Z"
    }
   },
   "outputs": [],
   "source": [
    "#Con el modulo % sacamos residuos de una division\n",
    "df['hour'] = df['step'] % 24"
   ]
  },
  {
   "cell_type": "code",
   "execution_count": 17,
   "metadata": {
    "_cell_guid": "fa219d76-491e-4a06-87af-d2b88ff11b76",
    "_uuid": "7667ba25cfd6e3897d364280677730a019721088",
    "execution": {
     "iopub.execute_input": "2022-12-24T02:26:53.639278Z",
     "iopub.status.busy": "2022-12-24T02:26:53.638620Z",
     "iopub.status.idle": "2022-12-24T02:26:54.613978Z",
     "shell.execute_reply": "2022-12-24T02:26:54.613117Z",
     "shell.execute_reply.started": "2022-12-24T02:26:53.639217Z"
    }
   },
   "outputs": [],
   "source": [
    "frauds = []\n",
    "genuine = []\n",
    "for i in range(24):\n",
    "    f = len(df[(df['hour'] == i) & (df['isFraud'] == 1)])\n",
    "    g = len(df[(df['hour'] == i) & (df['isFraud'] == 0)])\n",
    "    frauds.append(f)\n",
    "    genuine.append(g)"
   ]
  },
  {
   "cell_type": "markdown",
   "metadata": {},
   "source": [
    "Observamos las proporciones de transacciones fraudulentas con respecto a la hora"
   ]
  },
  {
   "cell_type": "code",
   "execution_count": 18,
   "metadata": {
    "_cell_guid": "83181d16-aa2e-4a84-b508-9af79d0c7ef7",
    "_uuid": "d0c2b8fa5df5a7bb73cc93baa03857dc92fc65bb",
    "execution": {
     "iopub.execute_input": "2022-12-24T02:26:56.724160Z",
     "iopub.status.busy": "2022-12-24T02:26:56.723718Z",
     "iopub.status.idle": "2022-12-24T02:26:56.962312Z",
     "shell.execute_reply": "2022-12-24T02:26:56.961473Z",
     "shell.execute_reply.started": "2022-12-24T02:26:56.724019Z"
    }
   },
   "outputs": [
    {
     "data": {
      "image/png": "[encoded data removed]",
      "text/plain": [
       "<matplotlib.figure.Figure at 0x7f03571d9f28>"
      ]
     },
     "metadata": {},
     "output_type": "display_data"
    }
   ],
   "source": [
    "sns.set_style(\"white\")\n",
    "\n",
    "fig, ax = plt.subplots(figsize=(10,6))\n",
    "gen = ax.plot(genuine/np.sum(genuine), label='Genuine')\n",
    "fr = ax.plot(frauds/np.sum(frauds),dashes=[5, 2], label='Fraud')\n",
    "plt.xticks(np.arange(24))\n",
    "legend = ax.legend(loc='upper center', shadow=True)\n",
    "fig.savefig('time.png')"
   ]
  },
  {
   "cell_type": "markdown",
   "metadata": {},
   "source": [
    "Proporcion fraud/genuine+fraud"
   ]
  },
  {
   "cell_type": "code",
   "execution_count": 19,
   "metadata": {
    "_cell_guid": "6d9d6bac-b87e-44f6-93e4-284006ce7e28",
    "_uuid": "255c70f81e70efb04d55173c4608cc274dd51169",
    "execution": {
     "iopub.execute_input": "2022-12-24T02:26:59.273206Z",
     "iopub.status.busy": "2022-12-24T02:26:59.272856Z",
     "iopub.status.idle": "2022-12-24T02:26:59.496694Z",
     "shell.execute_reply": "2022-12-24T02:26:59.496068Z",
     "shell.execute_reply.started": "2022-12-24T02:26:59.273138Z"
    }
   },
   "outputs": [
    {
     "data": {
      "image/png": "[encoded data removed]",
      "text/plain": [
       "<matplotlib.figure.Figure at 0x7f0357e19e48>"
      ]
     },
     "metadata": {},
     "output_type": "display_data"
    }
   ],
   "source": [
    "sns.set_style(\"white\")\n",
    "\n",
    "fig, ax = plt.subplots(figsize=(10,6))\n",
    "frgen = ax.plot(np.divide(frauds,np.add(genuine,frauds)), label='Share of fraud')\n",
    "plt.xticks(np.arange(24))\n",
    "legend = ax.legend(loc='upper center', shadow=True)\n",
    "fig.savefig('time_comp.png')"
   ]
  },
  {
   "cell_type": "code",
   "execution_count": 20,
   "metadata": {
    "_cell_guid": "005948a1-71e8-43ea-a1c8-936c00d062af",
    "_uuid": "56f8b08a6399e018d41764e3a9a89efd562d1272",
    "execution": {
     "iopub.execute_input": "2022-12-24T02:27:00.360994Z",
     "iopub.status.busy": "2022-12-24T02:27:00.360434Z",
     "iopub.status.idle": "2022-12-24T02:27:00.597293Z",
     "shell.execute_reply": "2022-12-24T02:27:00.596554Z",
     "shell.execute_reply.started": "2022-12-24T02:27:00.360924Z"
    }
   },
   "outputs": [],
   "source": [
    "dfFraudTransfer = df[(df.isFraud == 1) & (df.type == 'TRANSFER')]"
   ]
  },
  {
   "cell_type": "code",
   "execution_count": 21,
   "metadata": {
    "_cell_guid": "7d7d87c4-d59b-4bd9-a1eb-bba40913b16e",
    "_uuid": "4bc316821f7d2e9b4b397d57e5e99a6a6bdc7055",
    "execution": {
     "iopub.execute_input": "2022-12-24T02:27:01.366194Z",
     "iopub.status.busy": "2022-12-24T02:27:01.365683Z",
     "iopub.status.idle": "2022-12-24T02:27:01.599773Z",
     "shell.execute_reply": "2022-12-24T02:27:01.599023Z",
     "shell.execute_reply.started": "2022-12-24T02:27:01.366143Z"
    }
   },
   "outputs": [],
   "source": [
    "dfFraudCashOut = df[(df.isFraud == 1) & (df.type == 'CASH_OUT')]"
   ]
  },
  {
   "cell_type": "code",
   "execution_count": 22,
   "metadata": {
    "_cell_guid": "089ace6e-714f-4ca7-a2c2-3480f1d9ebc0",
    "_uuid": "f639e94a4b1dd4bcd9f4a98456ab46f4acd61fae",
    "execution": {
     "iopub.execute_input": "2022-12-24T02:27:02.435853Z",
     "iopub.status.busy": "2022-12-24T02:27:02.435147Z",
     "iopub.status.idle": "2022-12-24T02:27:02.445768Z",
     "shell.execute_reply": "2022-12-24T02:27:02.444778Z",
     "shell.execute_reply.started": "2022-12-24T02:27:02.435759Z"
    }
   },
   "outputs": [
    {
     "data": {
      "text/plain": [
       "False"
      ]
     },
     "execution_count": 22,
     "metadata": {},
     "output_type": "execute_result"
    }
   ],
   "source": [
    "dfFraudTransfer.nameDest.isin(dfFraudCashOut.nameOrig).any()"
   ]
  },
  {
   "cell_type": "code",
   "execution_count": 23,
   "metadata": {
    "_cell_guid": "a590b020-7457-4064-a61d-e512d6850a99",
    "_uuid": "d428fd42ecb27e3ecee4b307601e94bd2ba46c04",
    "execution": {
     "iopub.execute_input": "2022-12-24T02:27:03.625076Z",
     "iopub.status.busy": "2022-12-24T02:27:03.624737Z",
     "iopub.status.idle": "2022-12-24T02:27:03.628850Z",
     "shell.execute_reply": "2022-12-24T02:27:03.628011Z",
     "shell.execute_reply.started": "2022-12-24T02:27:03.625025Z"
    }
   },
   "outputs": [],
   "source": [
    "#dfNotFraud = df[(df.isFraud == 0)]"
   ]
  },
  {
   "cell_type": "code",
   "execution_count": 24,
   "metadata": {
    "_cell_guid": "04e3c116-0915-427c-9ca3-b990c0c3521c",
    "_uuid": "f6ce4079e3d2a4e7590511397b01a01971c0ab65",
    "execution": {
     "iopub.execute_input": "2022-12-24T02:27:04.444062Z",
     "iopub.status.busy": "2022-12-24T02:27:04.443671Z",
     "iopub.status.idle": "2022-12-24T02:27:04.447790Z",
     "shell.execute_reply": "2022-12-24T02:27:04.447153Z",
     "shell.execute_reply.started": "2022-12-24T02:27:04.443994Z"
    }
   },
   "outputs": [],
   "source": [
    "#dfFraud = df[(df.isFraud == 1)]"
   ]
  },
  {
   "cell_type": "code",
   "execution_count": 25,
   "metadata": {
    "_cell_guid": "0458bb71-a274-4ee4-8666-e9f9988fbf44",
    "_uuid": "9df88bb3f8867534b7f18448c61eddf0d285d532",
    "execution": {
     "iopub.execute_input": "2022-12-24T02:27:04.953848Z",
     "iopub.status.busy": "2022-12-24T02:27:04.953173Z",
     "iopub.status.idle": "2022-12-24T02:27:04.958455Z",
     "shell.execute_reply": "2022-12-24T02:27:04.957635Z",
     "shell.execute_reply.started": "2022-12-24T02:27:04.953755Z"
    }
   },
   "outputs": [],
   "source": [
    "#dfFraudTransfer.loc[dfFraudTransfer.nameDest.isin(dfNotFraud.loc[dfNotFraud.type == 'CASH_OUT'].nameOrig.drop_duplicates())]"
   ]
  },
  {
   "cell_type": "code",
   "execution_count": 26,
   "metadata": {
    "_cell_guid": "bbb9c8bc-7948-4b73-ba13-bf709f86f42b",
    "_uuid": "025b7fa927483c2dd15564f31a1183a984e19ef6",
    "execution": {
     "iopub.execute_input": "2022-12-24T02:27:05.428144Z",
     "iopub.status.busy": "2022-12-24T02:27:05.427845Z",
     "iopub.status.idle": "2022-12-24T02:27:05.431487Z",
     "shell.execute_reply": "2022-12-24T02:27:05.430771Z",
     "shell.execute_reply.started": "2022-12-24T02:27:05.428099Z"
    }
   },
   "outputs": [],
   "source": [
    "#len(dfFraud[(dfFraud.oldBalanceDest == 0) & (dfFraud.newBalanceDest == 0) & (dfFraud.amount)]) / (1.0 * len(dfFraud))"
   ]
  },
  {
   "cell_type": "code",
   "execution_count": 27,
   "metadata": {
    "_cell_guid": "ae83f4ca-a69d-4b75-8156-8a720800e5ca",
    "_uuid": "7aa242515f5fc3e325f0b71e46cf5f62668ff2e5",
    "execution": {
     "iopub.execute_input": "2022-12-24T02:27:06.222153Z",
     "iopub.status.busy": "2022-12-24T02:27:06.221751Z",
     "iopub.status.idle": "2022-12-24T02:27:06.226382Z",
     "shell.execute_reply": "2022-12-24T02:27:06.225562Z",
     "shell.execute_reply.started": "2022-12-24T02:27:06.222079Z"
    }
   },
   "outputs": [],
   "source": [
    "#len(dfNotFraud[(dfNotFraud.oldBalanceDest == 0) & (dfNotFraud.newBalanceDest == 0) & (dfNotFraud.amount)]) / (1.0 * len(dfNotFraud))"
   ]
  },
  {
   "cell_type": "code",
   "execution_count": 28,
   "metadata": {
    "_cell_guid": "3ebe8e5f-7b68-4d5a-bf00-24dd7ae8377e",
    "_uuid": "9d3ba781327ccd3accb99b7ee48266dfd836f997",
    "execution": {
     "iopub.execute_input": "2022-12-24T02:27:07.071043Z",
     "iopub.status.busy": "2022-12-24T02:27:07.070655Z",
     "iopub.status.idle": "2022-12-24T02:27:07.106911Z",
     "shell.execute_reply": "2022-12-24T02:27:07.105921Z",
     "shell.execute_reply.started": "2022-12-24T02:27:07.070971Z"
    }
   },
   "outputs": [],
   "source": [
    "dfOdd = df[(df.oldBalanceDest == 0) & \n",
    "           (df.newBalanceDest == 0) & \n",
    "           (df.amount)]"
   ]
  },
  {
   "cell_type": "code",
   "execution_count": 29,
   "metadata": {
    "_cell_guid": "e042c19c-9d13-4620-a06b-5254aa329018",
    "_uuid": "8dfc571f4f34c9853df73c31c41b836068fb7e84",
    "execution": {
     "iopub.execute_input": "2022-12-24T02:27:08.020666Z",
     "iopub.status.busy": "2022-12-24T02:27:08.020349Z",
     "iopub.status.idle": "2022-12-24T02:27:08.028594Z",
     "shell.execute_reply": "2022-12-24T02:27:08.027766Z",
     "shell.execute_reply.started": "2022-12-24T02:27:08.020613Z"
    }
   },
   "outputs": [
    {
     "data": {
      "text/plain": [
       "0.7046398891966759"
      ]
     },
     "execution_count": 29,
     "metadata": {},
     "output_type": "execute_result"
    }
   ],
   "source": [
    "#Proporcion de fraudes en base al anterior filtro\n",
    "len(dfOdd[(dfOdd.isFraud == 1)]) / len(dfOdd)"
   ]
  },
  {
   "cell_type": "code",
   "execution_count": 30,
   "metadata": {
    "_cell_guid": "2bab655e-20c1-4a0c-8a4f-5033f344e1cd",
    "_uuid": "21a6504216ac83792781291c4dd7fc3080820ece",
    "execution": {
     "iopub.execute_input": "2022-12-24T02:27:08.688467Z",
     "iopub.status.busy": "2022-12-24T02:27:08.687974Z",
     "iopub.status.idle": "2022-12-24T02:27:08.697772Z",
     "shell.execute_reply": "2022-12-24T02:27:08.696902Z",
     "shell.execute_reply.started": "2022-12-24T02:27:08.688418Z"
    }
   },
   "outputs": [
    {
     "data": {
      "text/plain": [
       "0.8966412742382271"
      ]
     },
     "execution_count": 30,
     "metadata": {},
     "output_type": "execute_result"
    }
   ],
   "source": [
    "#Proporcion de cuentas de origen con saldo insuficiente con base al monto de la accion bancaria \n",
    "len(dfOdd[(dfOdd.oldBalanceOrig <= dfOdd.amount)]) / len(dfOdd)"
   ]
  },
  {
   "cell_type": "code",
   "execution_count": 31,
   "metadata": {
    "_cell_guid": "9516d4cc-02e1-4639-96ed-3a8d39edf7b2",
    "_uuid": "ed92818f12f764643cbc673b64b8aea112bb02e3",
    "execution": {
     "iopub.execute_input": "2022-12-24T02:27:09.297506Z",
     "iopub.status.busy": "2022-12-24T02:27:09.297015Z",
     "iopub.status.idle": "2022-12-24T02:27:09.307572Z",
     "shell.execute_reply": "2022-12-24T02:27:09.306753Z",
     "shell.execute_reply.started": "2022-12-24T02:27:09.297428Z"
    }
   },
   "outputs": [
    {
     "data": {
      "text/plain": [
       "0.9636363636363636"
      ]
     },
     "execution_count": 31,
     "metadata": {},
     "output_type": "execute_result"
    }
   ],
   "source": [
    "len(dfOdd[(dfOdd.oldBalanceOrig <= dfOdd.amount) & (dfOdd.isFraud == 1)]) / len(dfOdd[(dfOdd.isFraud == 1)])"
   ]
  },
  {
   "cell_type": "markdown",
   "metadata": {},
   "source": [
    "Los fraudes se mueven en la madrugada y ademas, hay una peculiaridad y es que las cuentas a que se destinan siempre estan en cero. Otra peculiaridad es que se transfiere mas de lo que hay en las cuentas. Los hacker vacian mucho las cuentas mas que las personas normales."
   ]
  },
  {
   "cell_type": "code",
   "execution_count": 32,
   "metadata": {
    "_cell_guid": "b194d4b1-a08b-4a31-a96a-6c63587bfe32",
    "_uuid": "74fddda994f8cc23162fdbe2c1acdf3ecac22439",
    "execution": {
     "iopub.execute_input": "2022-12-24T02:27:11.127095Z",
     "iopub.status.busy": "2022-12-24T02:27:11.126381Z",
     "iopub.status.idle": "2022-12-24T02:27:11.131842Z",
     "shell.execute_reply": "2022-12-24T02:27:11.130919Z",
     "shell.execute_reply.started": "2022-12-24T02:27:11.126745Z"
    }
   },
   "outputs": [],
   "source": [
    "#dfOdd.columns"
   ]
  },
  {
   "cell_type": "code",
   "execution_count": 33,
   "metadata": {
    "_cell_guid": "4863d8dc-7898-4c76-8466-fdf02acecd97",
    "_uuid": "6577199c45acee7d024d7ef684784c2ea2360287",
    "execution": {
     "iopub.execute_input": "2022-12-24T02:27:11.673449Z",
     "iopub.status.busy": "2022-12-24T02:27:11.672741Z",
     "iopub.status.idle": "2022-12-24T02:27:11.677858Z",
     "shell.execute_reply": "2022-12-24T02:27:11.676932Z",
     "shell.execute_reply.started": "2022-12-24T02:27:11.673372Z"
    }
   },
   "outputs": [],
   "source": [
    "#dfOdd.head(20)"
   ]
  },
  {
   "cell_type": "code",
   "execution_count": 34,
   "metadata": {
    "_cell_guid": "641a0bb1-3c5d-4b61-8e6c-2e141c9e47c6",
    "_uuid": "498f706544e28e36527b3c0f5bf87fcc4cd57ffd",
    "execution": {
     "iopub.execute_input": "2022-12-24T02:27:12.135921Z",
     "iopub.status.busy": "2022-12-24T02:27:12.135025Z",
     "iopub.status.idle": "2022-12-24T02:27:12.156087Z",
     "shell.execute_reply": "2022-12-24T02:27:12.155229Z",
     "shell.execute_reply.started": "2022-12-24T02:27:12.135834Z"
    }
   },
   "outputs": [
    {
     "data": {
      "text/html": [
       "<div>\n",
       "<style>\n",
       "    .dataframe thead tr:only-child th {\n",
       "        text-align: right;\n",
       "    }\n",
       "\n",
       "    .dataframe thead th {\n",
       "        text-align: left;\n",
       "    }\n",
       "\n",
       "    .dataframe tbody tr th {\n",
       "        vertical-align: top;\n",
       "    }\n",
       "</style>\n",
       "<table border=\"1\" class=\"dataframe\">\n",
       "  <thead>\n",
       "    <tr style=\"text-align: right;\">\n",
       "      <th></th>\n",
       "      <th>step</th>\n",
       "      <th>type</th>\n",
       "      <th>amount</th>\n",
       "      <th>nameOrig</th>\n",
       "      <th>oldBalanceOrig</th>\n",
       "      <th>newBalanceOrig</th>\n",
       "      <th>nameDest</th>\n",
       "      <th>oldBalanceDest</th>\n",
       "      <th>newBalanceDest</th>\n",
       "      <th>isFraud</th>\n",
       "      <th>isFlaggedFraud</th>\n",
       "      <th>Fraud_Heuristic</th>\n",
       "      <th>hour</th>\n",
       "    </tr>\n",
       "  </thead>\n",
       "  <tbody>\n",
       "    <tr>\n",
       "      <th>2</th>\n",
       "      <td>1</td>\n",
       "      <td>TRANSFER</td>\n",
       "      <td>181.00</td>\n",
       "      <td>C1305486145</td>\n",
       "      <td>181.0</td>\n",
       "      <td>0.0</td>\n",
       "      <td>C553264065</td>\n",
       "      <td>0.0</td>\n",
       "      <td>0.00</td>\n",
       "      <td>1</td>\n",
       "      <td>0</td>\n",
       "      <td>0</td>\n",
       "      <td>1</td>\n",
       "    </tr>\n",
       "    <tr>\n",
       "      <th>3</th>\n",
       "      <td>1</td>\n",
       "      <td>CASH_OUT</td>\n",
       "      <td>181.00</td>\n",
       "      <td>C840083671</td>\n",
       "      <td>181.0</td>\n",
       "      <td>0.0</td>\n",
       "      <td>C38997010</td>\n",
       "      <td>21182.0</td>\n",
       "      <td>0.00</td>\n",
       "      <td>1</td>\n",
       "      <td>0</td>\n",
       "      <td>0</td>\n",
       "      <td>1</td>\n",
       "    </tr>\n",
       "    <tr>\n",
       "      <th>15</th>\n",
       "      <td>1</td>\n",
       "      <td>CASH_OUT</td>\n",
       "      <td>229133.94</td>\n",
       "      <td>C905080434</td>\n",
       "      <td>15325.0</td>\n",
       "      <td>0.0</td>\n",
       "      <td>C476402209</td>\n",
       "      <td>5083.0</td>\n",
       "      <td>51513.44</td>\n",
       "      <td>0</td>\n",
       "      <td>0</td>\n",
       "      <td>0</td>\n",
       "      <td>1</td>\n",
       "    </tr>\n",
       "    <tr>\n",
       "      <th>19</th>\n",
       "      <td>1</td>\n",
       "      <td>TRANSFER</td>\n",
       "      <td>215310.30</td>\n",
       "      <td>C1670993182</td>\n",
       "      <td>705.0</td>\n",
       "      <td>0.0</td>\n",
       "      <td>C1100439041</td>\n",
       "      <td>22425.0</td>\n",
       "      <td>0.00</td>\n",
       "      <td>0</td>\n",
       "      <td>0</td>\n",
       "      <td>1</td>\n",
       "      <td>1</td>\n",
       "    </tr>\n",
       "    <tr>\n",
       "      <th>24</th>\n",
       "      <td>1</td>\n",
       "      <td>TRANSFER</td>\n",
       "      <td>311685.89</td>\n",
       "      <td>C1984094095</td>\n",
       "      <td>10835.0</td>\n",
       "      <td>0.0</td>\n",
       "      <td>C932583850</td>\n",
       "      <td>6267.0</td>\n",
       "      <td>2719172.89</td>\n",
       "      <td>0</td>\n",
       "      <td>0</td>\n",
       "      <td>1</td>\n",
       "      <td>1</td>\n",
       "    </tr>\n",
       "  </tbody>\n",
       "</table>\n",
       "</div>"
      ],
      "text/plain": [
       "    step      type     amount     nameOrig  oldBalanceOrig  newBalanceOrig  \\\n",
       "2      1  TRANSFER     181.00  C1305486145           181.0             0.0   \n",
       "3      1  CASH_OUT     181.00   C840083671           181.0             0.0   \n",
       "15     1  CASH_OUT  229133.94   C905080434         15325.0             0.0   \n",
       "19     1  TRANSFER  215310.30  C1670993182           705.0             0.0   \n",
       "24     1  TRANSFER  311685.89  C1984094095         10835.0             0.0   \n",
       "\n",
       "       nameDest  oldBalanceDest  newBalanceDest  isFraud  isFlaggedFraud  \\\n",
       "2    C553264065             0.0            0.00        1               0   \n",
       "3     C38997010         21182.0            0.00        1               0   \n",
       "15   C476402209          5083.0        51513.44        0               0   \n",
       "19  C1100439041         22425.0            0.00        0               0   \n",
       "24   C932583850          6267.0      2719172.89        0               0   \n",
       "\n",
       "    Fraud_Heuristic  hour  \n",
       "2                 0     1  \n",
       "3                 0     1  \n",
       "15                0     1  \n",
       "19                1     1  \n",
       "24                1     1  "
      ]
     },
     "execution_count": 34,
     "metadata": {},
     "output_type": "execute_result"
    }
   ],
   "source": [
    "df.head()"
   ]
  },
  {
   "cell_type": "markdown",
   "metadata": {},
   "source": [
    "# **Preparacion de datos**"
   ]
  },
  {
   "cell_type": "code",
   "execution_count": 35,
   "metadata": {
    "_cell_guid": "8a101e7c-5718-4771-b249-ad132736047c",
    "_uuid": "985c1701b5310b06af3efd8d79f166f39430e92a",
    "execution": {
     "iopub.execute_input": "2022-12-24T02:27:16.191860Z",
     "iopub.status.busy": "2022-12-24T02:27:16.191533Z",
     "iopub.status.idle": "2022-12-24T02:27:16.864271Z",
     "shell.execute_reply": "2022-12-24T02:27:16.863358Z",
     "shell.execute_reply.started": "2022-12-24T02:27:16.191793Z"
    }
   },
   "outputs": [],
   "source": [
    "df['type'] = 'type_' + df['type'].astype(str)"
   ]
  },
  {
   "cell_type": "code",
   "execution_count": 36,
   "metadata": {
    "execution": {
     "iopub.execute_input": "2022-12-24T02:27:16.901693Z",
     "iopub.status.busy": "2022-12-24T02:27:16.901346Z",
     "iopub.status.idle": "2022-12-24T02:27:17.405397Z",
     "shell.execute_reply": "2022-12-24T02:27:17.404426Z",
     "shell.execute_reply.started": "2022-12-24T02:27:16.901639Z"
    }
   },
   "outputs": [],
   "source": [
    "# Get dummies\n",
    "dummies = pd.get_dummies(df['type'])\n",
    "\n",
    "# Add dummies to df\n",
    "df = pd.concat([df,dummies],axis=1)\n",
    "\n",
    "#remove original column\n",
    "del df['type']"
   ]
  },
  {
   "cell_type": "markdown",
   "metadata": {
    "_uuid": "0b56e89da2743646fecadc81b420741209587efe"
   },
   "source": [
    "# **Predictive modeling with Keras**"
   ]
  },
  {
   "cell_type": "code",
   "execution_count": 37,
   "metadata": {
    "_uuid": "85c8ca24601cf5999b74ebb61a2352dd0757c37a",
    "execution": {
     "iopub.execute_input": "2022-12-24T02:27:21.744716Z",
     "iopub.status.busy": "2022-12-24T02:27:21.744075Z",
     "iopub.status.idle": "2022-12-24T02:27:22.672910Z",
     "shell.execute_reply": "2022-12-24T02:27:22.672091Z",
     "shell.execute_reply.started": "2022-12-24T02:27:21.744650Z"
    }
   },
   "outputs": [],
   "source": [
    "df = df.drop(['nameOrig','nameDest','Fraud_Heuristic'], axis= 1)"
   ]
  },
  {
   "cell_type": "code",
   "execution_count": 38,
   "metadata": {
    "_uuid": "ed5bfe4fabe5e5af58dab596dd261865c5abdcfc",
    "execution": {
     "iopub.execute_input": "2022-12-24T02:27:22.721936Z",
     "iopub.status.busy": "2022-12-24T02:27:22.721458Z",
     "iopub.status.idle": "2022-12-24T02:27:22.761963Z",
     "shell.execute_reply": "2022-12-24T02:27:22.761047Z",
     "shell.execute_reply.started": "2022-12-24T02:27:22.721887Z"
    }
   },
   "outputs": [],
   "source": [
    "df['isNight'] = np.where((2 <= df['hour']) & (df['hour'] <= 6), 1,0)"
   ]
  },
  {
   "cell_type": "code",
   "execution_count": 39,
   "metadata": {
    "_uuid": "d9b16eac0df76b28cc7720a998d11a42020b383f",
    "execution": {
     "iopub.execute_input": "2022-12-24T02:27:23.985796Z",
     "iopub.status.busy": "2022-12-24T02:27:23.985413Z",
     "iopub.status.idle": "2022-12-24T02:27:24.199437Z",
     "shell.execute_reply": "2022-12-24T02:27:24.198705Z",
     "shell.execute_reply.started": "2022-12-24T02:27:23.985721Z"
    }
   },
   "outputs": [
    {
     "data": {
      "text/plain": [
       "0.35705263157894734"
      ]
     },
     "execution_count": 39,
     "metadata": {},
     "output_type": "execute_result"
    }
   ],
   "source": [
    "df[df['isNight'] == 1].isFraud.mean()"
   ]
  },
  {
   "cell_type": "code",
   "execution_count": 40,
   "metadata": {
    "_uuid": "2e6c6b8766326d22443ed067b8b68c8c264ce668",
    "execution": {
     "iopub.execute_input": "2022-12-24T02:27:25.164094Z",
     "iopub.status.busy": "2022-12-24T02:27:25.163503Z",
     "iopub.status.idle": "2022-12-24T02:27:25.183665Z",
     "shell.execute_reply": "2022-12-24T02:27:25.182737Z",
     "shell.execute_reply.started": "2022-12-24T02:27:25.164011Z"
    }
   },
   "outputs": [
    {
     "data": {
      "text/html": [
       "<div>\n",
       "<style>\n",
       "    .dataframe thead tr:only-child th {\n",
       "        text-align: right;\n",
       "    }\n",
       "\n",
       "    .dataframe thead th {\n",
       "        text-align: left;\n",
       "    }\n",
       "\n",
       "    .dataframe tbody tr th {\n",
       "        vertical-align: top;\n",
       "    }\n",
       "</style>\n",
       "<table border=\"1\" class=\"dataframe\">\n",
       "  <thead>\n",
       "    <tr style=\"text-align: right;\">\n",
       "      <th></th>\n",
       "      <th>step</th>\n",
       "      <th>amount</th>\n",
       "      <th>oldBalanceOrig</th>\n",
       "      <th>newBalanceOrig</th>\n",
       "      <th>oldBalanceDest</th>\n",
       "      <th>newBalanceDest</th>\n",
       "      <th>isFraud</th>\n",
       "      <th>isFlaggedFraud</th>\n",
       "      <th>hour</th>\n",
       "      <th>type_CASH_OUT</th>\n",
       "      <th>type_TRANSFER</th>\n",
       "      <th>isNight</th>\n",
       "    </tr>\n",
       "  </thead>\n",
       "  <tbody>\n",
       "    <tr>\n",
       "      <th>2</th>\n",
       "      <td>1</td>\n",
       "      <td>181.00</td>\n",
       "      <td>181.0</td>\n",
       "      <td>0.0</td>\n",
       "      <td>0.0</td>\n",
       "      <td>0.00</td>\n",
       "      <td>1</td>\n",
       "      <td>0</td>\n",
       "      <td>1</td>\n",
       "      <td>0</td>\n",
       "      <td>1</td>\n",
       "      <td>0</td>\n",
       "    </tr>\n",
       "    <tr>\n",
       "      <th>3</th>\n",
       "      <td>1</td>\n",
       "      <td>181.00</td>\n",
       "      <td>181.0</td>\n",
       "      <td>0.0</td>\n",
       "      <td>21182.0</td>\n",
       "      <td>0.00</td>\n",
       "      <td>1</td>\n",
       "      <td>0</td>\n",
       "      <td>1</td>\n",
       "      <td>1</td>\n",
       "      <td>0</td>\n",
       "      <td>0</td>\n",
       "    </tr>\n",
       "    <tr>\n",
       "      <th>15</th>\n",
       "      <td>1</td>\n",
       "      <td>229133.94</td>\n",
       "      <td>15325.0</td>\n",
       "      <td>0.0</td>\n",
       "      <td>5083.0</td>\n",
       "      <td>51513.44</td>\n",
       "      <td>0</td>\n",
       "      <td>0</td>\n",
       "      <td>1</td>\n",
       "      <td>1</td>\n",
       "      <td>0</td>\n",
       "      <td>0</td>\n",
       "    </tr>\n",
       "    <tr>\n",
       "      <th>19</th>\n",
       "      <td>1</td>\n",
       "      <td>215310.30</td>\n",
       "      <td>705.0</td>\n",
       "      <td>0.0</td>\n",
       "      <td>22425.0</td>\n",
       "      <td>0.00</td>\n",
       "      <td>0</td>\n",
       "      <td>0</td>\n",
       "      <td>1</td>\n",
       "      <td>0</td>\n",
       "      <td>1</td>\n",
       "      <td>0</td>\n",
       "    </tr>\n",
       "    <tr>\n",
       "      <th>24</th>\n",
       "      <td>1</td>\n",
       "      <td>311685.89</td>\n",
       "      <td>10835.0</td>\n",
       "      <td>0.0</td>\n",
       "      <td>6267.0</td>\n",
       "      <td>2719172.89</td>\n",
       "      <td>0</td>\n",
       "      <td>0</td>\n",
       "      <td>1</td>\n",
       "      <td>0</td>\n",
       "      <td>1</td>\n",
       "      <td>0</td>\n",
       "    </tr>\n",
       "  </tbody>\n",
       "</table>\n",
       "</div>"
      ],
      "text/plain": [
       "    step     amount  oldBalanceOrig  newBalanceOrig  oldBalanceDest  \\\n",
       "2      1     181.00           181.0             0.0             0.0   \n",
       "3      1     181.00           181.0             0.0         21182.0   \n",
       "15     1  229133.94         15325.0             0.0          5083.0   \n",
       "19     1  215310.30           705.0             0.0         22425.0   \n",
       "24     1  311685.89         10835.0             0.0          6267.0   \n",
       "\n",
       "    newBalanceDest  isFraud  isFlaggedFraud  hour  type_CASH_OUT  \\\n",
       "2             0.00        1               0     1              0   \n",
       "3             0.00        1               0     1              1   \n",
       "15        51513.44        0               0     1              1   \n",
       "19            0.00        0               0     1              0   \n",
       "24      2719172.89        0               0     1              0   \n",
       "\n",
       "    type_TRANSFER  isNight  \n",
       "2               1        0  \n",
       "3               0        0  \n",
       "15              0        0  \n",
       "19              1        0  \n",
       "24              1        0  "
      ]
     },
     "execution_count": 40,
     "metadata": {},
     "output_type": "execute_result"
    }
   ],
   "source": [
    "df.head()"
   ]
  },
  {
   "cell_type": "code",
   "execution_count": 41,
   "metadata": {
    "_uuid": "59d91e74ac80682a522217dfa1205d5efc502564",
    "execution": {
     "iopub.execute_input": "2022-12-24T02:27:26.708830Z",
     "iopub.status.busy": "2022-12-24T02:27:26.708196Z",
     "iopub.status.idle": "2022-12-24T02:27:26.812921Z",
     "shell.execute_reply": "2022-12-24T02:27:26.811972Z",
     "shell.execute_reply.started": "2022-12-24T02:27:26.708761Z"
    }
   },
   "outputs": [],
   "source": [
    "df = df.drop(['step','hour'],axis=1)"
   ]
  },
  {
   "cell_type": "code",
   "execution_count": 42,
   "metadata": {
    "_uuid": "6b512f2ae4321f7de22769237b47886392be782b",
    "execution": {
     "iopub.execute_input": "2022-12-24T02:27:28.279216Z",
     "iopub.status.busy": "2022-12-24T02:27:28.278648Z",
     "iopub.status.idle": "2022-12-24T02:27:28.295911Z",
     "shell.execute_reply": "2022-12-24T02:27:28.295173Z",
     "shell.execute_reply.started": "2022-12-24T02:27:28.279139Z"
    }
   },
   "outputs": [
    {
     "data": {
      "text/html": [
       "<div>\n",
       "<style>\n",
       "    .dataframe thead tr:only-child th {\n",
       "        text-align: right;\n",
       "    }\n",
       "\n",
       "    .dataframe thead th {\n",
       "        text-align: left;\n",
       "    }\n",
       "\n",
       "    .dataframe tbody tr th {\n",
       "        vertical-align: top;\n",
       "    }\n",
       "</style>\n",
       "<table border=\"1\" class=\"dataframe\">\n",
       "  <thead>\n",
       "    <tr style=\"text-align: right;\">\n",
       "      <th></th>\n",
       "      <th>amount</th>\n",
       "      <th>oldBalanceOrig</th>\n",
       "      <th>newBalanceOrig</th>\n",
       "      <th>oldBalanceDest</th>\n",
       "      <th>newBalanceDest</th>\n",
       "      <th>isFraud</th>\n",
       "      <th>isFlaggedFraud</th>\n",
       "      <th>type_CASH_OUT</th>\n",
       "      <th>type_TRANSFER</th>\n",
       "      <th>isNight</th>\n",
       "    </tr>\n",
       "  </thead>\n",
       "  <tbody>\n",
       "    <tr>\n",
       "      <th>2</th>\n",
       "      <td>181.00</td>\n",
       "      <td>181.0</td>\n",
       "      <td>0.0</td>\n",
       "      <td>0.0</td>\n",
       "      <td>0.00</td>\n",
       "      <td>1</td>\n",
       "      <td>0</td>\n",
       "      <td>0</td>\n",
       "      <td>1</td>\n",
       "      <td>0</td>\n",
       "    </tr>\n",
       "    <tr>\n",
       "      <th>3</th>\n",
       "      <td>181.00</td>\n",
       "      <td>181.0</td>\n",
       "      <td>0.0</td>\n",
       "      <td>21182.0</td>\n",
       "      <td>0.00</td>\n",
       "      <td>1</td>\n",
       "      <td>0</td>\n",
       "      <td>1</td>\n",
       "      <td>0</td>\n",
       "      <td>0</td>\n",
       "    </tr>\n",
       "    <tr>\n",
       "      <th>15</th>\n",
       "      <td>229133.94</td>\n",
       "      <td>15325.0</td>\n",
       "      <td>0.0</td>\n",
       "      <td>5083.0</td>\n",
       "      <td>51513.44</td>\n",
       "      <td>0</td>\n",
       "      <td>0</td>\n",
       "      <td>1</td>\n",
       "      <td>0</td>\n",
       "      <td>0</td>\n",
       "    </tr>\n",
       "    <tr>\n",
       "      <th>19</th>\n",
       "      <td>215310.30</td>\n",
       "      <td>705.0</td>\n",
       "      <td>0.0</td>\n",
       "      <td>22425.0</td>\n",
       "      <td>0.00</td>\n",
       "      <td>0</td>\n",
       "      <td>0</td>\n",
       "      <td>0</td>\n",
       "      <td>1</td>\n",
       "      <td>0</td>\n",
       "    </tr>\n",
       "    <tr>\n",
       "      <th>24</th>\n",
       "      <td>311685.89</td>\n",
       "      <td>10835.0</td>\n",
       "      <td>0.0</td>\n",
       "      <td>6267.0</td>\n",
       "      <td>2719172.89</td>\n",
       "      <td>0</td>\n",
       "      <td>0</td>\n",
       "      <td>0</td>\n",
       "      <td>1</td>\n",
       "      <td>0</td>\n",
       "    </tr>\n",
       "  </tbody>\n",
       "</table>\n",
       "</div>"
      ],
      "text/plain": [
       "       amount  oldBalanceOrig  newBalanceOrig  oldBalanceDest  newBalanceDest  \\\n",
       "2      181.00           181.0             0.0             0.0            0.00   \n",
       "3      181.00           181.0             0.0         21182.0            0.00   \n",
       "15  229133.94         15325.0             0.0          5083.0        51513.44   \n",
       "19  215310.30           705.0             0.0         22425.0            0.00   \n",
       "24  311685.89         10835.0             0.0          6267.0      2719172.89   \n",
       "\n",
       "    isFraud  isFlaggedFraud  type_CASH_OUT  type_TRANSFER  isNight  \n",
       "2         1               0              0              1        0  \n",
       "3         1               0              1              0        0  \n",
       "15        0               0              1              0        0  \n",
       "19        0               0              0              1        0  \n",
       "24        0               0              0              1        0  "
      ]
     },
     "execution_count": 42,
     "metadata": {},
     "output_type": "execute_result"
    }
   ],
   "source": [
    "df.head()"
   ]
  },
  {
   "cell_type": "code",
   "execution_count": 43,
   "metadata": {
    "_uuid": "6212329480de8a9d8a480b6cc3fe704c4bad5bd4",
    "execution": {
     "iopub.execute_input": "2022-12-24T02:27:31.176708Z",
     "iopub.status.busy": "2022-12-24T02:27:31.176145Z",
     "iopub.status.idle": "2022-12-24T02:27:31.181547Z",
     "shell.execute_reply": "2022-12-24T02:27:31.180963Z",
     "shell.execute_reply.started": "2022-12-24T02:27:31.176653Z"
    }
   },
   "outputs": [
    {
     "data": {
      "text/plain": [
       "array(['amount', 'oldBalanceOrig', 'newBalanceOrig', 'oldBalanceDest',\n",
       "       'newBalanceDest', 'isFraud', 'isFlaggedFraud', 'type_CASH_OUT',\n",
       "       'type_TRANSFER', 'isNight'], dtype=object)"
      ]
     },
     "execution_count": 43,
     "metadata": {},
     "output_type": "execute_result"
    }
   ],
   "source": [
    "df.columns.values"
   ]
  },
  {
   "cell_type": "code",
   "execution_count": 44,
   "metadata": {
    "_uuid": "366089217d81fdb4bb8aaa88213518981a856b6e",
    "execution": {
     "iopub.execute_input": "2022-12-24T02:28:35.119355Z",
     "iopub.status.busy": "2022-12-24T02:28:35.118756Z",
     "iopub.status.idle": "2022-12-24T02:28:35.257999Z",
     "shell.execute_reply": "2022-12-24T02:28:35.257291Z",
     "shell.execute_reply.started": "2022-12-24T02:28:35.119304Z"
    }
   },
   "outputs": [],
   "source": [
    "y_df = df['isFraud']\n",
    "x_df = df.drop('isFraud',axis=1)"
   ]
  },
  {
   "cell_type": "code",
   "execution_count": 45,
   "metadata": {
    "_uuid": "e12b7ce88529cfc06d95598110c2a7373719aeb3",
    "execution": {
     "iopub.execute_input": "2022-12-24T02:28:36.939781Z",
     "iopub.status.busy": "2022-12-24T02:28:36.939157Z",
     "iopub.status.idle": "2022-12-24T02:28:37.104750Z",
     "shell.execute_reply": "2022-12-24T02:28:37.104004Z",
     "shell.execute_reply.started": "2022-12-24T02:28:36.939725Z"
    }
   },
   "outputs": [],
   "source": [
    "y = y_df.values\n",
    "X = x_df.values"
   ]
  },
  {
   "cell_type": "code",
   "execution_count": 46,
   "metadata": {
    "_uuid": "e0380df4d7019013d8888e2d6851b2b1f434a101",
    "execution": {
     "iopub.execute_input": "2022-12-24T02:28:39.913788Z",
     "iopub.status.busy": "2022-12-24T02:28:39.913177Z",
     "iopub.status.idle": "2022-12-24T02:28:39.918649Z",
     "shell.execute_reply": "2022-12-24T02:28:39.917740Z",
     "shell.execute_reply.started": "2022-12-24T02:28:39.913734Z"
    }
   },
   "outputs": [
    {
     "data": {
      "text/plain": [
       "(2770409,)"
      ]
     },
     "execution_count": 46,
     "metadata": {},
     "output_type": "execute_result"
    }
   ],
   "source": [
    "y.shape"
   ]
  },
  {
   "cell_type": "code",
   "execution_count": 47,
   "metadata": {
    "_uuid": "47a7091a0d242e16f12e9e23beb04e81936ccb43",
    "execution": {
     "iopub.execute_input": "2022-12-24T02:28:40.739753Z",
     "iopub.status.busy": "2022-12-24T02:28:40.739390Z",
     "iopub.status.idle": "2022-12-24T02:28:40.745951Z",
     "shell.execute_reply": "2022-12-24T02:28:40.745006Z",
     "shell.execute_reply.started": "2022-12-24T02:28:40.739669Z"
    }
   },
   "outputs": [
    {
     "data": {
      "text/plain": [
       "(2770409, 9)"
      ]
     },
     "execution_count": 47,
     "metadata": {},
     "output_type": "execute_result"
    }
   ],
   "source": [
    "X.shape"
   ]
  },
  {
   "cell_type": "code",
   "execution_count": 48,
   "metadata": {
    "_uuid": "65f0a9e49dab6e3749e736a68408e77f46e91e23",
    "execution": {
     "iopub.execute_input": "2022-12-24T02:29:00.092252Z",
     "iopub.status.busy": "2022-12-24T02:29:00.091832Z",
     "iopub.status.idle": "2022-12-24T02:29:00.096378Z",
     "shell.execute_reply": "2022-12-24T02:29:00.095457Z",
     "shell.execute_reply.started": "2022-12-24T02:29:00.092180Z"
    }
   },
   "outputs": [],
   "source": [
    "from sklearn.model_selection import train_test_split"
   ]
  },
  {
   "cell_type": "code",
   "execution_count": 49,
   "metadata": {
    "_uuid": "ca9470a8c37a0d5ba2e6a681b06f7b82a60d2eb2",
    "execution": {
     "iopub.execute_input": "2022-12-24T02:30:45.192182Z",
     "iopub.status.busy": "2022-12-24T02:30:45.191762Z",
     "iopub.status.idle": "2022-12-24T02:30:46.068919Z",
     "shell.execute_reply": "2022-12-24T02:30:46.068009Z",
     "shell.execute_reply.started": "2022-12-24T02:30:45.192132Z"
    }
   },
   "outputs": [],
   "source": [
    "X_train, X_test, y_train, y_test = train_test_split(X, y, \n",
    "                                                    test_size=0.33, \n",
    "                                                    random_state=42)"
   ]
  },
  {
   "cell_type": "code",
   "execution_count": 50,
   "metadata": {
    "_uuid": "1ae7c88f2bfefb1661263edec83b35d7dbaa1edf",
    "execution": {
     "iopub.execute_input": "2022-12-24T02:32:28.843677Z",
     "iopub.status.busy": "2022-12-24T02:32:28.843332Z",
     "iopub.status.idle": "2022-12-24T02:32:29.138665Z",
     "shell.execute_reply": "2022-12-24T02:32:29.137730Z",
     "shell.execute_reply.started": "2022-12-24T02:32:28.843616Z"
    }
   },
   "outputs": [],
   "source": [
    "X_train, X_val, y_train, y_val = train_test_split(X_train, y_train, \n",
    "                                                    test_size=0.1, \n",
    "                                                    random_state=42)"
   ]
  },
  {
   "cell_type": "code",
   "execution_count": 51,
   "metadata": {
    "_uuid": "c5461955bda4e3a0512c82d4944c96f351702968",
    "execution": {
     "iopub.execute_input": "2022-12-24T02:33:46.189391Z",
     "iopub.status.busy": "2022-12-24T02:33:46.189011Z",
     "iopub.status.idle": "2022-12-24T02:33:46.311008Z",
     "shell.execute_reply": "2022-12-24T02:33:46.310045Z",
     "shell.execute_reply.started": "2022-12-24T02:33:46.189328Z"
    }
   },
   "outputs": [],
   "source": [
    "from imblearn.over_sampling import SMOTE, RandomOverSampler"
   ]
  },
  {
   "cell_type": "code",
   "execution_count": 52,
   "metadata": {
    "_uuid": "2a4e0d69f921c18830b9682509a3f59326f260d3",
    "execution": {
     "iopub.execute_input": "2022-12-24T02:33:50.547566Z",
     "iopub.status.busy": "2022-12-24T02:33:50.546933Z",
     "iopub.status.idle": "2022-12-24T02:33:59.422480Z",
     "shell.execute_reply": "2022-12-24T02:33:59.421719Z",
     "shell.execute_reply.started": "2022-12-24T02:33:50.547493Z"
    }
   },
   "outputs": [],
   "source": [
    "#Para agregar mas muestras fraudulentas para que el modelo sea mas valido. Osea, hacemos un sobremuestreo.\n",
    "sm = SMOTE(random_state=42)\n",
    "X_train_res, y_train_res = sm.fit_sample(X_train, y_train)"
   ]
  },
  {
   "cell_type": "code",
   "execution_count": 53,
   "metadata": {
    "_uuid": "8abe457ff9019acff6021beaf08e364b9c2ee446",
    "execution": {
     "iopub.execute_input": "2022-12-24T02:34:04.180325Z",
     "iopub.status.busy": "2022-12-24T02:34:04.179690Z",
     "iopub.status.idle": "2022-12-24T02:34:06.428661Z",
     "shell.execute_reply": "2022-12-24T02:34:06.427908Z",
     "shell.execute_reply.started": "2022-12-24T02:34:04.180252Z"
    }
   },
   "outputs": [
    {
     "name": "stderr",
     "output_type": "stream",
     "text": [
      "Using TensorFlow backend.\n"
     ]
    }
   ],
   "source": [
    "from keras.models import Sequential\n",
    "from keras.layers import Dense, Activation\n",
    "from keras.optimizers import SGD"
   ]
  },
  {
   "cell_type": "code",
   "execution_count": 54,
   "metadata": {
    "_uuid": "ac2285f19fc8c07dcca6ad01a4908b962cf94057",
    "execution": {
     "iopub.execute_input": "2022-12-24T02:36:08.825900Z",
     "iopub.status.busy": "2022-12-24T02:36:08.825534Z",
     "iopub.status.idle": "2022-12-24T02:36:08.863655Z",
     "shell.execute_reply": "2022-12-24T02:36:08.862593Z",
     "shell.execute_reply.started": "2022-12-24T02:36:08.825852Z"
    }
   },
   "outputs": [],
   "source": [
    "# Log reg\n",
    "model = Sequential()\n",
    "model.add(Dense(1, input_dim=9))\n",
    "model.add(Activation('sigmoid'))"
   ]
  },
  {
   "cell_type": "code",
   "execution_count": 55,
   "metadata": {
    "_uuid": "5980d96d6a6192988255b8696e0e8d8c08cd9160",
    "execution": {
     "iopub.execute_input": "2022-12-24T02:36:09.926464Z",
     "iopub.status.busy": "2022-12-24T02:36:09.926163Z",
     "iopub.status.idle": "2022-12-24T02:36:09.933544Z",
     "shell.execute_reply": "2022-12-24T02:36:09.932604Z",
     "shell.execute_reply.started": "2022-12-24T02:36:09.926416Z"
    }
   },
   "outputs": [
    {
     "name": "stdout",
     "output_type": "stream",
     "text": [
      "_________________________________________________________________\n",
      "Layer (type)                 Output Shape              Param #   \n",
      "=================================================================\n",
      "dense_1 (Dense)              (None, 1)                 10        \n",
      "_________________________________________________________________\n",
      "activation_1 (Activation)    (None, 1)                 0         \n",
      "=================================================================\n",
      "Total params: 10\n",
      "Trainable params: 10\n",
      "Non-trainable params: 0\n",
      "_________________________________________________________________\n"
     ]
    }
   ],
   "source": [
    "model.summary()"
   ]
  },
  {
   "cell_type": "code",
   "execution_count": 56,
   "metadata": {
    "_uuid": "ee8567e19223fe17c369b2348f84cca71a60e390",
    "execution": {
     "iopub.execute_input": "2022-12-24T02:36:21.981915Z",
     "iopub.status.busy": "2022-12-24T02:36:21.981604Z",
     "iopub.status.idle": "2022-12-24T02:36:22.019301Z",
     "shell.execute_reply": "2022-12-24T02:36:22.018379Z",
     "shell.execute_reply.started": "2022-12-24T02:36:21.981867Z"
    }
   },
   "outputs": [],
   "source": [
    "model.compile(loss='binary_crossentropy',\n",
    "              optimizer=SGD(lr=1e-5), \n",
    "              metrics=['acc'])"
   ]
  },
  {
   "cell_type": "code",
   "execution_count": 57,
   "metadata": {
    "_uuid": "81f7f57d55d1933ef339f23351fd9820c2ce2835",
    "execution": {
     "iopub.execute_input": "2022-12-24T02:37:08.891363Z",
     "iopub.status.busy": "2022-12-24T02:37:08.891010Z",
     "iopub.status.idle": "2022-12-24T02:38:41.306383Z",
     "shell.execute_reply": "2022-12-24T02:38:41.305592Z",
     "shell.execute_reply.started": "2022-12-24T02:37:08.891310Z"
    }
   },
   "outputs": [
    {
     "name": "stdout",
     "output_type": "stream",
     "text": [
      "Train on 3331258 samples, validate on 185618 samples\n",
      "Epoch 1/5\n",
      "3331258/3331258 [==============================] - 20s 6us/step - loss: 7.9678 - acc: 0.5000 - val_loss: 15.8799 - val_acc: 0.0039\n",
      "Epoch 2/5\n",
      "3331258/3331258 [==============================] - 19s 6us/step - loss: 7.9677 - acc: 0.5000 - val_loss: 15.8792 - val_acc: 0.0040\n",
      "Epoch 3/5\n",
      "3331258/3331258 [==============================] - 19s 6us/step - loss: 7.9676 - acc: 0.5000 - val_loss: 15.8794 - val_acc: 0.0039\n",
      "Epoch 4/5\n",
      "3331258/3331258 [==============================] - 19s 6us/step - loss: 7.9675 - acc: 0.5000 - val_loss: 15.8784 - val_acc: 0.0040\n",
      "Epoch 5/5\n",
      "3331258/3331258 [==============================] - 19s 6us/step - loss: 7.9674 - acc: 0.5000 - val_loss: 15.8781 - val_acc: 0.0040\n"
     ]
    },
    {
     "data": {
      "text/plain": [
       "<keras.callbacks.History at 0x7f02f8b365c0>"
      ]
     },
     "execution_count": 57,
     "metadata": {},
     "output_type": "execute_result"
    }
   ],
   "source": [
    "model.fit(X_train_res,y_train_res,\n",
    "          epochs=5, \n",
    "          batch_size=256, \n",
    "          validation_data=(X_val,y_val))"
   ]
  },
  {
   "cell_type": "code",
   "execution_count": 58,
   "metadata": {
    "_uuid": "25cf8afb3e172ecdcde7f3c1ede153b595504bdd",
    "execution": {
     "iopub.execute_input": "2022-12-24T02:44:43.748933Z",
     "iopub.status.busy": "2022-12-24T02:44:43.748348Z",
     "iopub.status.idle": "2022-12-24T02:44:56.978998Z",
     "shell.execute_reply": "2022-12-24T02:44:56.978130Z",
     "shell.execute_reply.started": "2022-12-24T02:44:43.748854Z"
    }
   },
   "outputs": [],
   "source": [
    "y_pred = model.predict(X_test)"
   ]
  },
  {
   "cell_type": "code",
   "execution_count": 59,
   "metadata": {
    "_uuid": "1939c617e20c7b886829118567dc94e1067117db",
    "execution": {
     "iopub.execute_input": "2022-12-24T02:44:56.980403Z",
     "iopub.status.busy": "2022-12-24T02:44:56.980114Z",
     "iopub.status.idle": "2022-12-24T02:44:56.988847Z",
     "shell.execute_reply": "2022-12-24T02:44:56.988029Z",
     "shell.execute_reply.started": "2022-12-24T02:44:56.980347Z"
    }
   },
   "outputs": [],
   "source": [
    "y_pred[y_pred > 0.5] = 1\n",
    "y_pred[y_pred < 0.5] = 0"
   ]
  },
  {
   "cell_type": "code",
   "execution_count": 60,
   "metadata": {
    "_uuid": "c0ed5dfdedc098d5bbba3e95572159b2cf9f604f",
    "execution": {
     "iopub.execute_input": "2022-12-24T02:45:28.032190Z",
     "iopub.status.busy": "2022-12-24T02:45:28.031798Z",
     "iopub.status.idle": "2022-12-24T02:45:28.286892Z",
     "shell.execute_reply": "2022-12-24T02:45:28.286132Z",
     "shell.execute_reply.started": "2022-12-24T02:45:28.032121Z"
    }
   },
   "outputs": [
    {
     "data": {
      "text/plain": [
       "0.0059932469534327978"
      ]
     },
     "execution_count": 60,
     "metadata": {},
     "output_type": "execute_result"
    }
   ],
   "source": [
    "f1_score(y_pred=y_pred,y_true=y_test)"
   ]
  },
  {
   "cell_type": "code",
   "execution_count": 61,
   "metadata": {
    "_uuid": "696b2b6aeb999b208f8161db49e7378f3c963fbb",
    "execution": {
     "iopub.execute_input": "2022-12-24T02:45:43.351632Z",
     "iopub.status.busy": "2022-12-24T02:45:43.351281Z",
     "iopub.status.idle": "2022-12-24T02:45:46.273433Z",
     "shell.execute_reply": "2022-12-24T02:45:46.272610Z",
     "shell.execute_reply.started": "2022-12-24T02:45:43.351556Z"
    }
   },
   "outputs": [],
   "source": [
    "cm = confusion_matrix(y_pred=y_pred,y_true=y_test)"
   ]
  },
  {
   "cell_type": "code",
   "execution_count": 62,
   "metadata": {
    "_uuid": "852700f443aadc94b0844fdeff4c23c1a79d9d20",
    "execution": {
     "iopub.execute_input": "2022-12-24T02:45:47.543228Z",
     "iopub.status.busy": "2022-12-24T02:45:47.542948Z",
     "iopub.status.idle": "2022-12-24T02:45:47.820095Z",
     "shell.execute_reply": "2022-12-24T02:45:47.819227Z",
     "shell.execute_reply.started": "2022-12-24T02:45:47.543191Z"
    },
    "scrolled": true
   },
   "outputs": [
    {
     "data": {
      "image/png": "[encoded data removed]",
      "text/plain": [
       "<matplotlib.figure.Figure at 0x7f02ac629cc0>"
      ]
     },
     "metadata": {},
     "output_type": "display_data"
    }
   ],
   "source": [
    "plot_confusion_matrix(cm,['Genuine','Fraud'], normalize=False)"
   ]
  },
  {
   "cell_type": "code",
   "execution_count": 63,
   "metadata": {
    "_uuid": "3cff206c504669a1211cf102209550ca0cc92f19",
    "execution": {
     "iopub.execute_input": "2022-12-24T02:55:37.663737Z",
     "iopub.status.busy": "2022-12-24T02:55:37.663321Z",
     "iopub.status.idle": "2022-12-24T02:55:37.695959Z",
     "shell.execute_reply": "2022-12-24T02:55:37.695105Z",
     "shell.execute_reply.started": "2022-12-24T02:55:37.663633Z"
    }
   },
   "outputs": [],
   "source": [
    "model = Sequential()\n",
    "model.add(Dense(16,input_dim=9))\n",
    "model.add(Activation('tanh'))\n",
    "model.add(Dense(1))\n",
    "model.add(Activation('sigmoid'))"
   ]
  },
  {
   "cell_type": "code",
   "execution_count": 64,
   "metadata": {
    "_uuid": "0b4cfceaa093d70162018220d7211209113fecd4",
    "execution": {
     "iopub.execute_input": "2022-12-24T02:55:38.508310Z",
     "iopub.status.busy": "2022-12-24T02:55:38.507997Z",
     "iopub.status.idle": "2022-12-24T02:55:38.550064Z",
     "shell.execute_reply": "2022-12-24T02:55:38.549148Z",
     "shell.execute_reply.started": "2022-12-24T02:55:38.508257Z"
    }
   },
   "outputs": [],
   "source": [
    "model.compile(loss='binary_crossentropy',optimizer=SGD(lr=1e-4), metrics=['acc'])"
   ]
  },
  {
   "cell_type": "code",
   "execution_count": 65,
   "metadata": {
    "_kg_hide-output": false,
    "_uuid": "a02c6ce9f98603da165a003528f8f7df58544bc8",
    "execution": {
     "iopub.execute_input": "2022-12-24T02:55:39.601050Z",
     "iopub.status.busy": "2022-12-24T02:55:39.600604Z",
     "iopub.status.idle": "2022-12-24T02:57:22.468361Z",
     "shell.execute_reply": "2022-12-24T02:57:22.467437Z",
     "shell.execute_reply.started": "2022-12-24T02:55:39.600942Z"
    }
   },
   "outputs": [
    {
     "name": "stdout",
     "output_type": "stream",
     "text": [
      "Train on 3331258 samples, validate on 185618 samples\n",
      "Epoch 1/5\n",
      "3331258/3331258 [==============================] - 20s 6us/step - loss: 0.6970 - acc: 0.5714 - val_loss: 0.5926 - val_acc: 0.7978\n",
      "Epoch 2/5\n",
      "3331258/3331258 [==============================] - 20s 6us/step - loss: 0.5565 - acc: 0.8136 - val_loss: 0.5082 - val_acc: 0.7963\n",
      "Epoch 3/5\n",
      "3331258/3331258 [==============================] - 21s 6us/step - loss: 0.5002 - acc: 0.8139 - val_loss: 0.4662 - val_acc: 0.8010\n",
      "Epoch 4/5\n",
      "3331258/3331258 [==============================] - 20s 6us/step - loss: 0.5092 - acc: 0.8023 - val_loss: 0.5366 - val_acc: 0.8453\n",
      "Epoch 5/5\n",
      "3331258/3331258 [==============================] - 20s 6us/step - loss: 0.4728 - acc: 0.8480 - val_loss: 0.4153 - val_acc: 0.9802\n"
     ]
    },
    {
     "data": {
      "text/plain": [
       "<keras.callbacks.History at 0x7f02ac737fd0>"
      ]
     },
     "execution_count": 65,
     "metadata": {},
     "output_type": "execute_result"
    }
   ],
   "source": [
    "model.fit(X_train_res,y_train_res,\n",
    "          epochs=5, batch_size=256, \n",
    "          validation_data=(X_val,y_val))"
   ]
  },
  {
   "cell_type": "code",
   "execution_count": 66,
   "metadata": {
    "_uuid": "6d6804701d2908bb25da2cad9f638f43752caf0a",
    "execution": {
     "iopub.execute_input": "2022-12-24T02:57:26.355347Z",
     "iopub.status.busy": "2022-12-24T02:57:26.355037Z",
     "iopub.status.idle": "2022-12-24T02:57:40.276807Z",
     "shell.execute_reply": "2022-12-24T02:57:40.275925Z",
     "shell.execute_reply.started": "2022-12-24T02:57:26.355300Z"
    }
   },
   "outputs": [],
   "source": [
    "y_pred = model.predict(X_test)"
   ]
  },
  {
   "cell_type": "code",
   "execution_count": 67,
   "metadata": {
    "_uuid": "47ac24de03ded70e71a72ce319149a1717f5cd6b",
    "execution": {
     "iopub.execute_input": "2022-12-24T02:57:44.574743Z",
     "iopub.status.busy": "2022-12-24T02:57:44.574436Z",
     "iopub.status.idle": "2022-12-24T02:57:44.585044Z",
     "shell.execute_reply": "2022-12-24T02:57:44.583837Z",
     "shell.execute_reply.started": "2022-12-24T02:57:44.574694Z"
    }
   },
   "outputs": [],
   "source": [
    "y_pred[y_pred > 0.5] = 1\n",
    "y_pred[y_pred < 0.5] = 0"
   ]
  },
  {
   "cell_type": "code",
   "execution_count": 68,
   "metadata": {
    "_uuid": "c51f2ab453fb38cec19123523b2b4c6397bea769",
    "execution": {
     "iopub.execute_input": "2022-12-24T02:57:45.681896Z",
     "iopub.status.busy": "2022-12-24T02:57:45.681339Z",
     "iopub.status.idle": "2022-12-24T02:57:45.937861Z",
     "shell.execute_reply": "2022-12-24T02:57:45.936981Z",
     "shell.execute_reply.started": "2022-12-24T02:57:45.681589Z"
    }
   },
   "outputs": [
    {
     "data": {
      "text/plain": [
       "0.1785217430328053"
      ]
     },
     "execution_count": 68,
     "metadata": {},
     "output_type": "execute_result"
    }
   ],
   "source": [
    "f1_score(y_pred=y_pred,y_true=y_test)"
   ]
  },
  {
   "cell_type": "code",
   "execution_count": 69,
   "metadata": {
    "_uuid": "a881b08a0a36cc0a08554b4b05349c5de5f565e2",
    "execution": {
     "iopub.execute_input": "2022-12-24T02:57:47.994839Z",
     "iopub.status.busy": "2022-12-24T02:57:47.994484Z",
     "iopub.status.idle": "2022-12-24T02:57:50.909996Z",
     "shell.execute_reply": "2022-12-24T02:57:50.909310Z",
     "shell.execute_reply.started": "2022-12-24T02:57:47.994742Z"
    }
   },
   "outputs": [],
   "source": [
    "cm = confusion_matrix(y_pred=y_pred,y_true=y_test)"
   ]
  },
  {
   "cell_type": "code",
   "execution_count": 70,
   "metadata": {
    "_uuid": "c2ea689da78985aedfe9af9f6c0a10597ea05a45",
    "execution": {
     "iopub.execute_input": "2022-12-24T02:57:52.160044Z",
     "iopub.status.busy": "2022-12-24T02:57:52.159697Z",
     "iopub.status.idle": "2022-12-24T02:57:52.424214Z",
     "shell.execute_reply": "2022-12-24T02:57:52.423353Z",
     "shell.execute_reply.started": "2022-12-24T02:57:52.159985Z"
    }
   },
   "outputs": [
    {
     "data": {
      "image/png": "[encoded data removed]",
      "text/plain": [
       "<matplotlib.figure.Figure at 0x7f02a7ef9978>"
      ]
     },
     "metadata": {},
     "output_type": "display_data"
    }
   ],
   "source": [
    "plot_confusion_matrix(cm,['Genuine','Fraud'], normalize=False)"
   ]
  },
  {
   "cell_type": "markdown",
   "metadata": {
    "_uuid": "54263d60094b8bc726fdfeeb44854f8a6451fc8d"
   },
   "source": [
    "# Tree based methods"
   ]
  },
  {
   "cell_type": "code",
   "execution_count": 71,
   "metadata": {
    "_uuid": "d3061527ff3ff007848c8866555e05954c5c5304",
    "execution": {
     "iopub.execute_input": "2022-12-24T02:59:46.640021Z",
     "iopub.status.busy": "2022-12-24T02:59:46.639650Z",
     "iopub.status.idle": "2022-12-24T02:59:46.666740Z",
     "shell.execute_reply": "2022-12-24T02:59:46.665913Z",
     "shell.execute_reply.started": "2022-12-24T02:59:46.639966Z"
    }
   },
   "outputs": [],
   "source": [
    "from sklearn.tree import export_graphviz"
   ]
  },
  {
   "cell_type": "code",
   "execution_count": 72,
   "metadata": {
    "_uuid": "b8d4237b6d409c4382fde9632d52673216e3a89a",
    "execution": {
     "iopub.execute_input": "2022-12-24T02:59:52.185014Z",
     "iopub.status.busy": "2022-12-24T02:59:52.184572Z",
     "iopub.status.idle": "2022-12-24T03:00:19.407582Z",
     "shell.execute_reply": "2022-12-24T03:00:19.406673Z",
     "shell.execute_reply.started": "2022-12-24T02:59:52.184945Z"
    }
   },
   "outputs": [
    {
     "data": {
      "text/plain": [
       "DecisionTreeClassifier(class_weight=None, criterion='gini', max_depth=None,\n",
       "            max_features=None, max_leaf_nodes=None,\n",
       "            min_impurity_decrease=0.0, min_impurity_split=None,\n",
       "            min_samples_leaf=1, min_samples_split=2,\n",
       "            min_weight_fraction_leaf=0.0, presort=False, random_state=None,\n",
       "            splitter='best')"
      ]
     },
     "execution_count": 72,
     "metadata": {},
     "output_type": "execute_result"
    }
   ],
   "source": [
    "from sklearn.tree import DecisionTreeClassifier\n",
    "dtree=DecisionTreeClassifier()\n",
    "dtree.fit(X_train,y_train)"
   ]
  },
  {
   "cell_type": "code",
   "execution_count": 73,
   "metadata": {
    "_uuid": "2de054c7b8cf69a842c1f9a0ae85d1af64a598c8",
    "execution": {
     "iopub.execute_input": "2022-12-24T03:00:44.588722Z",
     "iopub.status.busy": "2022-12-24T03:00:44.588336Z",
     "iopub.status.idle": "2022-12-24T03:00:45.378624Z",
     "shell.execute_reply": "2022-12-24T03:00:45.377521Z",
     "shell.execute_reply.started": "2022-12-24T03:00:44.588658Z"
    }
   },
   "outputs": [
    {
     "data": {
      "image/png": "[encoded data removed]",
      "text/plain": [
       "<IPython.core.display.Image object>"
      ]
     },
     "execution_count": 73,
     "metadata": {},
     "output_type": "execute_result"
    }
   ],
   "source": [
    "from sklearn.externals.six import StringIO  \n",
    "from IPython.display import Image  \n",
    "from sklearn.tree import export_graphviz\n",
    "from subprocess import check_call\n",
    "from PIL import Image, ImageDraw, ImageFont\n",
    "from IPython.display import Image as PImage\n",
    "\n",
    "#import pydotplus\n",
    "dot_data = StringIO()\n",
    "'''export_graphviz(dtree, out_file=dot_data,  \n",
    "                filled=True, rounded=True,\n",
    "                special_characters=True)'''\n",
    "with open(\"tree1.dot\", 'w') as f:\n",
    "     f = export_graphviz(dtree,\n",
    "                              out_file=f,\n",
    "                              max_depth = 3,\n",
    "                              impurity = True,\n",
    "                              feature_names = list(df.drop(['isFraud'], axis=1)),\n",
    "                              class_names = ['Genuine', 'Fraud'],\n",
    "                              rounded = True,\n",
    "                              filled= True )\n",
    "        \n",
    "#Convert .dot to .png to allow display in web notebook\n",
    "check_call(['dot','-Tpng','tree1.dot','-o','tree1.png'])\n",
    "\n",
    "# Annotating chart with PIL\n",
    "img = Image.open(\"tree1.png\")\n",
    "draw = ImageDraw.Draw(img)\n",
    "font = ImageFont.truetype('/usr/share/fonts/truetype/liberation/LiberationSerif-Bold.ttf', 26)\n",
    "img.save('sample-out.png')\n",
    "PImage(\"sample-out.png\")\n"
   ]
  },
  {
   "cell_type": "code",
   "execution_count": 74,
   "metadata": {
    "_uuid": "5f2d0a0ff84e42966e42073c23847a26198db958",
    "execution": {
     "iopub.execute_input": "2022-12-24T03:03:41.931779Z",
     "iopub.status.busy": "2022-12-24T03:03:41.931215Z",
     "iopub.status.idle": "2022-12-24T03:03:41.963609Z",
     "shell.execute_reply": "2022-12-24T03:03:41.962967Z",
     "shell.execute_reply.started": "2022-12-24T03:03:41.931712Z"
    }
   },
   "outputs": [],
   "source": [
    "from sklearn.ensemble import  RandomForestClassifier"
   ]
  },
  {
   "cell_type": "code",
   "execution_count": 75,
   "metadata": {
    "_uuid": "22d07c78d7b667ce14cea1130f0fa931802e74b6",
    "execution": {
     "iopub.execute_input": "2022-12-24T03:03:45.836685Z",
     "iopub.status.busy": "2022-12-24T03:03:45.835977Z",
     "iopub.status.idle": "2022-12-24T03:04:19.365469Z",
     "shell.execute_reply": "2022-12-24T03:04:19.364570Z",
     "shell.execute_reply.started": "2022-12-24T03:03:45.836616Z"
    }
   },
   "outputs": [
    {
     "data": {
      "text/plain": [
       "RandomForestClassifier(bootstrap=True, class_weight=None, criterion='gini',\n",
       "            max_depth=None, max_features='auto', max_leaf_nodes=None,\n",
       "            min_impurity_decrease=0.0, min_impurity_split=None,\n",
       "            min_samples_leaf=1, min_samples_split=2,\n",
       "            min_weight_fraction_leaf=0.0, n_estimators=10, n_jobs=-1,\n",
       "            oob_score=False, random_state=None, verbose=0,\n",
       "            warm_start=False)"
      ]
     },
     "execution_count": 75,
     "metadata": {},
     "output_type": "execute_result"
    }
   ],
   "source": [
    "rf = RandomForestClassifier(n_estimators=10,n_jobs=-1)\n",
    "rf.fit(X_train,y_train)"
   ]
  },
  {
   "cell_type": "code",
   "execution_count": 76,
   "metadata": {
    "_uuid": "e9485e967841980c287934e18e80402920129e08",
    "execution": {
     "iopub.execute_input": "2022-12-24T03:04:29.653318Z",
     "iopub.status.busy": "2022-12-24T03:04:29.652724Z",
     "iopub.status.idle": "2022-12-24T03:04:30.203324Z",
     "shell.execute_reply": "2022-12-24T03:04:30.202207Z",
     "shell.execute_reply.started": "2022-12-24T03:04:29.653254Z"
    }
   },
   "outputs": [],
   "source": [
    "y_pred = rf.predict(X_test)"
   ]
  },
  {
   "cell_type": "code",
   "execution_count": 77,
   "metadata": {
    "_uuid": "d418cba0ec6992f26f7899b895fe3c4ce265043f",
    "execution": {
     "iopub.execute_input": "2022-12-24T03:04:32.380871Z",
     "iopub.status.busy": "2022-12-24T03:04:32.380544Z",
     "iopub.status.idle": "2022-12-24T03:04:32.586362Z",
     "shell.execute_reply": "2022-12-24T03:04:32.585582Z",
     "shell.execute_reply.started": "2022-12-24T03:04:32.380792Z"
    }
   },
   "outputs": [
    {
     "data": {
      "text/plain": [
       "0.87639553429027117"
      ]
     },
     "execution_count": 77,
     "metadata": {},
     "output_type": "execute_result"
    }
   ],
   "source": [
    "f1_score(y_pred=y_pred,y_true=y_test)"
   ]
  },
  {
   "cell_type": "code",
   "execution_count": 78,
   "metadata": {
    "_uuid": "f76a22f6033fea29f00bb6daf0678afda6d08c20",
    "execution": {
     "iopub.execute_input": "2022-12-24T03:04:55.281587Z",
     "iopub.status.busy": "2022-12-24T03:04:55.281269Z",
     "iopub.status.idle": "2022-12-24T03:04:56.456068Z",
     "shell.execute_reply": "2022-12-24T03:04:56.455153Z",
     "shell.execute_reply.started": "2022-12-24T03:04:55.281539Z"
    }
   },
   "outputs": [
    {
     "data": {
      "image/png": "[encoded data removed]",
      "text/plain": [
       "<matplotlib.figure.Figure at 0x7f02a7ef9828>"
      ]
     },
     "metadata": {},
     "output_type": "display_data"
    }
   ],
   "source": [
    "cm = confusion_matrix(y_pred=y_pred,y_true=y_test)\n",
    "plot_confusion_matrix(cm,['Genuine','Fraud'], normalize=False)"
   ]
  },
  {
   "cell_type": "code",
   "execution_count": 79,
   "metadata": {
    "_uuid": "7176fe85b0f0a46170de47d4e67b178507da6307",
    "execution": {
     "iopub.execute_input": "2022-12-24T03:06:17.643770Z",
     "iopub.status.busy": "2022-12-24T03:06:17.643405Z",
     "iopub.status.idle": "2022-12-24T03:06:17.648399Z",
     "shell.execute_reply": "2022-12-24T03:06:17.647312Z",
     "shell.execute_reply.started": "2022-12-24T03:06:17.643723Z"
    }
   },
   "outputs": [],
   "source": [
    "import xgboost as xgb"
   ]
  },
  {
   "cell_type": "code",
   "execution_count": 80,
   "metadata": {
    "_uuid": "de166028eda2921a73f0ca495f77af98e7a64d6b",
    "execution": {
     "iopub.execute_input": "2022-12-24T03:06:24.156663Z",
     "iopub.status.busy": "2022-12-24T03:06:24.156366Z",
     "iopub.status.idle": "2022-12-24T03:08:18.223939Z",
     "shell.execute_reply": "2022-12-24T03:08:18.223135Z",
     "shell.execute_reply.started": "2022-12-24T03:06:24.156616Z"
    }
   },
   "outputs": [],
   "source": [
    "booster = xgb.XGBClassifier(n_jobs=-1)\n",
    "booster = booster.fit(X_train,y_train)"
   ]
  },
  {
   "cell_type": "code",
   "execution_count": 81,
   "metadata": {
    "_uuid": "1bb2ebf60c22afd894acb467be6023e6fd71a161",
    "execution": {
     "iopub.execute_input": "2022-12-24T03:10:07.218585Z",
     "iopub.status.busy": "2022-12-24T03:10:07.217909Z",
     "iopub.status.idle": "2022-12-24T03:10:09.233635Z",
     "shell.execute_reply": "2022-12-24T03:10:09.232358Z",
     "shell.execute_reply.started": "2022-12-24T03:10:07.218517Z"
    }
   },
   "outputs": [],
   "source": [
    "y_pred = booster.predict(X_test)"
   ]
  },
  {
   "cell_type": "code",
   "execution_count": 82,
   "metadata": {
    "_uuid": "3ca11d18662f93426f659eb7d24e9827b93a77ab",
    "execution": {
     "iopub.execute_input": "2022-12-24T03:10:11.910153Z",
     "iopub.status.busy": "2022-12-24T03:10:11.909764Z",
     "iopub.status.idle": "2022-12-24T03:10:12.112810Z",
     "shell.execute_reply": "2022-12-24T03:10:12.112010Z",
     "shell.execute_reply.started": "2022-12-24T03:10:11.910073Z"
    }
   },
   "outputs": [
    {
     "data": {
      "text/plain": [
       "0.85572959604286891"
      ]
     },
     "execution_count": 82,
     "metadata": {},
     "output_type": "execute_result"
    }
   ],
   "source": [
    "f1_score(y_pred=y_pred,y_true=y_test)"
   ]
  },
  {
   "cell_type": "code",
   "execution_count": 83,
   "metadata": {
    "_uuid": "77a95414307b0e924816fdf7dcdc65ab15f3cc4e",
    "execution": {
     "iopub.execute_input": "2022-12-24T03:10:13.828224Z",
     "iopub.status.busy": "2022-12-24T03:10:13.827749Z",
     "iopub.status.idle": "2022-12-24T03:10:14.882677Z",
     "shell.execute_reply": "2022-12-24T03:10:14.881749Z",
     "shell.execute_reply.started": "2022-12-24T03:10:13.828149Z"
    }
   },
   "outputs": [
    {
     "data": {
      "image/png": "[encoded data removed]",
      "text/plain": [
       "<matplotlib.figure.Figure at 0x7f02a73c4cf8>"
      ]
     },
     "metadata": {},
     "output_type": "display_data"
    }
   ],
   "source": [
    "cm = confusion_matrix(y_pred=y_pred,y_true=y_test)\n",
    "plot_confusion_matrix(cm,['Genuine','Fraud'], normalize=False)"
   ]
  },
  {
   "cell_type": "markdown",
   "metadata": {
    "_cell_guid": "10629666-b25c-42dd-ac1f-414b973ef24e",
    "_uuid": "7294c2ceddfc6950e899ad180d730736a9273d87"
   },
   "source": [
    "# Entity embeddings"
   ]
  },
  {
   "cell_type": "code",
   "execution_count": 84,
   "metadata": {
    "_cell_guid": "fe3b6b89-f611-48a6-9a32-b5462849ca39",
    "_uuid": "d9077d24f859ae1302496d8acc5f7cb08ec4794b",
    "execution": {
     "iopub.execute_input": "2022-12-24T03:13:30.567832Z",
     "iopub.status.busy": "2022-12-24T03:13:30.567082Z",
     "iopub.status.idle": "2022-12-24T03:13:47.585359Z",
     "shell.execute_reply": "2022-12-24T03:13:47.584451Z",
     "shell.execute_reply.started": "2022-12-24T03:13:30.567758Z"
    }
   },
   "outputs": [],
   "source": [
    "# Reload data\n",
    "df = pd.read_csv('../input/PS_20174392719_1491204439457_log.csv')\n",
    "df = df.rename(columns={'oldbalanceOrg':'oldBalanceOrig', 'newbalanceOrig':'newBalanceOrig', \\\n",
    "                        'oldbalanceDest':'oldBalanceDest', 'newbalanceDest':'newBalanceDest'})"
   ]
  },
  {
   "cell_type": "code",
   "execution_count": 85,
   "metadata": {
    "_cell_guid": "76f7394d-55a7-4925-bc6e-61935c71d9e3",
    "_uuid": "572c25cad9af19435385227009369e530e645a8b",
    "execution": {
     "iopub.execute_input": "2022-12-24T03:13:50.608840Z",
     "iopub.status.busy": "2022-12-24T03:13:50.608447Z",
     "iopub.status.idle": "2022-12-24T03:13:50.630134Z",
     "shell.execute_reply": "2022-12-24T03:13:50.629012Z",
     "shell.execute_reply.started": "2022-12-24T03:13:50.608745Z"
    }
   },
   "outputs": [
    {
     "data": {
      "text/html": [
       "<div>\n",
       "<style>\n",
       "    .dataframe thead tr:only-child th {\n",
       "        text-align: right;\n",
       "    }\n",
       "\n",
       "    .dataframe thead th {\n",
       "        text-align: left;\n",
       "    }\n",
       "\n",
       "    .dataframe tbody tr th {\n",
       "        vertical-align: top;\n",
       "    }\n",
       "</style>\n",
       "<table border=\"1\" class=\"dataframe\">\n",
       "  <thead>\n",
       "    <tr style=\"text-align: right;\">\n",
       "      <th></th>\n",
       "      <th>step</th>\n",
       "      <th>type</th>\n",
       "      <th>amount</th>\n",
       "      <th>nameOrig</th>\n",
       "      <th>oldBalanceOrig</th>\n",
       "      <th>newBalanceOrig</th>\n",
       "      <th>nameDest</th>\n",
       "      <th>oldBalanceDest</th>\n",
       "      <th>newBalanceDest</th>\n",
       "      <th>isFraud</th>\n",
       "      <th>isFlaggedFraud</th>\n",
       "    </tr>\n",
       "  </thead>\n",
       "  <tbody>\n",
       "    <tr>\n",
       "      <th>0</th>\n",
       "      <td>1</td>\n",
       "      <td>PAYMENT</td>\n",
       "      <td>9839.64</td>\n",
       "      <td>C1231006815</td>\n",
       "      <td>170136.0</td>\n",
       "      <td>160296.36</td>\n",
       "      <td>M1979787155</td>\n",
       "      <td>0.0</td>\n",
       "      <td>0.0</td>\n",
       "      <td>0</td>\n",
       "      <td>0</td>\n",
       "    </tr>\n",
       "    <tr>\n",
       "      <th>1</th>\n",
       "      <td>1</td>\n",
       "      <td>PAYMENT</td>\n",
       "      <td>1864.28</td>\n",
       "      <td>C1666544295</td>\n",
       "      <td>21249.0</td>\n",
       "      <td>19384.72</td>\n",
       "      <td>M2044282225</td>\n",
       "      <td>0.0</td>\n",
       "      <td>0.0</td>\n",
       "      <td>0</td>\n",
       "      <td>0</td>\n",
       "    </tr>\n",
       "    <tr>\n",
       "      <th>2</th>\n",
       "      <td>1</td>\n",
       "      <td>TRANSFER</td>\n",
       "      <td>181.00</td>\n",
       "      <td>C1305486145</td>\n",
       "      <td>181.0</td>\n",
       "      <td>0.00</td>\n",
       "      <td>C553264065</td>\n",
       "      <td>0.0</td>\n",
       "      <td>0.0</td>\n",
       "      <td>1</td>\n",
       "      <td>0</td>\n",
       "    </tr>\n",
       "    <tr>\n",
       "      <th>3</th>\n",
       "      <td>1</td>\n",
       "      <td>CASH_OUT</td>\n",
       "      <td>181.00</td>\n",
       "      <td>C840083671</td>\n",
       "      <td>181.0</td>\n",
       "      <td>0.00</td>\n",
       "      <td>C38997010</td>\n",
       "      <td>21182.0</td>\n",
       "      <td>0.0</td>\n",
       "      <td>1</td>\n",
       "      <td>0</td>\n",
       "    </tr>\n",
       "    <tr>\n",
       "      <th>4</th>\n",
       "      <td>1</td>\n",
       "      <td>PAYMENT</td>\n",
       "      <td>11668.14</td>\n",
       "      <td>C2048537720</td>\n",
       "      <td>41554.0</td>\n",
       "      <td>29885.86</td>\n",
       "      <td>M1230701703</td>\n",
       "      <td>0.0</td>\n",
       "      <td>0.0</td>\n",
       "      <td>0</td>\n",
       "      <td>0</td>\n",
       "    </tr>\n",
       "  </tbody>\n",
       "</table>\n",
       "</div>"
      ],
      "text/plain": [
       "   step      type    amount     nameOrig  oldBalanceOrig  newBalanceOrig  \\\n",
       "0     1   PAYMENT   9839.64  C1231006815        170136.0       160296.36   \n",
       "1     1   PAYMENT   1864.28  C1666544295         21249.0        19384.72   \n",
       "2     1  TRANSFER    181.00  C1305486145           181.0            0.00   \n",
       "3     1  CASH_OUT    181.00   C840083671           181.0            0.00   \n",
       "4     1   PAYMENT  11668.14  C2048537720         41554.0        29885.86   \n",
       "\n",
       "      nameDest  oldBalanceDest  newBalanceDest  isFraud  isFlaggedFraud  \n",
       "0  M1979787155             0.0             0.0        0               0  \n",
       "1  M2044282225             0.0             0.0        0               0  \n",
       "2   C553264065             0.0             0.0        1               0  \n",
       "3    C38997010         21182.0             0.0        1               0  \n",
       "4  M1230701703             0.0             0.0        0               0  "
      ]
     },
     "execution_count": 85,
     "metadata": {},
     "output_type": "execute_result"
    }
   ],
   "source": [
    "df.head()"
   ]
  },
  {
   "cell_type": "code",
   "execution_count": 86,
   "metadata": {
    "_cell_guid": "e0da3e11-3b63-4d28-b57f-05b836a42dda",
    "_uuid": "cf4ead61784891962c4f5ee201fa7d363a380f7c",
    "execution": {
     "iopub.execute_input": "2022-12-24T03:13:52.203410Z",
     "iopub.status.busy": "2022-12-24T03:13:52.202926Z",
     "iopub.status.idle": "2022-12-24T03:13:52.552651Z",
     "shell.execute_reply": "2022-12-24T03:13:52.551752Z",
     "shell.execute_reply.started": "2022-12-24T03:13:52.203362Z"
    }
   },
   "outputs": [],
   "source": [
    "df = df.drop(['nameDest','nameOrig','step'],axis=1)"
   ]
  },
  {
   "cell_type": "code",
   "execution_count": 87,
   "metadata": {
    "_cell_guid": "b704f862-729e-4229-86cd-73afc1f9f0e2",
    "_uuid": "c8e3da182aae6c13cbe24736050c115910119cb1",
    "execution": {
     "iopub.execute_input": "2022-12-24T03:13:53.966206Z",
     "iopub.status.busy": "2022-12-24T03:13:53.965833Z",
     "iopub.status.idle": "2022-12-24T03:13:54.209410Z",
     "shell.execute_reply": "2022-12-24T03:13:54.208682Z",
     "shell.execute_reply.started": "2022-12-24T03:13:53.966133Z"
    }
   },
   "outputs": [
    {
     "data": {
      "text/plain": [
       "array(['PAYMENT', 'TRANSFER', 'CASH_OUT', 'DEBIT', 'CASH_IN'], dtype=object)"
      ]
     },
     "execution_count": 87,
     "metadata": {},
     "output_type": "execute_result"
    }
   ],
   "source": [
    "df['type'].unique()"
   ]
  },
  {
   "cell_type": "code",
   "execution_count": 88,
   "metadata": {
    "_cell_guid": "608a5db9-37af-48cd-a8dd-114377c5461f",
    "_uuid": "7cc3e34985255ba699bf797719820400f4f28a6a",
    "execution": {
     "iopub.execute_input": "2022-12-24T03:13:57.907710Z",
     "iopub.status.busy": "2022-12-24T03:13:57.907125Z",
     "iopub.status.idle": "2022-12-24T03:13:58.151402Z",
     "shell.execute_reply": "2022-12-24T03:13:58.150686Z",
     "shell.execute_reply.started": "2022-12-24T03:13:57.907627Z"
    }
   },
   "outputs": [],
   "source": [
    "map_dict = {}\n",
    "for token, value in enumerate(df['type'].unique()):\n",
    "    map_dict[value] = token   "
   ]
  },
  {
   "cell_type": "code",
   "execution_count": 89,
   "metadata": {
    "_cell_guid": "2c423985-6322-430d-bed0-ddbf8dd35e78",
    "_uuid": "76e26412ea3642e6fe8616802d57adf70cf5d3c2",
    "execution": {
     "iopub.execute_input": "2022-12-24T03:14:11.486989Z",
     "iopub.status.busy": "2022-12-24T03:14:11.486305Z",
     "iopub.status.idle": "2022-12-24T03:14:11.493157Z",
     "shell.execute_reply": "2022-12-24T03:14:11.492363Z",
     "shell.execute_reply.started": "2022-12-24T03:14:11.486910Z"
    }
   },
   "outputs": [
    {
     "data": {
      "text/plain": [
       "{'CASH_IN': 4, 'CASH_OUT': 2, 'DEBIT': 3, 'PAYMENT': 0, 'TRANSFER': 1}"
      ]
     },
     "execution_count": 89,
     "metadata": {},
     "output_type": "execute_result"
    }
   ],
   "source": [
    "map_dict"
   ]
  },
  {
   "cell_type": "code",
   "execution_count": 90,
   "metadata": {
    "_cell_guid": "9712cf3f-2479-4acf-a79b-3d79a6a73c84",
    "_uuid": "f8dbb529c849539b4df1750589576b32185ae0d5",
    "execution": {
     "iopub.execute_input": "2022-12-24T03:14:25.490429Z",
     "iopub.status.busy": "2022-12-24T03:14:25.489907Z",
     "iopub.status.idle": "2022-12-24T03:14:29.488213Z",
     "shell.execute_reply": "2022-12-24T03:14:29.487218Z",
     "shell.execute_reply.started": "2022-12-24T03:14:25.490379Z"
    }
   },
   "outputs": [],
   "source": [
    "df[\"type\"].replace(map_dict, inplace=True)"
   ]
  },
  {
   "cell_type": "code",
   "execution_count": 91,
   "metadata": {
    "_cell_guid": "fd5a8816-e7a4-400b-bb4d-9d096b2ec4dd",
    "_uuid": "2a7d5673047ef26d84a16a14994a79c6f6037707",
    "execution": {
     "iopub.execute_input": "2022-12-24T03:14:32.225942Z",
     "iopub.status.busy": "2022-12-24T03:14:32.225575Z",
     "iopub.status.idle": "2022-12-24T03:14:32.240743Z",
     "shell.execute_reply": "2022-12-24T03:14:32.239987Z",
     "shell.execute_reply.started": "2022-12-24T03:14:32.225877Z"
    }
   },
   "outputs": [
    {
     "data": {
      "text/html": [
       "<div>\n",
       "<style>\n",
       "    .dataframe thead tr:only-child th {\n",
       "        text-align: right;\n",
       "    }\n",
       "\n",
       "    .dataframe thead th {\n",
       "        text-align: left;\n",
       "    }\n",
       "\n",
       "    .dataframe tbody tr th {\n",
       "        vertical-align: top;\n",
       "    }\n",
       "</style>\n",
       "<table border=\"1\" class=\"dataframe\">\n",
       "  <thead>\n",
       "    <tr style=\"text-align: right;\">\n",
       "      <th></th>\n",
       "      <th>type</th>\n",
       "      <th>amount</th>\n",
       "      <th>oldBalanceOrig</th>\n",
       "      <th>newBalanceOrig</th>\n",
       "      <th>oldBalanceDest</th>\n",
       "      <th>newBalanceDest</th>\n",
       "      <th>isFraud</th>\n",
       "      <th>isFlaggedFraud</th>\n",
       "    </tr>\n",
       "  </thead>\n",
       "  <tbody>\n",
       "    <tr>\n",
       "      <th>0</th>\n",
       "      <td>0</td>\n",
       "      <td>9839.64</td>\n",
       "      <td>170136.0</td>\n",
       "      <td>160296.36</td>\n",
       "      <td>0.0</td>\n",
       "      <td>0.0</td>\n",
       "      <td>0</td>\n",
       "      <td>0</td>\n",
       "    </tr>\n",
       "    <tr>\n",
       "      <th>1</th>\n",
       "      <td>0</td>\n",
       "      <td>1864.28</td>\n",
       "      <td>21249.0</td>\n",
       "      <td>19384.72</td>\n",
       "      <td>0.0</td>\n",
       "      <td>0.0</td>\n",
       "      <td>0</td>\n",
       "      <td>0</td>\n",
       "    </tr>\n",
       "    <tr>\n",
       "      <th>2</th>\n",
       "      <td>1</td>\n",
       "      <td>181.00</td>\n",
       "      <td>181.0</td>\n",
       "      <td>0.00</td>\n",
       "      <td>0.0</td>\n",
       "      <td>0.0</td>\n",
       "      <td>1</td>\n",
       "      <td>0</td>\n",
       "    </tr>\n",
       "    <tr>\n",
       "      <th>3</th>\n",
       "      <td>2</td>\n",
       "      <td>181.00</td>\n",
       "      <td>181.0</td>\n",
       "      <td>0.00</td>\n",
       "      <td>21182.0</td>\n",
       "      <td>0.0</td>\n",
       "      <td>1</td>\n",
       "      <td>0</td>\n",
       "    </tr>\n",
       "    <tr>\n",
       "      <th>4</th>\n",
       "      <td>0</td>\n",
       "      <td>11668.14</td>\n",
       "      <td>41554.0</td>\n",
       "      <td>29885.86</td>\n",
       "      <td>0.0</td>\n",
       "      <td>0.0</td>\n",
       "      <td>0</td>\n",
       "      <td>0</td>\n",
       "    </tr>\n",
       "  </tbody>\n",
       "</table>\n",
       "</div>"
      ],
      "text/plain": [
       "   type    amount  oldBalanceOrig  newBalanceOrig  oldBalanceDest  \\\n",
       "0     0   9839.64        170136.0       160296.36             0.0   \n",
       "1     0   1864.28         21249.0        19384.72             0.0   \n",
       "2     1    181.00           181.0            0.00             0.0   \n",
       "3     2    181.00           181.0            0.00         21182.0   \n",
       "4     0  11668.14         41554.0        29885.86             0.0   \n",
       "\n",
       "   newBalanceDest  isFraud  isFlaggedFraud  \n",
       "0             0.0        0               0  \n",
       "1             0.0        0               0  \n",
       "2             0.0        1               0  \n",
       "3             0.0        1               0  \n",
       "4             0.0        0               0  "
      ]
     },
     "execution_count": 91,
     "metadata": {},
     "output_type": "execute_result"
    }
   ],
   "source": [
    "df.head()"
   ]
  },
  {
   "cell_type": "code",
   "execution_count": 92,
   "metadata": {
    "_cell_guid": "a09a767a-db96-4610-af01-d65f0af46e47",
    "_uuid": "87ff32cc2e7f25c06abad3d1155875d373db6dfa",
    "execution": {
     "iopub.execute_input": "2022-12-24T03:14:50.320843Z",
     "iopub.status.busy": "2022-12-24T03:14:50.320472Z",
     "iopub.status.idle": "2022-12-24T03:14:50.325225Z",
     "shell.execute_reply": "2022-12-24T03:14:50.324295Z",
     "shell.execute_reply.started": "2022-12-24T03:14:50.320762Z"
    }
   },
   "outputs": [],
   "source": [
    "other_cols = [c for c in df.columns if ((c != 'type') and (c != 'isFraud'))]"
   ]
  },
  {
   "cell_type": "code",
   "execution_count": 93,
   "metadata": {
    "_cell_guid": "34677eca-6ffe-4a21-a3e1-568631a936ea",
    "_uuid": "4e23aa260b8e63ed567dc269ec49dfe945711583",
    "execution": {
     "iopub.execute_input": "2022-12-24T03:14:51.849954Z",
     "iopub.status.busy": "2022-12-24T03:14:51.848978Z",
     "iopub.status.idle": "2022-12-24T03:14:51.855798Z",
     "shell.execute_reply": "2022-12-24T03:14:51.854923Z",
     "shell.execute_reply.started": "2022-12-24T03:14:51.849885Z"
    }
   },
   "outputs": [
    {
     "data": {
      "text/plain": [
       "['amount',\n",
       " 'oldBalanceOrig',\n",
       " 'newBalanceOrig',\n",
       " 'oldBalanceDest',\n",
       " 'newBalanceDest',\n",
       " 'isFlaggedFraud']"
      ]
     },
     "execution_count": 93,
     "metadata": {},
     "output_type": "execute_result"
    }
   ],
   "source": [
    "other_cols"
   ]
  },
  {
   "cell_type": "code",
   "execution_count": 94,
   "metadata": {
    "_cell_guid": "ebf058a4-8f18-4db4-b2cd-49f37d611c00",
    "_uuid": "f026242afda2d3c2760f260020432cbb11a0e3ca",
    "execution": {
     "iopub.execute_input": "2022-12-24T03:14:54.727482Z",
     "iopub.status.busy": "2022-12-24T03:14:54.727128Z",
     "iopub.status.idle": "2022-12-24T03:14:54.732220Z",
     "shell.execute_reply": "2022-12-24T03:14:54.731335Z",
     "shell.execute_reply.started": "2022-12-24T03:14:54.727420Z"
    }
   },
   "outputs": [],
   "source": [
    "from keras.models import Model\n",
    "from keras.layers import Embedding, Merge, Dense, Activation, Reshape, Input, Concatenate"
   ]
  },
  {
   "cell_type": "code",
   "execution_count": 95,
   "metadata": {
    "_cell_guid": "22faf983-39a0-4479-bf25-fd7886afcfe5",
    "_uuid": "e1a441c58b57a2c4e18ec16e9c14ba520e47a023",
    "execution": {
     "iopub.execute_input": "2022-12-24T03:15:12.550994Z",
     "iopub.status.busy": "2022-12-24T03:15:12.550565Z",
     "iopub.status.idle": "2022-12-24T03:15:12.596144Z",
     "shell.execute_reply": "2022-12-24T03:15:12.595214Z",
     "shell.execute_reply.started": "2022-12-24T03:15:12.550926Z"
    }
   },
   "outputs": [],
   "source": [
    "num_types = len(df['type'].unique())\n",
    "type_embedding_dim = 3"
   ]
  },
  {
   "cell_type": "code",
   "execution_count": 96,
   "metadata": {
    "_cell_guid": "79e98983-4d24-479e-83c7-a086be3b2b24",
    "_uuid": "0051a37fb914175957193d471cebff6809923b92",
    "execution": {
     "iopub.execute_input": "2022-12-24T03:15:13.606308Z",
     "iopub.status.busy": "2022-12-24T03:15:13.605651Z",
     "iopub.status.idle": "2022-12-24T03:15:13.611403Z",
     "shell.execute_reply": "2022-12-24T03:15:13.610353Z",
     "shell.execute_reply.started": "2022-12-24T03:15:13.605960Z"
    }
   },
   "outputs": [],
   "source": [
    "inputs = []\n",
    "outputs = []"
   ]
  },
  {
   "cell_type": "code",
   "execution_count": 97,
   "metadata": {
    "_cell_guid": "edee8cb9-9649-4dda-8f9f-6947e970bb26",
    "_uuid": "3d5a4e76d58958186be825464444ae273bfd690e",
    "execution": {
     "iopub.execute_input": "2022-12-24T03:15:28.294987Z",
     "iopub.status.busy": "2022-12-24T03:15:28.294269Z",
     "iopub.status.idle": "2022-12-24T03:15:28.322527Z",
     "shell.execute_reply": "2022-12-24T03:15:28.321680Z",
     "shell.execute_reply.started": "2022-12-24T03:15:28.294905Z"
    }
   },
   "outputs": [],
   "source": [
    "type_in = Input(shape=(1,))\n",
    "type_embedding = Embedding(num_types,type_embedding_dim,input_length=1)(type_in)\n",
    "type_out = Reshape(target_shape=(type_embedding_dim,))(type_embedding)\n",
    "\n",
    "type_model = Model(type_in,type_out)\n",
    "\n",
    "inputs.append(type_in)\n",
    "outputs.append(type_out)"
   ]
  },
  {
   "cell_type": "code",
   "execution_count": 98,
   "metadata": {
    "_cell_guid": "5e5aa623-c830-47ea-a473-e1d8df3a7c68",
    "_uuid": "6e606846e3501414b222b398a0f7cb81a42f0e00",
    "execution": {
     "iopub.execute_input": "2022-12-24T03:15:58.631381Z",
     "iopub.status.busy": "2022-12-24T03:15:58.631064Z",
     "iopub.status.idle": "2022-12-24T03:15:58.635182Z",
     "shell.execute_reply": "2022-12-24T03:15:58.634449Z",
     "shell.execute_reply.started": "2022-12-24T03:15:58.631332Z"
    }
   },
   "outputs": [],
   "source": [
    "num_rest = len(other_cols)"
   ]
  },
  {
   "cell_type": "code",
   "execution_count": 99,
   "metadata": {
    "_cell_guid": "85340eb9-4548-4a7f-a331-f74f1b14dc55",
    "_uuid": "fde7532f3287c0ce78cb2223d77deaa882cf688e",
    "execution": {
     "iopub.execute_input": "2022-12-24T03:16:04.912074Z",
     "iopub.status.busy": "2022-12-24T03:16:04.911718Z",
     "iopub.status.idle": "2022-12-24T03:16:04.930601Z",
     "shell.execute_reply": "2022-12-24T03:16:04.929900Z",
     "shell.execute_reply.started": "2022-12-24T03:16:04.912013Z"
    }
   },
   "outputs": [],
   "source": [
    "rest_in = Input(shape = (num_rest,))\n",
    "rest_out = Dense(16)(rest_in)\n",
    "\n",
    "rest_model = Model(rest_in,rest_out)\n",
    "\n",
    "inputs.append(rest_in)\n",
    "outputs.append(rest_out)"
   ]
  },
  {
   "cell_type": "code",
   "execution_count": 100,
   "metadata": {
    "_cell_guid": "a8115075-a1a5-4cd8-b375-8ce5ea0aa07b",
    "_uuid": "cc7f4316380c8bc25a08a99e49fb36a32e996259",
    "execution": {
     "iopub.execute_input": "2022-12-24T03:16:19.328096Z",
     "iopub.status.busy": "2022-12-24T03:16:19.327577Z",
     "iopub.status.idle": "2022-12-24T03:16:19.334047Z",
     "shell.execute_reply": "2022-12-24T03:16:19.333155Z",
     "shell.execute_reply.started": "2022-12-24T03:16:19.328045Z"
    }
   },
   "outputs": [],
   "source": [
    "concatenated = Concatenate()(outputs)"
   ]
  },
  {
   "cell_type": "code",
   "execution_count": 101,
   "metadata": {
    "_cell_guid": "0e894cba-208a-46dc-8618-0abe0563a45a",
    "_uuid": "a05dd39222c1e711132c3ef3a433d712a790315a",
    "execution": {
     "iopub.execute_input": "2022-12-24T03:16:20.391858Z",
     "iopub.status.busy": "2022-12-24T03:16:20.391356Z",
     "iopub.status.idle": "2022-12-24T03:16:20.420977Z",
     "shell.execute_reply": "2022-12-24T03:16:20.420096Z",
     "shell.execute_reply.started": "2022-12-24T03:16:20.391788Z"
    }
   },
   "outputs": [],
   "source": [
    "x = Dense(16)(concatenated)\n",
    "x = Activation('sigmoid')(x)\n",
    "x = Dense(1)(concatenated)\n",
    "model_out = Activation('sigmoid')(x)"
   ]
  },
  {
   "cell_type": "code",
   "execution_count": 102,
   "metadata": {
    "_cell_guid": "a35e9953-848a-4ab9-a160-6e8e032f7963",
    "_uuid": "7e9dab3301b76be0de89f8d9e97a7f9568660c63",
    "execution": {
     "iopub.execute_input": "2022-12-24T03:16:25.923786Z",
     "iopub.status.busy": "2022-12-24T03:16:25.923262Z",
     "iopub.status.idle": "2022-12-24T03:16:25.965269Z",
     "shell.execute_reply": "2022-12-24T03:16:25.964425Z",
     "shell.execute_reply.started": "2022-12-24T03:16:25.923552Z"
    }
   },
   "outputs": [],
   "source": [
    "merged_model = Model(inputs, model_out)\n",
    "merged_model.compile(loss='binary_crossentropy', \n",
    "                     optimizer='adam', \n",
    "                     metrics=['accuracy'])"
   ]
  },
  {
   "cell_type": "code",
   "execution_count": 103,
   "metadata": {
    "_cell_guid": "aa9b6a4c-a33c-489b-a03c-ea7ea50f576f",
    "_uuid": "40fe68b68666ad867614c7bc34141b30e2aa2490",
    "execution": {
     "iopub.execute_input": "2022-12-24T03:16:40.013769Z",
     "iopub.status.busy": "2022-12-24T03:16:40.013281Z",
     "iopub.status.idle": "2022-12-24T03:16:40.017733Z",
     "shell.execute_reply": "2022-12-24T03:16:40.016974Z",
     "shell.execute_reply.started": "2022-12-24T03:16:40.013712Z"
    }
   },
   "outputs": [],
   "source": [
    "types = df['type']"
   ]
  },
  {
   "cell_type": "code",
   "execution_count": 104,
   "metadata": {
    "_cell_guid": "77e53195-24c1-4ccb-af92-19a85148e4c1",
    "_uuid": "ed0de5bdfed505ac7850b72b93dabc77d6ac3753",
    "execution": {
     "iopub.execute_input": "2022-12-24T03:16:40.912213Z",
     "iopub.status.busy": "2022-12-24T03:16:40.911865Z",
     "iopub.status.idle": "2022-12-24T03:16:41.438591Z",
     "shell.execute_reply": "2022-12-24T03:16:41.437738Z",
     "shell.execute_reply.started": "2022-12-24T03:16:40.912150Z"
    }
   },
   "outputs": [],
   "source": [
    "rest = df[other_cols]"
   ]
  },
  {
   "cell_type": "code",
   "execution_count": 105,
   "metadata": {
    "_cell_guid": "aa1efd8d-96b0-43a2-84b9-f45e1b376d47",
    "_uuid": "bab6ad0680df5fede7ec7ad1c93496f3736a3466",
    "execution": {
     "iopub.execute_input": "2022-12-24T03:16:49.217424Z",
     "iopub.status.busy": "2022-12-24T03:16:49.216748Z",
     "iopub.status.idle": "2022-12-24T03:16:49.222060Z",
     "shell.execute_reply": "2022-12-24T03:16:49.221071Z",
     "shell.execute_reply.started": "2022-12-24T03:16:49.217349Z"
    }
   },
   "outputs": [],
   "source": [
    "target = df['isFraud']"
   ]
  },
  {
   "cell_type": "code",
   "execution_count": 106,
   "metadata": {
    "_cell_guid": "2784f1f5-1c9e-4632-b2f9-5038a3424443",
    "_uuid": "24c09ca74688aba0abbadd39277fec5d6615cab8",
    "execution": {
     "iopub.execute_input": "2022-12-24T03:16:54.081602Z",
     "iopub.status.busy": "2022-12-24T03:16:54.081295Z",
     "iopub.status.idle": "2022-12-24T03:18:19.960674Z",
     "shell.execute_reply": "2022-12-24T03:18:19.959737Z",
     "shell.execute_reply.started": "2022-12-24T03:16:54.081555Z"
    }
   },
   "outputs": [
    {
     "name": "stdout",
     "output_type": "stream",
     "text": [
      "Epoch 1/1\n",
      "6362620/6362620 [==============================] - 85s 13us/step - loss: 0.0637 - acc: 0.9960\n"
     ]
    }
   ],
   "source": [
    "history = merged_model.fit([types.values,rest.values],target.values, \n",
    "                           epochs = 1, batch_size = 128)"
   ]
  },
  {
   "cell_type": "code",
   "execution_count": 107,
   "metadata": {
    "_cell_guid": "41a4c40f-7478-4961-afbb-0c44976d8284",
    "_uuid": "7450dc3a5e072776ad9ff26775da48789f59a5c3",
    "execution": {
     "iopub.execute_input": "2022-12-24T03:18:30.466452Z",
     "iopub.status.busy": "2022-12-24T03:18:30.466152Z",
     "iopub.status.idle": "2022-12-24T03:18:30.476327Z",
     "shell.execute_reply": "2022-12-24T03:18:30.475361Z",
     "shell.execute_reply.started": "2022-12-24T03:18:30.466405Z"
    }
   },
   "outputs": [
    {
     "name": "stdout",
     "output_type": "stream",
     "text": [
      "__________________________________________________________________________________________________\n",
      "Layer (type)                    Output Shape         Param #     Connected to                     \n",
      "==================================================================================================\n",
      "input_1 (InputLayer)            (None, 1)            0                                            \n",
      "__________________________________________________________________________________________________\n",
      "embedding_1 (Embedding)         (None, 1, 3)         15          input_1[0][0]                    \n",
      "__________________________________________________________________________________________________\n",
      "input_2 (InputLayer)            (None, 6)            0                                            \n",
      "__________________________________________________________________________________________________\n",
      "reshape_1 (Reshape)             (None, 3)            0           embedding_1[0][0]                \n",
      "__________________________________________________________________________________________________\n",
      "dense_4 (Dense)                 (None, 16)           112         input_2[0][0]                    \n",
      "__________________________________________________________________________________________________\n",
      "concatenate_1 (Concatenate)     (None, 19)           0           reshape_1[0][0]                  \n",
      "                                                                 dense_4[0][0]                    \n",
      "__________________________________________________________________________________________________\n",
      "dense_6 (Dense)                 (None, 1)            20          concatenate_1[0][0]              \n",
      "__________________________________________________________________________________________________\n",
      "activation_5 (Activation)       (None, 1)            0           dense_6[0][0]                    \n",
      "==================================================================================================\n",
      "Total params: 147\n",
      "Trainable params: 147\n",
      "Non-trainable params: 0\n",
      "__________________________________________________________________________________________________\n"
     ]
    }
   ],
   "source": [
    "merged_model.summary()"
   ]
  },
  {
   "cell_type": "code",
   "execution_count": 108,
   "metadata": {
    "_cell_guid": "7a574a32-5170-49bf-8cb5-85572aa5ae6d",
    "_uuid": "2803ca61422d5dea81edf44f996090d182cfa6fe",
    "collapsed": true,
    "jupyter": {
     "outputs_hidden": true
    }
   },
   "outputs": [],
   "source": []
  }
 ],
 "metadata": {
  "kernelspec": {
   "display_name": "Python 3",
   "language": "python",
   "name": "python3"
  },
  "language_info": {
   "codemirror_mode": {
    "name": "ipython",
    "version": 3
   },
   "file_extension": ".py",
   "mimetype": "text/x-python",
   "name": "python",
   "nbconvert_exporter": "python",
   "pygments_lexer": "ipython3",
   "version": "3.6.4"
  }
 },
 "nbformat": 4,
 "nbformat_minor": 4
}
