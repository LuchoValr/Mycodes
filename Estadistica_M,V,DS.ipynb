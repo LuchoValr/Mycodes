{
  "nbformat": 4,
  "nbformat_minor": 0,
  "metadata": {
    "colab": {
      "name": "Estadistica_M,V,DS.ipynb",
      "provenance": [],
      "authorship_tag": "ABX9TyOlJCTnkLaArcj5iDS0KlPG",
      "include_colab_link": true
    },
    "kernelspec": {
      "name": "python3",
      "display_name": "Python 3"
    },
    "language_info": {
      "name": "python"
    }
  },
  "cells": [
    {
      "cell_type": "markdown",
      "metadata": {
        "id": "view-in-github",
        "colab_type": "text"
      },
      "source": [
        "<a href=\"https://colab.research.google.com/github/LuchoValr/Pruebas-codigos/blob/main/Estadistica_M%2CV%2CDS.ipynb\" target=\"_parent\"><img src=\"https://colab.research.google.com/assets/colab-badge.svg\" alt=\"Open In Colab\"/></a>"
      ]
    },
    {
      "cell_type": "code",
      "execution_count": 1,
      "metadata": {
        "id": "ZNzAa-Q9pg0k"
      },
      "outputs": [],
      "source": [
        "def lista(a):\n",
        "  n = len(a)\n",
        "  #Acumulador de suma para la varianza\n",
        "  s = 0\n",
        "  media = sum(a)/n\n",
        "  for i in a:\n",
        "    #+= suma el lado izquierdo por el derecho esto ayuda a realizar la suma de los elementos de la varianza\n",
        "    s += (i-media)**2\n",
        "    varianza = s/n \n",
        "    desviacion = (s/n-1)**0.5\n",
        "  return media, varianza, desviacion"
      ]
    },
    {
      "cell_type": "code",
      "source": [
        "a = [1, 2, 3, 4, 5]"
      ],
      "metadata": {
        "id": "J4uv_7ufpogK"
      },
      "execution_count": 2,
      "outputs": []
    },
    {
      "cell_type": "code",
      "source": [
        "lista(a)"
      ],
      "metadata": {
        "colab": {
          "base_uri": "https://localhost:8080/"
        },
        "id": "RFGrXSsepr1L",
        "outputId": "a2e24a8b-66a5-4003-9e48-520433b8a682"
      },
      "execution_count": 3,
      "outputs": [
        {
          "output_type": "execute_result",
          "data": {
            "text/plain": [
              "(3.0, 2.0, 1.0)"
            ]
          },
          "metadata": {},
          "execution_count": 3
        }
      ]
    },
    {
      "cell_type": "code",
      "source": [
        ""
      ],
      "metadata": {
        "id": "yCDBcoXbpwG8"
      },
      "execution_count": null,
      "outputs": []
    }
  ]
}