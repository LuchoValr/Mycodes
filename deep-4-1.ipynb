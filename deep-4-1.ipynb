{
 "cells": [
  {
   "cell_type": "code",
   "execution_count": 1,
   "id": "768b73be",
   "metadata": {
    "execution": {
     "iopub.execute_input": "2023-01-22T01:05:41.320871Z",
     "iopub.status.busy": "2023-01-22T01:05:41.320077Z",
     "iopub.status.idle": "2023-01-22T01:05:41.334449Z",
     "shell.execute_reply": "2023-01-22T01:05:41.333603Z"
    },
    "papermill": {
     "duration": 0.02409,
     "end_time": "2023-01-22T01:05:41.337020",
     "exception": false,
     "start_time": "2023-01-22T01:05:41.312930",
     "status": "completed"
    },
    "tags": []
   },
   "outputs": [],
   "source": [
    "import numpy as np"
   ]
  },
  {
   "cell_type": "code",
   "execution_count": 2,
   "id": "8e7b0321",
   "metadata": {
    "execution": {
     "iopub.execute_input": "2023-01-22T01:05:41.348200Z",
     "iopub.status.busy": "2023-01-22T01:05:41.347444Z",
     "iopub.status.idle": "2023-01-22T01:05:41.352084Z",
     "shell.execute_reply": "2023-01-22T01:05:41.351019Z"
    },
    "papermill": {
     "duration": 0.012357,
     "end_time": "2023-01-22T01:05:41.354264",
     "exception": false,
     "start_time": "2023-01-22T01:05:41.341907",
     "status": "completed"
    },
    "tags": []
   },
   "outputs": [],
   "source": [
    "X = np.random.rand(20,1) * 10 -5"
   ]
  },
  {
   "cell_type": "code",
   "execution_count": 3,
   "id": "fbd98dcb",
   "metadata": {
    "execution": {
     "iopub.execute_input": "2023-01-22T01:05:41.364405Z",
     "iopub.status.busy": "2023-01-22T01:05:41.363979Z",
     "iopub.status.idle": "2023-01-22T01:05:41.371302Z",
     "shell.execute_reply": "2023-01-22T01:05:41.370001Z"
    },
    "papermill": {
     "duration": 0.014993,
     "end_time": "2023-01-22T01:05:41.373550",
     "exception": false,
     "start_time": "2023-01-22T01:05:41.358557",
     "status": "completed"
    },
    "tags": []
   },
   "outputs": [],
   "source": [
    "y = np.sin(X)"
   ]
  },
  {
   "cell_type": "code",
   "execution_count": 4,
   "id": "14af9ecb",
   "metadata": {
    "execution": {
     "iopub.execute_input": "2023-01-22T01:05:41.383699Z",
     "iopub.status.busy": "2023-01-22T01:05:41.383271Z",
     "iopub.status.idle": "2023-01-22T01:05:41.394214Z",
     "shell.execute_reply": "2023-01-22T01:05:41.392602Z"
    },
    "papermill": {
     "duration": 0.020943,
     "end_time": "2023-01-22T01:05:41.398723",
     "exception": false,
     "start_time": "2023-01-22T01:05:41.377780",
     "status": "completed"
    },
    "tags": []
   },
   "outputs": [
    {
     "data": {
      "text/plain": [
       "((20, 1), (20, 1))"
      ]
     },
     "execution_count": 4,
     "metadata": {},
     "output_type": "execute_result"
    }
   ],
   "source": [
    "X.shape,y.shape"
   ]
  },
  {
   "cell_type": "code",
   "execution_count": 5,
   "id": "67f5ec75",
   "metadata": {
    "execution": {
     "iopub.execute_input": "2023-01-22T01:05:41.411648Z",
     "iopub.status.busy": "2023-01-22T01:05:41.410951Z",
     "iopub.status.idle": "2023-01-22T01:05:48.103480Z",
     "shell.execute_reply": "2023-01-22T01:05:48.102202Z"
    },
    "papermill": {
     "duration": 6.702,
     "end_time": "2023-01-22T01:05:48.106802",
     "exception": false,
     "start_time": "2023-01-22T01:05:41.404802",
     "status": "completed"
    },
    "tags": []
   },
   "outputs": [],
   "source": [
    "from keras.models import Sequential\n",
    "from keras.layers import Dense, Dropout, Activation"
   ]
  },
  {
   "cell_type": "code",
   "execution_count": 6,
   "id": "00ddf593",
   "metadata": {
    "execution": {
     "iopub.execute_input": "2023-01-22T01:05:48.117999Z",
     "iopub.status.busy": "2023-01-22T01:05:48.117286Z",
     "iopub.status.idle": "2023-01-22T01:05:48.123031Z",
     "shell.execute_reply": "2023-01-22T01:05:48.121726Z"
    },
    "papermill": {
     "duration": 0.013974,
     "end_time": "2023-01-22T01:05:48.125470",
     "exception": false,
     "start_time": "2023-01-22T01:05:48.111496",
     "status": "completed"
    },
    "tags": []
   },
   "outputs": [],
   "source": [
    "import keras.backend as K"
   ]
  },
  {
   "cell_type": "code",
   "execution_count": 7,
   "id": "9830ea8e",
   "metadata": {
    "execution": {
     "iopub.execute_input": "2023-01-22T01:05:48.136446Z",
     "iopub.status.busy": "2023-01-22T01:05:48.136064Z",
     "iopub.status.idle": "2023-01-22T01:05:48.317232Z",
     "shell.execute_reply": "2023-01-22T01:05:48.315689Z"
    },
    "papermill": {
     "duration": 0.189955,
     "end_time": "2023-01-22T01:05:48.319951",
     "exception": false,
     "start_time": "2023-01-22T01:05:48.129996",
     "status": "completed"
    },
    "tags": []
   },
   "outputs": [
    {
     "name": "stderr",
     "output_type": "stream",
     "text": [
      "/opt/conda/lib/python3.7/site-packages/keras/backend.py:401: UserWarning: `tf.keras.backend.set_learning_phase` is deprecated and will be removed after 2020-10-11. To update it, simply pass a True/False value to the `training` argument of the `__call__` method of your layer or model.\n",
      "  warnings.warn('`tf.keras.backend.set_learning_phase` is deprecated and '\n",
      "2023-01-22 01:05:48.185145: I tensorflow/core/common_runtime/process_util.cc:146] Creating new thread pool with default inter op setting: 2. Tune using inter_op_parallelism_threads for best performance.\n"
     ]
    }
   ],
   "source": [
    "K.clear_session()\n",
    "K.set_learning_phase(1)\n",
    "model = Sequential()\n",
    "model.add(Dense(1,input_dim = 1))\n",
    "model.add(Dropout(0.05))\n",
    "model.add(Dense(20))\n",
    "model.add(Activation('relu'))\n",
    "model.add(Dropout(0.05))\n",
    "model.add(Dense(20))\n",
    "model.add(Activation('relu'))\n",
    "model.add(Dropout(0.05))\n",
    "model.add(Dense(20))\n",
    "model.add(Activation('sigmoid'))\n",
    "model.add(Dense(1))"
   ]
  },
  {
   "cell_type": "code",
   "execution_count": 8,
   "id": "6654be1b",
   "metadata": {
    "execution": {
     "iopub.execute_input": "2023-01-22T01:05:48.331511Z",
     "iopub.status.busy": "2023-01-22T01:05:48.330356Z",
     "iopub.status.idle": "2023-01-22T01:05:48.788950Z",
     "shell.execute_reply": "2023-01-22T01:05:48.787635Z"
    },
    "papermill": {
     "duration": 0.467405,
     "end_time": "2023-01-22T01:05:48.791907",
     "exception": false,
     "start_time": "2023-01-22T01:05:48.324502",
     "status": "completed"
    },
    "tags": []
   },
   "outputs": [],
   "source": [
    "from tensorflow.keras.optimizers import SGD"
   ]
  },
  {
   "cell_type": "code",
   "execution_count": 9,
   "id": "7b8d68db",
   "metadata": {
    "execution": {
     "iopub.execute_input": "2023-01-22T01:05:48.802944Z",
     "iopub.status.busy": "2023-01-22T01:05:48.802546Z",
     "iopub.status.idle": "2023-01-22T01:05:48.991985Z",
     "shell.execute_reply": "2023-01-22T01:05:48.990614Z"
    },
    "papermill": {
     "duration": 0.198077,
     "end_time": "2023-01-22T01:05:48.994650",
     "exception": false,
     "start_time": "2023-01-22T01:05:48.796573",
     "status": "completed"
    },
    "tags": []
   },
   "outputs": [
    {
     "name": "stderr",
     "output_type": "stream",
     "text": [
      "/opt/conda/lib/python3.7/site-packages/keras/optimizer_v2/optimizer_v2.py:356: UserWarning: The `lr` argument is deprecated, use `learning_rate` instead.\n",
      "  \"The `lr` argument is deprecated, use `learning_rate` instead.\")\n"
     ]
    }
   ],
   "source": [
    "model.compile(loss='mse',optimizer=SGD(lr=0.01))"
   ]
  },
  {
   "cell_type": "code",
   "execution_count": 10,
   "id": "e317d59a",
   "metadata": {
    "execution": {
     "iopub.execute_input": "2023-01-22T01:05:49.005767Z",
     "iopub.status.busy": "2023-01-22T01:05:49.005307Z",
     "iopub.status.idle": "2023-01-22T01:06:22.270167Z",
     "shell.execute_reply": "2023-01-22T01:06:22.268966Z"
    },
    "papermill": {
     "duration": 33.277587,
     "end_time": "2023-01-22T01:06:22.276810",
     "exception": false,
     "start_time": "2023-01-22T01:05:48.999223",
     "status": "completed"
    },
    "tags": []
   },
   "outputs": [
    {
     "name": "stderr",
     "output_type": "stream",
     "text": [
      "2023-01-22 01:05:49.092559: I tensorflow/compiler/mlir/mlir_graph_optimization_pass.cc:185] None of the MLIR Optimization Passes are enabled (registered 2)\n"
     ]
    },
    {
     "data": {
      "text/plain": [
       "<keras.callbacks.History at 0x7fe8b49c80d0>"
      ]
     },
     "execution_count": 10,
     "metadata": {},
     "output_type": "execute_result"
    }
   ],
   "source": [
    "model.fit(X,y,epochs=10000,batch_size=10,verbose=0)"
   ]
  },
  {
   "cell_type": "code",
   "execution_count": 11,
   "id": "f112f0c1",
   "metadata": {
    "execution": {
     "iopub.execute_input": "2023-01-22T01:06:22.288351Z",
     "iopub.status.busy": "2023-01-22T01:06:22.287714Z",
     "iopub.status.idle": "2023-01-22T01:06:22.293328Z",
     "shell.execute_reply": "2023-01-22T01:06:22.292206Z"
    },
    "papermill": {
     "duration": 0.014628,
     "end_time": "2023-01-22T01:06:22.296072",
     "exception": false,
     "start_time": "2023-01-22T01:06:22.281444",
     "status": "completed"
    },
    "tags": []
   },
   "outputs": [],
   "source": [
    "X_test = np.arange(-10,10,0.1)\n",
    "X_test = np.expand_dims(X_test,-1)"
   ]
  },
  {
   "cell_type": "code",
   "execution_count": 12,
   "id": "3f5ddbde",
   "metadata": {
    "execution": {
     "iopub.execute_input": "2023-01-22T01:06:22.307483Z",
     "iopub.status.busy": "2023-01-22T01:06:22.307095Z",
     "iopub.status.idle": "2023-01-22T01:06:28.748004Z",
     "shell.execute_reply": "2023-01-22T01:06:28.746648Z"
    },
    "papermill": {
     "duration": 6.450304,
     "end_time": "2023-01-22T01:06:28.751252",
     "exception": false,
     "start_time": "2023-01-22T01:06:22.300948",
     "status": "completed"
    },
    "tags": []
   },
   "outputs": [],
   "source": [
    "probs = []\n",
    "for i in range(100):\n",
    "    out = model.predict(X_test)\n",
    "    probs.append(out)"
   ]
  },
  {
   "cell_type": "code",
   "execution_count": 13,
   "id": "92c4952e",
   "metadata": {
    "execution": {
     "iopub.execute_input": "2023-01-22T01:06:28.764649Z",
     "iopub.status.busy": "2023-01-22T01:06:28.763379Z",
     "iopub.status.idle": "2023-01-22T01:06:28.773711Z",
     "shell.execute_reply": "2023-01-22T01:06:28.772573Z"
    },
    "papermill": {
     "duration": 0.019107,
     "end_time": "2023-01-22T01:06:28.776112",
     "exception": false,
     "start_time": "2023-01-22T01:06:28.757005",
     "status": "completed"
    },
    "tags": []
   },
   "outputs": [
    {
     "data": {
      "text/plain": [
       "(100, 200, 1)"
      ]
     },
     "execution_count": 13,
     "metadata": {},
     "output_type": "execute_result"
    }
   ],
   "source": [
    "p = np.array(probs)\n",
    "mean = np.mean(p,axis=0)\n",
    "std = np.std(p,axis=0)\n",
    "p.shape"
   ]
  },
  {
   "cell_type": "code",
   "execution_count": 14,
   "id": "f7596609",
   "metadata": {
    "execution": {
     "iopub.execute_input": "2023-01-22T01:06:28.788994Z",
     "iopub.status.busy": "2023-01-22T01:06:28.788585Z",
     "iopub.status.idle": "2023-01-22T01:06:29.111477Z",
     "shell.execute_reply": "2023-01-22T01:06:29.110236Z"
    },
    "papermill": {
     "duration": 0.333201,
     "end_time": "2023-01-22T01:06:29.114356",
     "exception": false,
     "start_time": "2023-01-22T01:06:28.781155",
     "status": "completed"
    },
    "tags": []
   },
   "outputs": [
    {
     "data": {
      "text/plain": [
       "<matplotlib.collections.PathCollection at 0x7fe8b0596350>"
      ]
     },
     "execution_count": 14,
     "metadata": {},
     "output_type": "execute_result"
    },
    {
     "data": {
      "image/png": "[encoded data removed]",
      "text/plain": [
       "<Figure size 720x504 with 1 Axes>"
      ]
     },
     "metadata": {
      "needs_background": "light"
     },
     "output_type": "display_data"
    }
   ],
   "source": [
    "import matplotlib.pyplot as plt\n",
    "plt.figure(figsize=(10,7))\n",
    "plt.plot(X_test,mean,c='blue')\n",
    "\n",
    "lower_bound = mean - std * 0.5\n",
    "upper_bound =  mean + std * 0.5\n",
    "plt.fill_between(X_test.flatten(),upper_bound.flatten(),lower_bound.flatten(),alpha=0.25, facecolor='blue')\n",
    "\n",
    "lower_bound = mean - std\n",
    "upper_bound =  mean + std\n",
    "plt.fill_between(X_test.flatten(),upper_bound.flatten(),lower_bound.flatten(),alpha=0.25, facecolor='blue')\n",
    "\n",
    "lower_bound = mean - std * 2\n",
    "upper_bound =  mean + std * 2\n",
    "plt.fill_between(X_test.flatten(),upper_bound.flatten(),lower_bound.flatten(),alpha=0.25, facecolor='blue')\n",
    "\n",
    "plt.scatter(X,y,c='black')"
   ]
  },
  {
   "cell_type": "code",
   "execution_count": null,
   "id": "6fe70c50",
   "metadata": {
    "papermill": {
     "duration": 0.005048,
     "end_time": "2023-01-22T01:06:29.124935",
     "exception": false,
     "start_time": "2023-01-22T01:06:29.119887",
     "status": "completed"
    },
    "tags": []
   },
   "outputs": [],
   "source": []
  }
 ],
 "metadata": {
  "kernelspec": {
   "display_name": "Python 3",
   "language": "python",
   "name": "python3"
  },
  "language_info": {
   "codemirror_mode": {
    "name": "ipython",
    "version": 3
   },
   "file_extension": ".py",
   "mimetype": "text/x-python",
   "name": "python",
   "nbconvert_exporter": "python",
   "pygments_lexer": "ipython3",
   "version": "3.7.12"
  },
  "papermill": {
   "default_parameters": {},
   "duration": 60.240279,
   "end_time": "2023-01-22T01:06:32.490345",
   "environment_variables": {},
   "exception": null,
   "input_path": "__notebook__.ipynb",
   "output_path": "__notebook__.ipynb",
   "parameters": {},
   "start_time": "2023-01-22T01:05:32.250066",
   "version": "2.3.4"
  }
 },
 "nbformat": 4,
 "nbformat_minor": 5
}
