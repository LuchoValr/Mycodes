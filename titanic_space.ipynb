{
 "cells": [
  {
   "cell_type": "code",
   "execution_count": 1,
   "id": "53a0ba29",
   "metadata": {
    "execution": {
     "iopub.execute_input": "2023-01-10T04:27:00.943639Z",
     "iopub.status.busy": "2023-01-10T04:27:00.942905Z",
     "iopub.status.idle": "2023-01-10T04:27:00.952546Z",
     "shell.execute_reply": "2023-01-10T04:27:00.951664Z"
    },
    "papermill": {
     "duration": 0.040605,
     "end_time": "2023-01-10T04:27:00.955417",
     "exception": false,
     "start_time": "2023-01-10T04:27:00.914812",
     "status": "completed"
    },
    "tags": []
   },
   "outputs": [],
   "source": [
    "import numpy as np\n",
    "import pandas as pd"
   ]
  },
  {
   "cell_type": "code",
   "execution_count": 2,
   "id": "9f7ec3e2",
   "metadata": {
    "execution": {
     "iopub.execute_input": "2023-01-10T04:27:01.003380Z",
     "iopub.status.busy": "2023-01-10T04:27:01.002266Z",
     "iopub.status.idle": "2023-01-10T04:27:01.091780Z",
     "shell.execute_reply": "2023-01-10T04:27:01.090577Z"
    },
    "papermill": {
     "duration": 0.117031,
     "end_time": "2023-01-10T04:27:01.095098",
     "exception": false,
     "start_time": "2023-01-10T04:27:00.978067",
     "status": "completed"
    },
    "tags": []
   },
   "outputs": [],
   "source": [
    "train=pd.read_csv('/kaggle/input/spaceship-titanic/train.csv')\n",
    "test=pd.read_csv('/kaggle/input/spaceship-titanic/test.csv')"
   ]
  },
  {
   "cell_type": "code",
   "execution_count": 3,
   "id": "de30b156",
   "metadata": {
    "execution": {
     "iopub.execute_input": "2023-01-10T04:27:01.142497Z",
     "iopub.status.busy": "2023-01-10T04:27:01.142057Z",
     "iopub.status.idle": "2023-01-10T04:27:01.178644Z",
     "shell.execute_reply": "2023-01-10T04:27:01.176546Z"
    },
    "papermill": {
     "duration": 0.063705,
     "end_time": "2023-01-10T04:27:01.181941",
     "exception": false,
     "start_time": "2023-01-10T04:27:01.118236",
     "status": "completed"
    },
    "tags": []
   },
   "outputs": [
    {
     "data": {
      "text/html": [
       "<div>\n",
       "<style scoped>\n",
       "    .dataframe tbody tr th:only-of-type {\n",
       "        vertical-align: middle;\n",
       "    }\n",
       "\n",
       "    .dataframe tbody tr th {\n",
       "        vertical-align: top;\n",
       "    }\n",
       "\n",
       "    .dataframe thead th {\n",
       "        text-align: right;\n",
       "    }\n",
       "</style>\n",
       "<table border=\"1\" class=\"dataframe\">\n",
       "  <thead>\n",
       "    <tr style=\"text-align: right;\">\n",
       "      <th></th>\n",
       "      <th>PassengerId</th>\n",
       "      <th>HomePlanet</th>\n",
       "      <th>CryoSleep</th>\n",
       "      <th>Cabin</th>\n",
       "      <th>Destination</th>\n",
       "      <th>Age</th>\n",
       "      <th>VIP</th>\n",
       "      <th>RoomService</th>\n",
       "      <th>FoodCourt</th>\n",
       "      <th>ShoppingMall</th>\n",
       "      <th>Spa</th>\n",
       "      <th>VRDeck</th>\n",
       "      <th>Name</th>\n",
       "      <th>Transported</th>\n",
       "    </tr>\n",
       "  </thead>\n",
       "  <tbody>\n",
       "    <tr>\n",
       "      <th>0</th>\n",
       "      <td>0001_01</td>\n",
       "      <td>Europa</td>\n",
       "      <td>False</td>\n",
       "      <td>B/0/P</td>\n",
       "      <td>TRAPPIST-1e</td>\n",
       "      <td>39.0</td>\n",
       "      <td>False</td>\n",
       "      <td>0.0</td>\n",
       "      <td>0.0</td>\n",
       "      <td>0.0</td>\n",
       "      <td>0.0</td>\n",
       "      <td>0.0</td>\n",
       "      <td>Maham Ofracculy</td>\n",
       "      <td>False</td>\n",
       "    </tr>\n",
       "    <tr>\n",
       "      <th>1</th>\n",
       "      <td>0002_01</td>\n",
       "      <td>Earth</td>\n",
       "      <td>False</td>\n",
       "      <td>F/0/S</td>\n",
       "      <td>TRAPPIST-1e</td>\n",
       "      <td>24.0</td>\n",
       "      <td>False</td>\n",
       "      <td>109.0</td>\n",
       "      <td>9.0</td>\n",
       "      <td>25.0</td>\n",
       "      <td>549.0</td>\n",
       "      <td>44.0</td>\n",
       "      <td>Juanna Vines</td>\n",
       "      <td>True</td>\n",
       "    </tr>\n",
       "    <tr>\n",
       "      <th>2</th>\n",
       "      <td>0003_01</td>\n",
       "      <td>Europa</td>\n",
       "      <td>False</td>\n",
       "      <td>A/0/S</td>\n",
       "      <td>TRAPPIST-1e</td>\n",
       "      <td>58.0</td>\n",
       "      <td>True</td>\n",
       "      <td>43.0</td>\n",
       "      <td>3576.0</td>\n",
       "      <td>0.0</td>\n",
       "      <td>6715.0</td>\n",
       "      <td>49.0</td>\n",
       "      <td>Altark Susent</td>\n",
       "      <td>False</td>\n",
       "    </tr>\n",
       "    <tr>\n",
       "      <th>3</th>\n",
       "      <td>0003_02</td>\n",
       "      <td>Europa</td>\n",
       "      <td>False</td>\n",
       "      <td>A/0/S</td>\n",
       "      <td>TRAPPIST-1e</td>\n",
       "      <td>33.0</td>\n",
       "      <td>False</td>\n",
       "      <td>0.0</td>\n",
       "      <td>1283.0</td>\n",
       "      <td>371.0</td>\n",
       "      <td>3329.0</td>\n",
       "      <td>193.0</td>\n",
       "      <td>Solam Susent</td>\n",
       "      <td>False</td>\n",
       "    </tr>\n",
       "    <tr>\n",
       "      <th>4</th>\n",
       "      <td>0004_01</td>\n",
       "      <td>Earth</td>\n",
       "      <td>False</td>\n",
       "      <td>F/1/S</td>\n",
       "      <td>TRAPPIST-1e</td>\n",
       "      <td>16.0</td>\n",
       "      <td>False</td>\n",
       "      <td>303.0</td>\n",
       "      <td>70.0</td>\n",
       "      <td>151.0</td>\n",
       "      <td>565.0</td>\n",
       "      <td>2.0</td>\n",
       "      <td>Willy Santantines</td>\n",
       "      <td>True</td>\n",
       "    </tr>\n",
       "  </tbody>\n",
       "</table>\n",
       "</div>"
      ],
      "text/plain": [
       "  PassengerId HomePlanet CryoSleep  Cabin  Destination   Age    VIP  \\\n",
       "0     0001_01     Europa     False  B/0/P  TRAPPIST-1e  39.0  False   \n",
       "1     0002_01      Earth     False  F/0/S  TRAPPIST-1e  24.0  False   \n",
       "2     0003_01     Europa     False  A/0/S  TRAPPIST-1e  58.0   True   \n",
       "3     0003_02     Europa     False  A/0/S  TRAPPIST-1e  33.0  False   \n",
       "4     0004_01      Earth     False  F/1/S  TRAPPIST-1e  16.0  False   \n",
       "\n",
       "   RoomService  FoodCourt  ShoppingMall     Spa  VRDeck               Name  \\\n",
       "0          0.0        0.0           0.0     0.0     0.0    Maham Ofracculy   \n",
       "1        109.0        9.0          25.0   549.0    44.0       Juanna Vines   \n",
       "2         43.0     3576.0           0.0  6715.0    49.0      Altark Susent   \n",
       "3          0.0     1283.0         371.0  3329.0   193.0       Solam Susent   \n",
       "4        303.0       70.0         151.0   565.0     2.0  Willy Santantines   \n",
       "\n",
       "   Transported  \n",
       "0        False  \n",
       "1         True  \n",
       "2        False  \n",
       "3        False  \n",
       "4         True  "
      ]
     },
     "execution_count": 3,
     "metadata": {},
     "output_type": "execute_result"
    }
   ],
   "source": [
    "train.head()"
   ]
  },
  {
   "cell_type": "code",
   "execution_count": 4,
   "id": "38ccf546",
   "metadata": {
    "execution": {
     "iopub.execute_input": "2023-01-10T04:27:01.239938Z",
     "iopub.status.busy": "2023-01-10T04:27:01.238866Z",
     "iopub.status.idle": "2023-01-10T04:27:01.273229Z",
     "shell.execute_reply": "2023-01-10T04:27:01.271148Z"
    },
    "papermill": {
     "duration": 0.064115,
     "end_time": "2023-01-10T04:27:01.276493",
     "exception": false,
     "start_time": "2023-01-10T04:27:01.212378",
     "status": "completed"
    },
    "tags": []
   },
   "outputs": [
    {
     "data": {
      "text/html": [
       "<div>\n",
       "<style scoped>\n",
       "    .dataframe tbody tr th:only-of-type {\n",
       "        vertical-align: middle;\n",
       "    }\n",
       "\n",
       "    .dataframe tbody tr th {\n",
       "        vertical-align: top;\n",
       "    }\n",
       "\n",
       "    .dataframe thead th {\n",
       "        text-align: right;\n",
       "    }\n",
       "</style>\n",
       "<table border=\"1\" class=\"dataframe\">\n",
       "  <thead>\n",
       "    <tr style=\"text-align: right;\">\n",
       "      <th></th>\n",
       "      <th>PassengerId</th>\n",
       "      <th>HomePlanet</th>\n",
       "      <th>CryoSleep</th>\n",
       "      <th>Cabin</th>\n",
       "      <th>Destination</th>\n",
       "      <th>Age</th>\n",
       "      <th>VIP</th>\n",
       "      <th>RoomService</th>\n",
       "      <th>FoodCourt</th>\n",
       "      <th>ShoppingMall</th>\n",
       "      <th>Spa</th>\n",
       "      <th>VRDeck</th>\n",
       "      <th>Name</th>\n",
       "    </tr>\n",
       "  </thead>\n",
       "  <tbody>\n",
       "    <tr>\n",
       "      <th>0</th>\n",
       "      <td>0013_01</td>\n",
       "      <td>Earth</td>\n",
       "      <td>True</td>\n",
       "      <td>G/3/S</td>\n",
       "      <td>TRAPPIST-1e</td>\n",
       "      <td>27.0</td>\n",
       "      <td>False</td>\n",
       "      <td>0.0</td>\n",
       "      <td>0.0</td>\n",
       "      <td>0.0</td>\n",
       "      <td>0.0</td>\n",
       "      <td>0.0</td>\n",
       "      <td>Nelly Carsoning</td>\n",
       "    </tr>\n",
       "    <tr>\n",
       "      <th>1</th>\n",
       "      <td>0018_01</td>\n",
       "      <td>Earth</td>\n",
       "      <td>False</td>\n",
       "      <td>F/4/S</td>\n",
       "      <td>TRAPPIST-1e</td>\n",
       "      <td>19.0</td>\n",
       "      <td>False</td>\n",
       "      <td>0.0</td>\n",
       "      <td>9.0</td>\n",
       "      <td>0.0</td>\n",
       "      <td>2823.0</td>\n",
       "      <td>0.0</td>\n",
       "      <td>Lerome Peckers</td>\n",
       "    </tr>\n",
       "    <tr>\n",
       "      <th>2</th>\n",
       "      <td>0019_01</td>\n",
       "      <td>Europa</td>\n",
       "      <td>True</td>\n",
       "      <td>C/0/S</td>\n",
       "      <td>55 Cancri e</td>\n",
       "      <td>31.0</td>\n",
       "      <td>False</td>\n",
       "      <td>0.0</td>\n",
       "      <td>0.0</td>\n",
       "      <td>0.0</td>\n",
       "      <td>0.0</td>\n",
       "      <td>0.0</td>\n",
       "      <td>Sabih Unhearfus</td>\n",
       "    </tr>\n",
       "    <tr>\n",
       "      <th>3</th>\n",
       "      <td>0021_01</td>\n",
       "      <td>Europa</td>\n",
       "      <td>False</td>\n",
       "      <td>C/1/S</td>\n",
       "      <td>TRAPPIST-1e</td>\n",
       "      <td>38.0</td>\n",
       "      <td>False</td>\n",
       "      <td>0.0</td>\n",
       "      <td>6652.0</td>\n",
       "      <td>0.0</td>\n",
       "      <td>181.0</td>\n",
       "      <td>585.0</td>\n",
       "      <td>Meratz Caltilter</td>\n",
       "    </tr>\n",
       "    <tr>\n",
       "      <th>4</th>\n",
       "      <td>0023_01</td>\n",
       "      <td>Earth</td>\n",
       "      <td>False</td>\n",
       "      <td>F/5/S</td>\n",
       "      <td>TRAPPIST-1e</td>\n",
       "      <td>20.0</td>\n",
       "      <td>False</td>\n",
       "      <td>10.0</td>\n",
       "      <td>0.0</td>\n",
       "      <td>635.0</td>\n",
       "      <td>0.0</td>\n",
       "      <td>0.0</td>\n",
       "      <td>Brence Harperez</td>\n",
       "    </tr>\n",
       "  </tbody>\n",
       "</table>\n",
       "</div>"
      ],
      "text/plain": [
       "  PassengerId HomePlanet CryoSleep  Cabin  Destination   Age    VIP  \\\n",
       "0     0013_01      Earth      True  G/3/S  TRAPPIST-1e  27.0  False   \n",
       "1     0018_01      Earth     False  F/4/S  TRAPPIST-1e  19.0  False   \n",
       "2     0019_01     Europa      True  C/0/S  55 Cancri e  31.0  False   \n",
       "3     0021_01     Europa     False  C/1/S  TRAPPIST-1e  38.0  False   \n",
       "4     0023_01      Earth     False  F/5/S  TRAPPIST-1e  20.0  False   \n",
       "\n",
       "   RoomService  FoodCourt  ShoppingMall     Spa  VRDeck              Name  \n",
       "0          0.0        0.0           0.0     0.0     0.0   Nelly Carsoning  \n",
       "1          0.0        9.0           0.0  2823.0     0.0    Lerome Peckers  \n",
       "2          0.0        0.0           0.0     0.0     0.0   Sabih Unhearfus  \n",
       "3          0.0     6652.0           0.0   181.0   585.0  Meratz Caltilter  \n",
       "4         10.0        0.0         635.0     0.0     0.0   Brence Harperez  "
      ]
     },
     "execution_count": 4,
     "metadata": {},
     "output_type": "execute_result"
    }
   ],
   "source": [
    "test.head()"
   ]
  },
  {
   "cell_type": "code",
   "execution_count": 5,
   "id": "c5d9a067",
   "metadata": {
    "execution": {
     "iopub.execute_input": "2023-01-10T04:27:01.344240Z",
     "iopub.status.busy": "2023-01-10T04:27:01.342847Z",
     "iopub.status.idle": "2023-01-10T04:27:01.373805Z",
     "shell.execute_reply": "2023-01-10T04:27:01.372433Z"
    },
    "papermill": {
     "duration": 0.062758,
     "end_time": "2023-01-10T04:27:01.376593",
     "exception": false,
     "start_time": "2023-01-10T04:27:01.313835",
     "status": "completed"
    },
    "tags": []
   },
   "outputs": [
    {
     "name": "stdout",
     "output_type": "stream",
     "text": [
      "<class 'pandas.core.frame.DataFrame'>\n",
      "RangeIndex: 8693 entries, 0 to 8692\n",
      "Data columns (total 14 columns):\n",
      " #   Column        Non-Null Count  Dtype  \n",
      "---  ------        --------------  -----  \n",
      " 0   PassengerId   8693 non-null   object \n",
      " 1   HomePlanet    8492 non-null   object \n",
      " 2   CryoSleep     8476 non-null   object \n",
      " 3   Cabin         8494 non-null   object \n",
      " 4   Destination   8511 non-null   object \n",
      " 5   Age           8514 non-null   float64\n",
      " 6   VIP           8490 non-null   object \n",
      " 7   RoomService   8512 non-null   float64\n",
      " 8   FoodCourt     8510 non-null   float64\n",
      " 9   ShoppingMall  8485 non-null   float64\n",
      " 10  Spa           8510 non-null   float64\n",
      " 11  VRDeck        8505 non-null   float64\n",
      " 12  Name          8493 non-null   object \n",
      " 13  Transported   8693 non-null   bool   \n",
      "dtypes: bool(1), float64(6), object(7)\n",
      "memory usage: 891.5+ KB\n"
     ]
    }
   ],
   "source": [
    "train.info()"
   ]
  },
  {
   "cell_type": "code",
   "execution_count": 6,
   "id": "ec48d583",
   "metadata": {
    "execution": {
     "iopub.execute_input": "2023-01-10T04:27:01.424659Z",
     "iopub.status.busy": "2023-01-10T04:27:01.423822Z",
     "iopub.status.idle": "2023-01-10T04:27:01.443061Z",
     "shell.execute_reply": "2023-01-10T04:27:01.440506Z"
    },
    "papermill": {
     "duration": 0.047124,
     "end_time": "2023-01-10T04:27:01.446256",
     "exception": false,
     "start_time": "2023-01-10T04:27:01.399132",
     "status": "completed"
    },
    "tags": []
   },
   "outputs": [
    {
     "name": "stdout",
     "output_type": "stream",
     "text": [
      "<class 'pandas.core.frame.DataFrame'>\n",
      "RangeIndex: 4277 entries, 0 to 4276\n",
      "Data columns (total 13 columns):\n",
      " #   Column        Non-Null Count  Dtype  \n",
      "---  ------        --------------  -----  \n",
      " 0   PassengerId   4277 non-null   object \n",
      " 1   HomePlanet    4190 non-null   object \n",
      " 2   CryoSleep     4184 non-null   object \n",
      " 3   Cabin         4177 non-null   object \n",
      " 4   Destination   4185 non-null   object \n",
      " 5   Age           4186 non-null   float64\n",
      " 6   VIP           4184 non-null   object \n",
      " 7   RoomService   4195 non-null   float64\n",
      " 8   FoodCourt     4171 non-null   float64\n",
      " 9   ShoppingMall  4179 non-null   float64\n",
      " 10  Spa           4176 non-null   float64\n",
      " 11  VRDeck        4197 non-null   float64\n",
      " 12  Name          4183 non-null   object \n",
      "dtypes: float64(6), object(7)\n",
      "memory usage: 434.5+ KB\n"
     ]
    }
   ],
   "source": [
    "test.info()"
   ]
  },
  {
   "cell_type": "markdown",
   "id": "ee53ee34",
   "metadata": {
    "papermill": {
     "duration": 0.025533,
     "end_time": "2023-01-10T04:27:01.494499",
     "exception": false,
     "start_time": "2023-01-10T04:27:01.468966",
     "status": "completed"
    },
    "tags": []
   },
   "source": [
    "# **Data cleaning**"
   ]
  },
  {
   "cell_type": "code",
   "execution_count": 7,
   "id": "1246d5d7",
   "metadata": {
    "execution": {
     "iopub.execute_input": "2023-01-10T04:27:01.547651Z",
     "iopub.status.busy": "2023-01-10T04:27:01.546986Z",
     "iopub.status.idle": "2023-01-10T04:27:01.557129Z",
     "shell.execute_reply": "2023-01-10T04:27:01.555779Z"
    },
    "papermill": {
     "duration": 0.03747,
     "end_time": "2023-01-10T04:27:01.559901",
     "exception": false,
     "start_time": "2023-01-10T04:27:01.522431",
     "status": "completed"
    },
    "tags": []
   },
   "outputs": [
    {
     "data": {
      "text/plain": [
       "Earth     4602\n",
       "Europa    2131\n",
       "Mars      1759\n",
       "Name: HomePlanet, dtype: int64"
      ]
     },
     "execution_count": 7,
     "metadata": {},
     "output_type": "execute_result"
    }
   ],
   "source": [
    "train['HomePlanet'].value_counts()"
   ]
  },
  {
   "cell_type": "code",
   "execution_count": 8,
   "id": "d51a167a",
   "metadata": {
    "execution": {
     "iopub.execute_input": "2023-01-10T04:27:01.607600Z",
     "iopub.status.busy": "2023-01-10T04:27:01.606867Z",
     "iopub.status.idle": "2023-01-10T04:27:01.616634Z",
     "shell.execute_reply": "2023-01-10T04:27:01.615000Z"
    },
    "papermill": {
     "duration": 0.037194,
     "end_time": "2023-01-10T04:27:01.620016",
     "exception": false,
     "start_time": "2023-01-10T04:27:01.582822",
     "status": "completed"
    },
    "tags": []
   },
   "outputs": [
    {
     "data": {
      "text/plain": [
       "TRAPPIST-1e      5915\n",
       "55 Cancri e      1800\n",
       "PSO J318.5-22     796\n",
       "Name: Destination, dtype: int64"
      ]
     },
     "execution_count": 8,
     "metadata": {},
     "output_type": "execute_result"
    }
   ],
   "source": [
    "train['Destination'].value_counts()"
   ]
  },
  {
   "cell_type": "code",
   "execution_count": 9,
   "id": "328a4028",
   "metadata": {
    "execution": {
     "iopub.execute_input": "2023-01-10T04:27:01.671650Z",
     "iopub.status.busy": "2023-01-10T04:27:01.671205Z",
     "iopub.status.idle": "2023-01-10T04:27:01.680984Z",
     "shell.execute_reply": "2023-01-10T04:27:01.679607Z"
    },
    "papermill": {
     "duration": 0.037353,
     "end_time": "2023-01-10T04:27:01.683828",
     "exception": false,
     "start_time": "2023-01-10T04:27:01.646475",
     "status": "completed"
    },
    "tags": []
   },
   "outputs": [
    {
     "data": {
      "text/plain": [
       "Earth     2263\n",
       "Europa    1002\n",
       "Mars       925\n",
       "Name: HomePlanet, dtype: int64"
      ]
     },
     "execution_count": 9,
     "metadata": {},
     "output_type": "execute_result"
    }
   ],
   "source": [
    "test['HomePlanet'].value_counts()"
   ]
  },
  {
   "cell_type": "code",
   "execution_count": 10,
   "id": "88dcaf5a",
   "metadata": {
    "execution": {
     "iopub.execute_input": "2023-01-10T04:27:01.740162Z",
     "iopub.status.busy": "2023-01-10T04:27:01.739498Z",
     "iopub.status.idle": "2023-01-10T04:27:01.748647Z",
     "shell.execute_reply": "2023-01-10T04:27:01.747810Z"
    },
    "papermill": {
     "duration": 0.040264,
     "end_time": "2023-01-10T04:27:01.750967",
     "exception": false,
     "start_time": "2023-01-10T04:27:01.710703",
     "status": "completed"
    },
    "tags": []
   },
   "outputs": [
    {
     "data": {
      "text/plain": [
       "TRAPPIST-1e      2956\n",
       "55 Cancri e       841\n",
       "PSO J318.5-22     388\n",
       "Name: Destination, dtype: int64"
      ]
     },
     "execution_count": 10,
     "metadata": {},
     "output_type": "execute_result"
    }
   ],
   "source": [
    "test['Destination'].value_counts()"
   ]
  },
  {
   "cell_type": "code",
   "execution_count": 11,
   "id": "4d5f014a",
   "metadata": {
    "execution": {
     "iopub.execute_input": "2023-01-10T04:27:01.811641Z",
     "iopub.status.busy": "2023-01-10T04:27:01.810655Z",
     "iopub.status.idle": "2023-01-10T04:27:01.824438Z",
     "shell.execute_reply": "2023-01-10T04:27:01.823325Z"
    },
    "papermill": {
     "duration": 0.043584,
     "end_time": "2023-01-10T04:27:01.827204",
     "exception": false,
     "start_time": "2023-01-10T04:27:01.783620",
     "status": "completed"
    },
    "tags": []
   },
   "outputs": [],
   "source": [
    "train['HomePlanet'] = train['HomePlanet'].fillna('Earth')\n",
    "train['Destination']=train['Destination'].fillna('TRAPPIST-1e')\n",
    "test['HomePlanet']=test['HomePlanet'].fillna('Earth')\n",
    "test['Destination']=test['Destination'].fillna('TRAPPIST-1e')"
   ]
  },
  {
   "cell_type": "code",
   "execution_count": 12,
   "id": "c046fe7b",
   "metadata": {
    "execution": {
     "iopub.execute_input": "2023-01-10T04:27:01.885765Z",
     "iopub.status.busy": "2023-01-10T04:27:01.885100Z",
     "iopub.status.idle": "2023-01-10T04:27:01.895899Z",
     "shell.execute_reply": "2023-01-10T04:27:01.894004Z"
    },
    "papermill": {
     "duration": 0.04667,
     "end_time": "2023-01-10T04:27:01.898857",
     "exception": false,
     "start_time": "2023-01-10T04:27:01.852187",
     "status": "completed"
    },
    "tags": []
   },
   "outputs": [
    {
     "data": {
      "text/plain": [
       "0.35830580462482303"
      ]
     },
     "execution_count": 12,
     "metadata": {},
     "output_type": "execute_result"
    }
   ],
   "source": [
    "train['CryoSleep']=1*(train['CryoSleep'])\n",
    "train['CryoSleep'].mean()"
   ]
  },
  {
   "cell_type": "code",
   "execution_count": 13,
   "id": "3e4be729",
   "metadata": {
    "execution": {
     "iopub.execute_input": "2023-01-10T04:27:01.951964Z",
     "iopub.status.busy": "2023-01-10T04:27:01.951469Z",
     "iopub.status.idle": "2023-01-10T04:27:01.961435Z",
     "shell.execute_reply": "2023-01-10T04:27:01.960200Z"
    },
    "papermill": {
     "duration": 0.038873,
     "end_time": "2023-01-10T04:27:01.963847",
     "exception": false,
     "start_time": "2023-01-10T04:27:01.924974",
     "status": "completed"
    },
    "tags": []
   },
   "outputs": [
    {
     "data": {
      "text/plain": [
       "0    5439\n",
       "1    3037\n",
       "Name: CryoSleep, dtype: int64"
      ]
     },
     "execution_count": 13,
     "metadata": {},
     "output_type": "execute_result"
    }
   ],
   "source": [
    "train['CryoSleep'].value_counts()"
   ]
  },
  {
   "cell_type": "code",
   "execution_count": 14,
   "id": "d830e38d",
   "metadata": {
    "execution": {
     "iopub.execute_input": "2023-01-10T04:27:02.014362Z",
     "iopub.status.busy": "2023-01-10T04:27:02.013377Z",
     "iopub.status.idle": "2023-01-10T04:27:02.024332Z",
     "shell.execute_reply": "2023-01-10T04:27:02.023105Z"
    },
    "papermill": {
     "duration": 0.040223,
     "end_time": "2023-01-10T04:27:02.027284",
     "exception": false,
     "start_time": "2023-01-10T04:27:01.987061",
     "status": "completed"
    },
    "tags": []
   },
   "outputs": [],
   "source": [
    "train['CryoSleep']=train['CryoSleep'].fillna(0)\n",
    "test['CryoSleep']=test['CryoSleep'].fillna(0)"
   ]
  },
  {
   "cell_type": "code",
   "execution_count": 15,
   "id": "10184161",
   "metadata": {
    "execution": {
     "iopub.execute_input": "2023-01-10T04:27:02.079063Z",
     "iopub.status.busy": "2023-01-10T04:27:02.078612Z",
     "iopub.status.idle": "2023-01-10T04:27:02.086487Z",
     "shell.execute_reply": "2023-01-10T04:27:02.085451Z"
    },
    "papermill": {
     "duration": 0.038502,
     "end_time": "2023-01-10T04:27:02.088981",
     "exception": false,
     "start_time": "2023-01-10T04:27:02.050479",
     "status": "completed"
    },
    "tags": []
   },
   "outputs": [
    {
     "data": {
      "text/plain": [
       "28.82793046746535"
      ]
     },
     "execution_count": 15,
     "metadata": {},
     "output_type": "execute_result"
    }
   ],
   "source": [
    "train['Age'].mean()"
   ]
  },
  {
   "cell_type": "code",
   "execution_count": 16,
   "id": "e5f19719",
   "metadata": {
    "execution": {
     "iopub.execute_input": "2023-01-10T04:27:02.138373Z",
     "iopub.status.busy": "2023-01-10T04:27:02.137556Z",
     "iopub.status.idle": "2023-01-10T04:27:02.198407Z",
     "shell.execute_reply": "2023-01-10T04:27:02.197354Z"
    },
    "papermill": {
     "duration": 0.088657,
     "end_time": "2023-01-10T04:27:02.201155",
     "exception": false,
     "start_time": "2023-01-10T04:27:02.112498",
     "status": "completed"
    },
    "tags": []
   },
   "outputs": [
    {
     "data": {
      "text/html": [
       "<div>\n",
       "<style scoped>\n",
       "    .dataframe tbody tr th:only-of-type {\n",
       "        vertical-align: middle;\n",
       "    }\n",
       "\n",
       "    .dataframe tbody tr th {\n",
       "        vertical-align: top;\n",
       "    }\n",
       "\n",
       "    .dataframe thead tr th {\n",
       "        text-align: left;\n",
       "    }\n",
       "\n",
       "    .dataframe thead tr:last-of-type th {\n",
       "        text-align: right;\n",
       "    }\n",
       "</style>\n",
       "<table border=\"1\" class=\"dataframe\">\n",
       "  <thead>\n",
       "    <tr>\n",
       "      <th></th>\n",
       "      <th></th>\n",
       "      <th></th>\n",
       "      <th>mean</th>\n",
       "      <th>median</th>\n",
       "    </tr>\n",
       "    <tr>\n",
       "      <th></th>\n",
       "      <th></th>\n",
       "      <th></th>\n",
       "      <th>Age</th>\n",
       "      <th>Age</th>\n",
       "    </tr>\n",
       "    <tr>\n",
       "      <th>HomePlanet</th>\n",
       "      <th>FoodCourt</th>\n",
       "      <th>ShoppingMall</th>\n",
       "      <th></th>\n",
       "      <th></th>\n",
       "    </tr>\n",
       "  </thead>\n",
       "  <tbody>\n",
       "    <tr>\n",
       "      <th rowspan=\"5\" valign=\"top\">Earth</th>\n",
       "      <th rowspan=\"5\" valign=\"top\">0.0</th>\n",
       "      <th>0.0</th>\n",
       "      <td>22.089412</td>\n",
       "      <td>21.0</td>\n",
       "    </tr>\n",
       "    <tr>\n",
       "      <th>1.0</th>\n",
       "      <td>30.921053</td>\n",
       "      <td>25.5</td>\n",
       "    </tr>\n",
       "    <tr>\n",
       "      <th>2.0</th>\n",
       "      <td>28.736842</td>\n",
       "      <td>29.0</td>\n",
       "    </tr>\n",
       "    <tr>\n",
       "      <th>3.0</th>\n",
       "      <td>22.636364</td>\n",
       "      <td>20.0</td>\n",
       "    </tr>\n",
       "    <tr>\n",
       "      <th>4.0</th>\n",
       "      <td>23.615385</td>\n",
       "      <td>23.0</td>\n",
       "    </tr>\n",
       "    <tr>\n",
       "      <th>...</th>\n",
       "      <th>...</th>\n",
       "      <th>...</th>\n",
       "      <td>...</td>\n",
       "      <td>...</td>\n",
       "    </tr>\n",
       "    <tr>\n",
       "      <th rowspan=\"5\" valign=\"top\">Mars</th>\n",
       "      <th>2119.0</th>\n",
       "      <th>315.0</th>\n",
       "      <td>43.000000</td>\n",
       "      <td>43.0</td>\n",
       "    </tr>\n",
       "    <tr>\n",
       "      <th>2207.0</th>\n",
       "      <th>163.0</th>\n",
       "      <td>24.000000</td>\n",
       "      <td>24.0</td>\n",
       "    </tr>\n",
       "    <tr>\n",
       "      <th>2318.0</th>\n",
       "      <th>5.0</th>\n",
       "      <td>38.000000</td>\n",
       "      <td>38.0</td>\n",
       "    </tr>\n",
       "    <tr>\n",
       "      <th>2876.0</th>\n",
       "      <th>202.0</th>\n",
       "      <td>22.000000</td>\n",
       "      <td>22.0</td>\n",
       "    </tr>\n",
       "    <tr>\n",
       "      <th>4389.0</th>\n",
       "      <th>1015.0</th>\n",
       "      <td>35.000000</td>\n",
       "      <td>35.0</td>\n",
       "    </tr>\n",
       "  </tbody>\n",
       "</table>\n",
       "<p>3447 rows × 2 columns</p>\n",
       "</div>"
      ],
      "text/plain": [
       "                                        mean median\n",
       "                                         Age    Age\n",
       "HomePlanet FoodCourt ShoppingMall                  \n",
       "Earth      0.0       0.0           22.089412   21.0\n",
       "                     1.0           30.921053   25.5\n",
       "                     2.0           28.736842   29.0\n",
       "                     3.0           22.636364   20.0\n",
       "                     4.0           23.615385   23.0\n",
       "...                                      ...    ...\n",
       "Mars       2119.0    315.0         43.000000   43.0\n",
       "           2207.0    163.0         24.000000   24.0\n",
       "           2318.0    5.0           38.000000   38.0\n",
       "           2876.0    202.0         22.000000   22.0\n",
       "           4389.0    1015.0        35.000000   35.0\n",
       "\n",
       "[3447 rows x 2 columns]"
      ]
     },
     "execution_count": 16,
     "metadata": {},
     "output_type": "execute_result"
    }
   ],
   "source": [
    "train.pivot_table(index=['HomePlanet','FoodCourt','ShoppingMall'],values='Age',aggfunc=['mean','median'])"
   ]
  },
  {
   "cell_type": "code",
   "execution_count": 17,
   "id": "688d5755",
   "metadata": {
    "execution": {
     "iopub.execute_input": "2023-01-10T04:27:02.249676Z",
     "iopub.status.busy": "2023-01-10T04:27:02.249280Z",
     "iopub.status.idle": "2023-01-10T04:27:02.261483Z",
     "shell.execute_reply": "2023-01-10T04:27:02.260295Z"
    },
    "papermill": {
     "duration": 0.039846,
     "end_time": "2023-01-10T04:27:02.264409",
     "exception": false,
     "start_time": "2023-01-10T04:27:02.224563",
     "status": "completed"
    },
    "tags": []
   },
   "outputs": [],
   "source": [
    "train['Age']=train['Age'].fillna(train.groupby(['HomePlanet','FoodCourt','ShoppingMall'])['Age'].transform('median'))"
   ]
  },
  {
   "cell_type": "code",
   "execution_count": 18,
   "id": "20a2dd90",
   "metadata": {
    "execution": {
     "iopub.execute_input": "2023-01-10T04:27:02.314639Z",
     "iopub.status.busy": "2023-01-10T04:27:02.314025Z",
     "iopub.status.idle": "2023-01-10T04:27:02.321403Z",
     "shell.execute_reply": "2023-01-10T04:27:02.320012Z"
    },
    "papermill": {
     "duration": 0.035671,
     "end_time": "2023-01-10T04:27:02.324211",
     "exception": false,
     "start_time": "2023-01-10T04:27:02.288540",
     "status": "completed"
    },
    "tags": []
   },
   "outputs": [],
   "source": [
    "train['Age']=train['Age'].fillna(29)"
   ]
  },
  {
   "cell_type": "code",
   "execution_count": 19,
   "id": "b1e4ded0",
   "metadata": {
    "execution": {
     "iopub.execute_input": "2023-01-10T04:27:02.374819Z",
     "iopub.status.busy": "2023-01-10T04:27:02.373974Z",
     "iopub.status.idle": "2023-01-10T04:27:02.382271Z",
     "shell.execute_reply": "2023-01-10T04:27:02.381200Z"
    },
    "papermill": {
     "duration": 0.035565,
     "end_time": "2023-01-10T04:27:02.384949",
     "exception": false,
     "start_time": "2023-01-10T04:27:02.349384",
     "status": "completed"
    },
    "tags": []
   },
   "outputs": [
    {
     "data": {
      "text/plain": [
       "28.65814620162446"
      ]
     },
     "execution_count": 19,
     "metadata": {},
     "output_type": "execute_result"
    }
   ],
   "source": [
    "test['Age'].mean()"
   ]
  },
  {
   "cell_type": "code",
   "execution_count": 20,
   "id": "acb2c860",
   "metadata": {
    "execution": {
     "iopub.execute_input": "2023-01-10T04:27:02.438495Z",
     "iopub.status.busy": "2023-01-10T04:27:02.437838Z",
     "iopub.status.idle": "2023-01-10T04:27:02.484817Z",
     "shell.execute_reply": "2023-01-10T04:27:02.483390Z"
    },
    "papermill": {
     "duration": 0.076157,
     "end_time": "2023-01-10T04:27:02.487693",
     "exception": false,
     "start_time": "2023-01-10T04:27:02.411536",
     "status": "completed"
    },
    "tags": []
   },
   "outputs": [
    {
     "data": {
      "text/html": [
       "<div>\n",
       "<style scoped>\n",
       "    .dataframe tbody tr th:only-of-type {\n",
       "        vertical-align: middle;\n",
       "    }\n",
       "\n",
       "    .dataframe tbody tr th {\n",
       "        vertical-align: top;\n",
       "    }\n",
       "\n",
       "    .dataframe thead tr th {\n",
       "        text-align: left;\n",
       "    }\n",
       "\n",
       "    .dataframe thead tr:last-of-type th {\n",
       "        text-align: right;\n",
       "    }\n",
       "</style>\n",
       "<table border=\"1\" class=\"dataframe\">\n",
       "  <thead>\n",
       "    <tr>\n",
       "      <th></th>\n",
       "      <th></th>\n",
       "      <th></th>\n",
       "      <th>mean</th>\n",
       "      <th>median</th>\n",
       "    </tr>\n",
       "    <tr>\n",
       "      <th></th>\n",
       "      <th></th>\n",
       "      <th></th>\n",
       "      <th>Age</th>\n",
       "      <th>Age</th>\n",
       "    </tr>\n",
       "    <tr>\n",
       "      <th>HomePlanet</th>\n",
       "      <th>FoodCourt</th>\n",
       "      <th>ShoppingMall</th>\n",
       "      <th></th>\n",
       "      <th></th>\n",
       "    </tr>\n",
       "  </thead>\n",
       "  <tbody>\n",
       "    <tr>\n",
       "      <th rowspan=\"5\" valign=\"top\">Earth</th>\n",
       "      <th rowspan=\"5\" valign=\"top\">0.0</th>\n",
       "      <th>0.0</th>\n",
       "      <td>22.551456</td>\n",
       "      <td>21.0</td>\n",
       "    </tr>\n",
       "    <tr>\n",
       "      <th>1.0</th>\n",
       "      <td>21.928571</td>\n",
       "      <td>22.5</td>\n",
       "    </tr>\n",
       "    <tr>\n",
       "      <th>2.0</th>\n",
       "      <td>30.666667</td>\n",
       "      <td>28.0</td>\n",
       "    </tr>\n",
       "    <tr>\n",
       "      <th>3.0</th>\n",
       "      <td>29.727273</td>\n",
       "      <td>25.0</td>\n",
       "    </tr>\n",
       "    <tr>\n",
       "      <th>4.0</th>\n",
       "      <td>36.600000</td>\n",
       "      <td>44.0</td>\n",
       "    </tr>\n",
       "    <tr>\n",
       "      <th>...</th>\n",
       "      <th>...</th>\n",
       "      <th>...</th>\n",
       "      <td>...</td>\n",
       "      <td>...</td>\n",
       "    </tr>\n",
       "    <tr>\n",
       "      <th rowspan=\"5\" valign=\"top\">Mars</th>\n",
       "      <th>1347.0</th>\n",
       "      <th>197.0</th>\n",
       "      <td>38.000000</td>\n",
       "      <td>38.0</td>\n",
       "    </tr>\n",
       "    <tr>\n",
       "      <th>1439.0</th>\n",
       "      <th>528.0</th>\n",
       "      <td>43.000000</td>\n",
       "      <td>43.0</td>\n",
       "    </tr>\n",
       "    <tr>\n",
       "      <th>1628.0</th>\n",
       "      <th>1184.0</th>\n",
       "      <td>50.000000</td>\n",
       "      <td>50.0</td>\n",
       "    </tr>\n",
       "    <tr>\n",
       "      <th>1633.0</th>\n",
       "      <th>83.0</th>\n",
       "      <td>20.000000</td>\n",
       "      <td>20.0</td>\n",
       "    </tr>\n",
       "    <tr>\n",
       "      <th>1977.0</th>\n",
       "      <th>188.0</th>\n",
       "      <td>43.000000</td>\n",
       "      <td>43.0</td>\n",
       "    </tr>\n",
       "  </tbody>\n",
       "</table>\n",
       "<p>1801 rows × 2 columns</p>\n",
       "</div>"
      ],
      "text/plain": [
       "                                        mean median\n",
       "                                         Age    Age\n",
       "HomePlanet FoodCourt ShoppingMall                  \n",
       "Earth      0.0       0.0           22.551456   21.0\n",
       "                     1.0           21.928571   22.5\n",
       "                     2.0           30.666667   28.0\n",
       "                     3.0           29.727273   25.0\n",
       "                     4.0           36.600000   44.0\n",
       "...                                      ...    ...\n",
       "Mars       1347.0    197.0         38.000000   38.0\n",
       "           1439.0    528.0         43.000000   43.0\n",
       "           1628.0    1184.0        50.000000   50.0\n",
       "           1633.0    83.0          20.000000   20.0\n",
       "           1977.0    188.0         43.000000   43.0\n",
       "\n",
       "[1801 rows x 2 columns]"
      ]
     },
     "execution_count": 20,
     "metadata": {},
     "output_type": "execute_result"
    }
   ],
   "source": [
    "test.pivot_table(index=['HomePlanet','FoodCourt','ShoppingMall'],values='Age',aggfunc=['mean','median'])"
   ]
  },
  {
   "cell_type": "code",
   "execution_count": 21,
   "id": "565ea1db",
   "metadata": {
    "execution": {
     "iopub.execute_input": "2023-01-10T04:27:02.540323Z",
     "iopub.status.busy": "2023-01-10T04:27:02.539491Z",
     "iopub.status.idle": "2023-01-10T04:27:02.553948Z",
     "shell.execute_reply": "2023-01-10T04:27:02.552437Z"
    },
    "papermill": {
     "duration": 0.044332,
     "end_time": "2023-01-10T04:27:02.557105",
     "exception": false,
     "start_time": "2023-01-10T04:27:02.512773",
     "status": "completed"
    },
    "tags": []
   },
   "outputs": [],
   "source": [
    "test['Age']=test['Age'].fillna(test.groupby(['HomePlanet','FoodCourt','ShoppingMall'])['Age'].transform('median'))"
   ]
  },
  {
   "cell_type": "code",
   "execution_count": 22,
   "id": "5f63173b",
   "metadata": {
    "execution": {
     "iopub.execute_input": "2023-01-10T04:27:02.613645Z",
     "iopub.status.busy": "2023-01-10T04:27:02.612867Z",
     "iopub.status.idle": "2023-01-10T04:27:02.619417Z",
     "shell.execute_reply": "2023-01-10T04:27:02.618325Z"
    },
    "papermill": {
     "duration": 0.040483,
     "end_time": "2023-01-10T04:27:02.622229",
     "exception": false,
     "start_time": "2023-01-10T04:27:02.581746",
     "status": "completed"
    },
    "tags": []
   },
   "outputs": [],
   "source": [
    "test['Age']=test['Age'].fillna(29)"
   ]
  },
  {
   "cell_type": "code",
   "execution_count": 23,
   "id": "2af35f2a",
   "metadata": {
    "execution": {
     "iopub.execute_input": "2023-01-10T04:27:02.674819Z",
     "iopub.status.busy": "2023-01-10T04:27:02.674196Z",
     "iopub.status.idle": "2023-01-10T04:27:02.683660Z",
     "shell.execute_reply": "2023-01-10T04:27:02.682498Z"
    },
    "papermill": {
     "duration": 0.037185,
     "end_time": "2023-01-10T04:27:02.685999",
     "exception": false,
     "start_time": "2023-01-10T04:27:02.648814",
     "status": "completed"
    },
    "tags": []
   },
   "outputs": [
    {
     "data": {
      "text/plain": [
       "0.023439340400471142"
      ]
     },
     "execution_count": 23,
     "metadata": {},
     "output_type": "execute_result"
    }
   ],
   "source": [
    "train['VIP']=1*(train['VIP'])\n",
    "train['VIP'].mean()"
   ]
  },
  {
   "cell_type": "code",
   "execution_count": 24,
   "id": "4d5f7ee2",
   "metadata": {
    "execution": {
     "iopub.execute_input": "2023-01-10T04:27:02.739035Z",
     "iopub.status.busy": "2023-01-10T04:27:02.738368Z",
     "iopub.status.idle": "2023-01-10T04:27:02.747321Z",
     "shell.execute_reply": "2023-01-10T04:27:02.746406Z"
    },
    "papermill": {
     "duration": 0.039464,
     "end_time": "2023-01-10T04:27:02.749809",
     "exception": false,
     "start_time": "2023-01-10T04:27:02.710345",
     "status": "completed"
    },
    "tags": []
   },
   "outputs": [],
   "source": [
    "train['VIP']=train['VIP'].fillna(0)"
   ]
  },
  {
   "cell_type": "code",
   "execution_count": 25,
   "id": "8e499818",
   "metadata": {
    "execution": {
     "iopub.execute_input": "2023-01-10T04:27:02.817290Z",
     "iopub.status.busy": "2023-01-10T04:27:02.815470Z",
     "iopub.status.idle": "2023-01-10T04:27:02.832249Z",
     "shell.execute_reply": "2023-01-10T04:27:02.829783Z"
    },
    "papermill": {
     "duration": 0.05384,
     "end_time": "2023-01-10T04:27:02.835738",
     "exception": false,
     "start_time": "2023-01-10T04:27:02.781898",
     "status": "completed"
    },
    "tags": []
   },
   "outputs": [
    {
     "data": {
      "text/plain": [
       "0.01768642447418738"
      ]
     },
     "execution_count": 25,
     "metadata": {},
     "output_type": "execute_result"
    }
   ],
   "source": [
    "test['VIP']=1*(test['VIP'])\n",
    "test['VIP'].mean()"
   ]
  },
  {
   "cell_type": "code",
   "execution_count": 26,
   "id": "889cf2eb",
   "metadata": {
    "execution": {
     "iopub.execute_input": "2023-01-10T04:27:02.900822Z",
     "iopub.status.busy": "2023-01-10T04:27:02.899603Z",
     "iopub.status.idle": "2023-01-10T04:27:02.907625Z",
     "shell.execute_reply": "2023-01-10T04:27:02.906760Z"
    },
    "papermill": {
     "duration": 0.042447,
     "end_time": "2023-01-10T04:27:02.910241",
     "exception": false,
     "start_time": "2023-01-10T04:27:02.867794",
     "status": "completed"
    },
    "tags": []
   },
   "outputs": [],
   "source": [
    "test['VIP']=test['VIP'].fillna(0)"
   ]
  },
  {
   "cell_type": "code",
   "execution_count": 27,
   "id": "8ba389c1",
   "metadata": {
    "execution": {
     "iopub.execute_input": "2023-01-10T04:27:02.966122Z",
     "iopub.status.busy": "2023-01-10T04:27:02.965433Z",
     "iopub.status.idle": "2023-01-10T04:27:02.973420Z",
     "shell.execute_reply": "2023-01-10T04:27:02.972456Z"
    },
    "papermill": {
     "duration": 0.039226,
     "end_time": "2023-01-10T04:27:02.976043",
     "exception": false,
     "start_time": "2023-01-10T04:27:02.936817",
     "status": "completed"
    },
    "tags": []
   },
   "outputs": [
    {
     "data": {
      "text/plain": [
       "224.687617481203"
      ]
     },
     "execution_count": 27,
     "metadata": {},
     "output_type": "execute_result"
    }
   ],
   "source": [
    "train['RoomService'].mean()"
   ]
  },
  {
   "cell_type": "code",
   "execution_count": 28,
   "id": "89e1faec",
   "metadata": {
    "execution": {
     "iopub.execute_input": "2023-01-10T04:27:03.032027Z",
     "iopub.status.busy": "2023-01-10T04:27:03.031217Z",
     "iopub.status.idle": "2023-01-10T04:27:03.077270Z",
     "shell.execute_reply": "2023-01-10T04:27:03.075866Z"
    },
    "papermill": {
     "duration": 0.077271,
     "end_time": "2023-01-10T04:27:03.080005",
     "exception": false,
     "start_time": "2023-01-10T04:27:03.002734",
     "status": "completed"
    },
    "tags": []
   },
   "outputs": [
    {
     "data": {
      "text/html": [
       "<div>\n",
       "<style scoped>\n",
       "    .dataframe tbody tr th:only-of-type {\n",
       "        vertical-align: middle;\n",
       "    }\n",
       "\n",
       "    .dataframe tbody tr th {\n",
       "        vertical-align: top;\n",
       "    }\n",
       "\n",
       "    .dataframe thead tr th {\n",
       "        text-align: left;\n",
       "    }\n",
       "\n",
       "    .dataframe thead tr:last-of-type th {\n",
       "        text-align: right;\n",
       "    }\n",
       "</style>\n",
       "<table border=\"1\" class=\"dataframe\">\n",
       "  <thead>\n",
       "    <tr>\n",
       "      <th></th>\n",
       "      <th></th>\n",
       "      <th></th>\n",
       "      <th></th>\n",
       "      <th>mean</th>\n",
       "      <th>median</th>\n",
       "    </tr>\n",
       "    <tr>\n",
       "      <th></th>\n",
       "      <th></th>\n",
       "      <th></th>\n",
       "      <th></th>\n",
       "      <th>RoomService</th>\n",
       "      <th>RoomService</th>\n",
       "    </tr>\n",
       "    <tr>\n",
       "      <th>HomePlanet</th>\n",
       "      <th>Age</th>\n",
       "      <th>CryoSleep</th>\n",
       "      <th>Destination</th>\n",
       "      <th></th>\n",
       "      <th></th>\n",
       "    </tr>\n",
       "  </thead>\n",
       "  <tbody>\n",
       "    <tr>\n",
       "      <th rowspan=\"5\" valign=\"top\">Earth</th>\n",
       "      <th rowspan=\"5\" valign=\"top\">0.0</th>\n",
       "      <th rowspan=\"2\" valign=\"top\">0</th>\n",
       "      <th>55 Cancri e</th>\n",
       "      <td>0.0</td>\n",
       "      <td>0.0</td>\n",
       "    </tr>\n",
       "    <tr>\n",
       "      <th>TRAPPIST-1e</th>\n",
       "      <td>0.0</td>\n",
       "      <td>0.0</td>\n",
       "    </tr>\n",
       "    <tr>\n",
       "      <th rowspan=\"3\" valign=\"top\">1</th>\n",
       "      <th>55 Cancri e</th>\n",
       "      <td>0.0</td>\n",
       "      <td>0.0</td>\n",
       "    </tr>\n",
       "    <tr>\n",
       "      <th>PSO J318.5-22</th>\n",
       "      <td>0.0</td>\n",
       "      <td>0.0</td>\n",
       "    </tr>\n",
       "    <tr>\n",
       "      <th>TRAPPIST-1e</th>\n",
       "      <td>0.0</td>\n",
       "      <td>0.0</td>\n",
       "    </tr>\n",
       "    <tr>\n",
       "      <th>...</th>\n",
       "      <th>...</th>\n",
       "      <th>...</th>\n",
       "      <th>...</th>\n",
       "      <td>...</td>\n",
       "      <td>...</td>\n",
       "    </tr>\n",
       "    <tr>\n",
       "      <th rowspan=\"5\" valign=\"top\">Mars</th>\n",
       "      <th rowspan=\"2\" valign=\"top\">71.0</th>\n",
       "      <th>0</th>\n",
       "      <th>TRAPPIST-1e</th>\n",
       "      <td>1072.0</td>\n",
       "      <td>1072.0</td>\n",
       "    </tr>\n",
       "    <tr>\n",
       "      <th>1</th>\n",
       "      <th>PSO J318.5-22</th>\n",
       "      <td>0.0</td>\n",
       "      <td>0.0</td>\n",
       "    </tr>\n",
       "    <tr>\n",
       "      <th>73.0</th>\n",
       "      <th>0</th>\n",
       "      <th>TRAPPIST-1e</th>\n",
       "      <td>413.0</td>\n",
       "      <td>413.0</td>\n",
       "    </tr>\n",
       "    <tr>\n",
       "      <th>75.0</th>\n",
       "      <th>1</th>\n",
       "      <th>TRAPPIST-1e</th>\n",
       "      <td>0.0</td>\n",
       "      <td>0.0</td>\n",
       "    </tr>\n",
       "    <tr>\n",
       "      <th>76.0</th>\n",
       "      <th>1</th>\n",
       "      <th>TRAPPIST-1e</th>\n",
       "      <td>0.0</td>\n",
       "      <td>0.0</td>\n",
       "    </tr>\n",
       "  </tbody>\n",
       "</table>\n",
       "<p>915 rows × 2 columns</p>\n",
       "</div>"
      ],
      "text/plain": [
       "                                               mean      median\n",
       "                                        RoomService RoomService\n",
       "HomePlanet Age  CryoSleep Destination                          \n",
       "Earth      0.0  0         55 Cancri e           0.0         0.0\n",
       "                          TRAPPIST-1e           0.0         0.0\n",
       "                1         55 Cancri e           0.0         0.0\n",
       "                          PSO J318.5-22         0.0         0.0\n",
       "                          TRAPPIST-1e           0.0         0.0\n",
       "...                                             ...         ...\n",
       "Mars       71.0 0         TRAPPIST-1e        1072.0      1072.0\n",
       "                1         PSO J318.5-22         0.0         0.0\n",
       "           73.0 0         TRAPPIST-1e         413.0       413.0\n",
       "           75.0 1         TRAPPIST-1e           0.0         0.0\n",
       "           76.0 1         TRAPPIST-1e           0.0         0.0\n",
       "\n",
       "[915 rows x 2 columns]"
      ]
     },
     "execution_count": 28,
     "metadata": {},
     "output_type": "execute_result"
    }
   ],
   "source": [
    "train.pivot_table(index=['HomePlanet','Age','CryoSleep','Destination'],values='RoomService',aggfunc=['mean','median'])"
   ]
  },
  {
   "cell_type": "code",
   "execution_count": 29,
   "id": "0c9ba17c",
   "metadata": {
    "execution": {
     "iopub.execute_input": "2023-01-10T04:27:03.132086Z",
     "iopub.status.busy": "2023-01-10T04:27:03.131011Z",
     "iopub.status.idle": "2023-01-10T04:27:03.142433Z",
     "shell.execute_reply": "2023-01-10T04:27:03.141145Z"
    },
    "papermill": {
     "duration": 0.04126,
     "end_time": "2023-01-10T04:27:03.145857",
     "exception": false,
     "start_time": "2023-01-10T04:27:03.104597",
     "status": "completed"
    },
    "tags": []
   },
   "outputs": [],
   "source": [
    "train['RoomService']=train['RoomService'].fillna(train.groupby(['HomePlanet','Age','CryoSleep','Destination'])['RoomService'].transform('median'))"
   ]
  },
  {
   "cell_type": "code",
   "execution_count": 30,
   "id": "7e818c62",
   "metadata": {
    "execution": {
     "iopub.execute_input": "2023-01-10T04:27:03.198511Z",
     "iopub.status.busy": "2023-01-10T04:27:03.198088Z",
     "iopub.status.idle": "2023-01-10T04:27:03.204145Z",
     "shell.execute_reply": "2023-01-10T04:27:03.203114Z"
    },
    "papermill": {
     "duration": 0.035059,
     "end_time": "2023-01-10T04:27:03.206410",
     "exception": false,
     "start_time": "2023-01-10T04:27:03.171351",
     "status": "completed"
    },
    "tags": []
   },
   "outputs": [],
   "source": [
    "train['RoomService']=train['RoomService'].fillna(225)"
   ]
  },
  {
   "cell_type": "code",
   "execution_count": 31,
   "id": "e3be5ed9",
   "metadata": {
    "execution": {
     "iopub.execute_input": "2023-01-10T04:27:03.262635Z",
     "iopub.status.busy": "2023-01-10T04:27:03.261571Z",
     "iopub.status.idle": "2023-01-10T04:27:03.268868Z",
     "shell.execute_reply": "2023-01-10T04:27:03.267902Z"
    },
    "papermill": {
     "duration": 0.037632,
     "end_time": "2023-01-10T04:27:03.271606",
     "exception": false,
     "start_time": "2023-01-10T04:27:03.233974",
     "status": "completed"
    },
    "tags": []
   },
   "outputs": [
    {
     "data": {
      "text/plain": [
       "219.26626936829558"
      ]
     },
     "execution_count": 31,
     "metadata": {},
     "output_type": "execute_result"
    }
   ],
   "source": [
    "test['RoomService'].mean()"
   ]
  },
  {
   "cell_type": "code",
   "execution_count": 32,
   "id": "20f9ef8f",
   "metadata": {
    "execution": {
     "iopub.execute_input": "2023-01-10T04:27:03.326060Z",
     "iopub.status.busy": "2023-01-10T04:27:03.325243Z",
     "iopub.status.idle": "2023-01-10T04:27:03.372286Z",
     "shell.execute_reply": "2023-01-10T04:27:03.370457Z"
    },
    "papermill": {
     "duration": 0.077215,
     "end_time": "2023-01-10T04:27:03.375421",
     "exception": false,
     "start_time": "2023-01-10T04:27:03.298206",
     "status": "completed"
    },
    "tags": []
   },
   "outputs": [
    {
     "data": {
      "text/html": [
       "<div>\n",
       "<style scoped>\n",
       "    .dataframe tbody tr th:only-of-type {\n",
       "        vertical-align: middle;\n",
       "    }\n",
       "\n",
       "    .dataframe tbody tr th {\n",
       "        vertical-align: top;\n",
       "    }\n",
       "\n",
       "    .dataframe thead tr th {\n",
       "        text-align: left;\n",
       "    }\n",
       "\n",
       "    .dataframe thead tr:last-of-type th {\n",
       "        text-align: right;\n",
       "    }\n",
       "</style>\n",
       "<table border=\"1\" class=\"dataframe\">\n",
       "  <thead>\n",
       "    <tr>\n",
       "      <th></th>\n",
       "      <th></th>\n",
       "      <th></th>\n",
       "      <th></th>\n",
       "      <th>mean</th>\n",
       "      <th>median</th>\n",
       "    </tr>\n",
       "    <tr>\n",
       "      <th></th>\n",
       "      <th></th>\n",
       "      <th></th>\n",
       "      <th></th>\n",
       "      <th>RoomService</th>\n",
       "      <th>RoomService</th>\n",
       "    </tr>\n",
       "    <tr>\n",
       "      <th>HomePlanet</th>\n",
       "      <th>Age</th>\n",
       "      <th>CryoSleep</th>\n",
       "      <th>Destination</th>\n",
       "      <th></th>\n",
       "      <th></th>\n",
       "    </tr>\n",
       "  </thead>\n",
       "  <tbody>\n",
       "    <tr>\n",
       "      <th rowspan=\"5\" valign=\"top\">Earth</th>\n",
       "      <th rowspan=\"5\" valign=\"top\">0.0</th>\n",
       "      <th rowspan=\"3\" valign=\"top\">False</th>\n",
       "      <th>55 Cancri e</th>\n",
       "      <td>0.0</td>\n",
       "      <td>0.0</td>\n",
       "    </tr>\n",
       "    <tr>\n",
       "      <th>PSO J318.5-22</th>\n",
       "      <td>0.0</td>\n",
       "      <td>0.0</td>\n",
       "    </tr>\n",
       "    <tr>\n",
       "      <th>TRAPPIST-1e</th>\n",
       "      <td>0.0</td>\n",
       "      <td>0.0</td>\n",
       "    </tr>\n",
       "    <tr>\n",
       "      <th rowspan=\"2\" valign=\"top\">True</th>\n",
       "      <th>55 Cancri e</th>\n",
       "      <td>0.0</td>\n",
       "      <td>0.0</td>\n",
       "    </tr>\n",
       "    <tr>\n",
       "      <th>PSO J318.5-22</th>\n",
       "      <td>0.0</td>\n",
       "      <td>0.0</td>\n",
       "    </tr>\n",
       "    <tr>\n",
       "      <th>...</th>\n",
       "      <th>...</th>\n",
       "      <th>...</th>\n",
       "      <th>...</th>\n",
       "      <td>...</td>\n",
       "      <td>...</td>\n",
       "    </tr>\n",
       "    <tr>\n",
       "      <th rowspan=\"5\" valign=\"top\">Mars</th>\n",
       "      <th>70.0</th>\n",
       "      <th>True</th>\n",
       "      <th>TRAPPIST-1e</th>\n",
       "      <td>0.0</td>\n",
       "      <td>0.0</td>\n",
       "    </tr>\n",
       "    <tr>\n",
       "      <th>71.0</th>\n",
       "      <th>True</th>\n",
       "      <th>TRAPPIST-1e</th>\n",
       "      <td>0.0</td>\n",
       "      <td>0.0</td>\n",
       "    </tr>\n",
       "    <tr>\n",
       "      <th>72.0</th>\n",
       "      <th>False</th>\n",
       "      <th>TRAPPIST-1e</th>\n",
       "      <td>2596.0</td>\n",
       "      <td>2596.0</td>\n",
       "    </tr>\n",
       "    <tr>\n",
       "      <th>73.0</th>\n",
       "      <th>False</th>\n",
       "      <th>TRAPPIST-1e</th>\n",
       "      <td>1263.5</td>\n",
       "      <td>1263.5</td>\n",
       "    </tr>\n",
       "    <tr>\n",
       "      <th>75.0</th>\n",
       "      <th>False</th>\n",
       "      <th>TRAPPIST-1e</th>\n",
       "      <td>940.0</td>\n",
       "      <td>940.0</td>\n",
       "    </tr>\n",
       "  </tbody>\n",
       "</table>\n",
       "<p>765 rows × 2 columns</p>\n",
       "</div>"
      ],
      "text/plain": [
       "                                               mean      median\n",
       "                                        RoomService RoomService\n",
       "HomePlanet Age  CryoSleep Destination                          \n",
       "Earth      0.0  False     55 Cancri e           0.0         0.0\n",
       "                          PSO J318.5-22         0.0         0.0\n",
       "                          TRAPPIST-1e           0.0         0.0\n",
       "                True      55 Cancri e           0.0         0.0\n",
       "                          PSO J318.5-22         0.0         0.0\n",
       "...                                             ...         ...\n",
       "Mars       70.0 True      TRAPPIST-1e           0.0         0.0\n",
       "           71.0 True      TRAPPIST-1e           0.0         0.0\n",
       "           72.0 False     TRAPPIST-1e        2596.0      2596.0\n",
       "           73.0 False     TRAPPIST-1e        1263.5      1263.5\n",
       "           75.0 False     TRAPPIST-1e         940.0       940.0\n",
       "\n",
       "[765 rows x 2 columns]"
      ]
     },
     "execution_count": 32,
     "metadata": {},
     "output_type": "execute_result"
    }
   ],
   "source": [
    "test.pivot_table(index=['HomePlanet','Age','CryoSleep','Destination'],values='RoomService',aggfunc=['mean','median'])"
   ]
  },
  {
   "cell_type": "code",
   "execution_count": 33,
   "id": "d69266a4",
   "metadata": {
    "execution": {
     "iopub.execute_input": "2023-01-10T04:27:03.428911Z",
     "iopub.status.busy": "2023-01-10T04:27:03.428459Z",
     "iopub.status.idle": "2023-01-10T04:27:03.440291Z",
     "shell.execute_reply": "2023-01-10T04:27:03.438975Z"
    },
    "papermill": {
     "duration": 0.041342,
     "end_time": "2023-01-10T04:27:03.443129",
     "exception": false,
     "start_time": "2023-01-10T04:27:03.401787",
     "status": "completed"
    },
    "tags": []
   },
   "outputs": [],
   "source": [
    "test['RoomService']=test['RoomService'].fillna(test.groupby(['HomePlanet','Age','CryoSleep','Destination'])['RoomService'].transform('median'))"
   ]
  },
  {
   "cell_type": "code",
   "execution_count": 34,
   "id": "131b941b",
   "metadata": {
    "execution": {
     "iopub.execute_input": "2023-01-10T04:27:03.499829Z",
     "iopub.status.busy": "2023-01-10T04:27:03.499106Z",
     "iopub.status.idle": "2023-01-10T04:27:03.504639Z",
     "shell.execute_reply": "2023-01-10T04:27:03.503681Z"
    },
    "papermill": {
     "duration": 0.03616,
     "end_time": "2023-01-10T04:27:03.507745",
     "exception": false,
     "start_time": "2023-01-10T04:27:03.471585",
     "status": "completed"
    },
    "tags": []
   },
   "outputs": [],
   "source": [
    "test['RoomService']=test['RoomService'].fillna(219)"
   ]
  },
  {
   "cell_type": "code",
   "execution_count": 35,
   "id": "5cbfa5d8",
   "metadata": {
    "execution": {
     "iopub.execute_input": "2023-01-10T04:27:03.565810Z",
     "iopub.status.busy": "2023-01-10T04:27:03.565354Z",
     "iopub.status.idle": "2023-01-10T04:27:03.573272Z",
     "shell.execute_reply": "2023-01-10T04:27:03.572081Z"
    },
    "papermill": {
     "duration": 0.039304,
     "end_time": "2023-01-10T04:27:03.576092",
     "exception": false,
     "start_time": "2023-01-10T04:27:03.536788",
     "status": "completed"
    },
    "tags": []
   },
   "outputs": [
    {
     "data": {
      "text/plain": [
       "458.07720329024676"
      ]
     },
     "execution_count": 35,
     "metadata": {},
     "output_type": "execute_result"
    }
   ],
   "source": [
    "train['FoodCourt'].mean()"
   ]
  },
  {
   "cell_type": "code",
   "execution_count": 36,
   "id": "7ae3be7d",
   "metadata": {
    "execution": {
     "iopub.execute_input": "2023-01-10T04:27:03.633335Z",
     "iopub.status.busy": "2023-01-10T04:27:03.632812Z",
     "iopub.status.idle": "2023-01-10T04:27:03.686795Z",
     "shell.execute_reply": "2023-01-10T04:27:03.685488Z"
    },
    "papermill": {
     "duration": 0.085312,
     "end_time": "2023-01-10T04:27:03.689645",
     "exception": false,
     "start_time": "2023-01-10T04:27:03.604333",
     "status": "completed"
    },
    "tags": []
   },
   "outputs": [
    {
     "data": {
      "text/html": [
       "<div>\n",
       "<style scoped>\n",
       "    .dataframe tbody tr th:only-of-type {\n",
       "        vertical-align: middle;\n",
       "    }\n",
       "\n",
       "    .dataframe tbody tr th {\n",
       "        vertical-align: top;\n",
       "    }\n",
       "\n",
       "    .dataframe thead tr th {\n",
       "        text-align: left;\n",
       "    }\n",
       "\n",
       "    .dataframe thead tr:last-of-type th {\n",
       "        text-align: right;\n",
       "    }\n",
       "</style>\n",
       "<table border=\"1\" class=\"dataframe\">\n",
       "  <thead>\n",
       "    <tr>\n",
       "      <th></th>\n",
       "      <th></th>\n",
       "      <th></th>\n",
       "      <th></th>\n",
       "      <th>mean</th>\n",
       "      <th>median</th>\n",
       "    </tr>\n",
       "    <tr>\n",
       "      <th></th>\n",
       "      <th></th>\n",
       "      <th></th>\n",
       "      <th></th>\n",
       "      <th>FoodCourt</th>\n",
       "      <th>FoodCourt</th>\n",
       "    </tr>\n",
       "    <tr>\n",
       "      <th>HomePlanet</th>\n",
       "      <th>Age</th>\n",
       "      <th>CryoSleep</th>\n",
       "      <th>Destination</th>\n",
       "      <th></th>\n",
       "      <th></th>\n",
       "    </tr>\n",
       "  </thead>\n",
       "  <tbody>\n",
       "    <tr>\n",
       "      <th rowspan=\"5\" valign=\"top\">Earth</th>\n",
       "      <th rowspan=\"5\" valign=\"top\">0.0</th>\n",
       "      <th rowspan=\"2\" valign=\"top\">0</th>\n",
       "      <th>55 Cancri e</th>\n",
       "      <td>0.0</td>\n",
       "      <td>0.0</td>\n",
       "    </tr>\n",
       "    <tr>\n",
       "      <th>TRAPPIST-1e</th>\n",
       "      <td>0.0</td>\n",
       "      <td>0.0</td>\n",
       "    </tr>\n",
       "    <tr>\n",
       "      <th rowspan=\"3\" valign=\"top\">1</th>\n",
       "      <th>55 Cancri e</th>\n",
       "      <td>0.0</td>\n",
       "      <td>0.0</td>\n",
       "    </tr>\n",
       "    <tr>\n",
       "      <th>PSO J318.5-22</th>\n",
       "      <td>0.0</td>\n",
       "      <td>0.0</td>\n",
       "    </tr>\n",
       "    <tr>\n",
       "      <th>TRAPPIST-1e</th>\n",
       "      <td>0.0</td>\n",
       "      <td>0.0</td>\n",
       "    </tr>\n",
       "    <tr>\n",
       "      <th>...</th>\n",
       "      <th>...</th>\n",
       "      <th>...</th>\n",
       "      <th>...</th>\n",
       "      <td>...</td>\n",
       "      <td>...</td>\n",
       "    </tr>\n",
       "    <tr>\n",
       "      <th rowspan=\"5\" valign=\"top\">Mars</th>\n",
       "      <th>71.0</th>\n",
       "      <th>1</th>\n",
       "      <th>PSO J318.5-22</th>\n",
       "      <td>0.0</td>\n",
       "      <td>0.0</td>\n",
       "    </tr>\n",
       "    <tr>\n",
       "      <th>72.0</th>\n",
       "      <th>1</th>\n",
       "      <th>TRAPPIST-1e</th>\n",
       "      <td>0.0</td>\n",
       "      <td>0.0</td>\n",
       "    </tr>\n",
       "    <tr>\n",
       "      <th>73.0</th>\n",
       "      <th>0</th>\n",
       "      <th>TRAPPIST-1e</th>\n",
       "      <td>1.0</td>\n",
       "      <td>1.0</td>\n",
       "    </tr>\n",
       "    <tr>\n",
       "      <th>75.0</th>\n",
       "      <th>1</th>\n",
       "      <th>TRAPPIST-1e</th>\n",
       "      <td>0.0</td>\n",
       "      <td>0.0</td>\n",
       "    </tr>\n",
       "    <tr>\n",
       "      <th>76.0</th>\n",
       "      <th>1</th>\n",
       "      <th>TRAPPIST-1e</th>\n",
       "      <td>0.0</td>\n",
       "      <td>0.0</td>\n",
       "    </tr>\n",
       "  </tbody>\n",
       "</table>\n",
       "<p>916 rows × 2 columns</p>\n",
       "</div>"
      ],
      "text/plain": [
       "                                             mean    median\n",
       "                                        FoodCourt FoodCourt\n",
       "HomePlanet Age  CryoSleep Destination                      \n",
       "Earth      0.0  0         55 Cancri e         0.0       0.0\n",
       "                          TRAPPIST-1e         0.0       0.0\n",
       "                1         55 Cancri e         0.0       0.0\n",
       "                          PSO J318.5-22       0.0       0.0\n",
       "                          TRAPPIST-1e         0.0       0.0\n",
       "...                                           ...       ...\n",
       "Mars       71.0 1         PSO J318.5-22       0.0       0.0\n",
       "           72.0 1         TRAPPIST-1e         0.0       0.0\n",
       "           73.0 0         TRAPPIST-1e         1.0       1.0\n",
       "           75.0 1         TRAPPIST-1e         0.0       0.0\n",
       "           76.0 1         TRAPPIST-1e         0.0       0.0\n",
       "\n",
       "[916 rows x 2 columns]"
      ]
     },
     "execution_count": 36,
     "metadata": {},
     "output_type": "execute_result"
    }
   ],
   "source": [
    "train.pivot_table(index=['HomePlanet','Age','CryoSleep','Destination'],values='FoodCourt',aggfunc=['mean','median'])"
   ]
  },
  {
   "cell_type": "code",
   "execution_count": 37,
   "id": "f9d951fe",
   "metadata": {
    "execution": {
     "iopub.execute_input": "2023-01-10T04:27:03.744737Z",
     "iopub.status.busy": "2023-01-10T04:27:03.743580Z",
     "iopub.status.idle": "2023-01-10T04:27:03.755475Z",
     "shell.execute_reply": "2023-01-10T04:27:03.754356Z"
    },
    "papermill": {
     "duration": 0.041838,
     "end_time": "2023-01-10T04:27:03.758240",
     "exception": false,
     "start_time": "2023-01-10T04:27:03.716402",
     "status": "completed"
    },
    "tags": []
   },
   "outputs": [],
   "source": [
    "train['FoodCourt']=train['FoodCourt'].fillna(train.groupby(['HomePlanet','Age','CryoSleep','Destination'])['FoodCourt'].transform('median'))"
   ]
  },
  {
   "cell_type": "code",
   "execution_count": 38,
   "id": "bc27e6d0",
   "metadata": {
    "execution": {
     "iopub.execute_input": "2023-01-10T04:27:03.814698Z",
     "iopub.status.busy": "2023-01-10T04:27:03.814308Z",
     "iopub.status.idle": "2023-01-10T04:27:03.820381Z",
     "shell.execute_reply": "2023-01-10T04:27:03.819244Z"
    },
    "papermill": {
     "duration": 0.037013,
     "end_time": "2023-01-10T04:27:03.822866",
     "exception": false,
     "start_time": "2023-01-10T04:27:03.785853",
     "status": "completed"
    },
    "tags": []
   },
   "outputs": [],
   "source": [
    "train['FoodCourt']=train['FoodCourt'].fillna(458)"
   ]
  },
  {
   "cell_type": "code",
   "execution_count": 39,
   "id": "669d8242",
   "metadata": {
    "execution": {
     "iopub.execute_input": "2023-01-10T04:27:03.876235Z",
     "iopub.status.busy": "2023-01-10T04:27:03.875801Z",
     "iopub.status.idle": "2023-01-10T04:27:03.883568Z",
     "shell.execute_reply": "2023-01-10T04:27:03.882576Z"
    },
    "papermill": {
     "duration": 0.037525,
     "end_time": "2023-01-10T04:27:03.885965",
     "exception": false,
     "start_time": "2023-01-10T04:27:03.848440",
     "status": "completed"
    },
    "tags": []
   },
   "outputs": [
    {
     "data": {
      "text/plain": [
       "439.4842963318149"
      ]
     },
     "execution_count": 39,
     "metadata": {},
     "output_type": "execute_result"
    }
   ],
   "source": [
    "test['FoodCourt'].mean()"
   ]
  },
  {
   "cell_type": "code",
   "execution_count": 40,
   "id": "44e5fe04",
   "metadata": {
    "execution": {
     "iopub.execute_input": "2023-01-10T04:27:03.942264Z",
     "iopub.status.busy": "2023-01-10T04:27:03.941834Z",
     "iopub.status.idle": "2023-01-10T04:27:03.986746Z",
     "shell.execute_reply": "2023-01-10T04:27:03.985409Z"
    },
    "papermill": {
     "duration": 0.078275,
     "end_time": "2023-01-10T04:27:03.989820",
     "exception": false,
     "start_time": "2023-01-10T04:27:03.911545",
     "status": "completed"
    },
    "tags": []
   },
   "outputs": [
    {
     "data": {
      "text/html": [
       "<div>\n",
       "<style scoped>\n",
       "    .dataframe tbody tr th:only-of-type {\n",
       "        vertical-align: middle;\n",
       "    }\n",
       "\n",
       "    .dataframe tbody tr th {\n",
       "        vertical-align: top;\n",
       "    }\n",
       "\n",
       "    .dataframe thead tr th {\n",
       "        text-align: left;\n",
       "    }\n",
       "\n",
       "    .dataframe thead tr:last-of-type th {\n",
       "        text-align: right;\n",
       "    }\n",
       "</style>\n",
       "<table border=\"1\" class=\"dataframe\">\n",
       "  <thead>\n",
       "    <tr>\n",
       "      <th></th>\n",
       "      <th></th>\n",
       "      <th></th>\n",
       "      <th></th>\n",
       "      <th>mean</th>\n",
       "      <th>median</th>\n",
       "    </tr>\n",
       "    <tr>\n",
       "      <th></th>\n",
       "      <th></th>\n",
       "      <th></th>\n",
       "      <th></th>\n",
       "      <th>FoodCourt</th>\n",
       "      <th>FoodCourt</th>\n",
       "    </tr>\n",
       "    <tr>\n",
       "      <th>HomePlanet</th>\n",
       "      <th>Age</th>\n",
       "      <th>CryoSleep</th>\n",
       "      <th>Destination</th>\n",
       "      <th></th>\n",
       "      <th></th>\n",
       "    </tr>\n",
       "  </thead>\n",
       "  <tbody>\n",
       "    <tr>\n",
       "      <th rowspan=\"5\" valign=\"top\">Earth</th>\n",
       "      <th rowspan=\"5\" valign=\"top\">0.0</th>\n",
       "      <th rowspan=\"3\" valign=\"top\">False</th>\n",
       "      <th>55 Cancri e</th>\n",
       "      <td>0.0</td>\n",
       "      <td>0.0</td>\n",
       "    </tr>\n",
       "    <tr>\n",
       "      <th>PSO J318.5-22</th>\n",
       "      <td>0.0</td>\n",
       "      <td>0.0</td>\n",
       "    </tr>\n",
       "    <tr>\n",
       "      <th>TRAPPIST-1e</th>\n",
       "      <td>0.0</td>\n",
       "      <td>0.0</td>\n",
       "    </tr>\n",
       "    <tr>\n",
       "      <th rowspan=\"2\" valign=\"top\">True</th>\n",
       "      <th>55 Cancri e</th>\n",
       "      <td>0.0</td>\n",
       "      <td>0.0</td>\n",
       "    </tr>\n",
       "    <tr>\n",
       "      <th>PSO J318.5-22</th>\n",
       "      <td>0.0</td>\n",
       "      <td>0.0</td>\n",
       "    </tr>\n",
       "    <tr>\n",
       "      <th>...</th>\n",
       "      <th>...</th>\n",
       "      <th>...</th>\n",
       "      <th>...</th>\n",
       "      <td>...</td>\n",
       "      <td>...</td>\n",
       "    </tr>\n",
       "    <tr>\n",
       "      <th rowspan=\"5\" valign=\"top\">Mars</th>\n",
       "      <th>70.0</th>\n",
       "      <th>True</th>\n",
       "      <th>TRAPPIST-1e</th>\n",
       "      <td>0.0</td>\n",
       "      <td>0.0</td>\n",
       "    </tr>\n",
       "    <tr>\n",
       "      <th>71.0</th>\n",
       "      <th>True</th>\n",
       "      <th>TRAPPIST-1e</th>\n",
       "      <td>0.0</td>\n",
       "      <td>0.0</td>\n",
       "    </tr>\n",
       "    <tr>\n",
       "      <th>72.0</th>\n",
       "      <th>False</th>\n",
       "      <th>TRAPPIST-1e</th>\n",
       "      <td>0.0</td>\n",
       "      <td>0.0</td>\n",
       "    </tr>\n",
       "    <tr>\n",
       "      <th>73.0</th>\n",
       "      <th>False</th>\n",
       "      <th>TRAPPIST-1e</th>\n",
       "      <td>42.5</td>\n",
       "      <td>42.5</td>\n",
       "    </tr>\n",
       "    <tr>\n",
       "      <th>75.0</th>\n",
       "      <th>False</th>\n",
       "      <th>TRAPPIST-1e</th>\n",
       "      <td>0.0</td>\n",
       "      <td>0.0</td>\n",
       "    </tr>\n",
       "  </tbody>\n",
       "</table>\n",
       "<p>765 rows × 2 columns</p>\n",
       "</div>"
      ],
      "text/plain": [
       "                                             mean    median\n",
       "                                        FoodCourt FoodCourt\n",
       "HomePlanet Age  CryoSleep Destination                      \n",
       "Earth      0.0  False     55 Cancri e         0.0       0.0\n",
       "                          PSO J318.5-22       0.0       0.0\n",
       "                          TRAPPIST-1e         0.0       0.0\n",
       "                True      55 Cancri e         0.0       0.0\n",
       "                          PSO J318.5-22       0.0       0.0\n",
       "...                                           ...       ...\n",
       "Mars       70.0 True      TRAPPIST-1e         0.0       0.0\n",
       "           71.0 True      TRAPPIST-1e         0.0       0.0\n",
       "           72.0 False     TRAPPIST-1e         0.0       0.0\n",
       "           73.0 False     TRAPPIST-1e        42.5      42.5\n",
       "           75.0 False     TRAPPIST-1e         0.0       0.0\n",
       "\n",
       "[765 rows x 2 columns]"
      ]
     },
     "execution_count": 40,
     "metadata": {},
     "output_type": "execute_result"
    }
   ],
   "source": [
    "test.pivot_table(index=['HomePlanet','Age','CryoSleep','Destination'],values='FoodCourt',aggfunc=['mean','median'])"
   ]
  },
  {
   "cell_type": "code",
   "execution_count": 41,
   "id": "0cf79e13",
   "metadata": {
    "execution": {
     "iopub.execute_input": "2023-01-10T04:27:04.053601Z",
     "iopub.status.busy": "2023-01-10T04:27:04.053204Z",
     "iopub.status.idle": "2023-01-10T04:27:04.064404Z",
     "shell.execute_reply": "2023-01-10T04:27:04.062708Z"
    },
    "papermill": {
     "duration": 0.04592,
     "end_time": "2023-01-10T04:27:04.067448",
     "exception": false,
     "start_time": "2023-01-10T04:27:04.021528",
     "status": "completed"
    },
    "tags": []
   },
   "outputs": [],
   "source": [
    "test['FoodCourt']=test['FoodCourt'].fillna(test.groupby(['HomePlanet','Age','CryoSleep','Destination'])['FoodCourt'].transform('median'))"
   ]
  },
  {
   "cell_type": "code",
   "execution_count": 42,
   "id": "ff188ac4",
   "metadata": {
    "execution": {
     "iopub.execute_input": "2023-01-10T04:27:04.130757Z",
     "iopub.status.busy": "2023-01-10T04:27:04.130296Z",
     "iopub.status.idle": "2023-01-10T04:27:04.137606Z",
     "shell.execute_reply": "2023-01-10T04:27:04.136178Z"
    },
    "papermill": {
     "duration": 0.042612,
     "end_time": "2023-01-10T04:27:04.140720",
     "exception": false,
     "start_time": "2023-01-10T04:27:04.098108",
     "status": "completed"
    },
    "tags": []
   },
   "outputs": [],
   "source": [
    "test['FoodCourt']=test['FoodCourt'].fillna(439)"
   ]
  },
  {
   "cell_type": "code",
   "execution_count": 43,
   "id": "3bf6024f",
   "metadata": {
    "execution": {
     "iopub.execute_input": "2023-01-10T04:27:04.196445Z",
     "iopub.status.busy": "2023-01-10T04:27:04.196035Z",
     "iopub.status.idle": "2023-01-10T04:27:04.204323Z",
     "shell.execute_reply": "2023-01-10T04:27:04.203396Z"
    },
    "papermill": {
     "duration": 0.038267,
     "end_time": "2023-01-10T04:27:04.206851",
     "exception": false,
     "start_time": "2023-01-10T04:27:04.168584",
     "status": "completed"
    },
    "tags": []
   },
   "outputs": [
    {
     "data": {
      "text/plain": [
       "173.72916912197996"
      ]
     },
     "execution_count": 43,
     "metadata": {},
     "output_type": "execute_result"
    }
   ],
   "source": [
    "train['ShoppingMall'].mean()"
   ]
  },
  {
   "cell_type": "code",
   "execution_count": 44,
   "id": "6f2acc7d",
   "metadata": {
    "execution": {
     "iopub.execute_input": "2023-01-10T04:27:04.263891Z",
     "iopub.status.busy": "2023-01-10T04:27:04.263469Z",
     "iopub.status.idle": "2023-01-10T04:27:04.312121Z",
     "shell.execute_reply": "2023-01-10T04:27:04.310790Z"
    },
    "papermill": {
     "duration": 0.081469,
     "end_time": "2023-01-10T04:27:04.315548",
     "exception": false,
     "start_time": "2023-01-10T04:27:04.234079",
     "status": "completed"
    },
    "tags": []
   },
   "outputs": [
    {
     "data": {
      "text/html": [
       "<div>\n",
       "<style scoped>\n",
       "    .dataframe tbody tr th:only-of-type {\n",
       "        vertical-align: middle;\n",
       "    }\n",
       "\n",
       "    .dataframe tbody tr th {\n",
       "        vertical-align: top;\n",
       "    }\n",
       "\n",
       "    .dataframe thead tr th {\n",
       "        text-align: left;\n",
       "    }\n",
       "\n",
       "    .dataframe thead tr:last-of-type th {\n",
       "        text-align: right;\n",
       "    }\n",
       "</style>\n",
       "<table border=\"1\" class=\"dataframe\">\n",
       "  <thead>\n",
       "    <tr>\n",
       "      <th></th>\n",
       "      <th></th>\n",
       "      <th></th>\n",
       "      <th></th>\n",
       "      <th>mean</th>\n",
       "      <th>median</th>\n",
       "    </tr>\n",
       "    <tr>\n",
       "      <th></th>\n",
       "      <th></th>\n",
       "      <th></th>\n",
       "      <th></th>\n",
       "      <th>ShoppingMall</th>\n",
       "      <th>ShoppingMall</th>\n",
       "    </tr>\n",
       "    <tr>\n",
       "      <th>HomePlanet</th>\n",
       "      <th>Age</th>\n",
       "      <th>CryoSleep</th>\n",
       "      <th>Destination</th>\n",
       "      <th></th>\n",
       "      <th></th>\n",
       "    </tr>\n",
       "  </thead>\n",
       "  <tbody>\n",
       "    <tr>\n",
       "      <th rowspan=\"5\" valign=\"top\">Earth</th>\n",
       "      <th rowspan=\"5\" valign=\"top\">0.0</th>\n",
       "      <th rowspan=\"2\" valign=\"top\">0</th>\n",
       "      <th>55 Cancri e</th>\n",
       "      <td>0.0</td>\n",
       "      <td>0.0</td>\n",
       "    </tr>\n",
       "    <tr>\n",
       "      <th>TRAPPIST-1e</th>\n",
       "      <td>0.0</td>\n",
       "      <td>0.0</td>\n",
       "    </tr>\n",
       "    <tr>\n",
       "      <th rowspan=\"3\" valign=\"top\">1</th>\n",
       "      <th>55 Cancri e</th>\n",
       "      <td>0.0</td>\n",
       "      <td>0.0</td>\n",
       "    </tr>\n",
       "    <tr>\n",
       "      <th>PSO J318.5-22</th>\n",
       "      <td>0.0</td>\n",
       "      <td>0.0</td>\n",
       "    </tr>\n",
       "    <tr>\n",
       "      <th>TRAPPIST-1e</th>\n",
       "      <td>0.0</td>\n",
       "      <td>0.0</td>\n",
       "    </tr>\n",
       "    <tr>\n",
       "      <th>...</th>\n",
       "      <th>...</th>\n",
       "      <th>...</th>\n",
       "      <th>...</th>\n",
       "      <td>...</td>\n",
       "      <td>...</td>\n",
       "    </tr>\n",
       "    <tr>\n",
       "      <th rowspan=\"5\" valign=\"top\">Mars</th>\n",
       "      <th>71.0</th>\n",
       "      <th>1</th>\n",
       "      <th>PSO J318.5-22</th>\n",
       "      <td>0.0</td>\n",
       "      <td>0.0</td>\n",
       "    </tr>\n",
       "    <tr>\n",
       "      <th>72.0</th>\n",
       "      <th>1</th>\n",
       "      <th>TRAPPIST-1e</th>\n",
       "      <td>0.0</td>\n",
       "      <td>0.0</td>\n",
       "    </tr>\n",
       "    <tr>\n",
       "      <th>73.0</th>\n",
       "      <th>0</th>\n",
       "      <th>TRAPPIST-1e</th>\n",
       "      <td>130.5</td>\n",
       "      <td>130.5</td>\n",
       "    </tr>\n",
       "    <tr>\n",
       "      <th>75.0</th>\n",
       "      <th>1</th>\n",
       "      <th>TRAPPIST-1e</th>\n",
       "      <td>0.0</td>\n",
       "      <td>0.0</td>\n",
       "    </tr>\n",
       "    <tr>\n",
       "      <th>76.0</th>\n",
       "      <th>1</th>\n",
       "      <th>TRAPPIST-1e</th>\n",
       "      <td>0.0</td>\n",
       "      <td>0.0</td>\n",
       "    </tr>\n",
       "  </tbody>\n",
       "</table>\n",
       "<p>919 rows × 2 columns</p>\n",
       "</div>"
      ],
      "text/plain": [
       "                                                mean       median\n",
       "                                        ShoppingMall ShoppingMall\n",
       "HomePlanet Age  CryoSleep Destination                            \n",
       "Earth      0.0  0         55 Cancri e            0.0          0.0\n",
       "                          TRAPPIST-1e            0.0          0.0\n",
       "                1         55 Cancri e            0.0          0.0\n",
       "                          PSO J318.5-22          0.0          0.0\n",
       "                          TRAPPIST-1e            0.0          0.0\n",
       "...                                              ...          ...\n",
       "Mars       71.0 1         PSO J318.5-22          0.0          0.0\n",
       "           72.0 1         TRAPPIST-1e            0.0          0.0\n",
       "           73.0 0         TRAPPIST-1e          130.5        130.5\n",
       "           75.0 1         TRAPPIST-1e            0.0          0.0\n",
       "           76.0 1         TRAPPIST-1e            0.0          0.0\n",
       "\n",
       "[919 rows x 2 columns]"
      ]
     },
     "execution_count": 44,
     "metadata": {},
     "output_type": "execute_result"
    }
   ],
   "source": [
    "train.pivot_table(index=['HomePlanet','Age','CryoSleep','Destination'],values='ShoppingMall',aggfunc=['mean','median'])"
   ]
  },
  {
   "cell_type": "code",
   "execution_count": 45,
   "id": "9d6682d6",
   "metadata": {
    "execution": {
     "iopub.execute_input": "2023-01-10T04:27:04.371284Z",
     "iopub.status.busy": "2023-01-10T04:27:04.370859Z",
     "iopub.status.idle": "2023-01-10T04:27:04.382403Z",
     "shell.execute_reply": "2023-01-10T04:27:04.380935Z"
    },
    "papermill": {
     "duration": 0.041969,
     "end_time": "2023-01-10T04:27:04.385036",
     "exception": false,
     "start_time": "2023-01-10T04:27:04.343067",
     "status": "completed"
    },
    "tags": []
   },
   "outputs": [],
   "source": [
    "train['ShoppingMall']=train['ShoppingMall'].fillna(train.groupby(['HomePlanet','Age','CryoSleep','Destination'])['ShoppingMall'].transform('median'))"
   ]
  },
  {
   "cell_type": "code",
   "execution_count": 46,
   "id": "c61e124d",
   "metadata": {
    "execution": {
     "iopub.execute_input": "2023-01-10T04:27:04.438806Z",
     "iopub.status.busy": "2023-01-10T04:27:04.437860Z",
     "iopub.status.idle": "2023-01-10T04:27:04.444519Z",
     "shell.execute_reply": "2023-01-10T04:27:04.443219Z"
    },
    "papermill": {
     "duration": 0.036758,
     "end_time": "2023-01-10T04:27:04.447620",
     "exception": false,
     "start_time": "2023-01-10T04:27:04.410862",
     "status": "completed"
    },
    "tags": []
   },
   "outputs": [],
   "source": [
    "train['ShoppingMall']=train['ShoppingMall'].fillna(173)"
   ]
  },
  {
   "cell_type": "code",
   "execution_count": 47,
   "id": "1edf1665",
   "metadata": {
    "execution": {
     "iopub.execute_input": "2023-01-10T04:27:04.506906Z",
     "iopub.status.busy": "2023-01-10T04:27:04.506361Z",
     "iopub.status.idle": "2023-01-10T04:27:04.516464Z",
     "shell.execute_reply": "2023-01-10T04:27:04.514686Z"
    },
    "papermill": {
     "duration": 0.043366,
     "end_time": "2023-01-10T04:27:04.519700",
     "exception": false,
     "start_time": "2023-01-10T04:27:04.476334",
     "status": "completed"
    },
    "tags": []
   },
   "outputs": [
    {
     "data": {
      "text/plain": [
       "177.29552524527398"
      ]
     },
     "execution_count": 47,
     "metadata": {},
     "output_type": "execute_result"
    }
   ],
   "source": [
    "test['ShoppingMall'].mean()"
   ]
  },
  {
   "cell_type": "code",
   "execution_count": 48,
   "id": "0d1dba3d",
   "metadata": {
    "execution": {
     "iopub.execute_input": "2023-01-10T04:27:04.577333Z",
     "iopub.status.busy": "2023-01-10T04:27:04.576831Z",
     "iopub.status.idle": "2023-01-10T04:27:04.627725Z",
     "shell.execute_reply": "2023-01-10T04:27:04.626702Z"
    },
    "papermill": {
     "duration": 0.083311,
     "end_time": "2023-01-10T04:27:04.631275",
     "exception": false,
     "start_time": "2023-01-10T04:27:04.547964",
     "status": "completed"
    },
    "tags": []
   },
   "outputs": [
    {
     "data": {
      "text/html": [
       "<div>\n",
       "<style scoped>\n",
       "    .dataframe tbody tr th:only-of-type {\n",
       "        vertical-align: middle;\n",
       "    }\n",
       "\n",
       "    .dataframe tbody tr th {\n",
       "        vertical-align: top;\n",
       "    }\n",
       "\n",
       "    .dataframe thead tr th {\n",
       "        text-align: left;\n",
       "    }\n",
       "\n",
       "    .dataframe thead tr:last-of-type th {\n",
       "        text-align: right;\n",
       "    }\n",
       "</style>\n",
       "<table border=\"1\" class=\"dataframe\">\n",
       "  <thead>\n",
       "    <tr>\n",
       "      <th></th>\n",
       "      <th></th>\n",
       "      <th></th>\n",
       "      <th></th>\n",
       "      <th>mean</th>\n",
       "      <th>median</th>\n",
       "    </tr>\n",
       "    <tr>\n",
       "      <th></th>\n",
       "      <th></th>\n",
       "      <th></th>\n",
       "      <th></th>\n",
       "      <th>ShoppingMall</th>\n",
       "      <th>ShoppingMall</th>\n",
       "    </tr>\n",
       "    <tr>\n",
       "      <th>HomePlanet</th>\n",
       "      <th>Age</th>\n",
       "      <th>CryoSleep</th>\n",
       "      <th>Destination</th>\n",
       "      <th></th>\n",
       "      <th></th>\n",
       "    </tr>\n",
       "  </thead>\n",
       "  <tbody>\n",
       "    <tr>\n",
       "      <th rowspan=\"5\" valign=\"top\">Earth</th>\n",
       "      <th rowspan=\"5\" valign=\"top\">0.0</th>\n",
       "      <th rowspan=\"3\" valign=\"top\">False</th>\n",
       "      <th>55 Cancri e</th>\n",
       "      <td>0.0</td>\n",
       "      <td>0.0</td>\n",
       "    </tr>\n",
       "    <tr>\n",
       "      <th>PSO J318.5-22</th>\n",
       "      <td>0.0</td>\n",
       "      <td>0.0</td>\n",
       "    </tr>\n",
       "    <tr>\n",
       "      <th>TRAPPIST-1e</th>\n",
       "      <td>0.0</td>\n",
       "      <td>0.0</td>\n",
       "    </tr>\n",
       "    <tr>\n",
       "      <th rowspan=\"2\" valign=\"top\">True</th>\n",
       "      <th>55 Cancri e</th>\n",
       "      <td>0.0</td>\n",
       "      <td>0.0</td>\n",
       "    </tr>\n",
       "    <tr>\n",
       "      <th>PSO J318.5-22</th>\n",
       "      <td>0.0</td>\n",
       "      <td>0.0</td>\n",
       "    </tr>\n",
       "    <tr>\n",
       "      <th>...</th>\n",
       "      <th>...</th>\n",
       "      <th>...</th>\n",
       "      <th>...</th>\n",
       "      <td>...</td>\n",
       "      <td>...</td>\n",
       "    </tr>\n",
       "    <tr>\n",
       "      <th rowspan=\"5\" valign=\"top\">Mars</th>\n",
       "      <th>69.0</th>\n",
       "      <th>False</th>\n",
       "      <th>TRAPPIST-1e</th>\n",
       "      <td>1131.0</td>\n",
       "      <td>1131.0</td>\n",
       "    </tr>\n",
       "    <tr>\n",
       "      <th>70.0</th>\n",
       "      <th>True</th>\n",
       "      <th>TRAPPIST-1e</th>\n",
       "      <td>0.0</td>\n",
       "      <td>0.0</td>\n",
       "    </tr>\n",
       "    <tr>\n",
       "      <th>72.0</th>\n",
       "      <th>False</th>\n",
       "      <th>TRAPPIST-1e</th>\n",
       "      <td>193.0</td>\n",
       "      <td>193.0</td>\n",
       "    </tr>\n",
       "    <tr>\n",
       "      <th>73.0</th>\n",
       "      <th>False</th>\n",
       "      <th>TRAPPIST-1e</th>\n",
       "      <td>662.5</td>\n",
       "      <td>662.5</td>\n",
       "    </tr>\n",
       "    <tr>\n",
       "      <th>75.0</th>\n",
       "      <th>False</th>\n",
       "      <th>TRAPPIST-1e</th>\n",
       "      <td>0.0</td>\n",
       "      <td>0.0</td>\n",
       "    </tr>\n",
       "  </tbody>\n",
       "</table>\n",
       "<p>763 rows × 2 columns</p>\n",
       "</div>"
      ],
      "text/plain": [
       "                                                mean       median\n",
       "                                        ShoppingMall ShoppingMall\n",
       "HomePlanet Age  CryoSleep Destination                            \n",
       "Earth      0.0  False     55 Cancri e            0.0          0.0\n",
       "                          PSO J318.5-22          0.0          0.0\n",
       "                          TRAPPIST-1e            0.0          0.0\n",
       "                True      55 Cancri e            0.0          0.0\n",
       "                          PSO J318.5-22          0.0          0.0\n",
       "...                                              ...          ...\n",
       "Mars       69.0 False     TRAPPIST-1e         1131.0       1131.0\n",
       "           70.0 True      TRAPPIST-1e            0.0          0.0\n",
       "           72.0 False     TRAPPIST-1e          193.0        193.0\n",
       "           73.0 False     TRAPPIST-1e          662.5        662.5\n",
       "           75.0 False     TRAPPIST-1e            0.0          0.0\n",
       "\n",
       "[763 rows x 2 columns]"
      ]
     },
     "execution_count": 48,
     "metadata": {},
     "output_type": "execute_result"
    }
   ],
   "source": [
    "test.pivot_table(index=['HomePlanet','Age','CryoSleep','Destination'],values='ShoppingMall',aggfunc=['mean','median'])"
   ]
  },
  {
   "cell_type": "code",
   "execution_count": 49,
   "id": "f8e9cf7d",
   "metadata": {
    "execution": {
     "iopub.execute_input": "2023-01-10T04:27:04.686732Z",
     "iopub.status.busy": "2023-01-10T04:27:04.686304Z",
     "iopub.status.idle": "2023-01-10T04:27:04.697767Z",
     "shell.execute_reply": "2023-01-10T04:27:04.696604Z"
    },
    "papermill": {
     "duration": 0.042475,
     "end_time": "2023-01-10T04:27:04.700661",
     "exception": false,
     "start_time": "2023-01-10T04:27:04.658186",
     "status": "completed"
    },
    "tags": []
   },
   "outputs": [],
   "source": [
    "test['ShoppingMall']=test['ShoppingMall'].fillna(test.groupby(['HomePlanet','Age','CryoSleep','Destination'])['ShoppingMall'].transform('median'))"
   ]
  },
  {
   "cell_type": "code",
   "execution_count": 50,
   "id": "0c95bdb6",
   "metadata": {
    "execution": {
     "iopub.execute_input": "2023-01-10T04:27:04.759697Z",
     "iopub.status.busy": "2023-01-10T04:27:04.759242Z",
     "iopub.status.idle": "2023-01-10T04:27:04.766235Z",
     "shell.execute_reply": "2023-01-10T04:27:04.764983Z"
    },
    "papermill": {
     "duration": 0.039348,
     "end_time": "2023-01-10T04:27:04.768680",
     "exception": false,
     "start_time": "2023-01-10T04:27:04.729332",
     "status": "completed"
    },
    "tags": []
   },
   "outputs": [],
   "source": [
    "test['ShoppingMall']=test['ShoppingMall'].fillna(177)"
   ]
  },
  {
   "cell_type": "code",
   "execution_count": 51,
   "id": "30823fe7",
   "metadata": {
    "execution": {
     "iopub.execute_input": "2023-01-10T04:27:04.828410Z",
     "iopub.status.busy": "2023-01-10T04:27:04.827994Z",
     "iopub.status.idle": "2023-01-10T04:27:04.837113Z",
     "shell.execute_reply": "2023-01-10T04:27:04.835724Z"
    },
    "papermill": {
     "duration": 0.041569,
     "end_time": "2023-01-10T04:27:04.839672",
     "exception": false,
     "start_time": "2023-01-10T04:27:04.798103",
     "status": "completed"
    },
    "tags": []
   },
   "outputs": [
    {
     "data": {
      "text/plain": [
       "311.1387779083431"
      ]
     },
     "execution_count": 51,
     "metadata": {},
     "output_type": "execute_result"
    }
   ],
   "source": [
    "train['Spa'].mean()"
   ]
  },
  {
   "cell_type": "code",
   "execution_count": 52,
   "id": "45e1295d",
   "metadata": {
    "execution": {
     "iopub.execute_input": "2023-01-10T04:27:04.898971Z",
     "iopub.status.busy": "2023-01-10T04:27:04.898470Z",
     "iopub.status.idle": "2023-01-10T04:27:04.948343Z",
     "shell.execute_reply": "2023-01-10T04:27:04.947036Z"
    },
    "papermill": {
     "duration": 0.084946,
     "end_time": "2023-01-10T04:27:04.951540",
     "exception": false,
     "start_time": "2023-01-10T04:27:04.866594",
     "status": "completed"
    },
    "tags": []
   },
   "outputs": [
    {
     "data": {
      "text/html": [
       "<div>\n",
       "<style scoped>\n",
       "    .dataframe tbody tr th:only-of-type {\n",
       "        vertical-align: middle;\n",
       "    }\n",
       "\n",
       "    .dataframe tbody tr th {\n",
       "        vertical-align: top;\n",
       "    }\n",
       "\n",
       "    .dataframe thead tr th {\n",
       "        text-align: left;\n",
       "    }\n",
       "\n",
       "    .dataframe thead tr:last-of-type th {\n",
       "        text-align: right;\n",
       "    }\n",
       "</style>\n",
       "<table border=\"1\" class=\"dataframe\">\n",
       "  <thead>\n",
       "    <tr>\n",
       "      <th></th>\n",
       "      <th></th>\n",
       "      <th></th>\n",
       "      <th></th>\n",
       "      <th>mean</th>\n",
       "      <th>median</th>\n",
       "    </tr>\n",
       "    <tr>\n",
       "      <th></th>\n",
       "      <th></th>\n",
       "      <th></th>\n",
       "      <th></th>\n",
       "      <th>Spa</th>\n",
       "      <th>Spa</th>\n",
       "    </tr>\n",
       "    <tr>\n",
       "      <th>HomePlanet</th>\n",
       "      <th>Age</th>\n",
       "      <th>CryoSleep</th>\n",
       "      <th>Destination</th>\n",
       "      <th></th>\n",
       "      <th></th>\n",
       "    </tr>\n",
       "  </thead>\n",
       "  <tbody>\n",
       "    <tr>\n",
       "      <th rowspan=\"5\" valign=\"top\">Earth</th>\n",
       "      <th rowspan=\"5\" valign=\"top\">0.0</th>\n",
       "      <th rowspan=\"2\" valign=\"top\">0</th>\n",
       "      <th>55 Cancri e</th>\n",
       "      <td>0.0</td>\n",
       "      <td>0.0</td>\n",
       "    </tr>\n",
       "    <tr>\n",
       "      <th>TRAPPIST-1e</th>\n",
       "      <td>0.0</td>\n",
       "      <td>0.0</td>\n",
       "    </tr>\n",
       "    <tr>\n",
       "      <th rowspan=\"3\" valign=\"top\">1</th>\n",
       "      <th>55 Cancri e</th>\n",
       "      <td>0.0</td>\n",
       "      <td>0.0</td>\n",
       "    </tr>\n",
       "    <tr>\n",
       "      <th>PSO J318.5-22</th>\n",
       "      <td>0.0</td>\n",
       "      <td>0.0</td>\n",
       "    </tr>\n",
       "    <tr>\n",
       "      <th>TRAPPIST-1e</th>\n",
       "      <td>0.0</td>\n",
       "      <td>0.0</td>\n",
       "    </tr>\n",
       "    <tr>\n",
       "      <th>...</th>\n",
       "      <th>...</th>\n",
       "      <th>...</th>\n",
       "      <th>...</th>\n",
       "      <td>...</td>\n",
       "      <td>...</td>\n",
       "    </tr>\n",
       "    <tr>\n",
       "      <th rowspan=\"5\" valign=\"top\">Mars</th>\n",
       "      <th>71.0</th>\n",
       "      <th>1</th>\n",
       "      <th>PSO J318.5-22</th>\n",
       "      <td>0.0</td>\n",
       "      <td>0.0</td>\n",
       "    </tr>\n",
       "    <tr>\n",
       "      <th>72.0</th>\n",
       "      <th>1</th>\n",
       "      <th>TRAPPIST-1e</th>\n",
       "      <td>0.0</td>\n",
       "      <td>0.0</td>\n",
       "    </tr>\n",
       "    <tr>\n",
       "      <th>73.0</th>\n",
       "      <th>0</th>\n",
       "      <th>TRAPPIST-1e</th>\n",
       "      <td>638.0</td>\n",
       "      <td>638.0</td>\n",
       "    </tr>\n",
       "    <tr>\n",
       "      <th>75.0</th>\n",
       "      <th>1</th>\n",
       "      <th>TRAPPIST-1e</th>\n",
       "      <td>0.0</td>\n",
       "      <td>0.0</td>\n",
       "    </tr>\n",
       "    <tr>\n",
       "      <th>76.0</th>\n",
       "      <th>1</th>\n",
       "      <th>TRAPPIST-1e</th>\n",
       "      <td>0.0</td>\n",
       "      <td>0.0</td>\n",
       "    </tr>\n",
       "  </tbody>\n",
       "</table>\n",
       "<p>916 rows × 2 columns</p>\n",
       "</div>"
      ],
      "text/plain": [
       "                                          mean median\n",
       "                                           Spa    Spa\n",
       "HomePlanet Age  CryoSleep Destination                \n",
       "Earth      0.0  0         55 Cancri e      0.0    0.0\n",
       "                          TRAPPIST-1e      0.0    0.0\n",
       "                1         55 Cancri e      0.0    0.0\n",
       "                          PSO J318.5-22    0.0    0.0\n",
       "                          TRAPPIST-1e      0.0    0.0\n",
       "...                                        ...    ...\n",
       "Mars       71.0 1         PSO J318.5-22    0.0    0.0\n",
       "           72.0 1         TRAPPIST-1e      0.0    0.0\n",
       "           73.0 0         TRAPPIST-1e    638.0  638.0\n",
       "           75.0 1         TRAPPIST-1e      0.0    0.0\n",
       "           76.0 1         TRAPPIST-1e      0.0    0.0\n",
       "\n",
       "[916 rows x 2 columns]"
      ]
     },
     "execution_count": 52,
     "metadata": {},
     "output_type": "execute_result"
    }
   ],
   "source": [
    "train.pivot_table(index=['HomePlanet','Age','CryoSleep','Destination'],values='Spa',aggfunc=['mean','median'])"
   ]
  },
  {
   "cell_type": "code",
   "execution_count": 53,
   "id": "b1aa1f4b",
   "metadata": {
    "execution": {
     "iopub.execute_input": "2023-01-10T04:27:05.008651Z",
     "iopub.status.busy": "2023-01-10T04:27:05.008219Z",
     "iopub.status.idle": "2023-01-10T04:27:05.020162Z",
     "shell.execute_reply": "2023-01-10T04:27:05.018982Z"
    },
    "papermill": {
     "duration": 0.044315,
     "end_time": "2023-01-10T04:27:05.023077",
     "exception": false,
     "start_time": "2023-01-10T04:27:04.978762",
     "status": "completed"
    },
    "tags": []
   },
   "outputs": [],
   "source": [
    "train['Spa']=train['Spa'].fillna(train.groupby(['HomePlanet','Age','CryoSleep','Destination'])['Spa'].transform('median'))"
   ]
  },
  {
   "cell_type": "code",
   "execution_count": 54,
   "id": "97c72675",
   "metadata": {
    "execution": {
     "iopub.execute_input": "2023-01-10T04:27:05.081847Z",
     "iopub.status.busy": "2023-01-10T04:27:05.081132Z",
     "iopub.status.idle": "2023-01-10T04:27:05.088964Z",
     "shell.execute_reply": "2023-01-10T04:27:05.087433Z"
    },
    "papermill": {
     "duration": 0.040505,
     "end_time": "2023-01-10T04:27:05.091826",
     "exception": false,
     "start_time": "2023-01-10T04:27:05.051321",
     "status": "completed"
    },
    "tags": []
   },
   "outputs": [],
   "source": [
    "train['Spa']=train['Spa'].fillna(311)"
   ]
  },
  {
   "cell_type": "code",
   "execution_count": 55,
   "id": "2ed07a95",
   "metadata": {
    "execution": {
     "iopub.execute_input": "2023-01-10T04:27:05.149772Z",
     "iopub.status.busy": "2023-01-10T04:27:05.149314Z",
     "iopub.status.idle": "2023-01-10T04:27:05.158829Z",
     "shell.execute_reply": "2023-01-10T04:27:05.156976Z"
    },
    "papermill": {
     "duration": 0.041091,
     "end_time": "2023-01-10T04:27:05.161550",
     "exception": false,
     "start_time": "2023-01-10T04:27:05.120459",
     "status": "completed"
    },
    "tags": []
   },
   "outputs": [
    {
     "data": {
      "text/plain": [
       "303.05244252873564"
      ]
     },
     "execution_count": 55,
     "metadata": {},
     "output_type": "execute_result"
    }
   ],
   "source": [
    "test['Spa'].mean()"
   ]
  },
  {
   "cell_type": "code",
   "execution_count": 56,
   "id": "8fe6c109",
   "metadata": {
    "execution": {
     "iopub.execute_input": "2023-01-10T04:27:05.222511Z",
     "iopub.status.busy": "2023-01-10T04:27:05.222060Z",
     "iopub.status.idle": "2023-01-10T04:27:05.268507Z",
     "shell.execute_reply": "2023-01-10T04:27:05.266964Z"
    },
    "papermill": {
     "duration": 0.080778,
     "end_time": "2023-01-10T04:27:05.271409",
     "exception": false,
     "start_time": "2023-01-10T04:27:05.190631",
     "status": "completed"
    },
    "tags": []
   },
   "outputs": [
    {
     "data": {
      "text/html": [
       "<div>\n",
       "<style scoped>\n",
       "    .dataframe tbody tr th:only-of-type {\n",
       "        vertical-align: middle;\n",
       "    }\n",
       "\n",
       "    .dataframe tbody tr th {\n",
       "        vertical-align: top;\n",
       "    }\n",
       "\n",
       "    .dataframe thead tr th {\n",
       "        text-align: left;\n",
       "    }\n",
       "\n",
       "    .dataframe thead tr:last-of-type th {\n",
       "        text-align: right;\n",
       "    }\n",
       "</style>\n",
       "<table border=\"1\" class=\"dataframe\">\n",
       "  <thead>\n",
       "    <tr>\n",
       "      <th></th>\n",
       "      <th></th>\n",
       "      <th></th>\n",
       "      <th></th>\n",
       "      <th>mean</th>\n",
       "      <th>median</th>\n",
       "    </tr>\n",
       "    <tr>\n",
       "      <th></th>\n",
       "      <th></th>\n",
       "      <th></th>\n",
       "      <th></th>\n",
       "      <th>Spa</th>\n",
       "      <th>Spa</th>\n",
       "    </tr>\n",
       "    <tr>\n",
       "      <th>HomePlanet</th>\n",
       "      <th>Age</th>\n",
       "      <th>CryoSleep</th>\n",
       "      <th>Destination</th>\n",
       "      <th></th>\n",
       "      <th></th>\n",
       "    </tr>\n",
       "  </thead>\n",
       "  <tbody>\n",
       "    <tr>\n",
       "      <th rowspan=\"5\" valign=\"top\">Earth</th>\n",
       "      <th rowspan=\"5\" valign=\"top\">0.0</th>\n",
       "      <th rowspan=\"3\" valign=\"top\">False</th>\n",
       "      <th>55 Cancri e</th>\n",
       "      <td>0.0</td>\n",
       "      <td>0.0</td>\n",
       "    </tr>\n",
       "    <tr>\n",
       "      <th>PSO J318.5-22</th>\n",
       "      <td>0.0</td>\n",
       "      <td>0.0</td>\n",
       "    </tr>\n",
       "    <tr>\n",
       "      <th>TRAPPIST-1e</th>\n",
       "      <td>0.0</td>\n",
       "      <td>0.0</td>\n",
       "    </tr>\n",
       "    <tr>\n",
       "      <th rowspan=\"2\" valign=\"top\">True</th>\n",
       "      <th>55 Cancri e</th>\n",
       "      <td>0.0</td>\n",
       "      <td>0.0</td>\n",
       "    </tr>\n",
       "    <tr>\n",
       "      <th>PSO J318.5-22</th>\n",
       "      <td>0.0</td>\n",
       "      <td>0.0</td>\n",
       "    </tr>\n",
       "    <tr>\n",
       "      <th>...</th>\n",
       "      <th>...</th>\n",
       "      <th>...</th>\n",
       "      <th>...</th>\n",
       "      <td>...</td>\n",
       "      <td>...</td>\n",
       "    </tr>\n",
       "    <tr>\n",
       "      <th rowspan=\"5\" valign=\"top\">Mars</th>\n",
       "      <th>70.0</th>\n",
       "      <th>True</th>\n",
       "      <th>TRAPPIST-1e</th>\n",
       "      <td>0.0</td>\n",
       "      <td>0.0</td>\n",
       "    </tr>\n",
       "    <tr>\n",
       "      <th>71.0</th>\n",
       "      <th>True</th>\n",
       "      <th>TRAPPIST-1e</th>\n",
       "      <td>0.0</td>\n",
       "      <td>0.0</td>\n",
       "    </tr>\n",
       "    <tr>\n",
       "      <th>72.0</th>\n",
       "      <th>False</th>\n",
       "      <th>TRAPPIST-1e</th>\n",
       "      <td>0.0</td>\n",
       "      <td>0.0</td>\n",
       "    </tr>\n",
       "    <tr>\n",
       "      <th>73.0</th>\n",
       "      <th>False</th>\n",
       "      <th>TRAPPIST-1e</th>\n",
       "      <td>817.5</td>\n",
       "      <td>817.5</td>\n",
       "    </tr>\n",
       "    <tr>\n",
       "      <th>75.0</th>\n",
       "      <th>False</th>\n",
       "      <th>TRAPPIST-1e</th>\n",
       "      <td>1188.0</td>\n",
       "      <td>1188.0</td>\n",
       "    </tr>\n",
       "  </tbody>\n",
       "</table>\n",
       "<p>760 rows × 2 columns</p>\n",
       "</div>"
      ],
      "text/plain": [
       "                                           mean  median\n",
       "                                            Spa     Spa\n",
       "HomePlanet Age  CryoSleep Destination                  \n",
       "Earth      0.0  False     55 Cancri e       0.0     0.0\n",
       "                          PSO J318.5-22     0.0     0.0\n",
       "                          TRAPPIST-1e       0.0     0.0\n",
       "                True      55 Cancri e       0.0     0.0\n",
       "                          PSO J318.5-22     0.0     0.0\n",
       "...                                         ...     ...\n",
       "Mars       70.0 True      TRAPPIST-1e       0.0     0.0\n",
       "           71.0 True      TRAPPIST-1e       0.0     0.0\n",
       "           72.0 False     TRAPPIST-1e       0.0     0.0\n",
       "           73.0 False     TRAPPIST-1e     817.5   817.5\n",
       "           75.0 False     TRAPPIST-1e    1188.0  1188.0\n",
       "\n",
       "[760 rows x 2 columns]"
      ]
     },
     "execution_count": 56,
     "metadata": {},
     "output_type": "execute_result"
    }
   ],
   "source": [
    "test.pivot_table(index=['HomePlanet','Age','CryoSleep','Destination'],values='Spa',aggfunc=['mean','median'])"
   ]
  },
  {
   "cell_type": "code",
   "execution_count": 57,
   "id": "db92081e",
   "metadata": {
    "execution": {
     "iopub.execute_input": "2023-01-10T04:27:05.331257Z",
     "iopub.status.busy": "2023-01-10T04:27:05.330830Z",
     "iopub.status.idle": "2023-01-10T04:27:05.341890Z",
     "shell.execute_reply": "2023-01-10T04:27:05.340768Z"
    },
    "papermill": {
     "duration": 0.044054,
     "end_time": "2023-01-10T04:27:05.344590",
     "exception": false,
     "start_time": "2023-01-10T04:27:05.300536",
     "status": "completed"
    },
    "tags": []
   },
   "outputs": [],
   "source": [
    "test['Spa']=test['Spa'].fillna(test.groupby(['HomePlanet','Age','CryoSleep','Destination'])['Spa'].transform('median'))"
   ]
  },
  {
   "cell_type": "code",
   "execution_count": 58,
   "id": "2e6427da",
   "metadata": {
    "execution": {
     "iopub.execute_input": "2023-01-10T04:27:05.402076Z",
     "iopub.status.busy": "2023-01-10T04:27:05.401623Z",
     "iopub.status.idle": "2023-01-10T04:27:05.408134Z",
     "shell.execute_reply": "2023-01-10T04:27:05.406547Z"
    },
    "papermill": {
     "duration": 0.038467,
     "end_time": "2023-01-10T04:27:05.410850",
     "exception": false,
     "start_time": "2023-01-10T04:27:05.372383",
     "status": "completed"
    },
    "tags": []
   },
   "outputs": [],
   "source": [
    "test['Spa']=test['Spa'].fillna(303)"
   ]
  },
  {
   "cell_type": "code",
   "execution_count": 59,
   "id": "3e5b8996",
   "metadata": {
    "execution": {
     "iopub.execute_input": "2023-01-10T04:27:05.467244Z",
     "iopub.status.busy": "2023-01-10T04:27:05.466805Z",
     "iopub.status.idle": "2023-01-10T04:27:05.476740Z",
     "shell.execute_reply": "2023-01-10T04:27:05.474397Z"
    },
    "papermill": {
     "duration": 0.04236,
     "end_time": "2023-01-10T04:27:05.480637",
     "exception": false,
     "start_time": "2023-01-10T04:27:05.438277",
     "status": "completed"
    },
    "tags": []
   },
   "outputs": [
    {
     "data": {
      "text/plain": [
       "304.8547912992357"
      ]
     },
     "execution_count": 59,
     "metadata": {},
     "output_type": "execute_result"
    }
   ],
   "source": [
    "train['VRDeck'].mean()"
   ]
  },
  {
   "cell_type": "code",
   "execution_count": 60,
   "id": "c4d72b44",
   "metadata": {
    "execution": {
     "iopub.execute_input": "2023-01-10T04:27:05.543042Z",
     "iopub.status.busy": "2023-01-10T04:27:05.542548Z",
     "iopub.status.idle": "2023-01-10T04:27:05.591522Z",
     "shell.execute_reply": "2023-01-10T04:27:05.590244Z"
    },
    "papermill": {
     "duration": 0.085754,
     "end_time": "2023-01-10T04:27:05.594673",
     "exception": false,
     "start_time": "2023-01-10T04:27:05.508919",
     "status": "completed"
    },
    "tags": []
   },
   "outputs": [
    {
     "data": {
      "text/html": [
       "<div>\n",
       "<style scoped>\n",
       "    .dataframe tbody tr th:only-of-type {\n",
       "        vertical-align: middle;\n",
       "    }\n",
       "\n",
       "    .dataframe tbody tr th {\n",
       "        vertical-align: top;\n",
       "    }\n",
       "\n",
       "    .dataframe thead tr th {\n",
       "        text-align: left;\n",
       "    }\n",
       "\n",
       "    .dataframe thead tr:last-of-type th {\n",
       "        text-align: right;\n",
       "    }\n",
       "</style>\n",
       "<table border=\"1\" class=\"dataframe\">\n",
       "  <thead>\n",
       "    <tr>\n",
       "      <th></th>\n",
       "      <th></th>\n",
       "      <th></th>\n",
       "      <th></th>\n",
       "      <th>mean</th>\n",
       "      <th>median</th>\n",
       "    </tr>\n",
       "    <tr>\n",
       "      <th></th>\n",
       "      <th></th>\n",
       "      <th></th>\n",
       "      <th></th>\n",
       "      <th>VRDeck</th>\n",
       "      <th>VRDeck</th>\n",
       "    </tr>\n",
       "    <tr>\n",
       "      <th>HomePlanet</th>\n",
       "      <th>Age</th>\n",
       "      <th>CryoSleep</th>\n",
       "      <th>Destination</th>\n",
       "      <th></th>\n",
       "      <th></th>\n",
       "    </tr>\n",
       "  </thead>\n",
       "  <tbody>\n",
       "    <tr>\n",
       "      <th rowspan=\"5\" valign=\"top\">Earth</th>\n",
       "      <th rowspan=\"5\" valign=\"top\">0.0</th>\n",
       "      <th rowspan=\"2\" valign=\"top\">0</th>\n",
       "      <th>55 Cancri e</th>\n",
       "      <td>0.0</td>\n",
       "      <td>0.0</td>\n",
       "    </tr>\n",
       "    <tr>\n",
       "      <th>TRAPPIST-1e</th>\n",
       "      <td>0.0</td>\n",
       "      <td>0.0</td>\n",
       "    </tr>\n",
       "    <tr>\n",
       "      <th rowspan=\"3\" valign=\"top\">1</th>\n",
       "      <th>55 Cancri e</th>\n",
       "      <td>0.0</td>\n",
       "      <td>0.0</td>\n",
       "    </tr>\n",
       "    <tr>\n",
       "      <th>PSO J318.5-22</th>\n",
       "      <td>0.0</td>\n",
       "      <td>0.0</td>\n",
       "    </tr>\n",
       "    <tr>\n",
       "      <th>TRAPPIST-1e</th>\n",
       "      <td>0.0</td>\n",
       "      <td>0.0</td>\n",
       "    </tr>\n",
       "    <tr>\n",
       "      <th>...</th>\n",
       "      <th>...</th>\n",
       "      <th>...</th>\n",
       "      <th>...</th>\n",
       "      <td>...</td>\n",
       "      <td>...</td>\n",
       "    </tr>\n",
       "    <tr>\n",
       "      <th rowspan=\"5\" valign=\"top\">Mars</th>\n",
       "      <th>71.0</th>\n",
       "      <th>1</th>\n",
       "      <th>PSO J318.5-22</th>\n",
       "      <td>0.0</td>\n",
       "      <td>0.0</td>\n",
       "    </tr>\n",
       "    <tr>\n",
       "      <th>72.0</th>\n",
       "      <th>1</th>\n",
       "      <th>TRAPPIST-1e</th>\n",
       "      <td>0.0</td>\n",
       "      <td>0.0</td>\n",
       "    </tr>\n",
       "    <tr>\n",
       "      <th>73.0</th>\n",
       "      <th>0</th>\n",
       "      <th>TRAPPIST-1e</th>\n",
       "      <td>0.0</td>\n",
       "      <td>0.0</td>\n",
       "    </tr>\n",
       "    <tr>\n",
       "      <th>75.0</th>\n",
       "      <th>1</th>\n",
       "      <th>TRAPPIST-1e</th>\n",
       "      <td>0.0</td>\n",
       "      <td>0.0</td>\n",
       "    </tr>\n",
       "    <tr>\n",
       "      <th>76.0</th>\n",
       "      <th>1</th>\n",
       "      <th>TRAPPIST-1e</th>\n",
       "      <td>0.0</td>\n",
       "      <td>0.0</td>\n",
       "    </tr>\n",
       "  </tbody>\n",
       "</table>\n",
       "<p>918 rows × 2 columns</p>\n",
       "</div>"
      ],
      "text/plain": [
       "                                          mean median\n",
       "                                        VRDeck VRDeck\n",
       "HomePlanet Age  CryoSleep Destination                \n",
       "Earth      0.0  0         55 Cancri e      0.0    0.0\n",
       "                          TRAPPIST-1e      0.0    0.0\n",
       "                1         55 Cancri e      0.0    0.0\n",
       "                          PSO J318.5-22    0.0    0.0\n",
       "                          TRAPPIST-1e      0.0    0.0\n",
       "...                                        ...    ...\n",
       "Mars       71.0 1         PSO J318.5-22    0.0    0.0\n",
       "           72.0 1         TRAPPIST-1e      0.0    0.0\n",
       "           73.0 0         TRAPPIST-1e      0.0    0.0\n",
       "           75.0 1         TRAPPIST-1e      0.0    0.0\n",
       "           76.0 1         TRAPPIST-1e      0.0    0.0\n",
       "\n",
       "[918 rows x 2 columns]"
      ]
     },
     "execution_count": 60,
     "metadata": {},
     "output_type": "execute_result"
    }
   ],
   "source": [
    "train.pivot_table(index=['HomePlanet','Age','CryoSleep','Destination'],values='VRDeck',aggfunc=['mean','median'])"
   ]
  },
  {
   "cell_type": "code",
   "execution_count": 61,
   "id": "8b32f23b",
   "metadata": {
    "execution": {
     "iopub.execute_input": "2023-01-10T04:27:05.653819Z",
     "iopub.status.busy": "2023-01-10T04:27:05.652893Z",
     "iopub.status.idle": "2023-01-10T04:27:05.664193Z",
     "shell.execute_reply": "2023-01-10T04:27:05.663222Z"
    },
    "papermill": {
     "duration": 0.043016,
     "end_time": "2023-01-10T04:27:05.666939",
     "exception": false,
     "start_time": "2023-01-10T04:27:05.623923",
     "status": "completed"
    },
    "tags": []
   },
   "outputs": [],
   "source": [
    "train['VRDeck']=train['VRDeck'].fillna(train.groupby(['HomePlanet','Age','CryoSleep','Destination'])['VRDeck'].transform('median'))"
   ]
  },
  {
   "cell_type": "code",
   "execution_count": 62,
   "id": "bd52ac2b",
   "metadata": {
    "execution": {
     "iopub.execute_input": "2023-01-10T04:27:05.726070Z",
     "iopub.status.busy": "2023-01-10T04:27:05.725203Z",
     "iopub.status.idle": "2023-01-10T04:27:05.730773Z",
     "shell.execute_reply": "2023-01-10T04:27:05.729742Z"
    },
    "papermill": {
     "duration": 0.038007,
     "end_time": "2023-01-10T04:27:05.733344",
     "exception": false,
     "start_time": "2023-01-10T04:27:05.695337",
     "status": "completed"
    },
    "tags": []
   },
   "outputs": [],
   "source": [
    "train['VRDeck']=train['VRDeck'].fillna(304)"
   ]
  },
  {
   "cell_type": "code",
   "execution_count": 63,
   "id": "78f83771",
   "metadata": {
    "execution": {
     "iopub.execute_input": "2023-01-10T04:27:05.792277Z",
     "iopub.status.busy": "2023-01-10T04:27:05.791830Z",
     "iopub.status.idle": "2023-01-10T04:27:05.800152Z",
     "shell.execute_reply": "2023-01-10T04:27:05.798826Z"
    },
    "papermill": {
     "duration": 0.041094,
     "end_time": "2023-01-10T04:27:05.803093",
     "exception": false,
     "start_time": "2023-01-10T04:27:05.761999",
     "status": "completed"
    },
    "tags": []
   },
   "outputs": [
    {
     "data": {
      "text/plain": [
       "310.71003097450557"
      ]
     },
     "execution_count": 63,
     "metadata": {},
     "output_type": "execute_result"
    }
   ],
   "source": [
    "test['VRDeck'].mean()"
   ]
  },
  {
   "cell_type": "code",
   "execution_count": 64,
   "id": "823574a9",
   "metadata": {
    "execution": {
     "iopub.execute_input": "2023-01-10T04:27:05.862063Z",
     "iopub.status.busy": "2023-01-10T04:27:05.861610Z",
     "iopub.status.idle": "2023-01-10T04:27:05.907270Z",
     "shell.execute_reply": "2023-01-10T04:27:05.905993Z"
    },
    "papermill": {
     "duration": 0.078576,
     "end_time": "2023-01-10T04:27:05.909769",
     "exception": false,
     "start_time": "2023-01-10T04:27:05.831193",
     "status": "completed"
    },
    "tags": []
   },
   "outputs": [
    {
     "data": {
      "text/html": [
       "<div>\n",
       "<style scoped>\n",
       "    .dataframe tbody tr th:only-of-type {\n",
       "        vertical-align: middle;\n",
       "    }\n",
       "\n",
       "    .dataframe tbody tr th {\n",
       "        vertical-align: top;\n",
       "    }\n",
       "\n",
       "    .dataframe thead tr th {\n",
       "        text-align: left;\n",
       "    }\n",
       "\n",
       "    .dataframe thead tr:last-of-type th {\n",
       "        text-align: right;\n",
       "    }\n",
       "</style>\n",
       "<table border=\"1\" class=\"dataframe\">\n",
       "  <thead>\n",
       "    <tr>\n",
       "      <th></th>\n",
       "      <th></th>\n",
       "      <th></th>\n",
       "      <th></th>\n",
       "      <th>mean</th>\n",
       "      <th>median</th>\n",
       "    </tr>\n",
       "    <tr>\n",
       "      <th></th>\n",
       "      <th></th>\n",
       "      <th></th>\n",
       "      <th></th>\n",
       "      <th>VRDeck</th>\n",
       "      <th>VRDeck</th>\n",
       "    </tr>\n",
       "    <tr>\n",
       "      <th>HomePlanet</th>\n",
       "      <th>Age</th>\n",
       "      <th>CryoSleep</th>\n",
       "      <th>Destination</th>\n",
       "      <th></th>\n",
       "      <th></th>\n",
       "    </tr>\n",
       "  </thead>\n",
       "  <tbody>\n",
       "    <tr>\n",
       "      <th rowspan=\"5\" valign=\"top\">Earth</th>\n",
       "      <th rowspan=\"5\" valign=\"top\">0.0</th>\n",
       "      <th rowspan=\"3\" valign=\"top\">False</th>\n",
       "      <th>55 Cancri e</th>\n",
       "      <td>0.0</td>\n",
       "      <td>0.0</td>\n",
       "    </tr>\n",
       "    <tr>\n",
       "      <th>PSO J318.5-22</th>\n",
       "      <td>0.0</td>\n",
       "      <td>0.0</td>\n",
       "    </tr>\n",
       "    <tr>\n",
       "      <th>TRAPPIST-1e</th>\n",
       "      <td>0.0</td>\n",
       "      <td>0.0</td>\n",
       "    </tr>\n",
       "    <tr>\n",
       "      <th rowspan=\"2\" valign=\"top\">True</th>\n",
       "      <th>55 Cancri e</th>\n",
       "      <td>0.0</td>\n",
       "      <td>0.0</td>\n",
       "    </tr>\n",
       "    <tr>\n",
       "      <th>PSO J318.5-22</th>\n",
       "      <td>0.0</td>\n",
       "      <td>0.0</td>\n",
       "    </tr>\n",
       "    <tr>\n",
       "      <th>...</th>\n",
       "      <th>...</th>\n",
       "      <th>...</th>\n",
       "      <th>...</th>\n",
       "      <td>...</td>\n",
       "      <td>...</td>\n",
       "    </tr>\n",
       "    <tr>\n",
       "      <th rowspan=\"5\" valign=\"top\">Mars</th>\n",
       "      <th>70.0</th>\n",
       "      <th>True</th>\n",
       "      <th>TRAPPIST-1e</th>\n",
       "      <td>0.0</td>\n",
       "      <td>0.0</td>\n",
       "    </tr>\n",
       "    <tr>\n",
       "      <th>71.0</th>\n",
       "      <th>True</th>\n",
       "      <th>TRAPPIST-1e</th>\n",
       "      <td>0.0</td>\n",
       "      <td>0.0</td>\n",
       "    </tr>\n",
       "    <tr>\n",
       "      <th>72.0</th>\n",
       "      <th>False</th>\n",
       "      <th>TRAPPIST-1e</th>\n",
       "      <td>0.0</td>\n",
       "      <td>0.0</td>\n",
       "    </tr>\n",
       "    <tr>\n",
       "      <th>73.0</th>\n",
       "      <th>False</th>\n",
       "      <th>TRAPPIST-1e</th>\n",
       "      <td>164.5</td>\n",
       "      <td>164.5</td>\n",
       "    </tr>\n",
       "    <tr>\n",
       "      <th>75.0</th>\n",
       "      <th>False</th>\n",
       "      <th>TRAPPIST-1e</th>\n",
       "      <td>60.0</td>\n",
       "      <td>60.0</td>\n",
       "    </tr>\n",
       "  </tbody>\n",
       "</table>\n",
       "<p>764 rows × 2 columns</p>\n",
       "</div>"
      ],
      "text/plain": [
       "                                          mean median\n",
       "                                        VRDeck VRDeck\n",
       "HomePlanet Age  CryoSleep Destination                \n",
       "Earth      0.0  False     55 Cancri e      0.0    0.0\n",
       "                          PSO J318.5-22    0.0    0.0\n",
       "                          TRAPPIST-1e      0.0    0.0\n",
       "                True      55 Cancri e      0.0    0.0\n",
       "                          PSO J318.5-22    0.0    0.0\n",
       "...                                        ...    ...\n",
       "Mars       70.0 True      TRAPPIST-1e      0.0    0.0\n",
       "           71.0 True      TRAPPIST-1e      0.0    0.0\n",
       "           72.0 False     TRAPPIST-1e      0.0    0.0\n",
       "           73.0 False     TRAPPIST-1e    164.5  164.5\n",
       "           75.0 False     TRAPPIST-1e     60.0   60.0\n",
       "\n",
       "[764 rows x 2 columns]"
      ]
     },
     "execution_count": 64,
     "metadata": {},
     "output_type": "execute_result"
    }
   ],
   "source": [
    "test.pivot_table(index=['HomePlanet','Age','CryoSleep','Destination'],values='VRDeck',aggfunc=['mean','median'])"
   ]
  },
  {
   "cell_type": "code",
   "execution_count": 65,
   "id": "4124504d",
   "metadata": {
    "execution": {
     "iopub.execute_input": "2023-01-10T04:27:05.967511Z",
     "iopub.status.busy": "2023-01-10T04:27:05.967036Z",
     "iopub.status.idle": "2023-01-10T04:27:05.979277Z",
     "shell.execute_reply": "2023-01-10T04:27:05.977786Z"
    },
    "papermill": {
     "duration": 0.0445,
     "end_time": "2023-01-10T04:27:05.981958",
     "exception": false,
     "start_time": "2023-01-10T04:27:05.937458",
     "status": "completed"
    },
    "tags": []
   },
   "outputs": [],
   "source": [
    "test['VRDeck']=test['VRDeck'].fillna(test.groupby(['HomePlanet','Age','CryoSleep','Destination'])['VRDeck'].transform('median'))"
   ]
  },
  {
   "cell_type": "code",
   "execution_count": 66,
   "id": "45b2871c",
   "metadata": {
    "execution": {
     "iopub.execute_input": "2023-01-10T04:27:06.043422Z",
     "iopub.status.busy": "2023-01-10T04:27:06.042946Z",
     "iopub.status.idle": "2023-01-10T04:27:06.049567Z",
     "shell.execute_reply": "2023-01-10T04:27:06.048497Z"
    },
    "papermill": {
     "duration": 0.041908,
     "end_time": "2023-01-10T04:27:06.052901",
     "exception": false,
     "start_time": "2023-01-10T04:27:06.010993",
     "status": "completed"
    },
    "tags": []
   },
   "outputs": [],
   "source": [
    "test['VRDeck']=test['VRDeck'].fillna(310)"
   ]
  },
  {
   "cell_type": "code",
   "execution_count": 67,
   "id": "02680728",
   "metadata": {
    "execution": {
     "iopub.execute_input": "2023-01-10T04:27:06.115040Z",
     "iopub.status.busy": "2023-01-10T04:27:06.114261Z",
     "iopub.status.idle": "2023-01-10T04:27:06.130816Z",
     "shell.execute_reply": "2023-01-10T04:27:06.129416Z"
    },
    "papermill": {
     "duration": 0.051057,
     "end_time": "2023-01-10T04:27:06.133909",
     "exception": false,
     "start_time": "2023-01-10T04:27:06.082852",
     "status": "completed"
    },
    "tags": []
   },
   "outputs": [
    {
     "name": "stdout",
     "output_type": "stream",
     "text": [
      "<class 'pandas.core.frame.DataFrame'>\n",
      "RangeIndex: 8693 entries, 0 to 8692\n",
      "Data columns (total 14 columns):\n",
      " #   Column        Non-Null Count  Dtype  \n",
      "---  ------        --------------  -----  \n",
      " 0   PassengerId   8693 non-null   object \n",
      " 1   HomePlanet    8693 non-null   object \n",
      " 2   CryoSleep     8693 non-null   int64  \n",
      " 3   Cabin         8494 non-null   object \n",
      " 4   Destination   8693 non-null   object \n",
      " 5   Age           8693 non-null   float64\n",
      " 6   VIP           8693 non-null   int64  \n",
      " 7   RoomService   8693 non-null   float64\n",
      " 8   FoodCourt     8693 non-null   float64\n",
      " 9   ShoppingMall  8693 non-null   float64\n",
      " 10  Spa           8693 non-null   float64\n",
      " 11  VRDeck        8693 non-null   float64\n",
      " 12  Name          8493 non-null   object \n",
      " 13  Transported   8693 non-null   bool   \n",
      "dtypes: bool(1), float64(6), int64(2), object(5)\n",
      "memory usage: 891.5+ KB\n"
     ]
    }
   ],
   "source": [
    "train.info()"
   ]
  },
  {
   "cell_type": "code",
   "execution_count": 68,
   "id": "a4a50de0",
   "metadata": {
    "execution": {
     "iopub.execute_input": "2023-01-10T04:27:06.193105Z",
     "iopub.status.busy": "2023-01-10T04:27:06.192623Z",
     "iopub.status.idle": "2023-01-10T04:27:06.209191Z",
     "shell.execute_reply": "2023-01-10T04:27:06.207955Z"
    },
    "papermill": {
     "duration": 0.049189,
     "end_time": "2023-01-10T04:27:06.211507",
     "exception": false,
     "start_time": "2023-01-10T04:27:06.162318",
     "status": "completed"
    },
    "tags": []
   },
   "outputs": [
    {
     "name": "stdout",
     "output_type": "stream",
     "text": [
      "<class 'pandas.core.frame.DataFrame'>\n",
      "RangeIndex: 4277 entries, 0 to 4276\n",
      "Data columns (total 13 columns):\n",
      " #   Column        Non-Null Count  Dtype  \n",
      "---  ------        --------------  -----  \n",
      " 0   PassengerId   4277 non-null   object \n",
      " 1   HomePlanet    4277 non-null   object \n",
      " 2   CryoSleep     4277 non-null   object \n",
      " 3   Cabin         4177 non-null   object \n",
      " 4   Destination   4277 non-null   object \n",
      " 5   Age           4277 non-null   float64\n",
      " 6   VIP           4277 non-null   int64  \n",
      " 7   RoomService   4277 non-null   float64\n",
      " 8   FoodCourt     4277 non-null   float64\n",
      " 9   ShoppingMall  4277 non-null   float64\n",
      " 10  Spa           4277 non-null   float64\n",
      " 11  VRDeck        4277 non-null   float64\n",
      " 12  Name          4183 non-null   object \n",
      "dtypes: float64(6), int64(1), object(6)\n",
      "memory usage: 434.5+ KB\n"
     ]
    }
   ],
   "source": [
    "test.info()"
   ]
  },
  {
   "cell_type": "markdown",
   "id": "8bdf9994",
   "metadata": {
    "papermill": {
     "duration": 0.028479,
     "end_time": "2023-01-10T04:27:06.268253",
     "exception": false,
     "start_time": "2023-01-10T04:27:06.239774",
     "status": "completed"
    },
    "tags": []
   },
   "source": [
    "# **Features engineering**"
   ]
  },
  {
   "cell_type": "code",
   "execution_count": 69,
   "id": "fb7ac279",
   "metadata": {
    "execution": {
     "iopub.execute_input": "2023-01-10T04:27:06.330559Z",
     "iopub.status.busy": "2023-01-10T04:27:06.329789Z",
     "iopub.status.idle": "2023-01-10T04:27:06.345484Z",
     "shell.execute_reply": "2023-01-10T04:27:06.344246Z"
    },
    "papermill": {
     "duration": 0.051508,
     "end_time": "2023-01-10T04:27:06.347759",
     "exception": false,
     "start_time": "2023-01-10T04:27:06.296251",
     "status": "completed"
    },
    "tags": []
   },
   "outputs": [
    {
     "name": "stdout",
     "output_type": "stream",
     "text": [
      "0.65884561238855 from Europa\n",
      "0.42764938580054135 from Earth\n",
      "0.5230244457077885 from Mars\n"
     ]
    }
   ],
   "source": [
    "for i in train['HomePlanet'].unique():\n",
    "    H = train.loc[train.HomePlanet==i]['Transported']\n",
    "    rate=sum(H)/len(H)\n",
    "    print(f'{rate} from {i}')"
   ]
  },
  {
   "cell_type": "code",
   "execution_count": 70,
   "id": "842a6880",
   "metadata": {
    "execution": {
     "iopub.execute_input": "2023-01-10T04:27:06.406485Z",
     "iopub.status.busy": "2023-01-10T04:27:06.405777Z",
     "iopub.status.idle": "2023-01-10T04:27:06.415434Z",
     "shell.execute_reply": "2023-01-10T04:27:06.414262Z"
    },
    "papermill": {
     "duration": 0.041352,
     "end_time": "2023-01-10T04:27:06.417719",
     "exception": false,
     "start_time": "2023-01-10T04:27:06.376367",
     "status": "completed"
    },
    "tags": []
   },
   "outputs": [
    {
     "data": {
      "text/plain": [
       "0.8175831412578202"
      ]
     },
     "execution_count": 70,
     "metadata": {},
     "output_type": "execute_result"
    }
   ],
   "source": [
    "cryoT=train.loc[train.CryoSleep==1]['Transported']\n",
    "rate_cryoT=sum(cryoT)/len(cryoT)\n",
    "rate_cryoT"
   ]
  },
  {
   "cell_type": "code",
   "execution_count": 71,
   "id": "a731a950",
   "metadata": {
    "execution": {
     "iopub.execute_input": "2023-01-10T04:27:06.475667Z",
     "iopub.status.busy": "2023-01-10T04:27:06.475063Z",
     "iopub.status.idle": "2023-01-10T04:27:06.491011Z",
     "shell.execute_reply": "2023-01-10T04:27:06.489716Z"
    },
    "papermill": {
     "duration": 0.048072,
     "end_time": "2023-01-10T04:27:06.493682",
     "exception": false,
     "start_time": "2023-01-10T04:27:06.445610",
     "status": "completed"
    },
    "tags": []
   },
   "outputs": [
    {
     "name": "stdout",
     "output_type": "stream",
     "text": [
      "0.4721994423486961 from TRAPPIST-1e\n",
      "0.5037688442211056 from PSO J318.5-22\n",
      "0.61 from 55 Cancri e\n"
     ]
    }
   ],
   "source": [
    "for i in train['Destination'].unique():\n",
    "    H = train.loc[train.Destination==i]['Transported']\n",
    "    rate=sum(H)/len(H)\n",
    "    print(f'{rate} from {i}')"
   ]
  },
  {
   "cell_type": "code",
   "execution_count": 72,
   "id": "7d881e7b",
   "metadata": {
    "execution": {
     "iopub.execute_input": "2023-01-10T04:27:06.557106Z",
     "iopub.status.busy": "2023-01-10T04:27:06.556687Z",
     "iopub.status.idle": "2023-01-10T04:27:06.567848Z",
     "shell.execute_reply": "2023-01-10T04:27:06.566454Z"
    },
    "papermill": {
     "duration": 0.047304,
     "end_time": "2023-01-10T04:27:06.570484",
     "exception": false,
     "start_time": "2023-01-10T04:27:06.523180",
     "status": "completed"
    },
    "tags": []
   },
   "outputs": [
    {
     "data": {
      "text/plain": [
       "0.6997518610421837"
      ]
     },
     "execution_count": 72,
     "metadata": {},
     "output_type": "execute_result"
    }
   ],
   "source": [
    "kids=train.loc[train.Age<=12]['Transported']\n",
    "rate_kids=sum(kids)/len(kids)\n",
    "rate_kids"
   ]
  },
  {
   "cell_type": "code",
   "execution_count": 73,
   "id": "afe7eff4",
   "metadata": {
    "execution": {
     "iopub.execute_input": "2023-01-10T04:27:06.632068Z",
     "iopub.status.busy": "2023-01-10T04:27:06.630807Z",
     "iopub.status.idle": "2023-01-10T04:27:06.642322Z",
     "shell.execute_reply": "2023-01-10T04:27:06.640940Z"
    },
    "papermill": {
     "duration": 0.046129,
     "end_time": "2023-01-10T04:27:06.645215",
     "exception": false,
     "start_time": "2023-01-10T04:27:06.599086",
     "status": "completed"
    },
    "tags": []
   },
   "outputs": [
    {
     "data": {
      "text/plain": [
       "0.5110429447852761"
      ]
     },
     "execution_count": 73,
     "metadata": {},
     "output_type": "execute_result"
    }
   ],
   "source": [
    "teens=train[(train.Age>=13)&(train.Age<=20)]\n",
    "len(teens[(teens.Transported==1)])/len(teens)"
   ]
  },
  {
   "cell_type": "code",
   "execution_count": 74,
   "id": "c149c7a1",
   "metadata": {
    "execution": {
     "iopub.execute_input": "2023-01-10T04:27:06.711249Z",
     "iopub.status.busy": "2023-01-10T04:27:06.710712Z",
     "iopub.status.idle": "2023-01-10T04:27:06.726367Z",
     "shell.execute_reply": "2023-01-10T04:27:06.724204Z"
    },
    "papermill": {
     "duration": 0.053447,
     "end_time": "2023-01-10T04:27:06.729699",
     "exception": false,
     "start_time": "2023-01-10T04:27:06.676252",
     "status": "completed"
    },
    "tags": []
   },
   "outputs": [
    {
     "data": {
      "text/plain": [
       "0.4767616191904048"
      ]
     },
     "execution_count": 74,
     "metadata": {},
     "output_type": "execute_result"
    }
   ],
   "source": [
    "adults=train[(train.Age>=21)&(train.Age<=59)]\n",
    "len(adults[(adults.Transported==1)])/len(adults)"
   ]
  },
  {
   "cell_type": "code",
   "execution_count": 75,
   "id": "095c086c",
   "metadata": {
    "execution": {
     "iopub.execute_input": "2023-01-10T04:27:06.793133Z",
     "iopub.status.busy": "2023-01-10T04:27:06.792683Z",
     "iopub.status.idle": "2023-01-10T04:27:06.801556Z",
     "shell.execute_reply": "2023-01-10T04:27:06.799959Z"
    },
    "papermill": {
     "duration": 0.043646,
     "end_time": "2023-01-10T04:27:06.804626",
     "exception": false,
     "start_time": "2023-01-10T04:27:06.760980",
     "status": "completed"
    },
    "tags": []
   },
   "outputs": [
    {
     "data": {
      "text/plain": [
       "0.468503937007874"
      ]
     },
     "execution_count": 75,
     "metadata": {},
     "output_type": "execute_result"
    }
   ],
   "source": [
    "olds=train[(train.Age>=60)]['Transported']\n",
    "rate_olds=sum(olds)/len(olds)\n",
    "rate_olds"
   ]
  },
  {
   "cell_type": "code",
   "execution_count": 76,
   "id": "05745941",
   "metadata": {
    "execution": {
     "iopub.execute_input": "2023-01-10T04:27:06.869763Z",
     "iopub.status.busy": "2023-01-10T04:27:06.868504Z",
     "iopub.status.idle": "2023-01-10T04:27:06.877910Z",
     "shell.execute_reply": "2023-01-10T04:27:06.876856Z"
    },
    "papermill": {
     "duration": 0.043996,
     "end_time": "2023-01-10T04:27:06.880276",
     "exception": false,
     "start_time": "2023-01-10T04:27:06.836280",
     "status": "completed"
    },
    "tags": []
   },
   "outputs": [
    {
     "data": {
      "text/plain": [
       "0.38190954773869346"
      ]
     },
     "execution_count": 76,
     "metadata": {},
     "output_type": "execute_result"
    }
   ],
   "source": [
    "VIPt=train.loc[train.VIP==1]['Transported']\n",
    "rate_vip=sum(VIPt)/len(VIPt)\n",
    "rate_vip"
   ]
  },
  {
   "cell_type": "code",
   "execution_count": 77,
   "id": "3d19d7a7",
   "metadata": {
    "execution": {
     "iopub.execute_input": "2023-01-10T04:27:06.942128Z",
     "iopub.status.busy": "2023-01-10T04:27:06.940738Z",
     "iopub.status.idle": "2023-01-10T04:27:06.954564Z",
     "shell.execute_reply": "2023-01-10T04:27:06.953399Z"
    },
    "papermill": {
     "duration": 0.047918,
     "end_time": "2023-01-10T04:27:06.956903",
     "exception": false,
     "start_time": "2023-01-10T04:27:06.908985",
     "status": "completed"
    },
    "tags": []
   },
   "outputs": [
    {
     "data": {
      "text/plain": [
       "0.787169603524229"
      ]
     },
     "execution_count": 77,
     "metadata": {},
     "output_type": "execute_result"
    }
   ],
   "source": [
    "npay=train[(train.RoomService==0)&(train.FoodCourt==0)&(train.ShoppingMall==0)&(train.Spa==0)&(train.VRDeck==0)]\n",
    "len(npay[(npay.Transported==1)])/len(npay)"
   ]
  },
  {
   "cell_type": "markdown",
   "id": "76fff9fb",
   "metadata": {
    "papermill": {
     "duration": 0.029204,
     "end_time": "2023-01-10T04:27:07.015050",
     "exception": false,
     "start_time": "2023-01-10T04:27:06.985846",
     "status": "completed"
    },
    "tags": []
   },
   "source": [
    "# **Preparing data**"
   ]
  },
  {
   "cell_type": "code",
   "execution_count": 78,
   "id": "c79f8d01",
   "metadata": {
    "execution": {
     "iopub.execute_input": "2023-01-10T04:27:07.079952Z",
     "iopub.status.busy": "2023-01-10T04:27:07.079072Z",
     "iopub.status.idle": "2023-01-10T04:27:07.109463Z",
     "shell.execute_reply": "2023-01-10T04:27:07.108323Z"
    },
    "papermill": {
     "duration": 0.068088,
     "end_time": "2023-01-10T04:27:07.112228",
     "exception": false,
     "start_time": "2023-01-10T04:27:07.044140",
     "status": "completed"
    },
    "tags": []
   },
   "outputs": [],
   "source": [
    "#'Homeplanet','Destination'\n",
    "#Here we make these variables dummies\n",
    "\n",
    "dummies1 = pd.get_dummies(train['HomePlanet'])\n",
    "\n",
    "train = pd.concat([train,dummies1],axis=1)\n",
    "\n",
    "dummies2 = pd.get_dummies(test['HomePlanet'])\n",
    "\n",
    "test = pd.concat([test,dummies2],axis=1)\n",
    "\n",
    "del train['HomePlanet']\n",
    "del test['HomePlanet']\n",
    "\n",
    "dummies1 = pd.get_dummies(train['Destination'])\n",
    "\n",
    "train = pd.concat([train,dummies1],axis=1)\n",
    "\n",
    "dummies2 = pd.get_dummies(test['Destination'])\n",
    "\n",
    "test = pd.concat([test,dummies2],axis=1)\n",
    "\n",
    "del train['Destination']\n",
    "del test['Destination']\n",
    "\n",
    "dummies1 = pd.get_dummies(train['VIP'])\n",
    "\n",
    "train = pd.concat([train,dummies1],axis=1)\n",
    "\n",
    "dummies2 = pd.get_dummies(test['VIP'])\n",
    "\n",
    "test = pd.concat([test,dummies2],axis=1)\n",
    "\n",
    "\n",
    "del train['VIP']\n",
    "del test['VIP']"
   ]
  },
  {
   "cell_type": "code",
   "execution_count": 79,
   "id": "f16c9beb",
   "metadata": {
    "execution": {
     "iopub.execute_input": "2023-01-10T04:27:07.176443Z",
     "iopub.status.busy": "2023-01-10T04:27:07.175774Z",
     "iopub.status.idle": "2023-01-10T04:27:07.183542Z",
     "shell.execute_reply": "2023-01-10T04:27:07.182734Z"
    },
    "papermill": {
     "duration": 0.043932,
     "end_time": "2023-01-10T04:27:07.186192",
     "exception": false,
     "start_time": "2023-01-10T04:27:07.142260",
     "status": "completed"
    },
    "tags": []
   },
   "outputs": [],
   "source": [
    "train['kids']=np.where((train['Age']<=12),1,0)\n",
    "test['kids']=np.where((test['Age']<=12),1,0)"
   ]
  },
  {
   "cell_type": "code",
   "execution_count": 80,
   "id": "847c2a87",
   "metadata": {
    "execution": {
     "iopub.execute_input": "2023-01-10T04:27:07.250767Z",
     "iopub.status.busy": "2023-01-10T04:27:07.250106Z",
     "iopub.status.idle": "2023-01-10T04:27:07.262142Z",
     "shell.execute_reply": "2023-01-10T04:27:07.261211Z"
    },
    "papermill": {
     "duration": 0.046512,
     "end_time": "2023-01-10T04:27:07.264762",
     "exception": false,
     "start_time": "2023-01-10T04:27:07.218250",
     "status": "completed"
    },
    "tags": []
   },
   "outputs": [],
   "source": [
    "train['NoPay']=np.where((train['RoomService']==0)&(train['FoodCourt']==0)&(train['ShoppingMall']==0)&(train['Spa']==0)&\n",
    "                        (train['VRDeck']==0),1,0)\n",
    "test['NoPay']=np.where((test['RoomService']==0)&(test['FoodCourt']==0)&(test['ShoppingMall']==0)&(test['Spa']==0)&\n",
    "                        (test['VRDeck']==0),1,0)"
   ]
  },
  {
   "cell_type": "code",
   "execution_count": 81,
   "id": "51335552",
   "metadata": {
    "execution": {
     "iopub.execute_input": "2023-01-10T04:27:07.326588Z",
     "iopub.status.busy": "2023-01-10T04:27:07.325843Z",
     "iopub.status.idle": "2023-01-10T04:27:07.335774Z",
     "shell.execute_reply": "2023-01-10T04:27:07.334263Z"
    },
    "papermill": {
     "duration": 0.044583,
     "end_time": "2023-01-10T04:27:07.338833",
     "exception": false,
     "start_time": "2023-01-10T04:27:07.294250",
     "status": "completed"
    },
    "tags": []
   },
   "outputs": [],
   "source": [
    "train=train.drop(['PassengerId','Cabin','Name'],axis=1)"
   ]
  },
  {
   "cell_type": "code",
   "execution_count": 82,
   "id": "890558c7",
   "metadata": {
    "execution": {
     "iopub.execute_input": "2023-01-10T04:27:07.406494Z",
     "iopub.status.busy": "2023-01-10T04:27:07.406012Z",
     "iopub.status.idle": "2023-01-10T04:27:07.413992Z",
     "shell.execute_reply": "2023-01-10T04:27:07.412990Z"
    },
    "papermill": {
     "duration": 0.04648,
     "end_time": "2023-01-10T04:27:07.416385",
     "exception": false,
     "start_time": "2023-01-10T04:27:07.369905",
     "status": "completed"
    },
    "tags": []
   },
   "outputs": [],
   "source": [
    "test=test.drop(['PassengerId','Cabin','Name'],axis=1)"
   ]
  },
  {
   "cell_type": "code",
   "execution_count": 83,
   "id": "f496860a",
   "metadata": {
    "execution": {
     "iopub.execute_input": "2023-01-10T04:27:07.480971Z",
     "iopub.status.busy": "2023-01-10T04:27:07.480017Z",
     "iopub.status.idle": "2023-01-10T04:27:07.487146Z",
     "shell.execute_reply": "2023-01-10T04:27:07.486286Z"
    },
    "papermill": {
     "duration": 0.043126,
     "end_time": "2023-01-10T04:27:07.490067",
     "exception": false,
     "start_time": "2023-01-10T04:27:07.446941",
     "status": "completed"
    },
    "tags": []
   },
   "outputs": [],
   "source": [
    "x_t=test.values"
   ]
  },
  {
   "cell_type": "code",
   "execution_count": 84,
   "id": "c44fbe57",
   "metadata": {
    "execution": {
     "iopub.execute_input": "2023-01-10T04:27:07.553331Z",
     "iopub.status.busy": "2023-01-10T04:27:07.552000Z",
     "iopub.status.idle": "2023-01-10T04:27:07.559637Z",
     "shell.execute_reply": "2023-01-10T04:27:07.558776Z"
    },
    "papermill": {
     "duration": 0.041054,
     "end_time": "2023-01-10T04:27:07.562411",
     "exception": false,
     "start_time": "2023-01-10T04:27:07.521357",
     "status": "completed"
    },
    "tags": []
   },
   "outputs": [],
   "source": [
    "y_df=train['Transported']\n",
    "x_df=train.drop('Transported',axis=1)"
   ]
  },
  {
   "cell_type": "code",
   "execution_count": 85,
   "id": "35f8af52",
   "metadata": {
    "execution": {
     "iopub.execute_input": "2023-01-10T04:27:07.630298Z",
     "iopub.status.busy": "2023-01-10T04:27:07.629346Z",
     "iopub.status.idle": "2023-01-10T04:27:07.636399Z",
     "shell.execute_reply": "2023-01-10T04:27:07.635491Z"
    },
    "papermill": {
     "duration": 0.043837,
     "end_time": "2023-01-10T04:27:07.639098",
     "exception": false,
     "start_time": "2023-01-10T04:27:07.595261",
     "status": "completed"
    },
    "tags": []
   },
   "outputs": [],
   "source": [
    "y=y_df.values\n",
    "x=x_df.values"
   ]
  },
  {
   "cell_type": "code",
   "execution_count": 86,
   "id": "c83ce818",
   "metadata": {
    "execution": {
     "iopub.execute_input": "2023-01-10T04:27:07.700263Z",
     "iopub.status.busy": "2023-01-10T04:27:07.699779Z",
     "iopub.status.idle": "2023-01-10T04:27:07.706712Z",
     "shell.execute_reply": "2023-01-10T04:27:07.705527Z"
    },
    "papermill": {
     "duration": 0.040098,
     "end_time": "2023-01-10T04:27:07.709066",
     "exception": false,
     "start_time": "2023-01-10T04:27:07.668968",
     "status": "completed"
    },
    "tags": []
   },
   "outputs": [
    {
     "data": {
      "text/plain": [
       "(8693,)"
      ]
     },
     "execution_count": 86,
     "metadata": {},
     "output_type": "execute_result"
    }
   ],
   "source": [
    "y.shape"
   ]
  },
  {
   "cell_type": "code",
   "execution_count": 87,
   "id": "4ce37bb6",
   "metadata": {
    "execution": {
     "iopub.execute_input": "2023-01-10T04:27:07.770931Z",
     "iopub.status.busy": "2023-01-10T04:27:07.770501Z",
     "iopub.status.idle": "2023-01-10T04:27:07.777687Z",
     "shell.execute_reply": "2023-01-10T04:27:07.776276Z"
    },
    "papermill": {
     "duration": 0.042724,
     "end_time": "2023-01-10T04:27:07.780503",
     "exception": false,
     "start_time": "2023-01-10T04:27:07.737779",
     "status": "completed"
    },
    "tags": []
   },
   "outputs": [
    {
     "data": {
      "text/plain": [
       "(8693, 17)"
      ]
     },
     "execution_count": 87,
     "metadata": {},
     "output_type": "execute_result"
    }
   ],
   "source": [
    "x.shape"
   ]
  },
  {
   "cell_type": "code",
   "execution_count": 88,
   "id": "307f46f6",
   "metadata": {
    "execution": {
     "iopub.execute_input": "2023-01-10T04:27:07.846516Z",
     "iopub.status.busy": "2023-01-10T04:27:07.845743Z",
     "iopub.status.idle": "2023-01-10T04:27:08.997654Z",
     "shell.execute_reply": "2023-01-10T04:27:08.996416Z"
    },
    "papermill": {
     "duration": 1.187774,
     "end_time": "2023-01-10T04:27:09.000590",
     "exception": false,
     "start_time": "2023-01-10T04:27:07.812816",
     "status": "completed"
    },
    "tags": []
   },
   "outputs": [],
   "source": [
    "from sklearn.model_selection import train_test_split\n"
   ]
  },
  {
   "cell_type": "code",
   "execution_count": 89,
   "id": "b83b0f06",
   "metadata": {
    "execution": {
     "iopub.execute_input": "2023-01-10T04:27:09.062862Z",
     "iopub.status.busy": "2023-01-10T04:27:09.062427Z",
     "iopub.status.idle": "2023-01-10T04:27:09.072358Z",
     "shell.execute_reply": "2023-01-10T04:27:09.071155Z"
    },
    "papermill": {
     "duration": 0.045557,
     "end_time": "2023-01-10T04:27:09.075430",
     "exception": false,
     "start_time": "2023-01-10T04:27:09.029873",
     "status": "completed"
    },
    "tags": []
   },
   "outputs": [],
   "source": [
    "X_train, X_test, y_train, y_test = train_test_split(x, y, \n",
    "                                                    test_size=0.33, \n",
    "                                                    random_state=42)"
   ]
  },
  {
   "cell_type": "markdown",
   "id": "c4459460",
   "metadata": {
    "papermill": {
     "duration": 0.031443,
     "end_time": "2023-01-10T04:27:09.138930",
     "exception": false,
     "start_time": "2023-01-10T04:27:09.107487",
     "status": "completed"
    },
    "tags": []
   },
   "source": [
    "# **Models**"
   ]
  },
  {
   "cell_type": "code",
   "execution_count": 90,
   "id": "873790fa",
   "metadata": {
    "execution": {
     "iopub.execute_input": "2023-01-10T04:27:09.199398Z",
     "iopub.status.busy": "2023-01-10T04:27:09.198993Z",
     "iopub.status.idle": "2023-01-10T04:27:10.063126Z",
     "shell.execute_reply": "2023-01-10T04:27:10.062135Z"
    },
    "papermill": {
     "duration": 0.89821,
     "end_time": "2023-01-10T04:27:10.065931",
     "exception": false,
     "start_time": "2023-01-10T04:27:09.167721",
     "status": "completed"
    },
    "tags": []
   },
   "outputs": [
    {
     "data": {
      "text/plain": [
       "0.9332074175824175"
      ]
     },
     "execution_count": 90,
     "metadata": {},
     "output_type": "execute_result"
    }
   ],
   "source": [
    "from sklearn.ensemble import  RandomForestClassifier\n",
    "from sklearn.metrics import accuracy_score\n",
    "rf = RandomForestClassifier(n_estimators=100,n_jobs=-1)\n",
    "rf=rf.fit(X_train,y_train)\n",
    "acc=rf.score(X_train,y_train)\n",
    "acc"
   ]
  },
  {
   "cell_type": "code",
   "execution_count": 91,
   "id": "90ae6219",
   "metadata": {
    "execution": {
     "iopub.execute_input": "2023-01-10T04:27:10.129022Z",
     "iopub.status.busy": "2023-01-10T04:27:10.128549Z",
     "iopub.status.idle": "2023-01-10T04:27:11.129304Z",
     "shell.execute_reply": "2023-01-10T04:27:11.128258Z"
    },
    "papermill": {
     "duration": 1.036024,
     "end_time": "2023-01-10T04:27:11.132299",
     "exception": false,
     "start_time": "2023-01-10T04:27:10.096275",
     "status": "completed"
    },
    "tags": []
   },
   "outputs": [
    {
     "data": {
      "text/plain": [
       "0.8945741758241759"
      ]
     },
     "execution_count": 91,
     "metadata": {},
     "output_type": "execute_result"
    }
   ],
   "source": [
    "import xgboost as xgb\n",
    "booster = xgb.XGBClassifier(n_jobs=-1)\n",
    "booster = booster.fit(X_train,y_train)\n",
    "acc2=booster.score(X_train,y_train)\n",
    "acc2"
   ]
  },
  {
   "cell_type": "code",
   "execution_count": 92,
   "id": "4496ef65",
   "metadata": {
    "execution": {
     "iopub.execute_input": "2023-01-10T04:27:11.203410Z",
     "iopub.status.busy": "2023-01-10T04:27:11.203028Z",
     "iopub.status.idle": "2023-01-10T04:27:11.207554Z",
     "shell.execute_reply": "2023-01-10T04:27:11.206315Z"
    },
    "papermill": {
     "duration": 0.044022,
     "end_time": "2023-01-10T04:27:11.210081",
     "exception": false,
     "start_time": "2023-01-10T04:27:11.166059",
     "status": "completed"
    },
    "tags": []
   },
   "outputs": [],
   "source": [
    "#from keras.models import Sequential\n",
    "#from keras.layers import Dense\n",
    "#from tensorflow.keras.optimizers import SGD"
   ]
  },
  {
   "cell_type": "code",
   "execution_count": 93,
   "id": "292e2910",
   "metadata": {
    "execution": {
     "iopub.execute_input": "2023-01-10T04:27:11.272946Z",
     "iopub.status.busy": "2023-01-10T04:27:11.272504Z",
     "iopub.status.idle": "2023-01-10T04:27:11.277173Z",
     "shell.execute_reply": "2023-01-10T04:27:11.275963Z"
    },
    "papermill": {
     "duration": 0.038054,
     "end_time": "2023-01-10T04:27:11.279410",
     "exception": false,
     "start_time": "2023-01-10T04:27:11.241356",
     "status": "completed"
    },
    "tags": []
   },
   "outputs": [],
   "source": [
    "#X_train, X_val, y_train, y_val = train_test_split(X_train, y_train, \n",
    "                                                    #test_size=0.1, \n",
    "                                                    #random_state=42)"
   ]
  },
  {
   "cell_type": "code",
   "execution_count": 94,
   "id": "fbe3b7dc",
   "metadata": {
    "execution": {
     "iopub.execute_input": "2023-01-10T04:27:11.345353Z",
     "iopub.status.busy": "2023-01-10T04:27:11.344576Z",
     "iopub.status.idle": "2023-01-10T04:27:11.350454Z",
     "shell.execute_reply": "2023-01-10T04:27:11.349315Z"
    },
    "papermill": {
     "duration": 0.043625,
     "end_time": "2023-01-10T04:27:11.353373",
     "exception": false,
     "start_time": "2023-01-10T04:27:11.309748",
     "status": "completed"
    },
    "tags": []
   },
   "outputs": [],
   "source": [
    "#modelo=Sequential()\n",
    "#modelo.add(Dense(40,input_dim=16,activation='sigmoid'))\n",
    "#modelo.add(Dense(1,activation='sigmoid'))\n",
    "#modelo.compile(loss='binary_crossentropy',optimizer=SGD(lr=0.2),metrics=['acc'])\n",
    "\n",
    "#history=modelo.fit(X_train,y_train,epochs=500,batch_size=x.shape[0],\n",
    "                   #validation_data=(X_val,y_val))\n",
    "     "
   ]
  },
  {
   "cell_type": "code",
   "execution_count": 95,
   "id": "6acc77aa",
   "metadata": {
    "execution": {
     "iopub.execute_input": "2023-01-10T04:27:11.418778Z",
     "iopub.status.busy": "2023-01-10T04:27:11.418156Z",
     "iopub.status.idle": "2023-01-10T04:27:11.423145Z",
     "shell.execute_reply": "2023-01-10T04:27:11.421946Z"
    },
    "papermill": {
     "duration": 0.042509,
     "end_time": "2023-01-10T04:27:11.425765",
     "exception": false,
     "start_time": "2023-01-10T04:27:11.383256",
     "status": "completed"
    },
    "tags": []
   },
   "outputs": [],
   "source": [
    "#test_loss, test_acc = modelo.evaluate(X_train, y_train)\n",
    "#print('Test accuracy:', test_acc,'Test loss:',test_loss)"
   ]
  },
  {
   "cell_type": "code",
   "execution_count": 96,
   "id": "3d650d03",
   "metadata": {
    "execution": {
     "iopub.execute_input": "2023-01-10T04:27:11.490823Z",
     "iopub.status.busy": "2023-01-10T04:27:11.490374Z",
     "iopub.status.idle": "2023-01-10T04:27:11.506731Z",
     "shell.execute_reply": "2023-01-10T04:27:11.505103Z"
    },
    "papermill": {
     "duration": 0.052842,
     "end_time": "2023-01-10T04:27:11.509369",
     "exception": false,
     "start_time": "2023-01-10T04:27:11.456527",
     "status": "completed"
    },
    "tags": []
   },
   "outputs": [
    {
     "name": "stdout",
     "output_type": "stream",
     "text": [
      "<class 'pandas.core.frame.DataFrame'>\n",
      "RangeIndex: 8693 entries, 0 to 8692\n",
      "Data columns (total 18 columns):\n",
      " #   Column         Non-Null Count  Dtype  \n",
      "---  ------         --------------  -----  \n",
      " 0   CryoSleep      8693 non-null   int64  \n",
      " 1   Age            8693 non-null   float64\n",
      " 2   RoomService    8693 non-null   float64\n",
      " 3   FoodCourt      8693 non-null   float64\n",
      " 4   ShoppingMall   8693 non-null   float64\n",
      " 5   Spa            8693 non-null   float64\n",
      " 6   VRDeck         8693 non-null   float64\n",
      " 7   Transported    8693 non-null   bool   \n",
      " 8   Earth          8693 non-null   uint8  \n",
      " 9   Europa         8693 non-null   uint8  \n",
      " 10  Mars           8693 non-null   uint8  \n",
      " 11  55 Cancri e    8693 non-null   uint8  \n",
      " 12  PSO J318.5-22  8693 non-null   uint8  \n",
      " 13  TRAPPIST-1e    8693 non-null   uint8  \n",
      " 14  0              8693 non-null   uint8  \n",
      " 15  1              8693 non-null   uint8  \n",
      " 16  kids           8693 non-null   int64  \n",
      " 17  NoPay          8693 non-null   int64  \n",
      "dtypes: bool(1), float64(6), int64(3), uint8(8)\n",
      "memory usage: 687.8 KB\n"
     ]
    }
   ],
   "source": [
    "train.info()"
   ]
  },
  {
   "cell_type": "code",
   "execution_count": 97,
   "id": "23c843fe",
   "metadata": {
    "execution": {
     "iopub.execute_input": "2023-01-10T04:27:11.575844Z",
     "iopub.status.busy": "2023-01-10T04:27:11.574954Z",
     "iopub.status.idle": "2023-01-10T04:27:11.721428Z",
     "shell.execute_reply": "2023-01-10T04:27:11.720119Z"
    },
    "papermill": {
     "duration": 0.183181,
     "end_time": "2023-01-10T04:27:11.724724",
     "exception": false,
     "start_time": "2023-01-10T04:27:11.541543",
     "status": "completed"
    },
    "tags": []
   },
   "outputs": [],
   "source": [
    "pred=rf.predict(x_t)\n",
    "pred1=pd.DataFrame(pred)\n",
    "\n",
    "test1=pd.read_csv('/kaggle/input/spaceship-titanic/test.csv')\n",
    "Pas=test1['PassengerId']\n",
    "output=pd.concat([Pas,pred1],axis=1)\n",
    "output=output.rename(columns={0:'Transported'})\n",
    "output.to_csv('submission.csv', index=False)"
   ]
  },
  {
   "cell_type": "code",
   "execution_count": 98,
   "id": "4dbe7e77",
   "metadata": {
    "execution": {
     "iopub.execute_input": "2023-01-10T04:27:11.792927Z",
     "iopub.status.busy": "2023-01-10T04:27:11.792482Z",
     "iopub.status.idle": "2023-01-10T04:27:11.808162Z",
     "shell.execute_reply": "2023-01-10T04:27:11.806902Z"
    },
    "papermill": {
     "duration": 0.051716,
     "end_time": "2023-01-10T04:27:11.810636",
     "exception": false,
     "start_time": "2023-01-10T04:27:11.758920",
     "status": "completed"
    },
    "tags": []
   },
   "outputs": [
    {
     "data": {
      "text/html": [
       "<div>\n",
       "<style scoped>\n",
       "    .dataframe tbody tr th:only-of-type {\n",
       "        vertical-align: middle;\n",
       "    }\n",
       "\n",
       "    .dataframe tbody tr th {\n",
       "        vertical-align: top;\n",
       "    }\n",
       "\n",
       "    .dataframe thead th {\n",
       "        text-align: right;\n",
       "    }\n",
       "</style>\n",
       "<table border=\"1\" class=\"dataframe\">\n",
       "  <thead>\n",
       "    <tr style=\"text-align: right;\">\n",
       "      <th></th>\n",
       "      <th>PassengerId</th>\n",
       "      <th>Transported</th>\n",
       "    </tr>\n",
       "  </thead>\n",
       "  <tbody>\n",
       "    <tr>\n",
       "      <th>0</th>\n",
       "      <td>0013_01</td>\n",
       "      <td>True</td>\n",
       "    </tr>\n",
       "    <tr>\n",
       "      <th>1</th>\n",
       "      <td>0018_01</td>\n",
       "      <td>False</td>\n",
       "    </tr>\n",
       "    <tr>\n",
       "      <th>2</th>\n",
       "      <td>0019_01</td>\n",
       "      <td>True</td>\n",
       "    </tr>\n",
       "    <tr>\n",
       "      <th>3</th>\n",
       "      <td>0021_01</td>\n",
       "      <td>True</td>\n",
       "    </tr>\n",
       "    <tr>\n",
       "      <th>4</th>\n",
       "      <td>0023_01</td>\n",
       "      <td>True</td>\n",
       "    </tr>\n",
       "    <tr>\n",
       "      <th>...</th>\n",
       "      <td>...</td>\n",
       "      <td>...</td>\n",
       "    </tr>\n",
       "    <tr>\n",
       "      <th>4272</th>\n",
       "      <td>9266_02</td>\n",
       "      <td>True</td>\n",
       "    </tr>\n",
       "    <tr>\n",
       "      <th>4273</th>\n",
       "      <td>9269_01</td>\n",
       "      <td>False</td>\n",
       "    </tr>\n",
       "    <tr>\n",
       "      <th>4274</th>\n",
       "      <td>9271_01</td>\n",
       "      <td>True</td>\n",
       "    </tr>\n",
       "    <tr>\n",
       "      <th>4275</th>\n",
       "      <td>9273_01</td>\n",
       "      <td>True</td>\n",
       "    </tr>\n",
       "    <tr>\n",
       "      <th>4276</th>\n",
       "      <td>9277_01</td>\n",
       "      <td>False</td>\n",
       "    </tr>\n",
       "  </tbody>\n",
       "</table>\n",
       "<p>4277 rows × 2 columns</p>\n",
       "</div>"
      ],
      "text/plain": [
       "     PassengerId  Transported\n",
       "0        0013_01         True\n",
       "1        0018_01        False\n",
       "2        0019_01         True\n",
       "3        0021_01         True\n",
       "4        0023_01         True\n",
       "...          ...          ...\n",
       "4272     9266_02         True\n",
       "4273     9269_01        False\n",
       "4274     9271_01         True\n",
       "4275     9273_01         True\n",
       "4276     9277_01        False\n",
       "\n",
       "[4277 rows x 2 columns]"
      ]
     },
     "execution_count": 98,
     "metadata": {},
     "output_type": "execute_result"
    }
   ],
   "source": [
    "output"
   ]
  },
  {
   "cell_type": "code",
   "execution_count": null,
   "id": "c65e317e",
   "metadata": {
    "papermill": {
     "duration": 0.029962,
     "end_time": "2023-01-10T04:27:11.870317",
     "exception": false,
     "start_time": "2023-01-10T04:27:11.840355",
     "status": "completed"
    },
    "tags": []
   },
   "outputs": [],
   "source": []
  }
 ],
 "metadata": {
  "kernelspec": {
   "display_name": "Python 3",
   "language": "python",
   "name": "python3"
  },
  "language_info": {
   "codemirror_mode": {
    "name": "ipython",
    "version": 3
   },
   "file_extension": ".py",
   "mimetype": "text/x-python",
   "name": "python",
   "nbconvert_exporter": "python",
   "pygments_lexer": "ipython3",
   "version": "3.7.12"
  },
  "papermill": {
   "default_parameters": {},
   "duration": 21.960331,
   "end_time": "2023-01-10T04:27:12.726857",
   "environment_variables": {},
   "exception": null,
   "input_path": "__notebook__.ipynb",
   "output_path": "__notebook__.ipynb",
   "parameters": {},
   "start_time": "2023-01-10T04:26:50.766526",
   "version": "2.3.4"
  }
 },
 "nbformat": 4,
 "nbformat_minor": 5
}
