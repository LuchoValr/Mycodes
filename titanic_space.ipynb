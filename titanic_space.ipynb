{
 "cells": [
  {
   "cell_type": "code",
   "execution_count": 1,
   "id": "eb8e6764",
   "metadata": {
    "execution": {
     "iopub.execute_input": "2023-01-10T03:43:24.563319Z",
     "iopub.status.busy": "2023-01-10T03:43:24.562842Z",
     "iopub.status.idle": "2023-01-10T03:43:24.572816Z",
     "shell.execute_reply": "2023-01-10T03:43:24.572010Z"
    },
    "papermill": {
     "duration": 0.039763,
     "end_time": "2023-01-10T03:43:24.574868",
     "exception": false,
     "start_time": "2023-01-10T03:43:24.535105",
     "status": "completed"
    },
    "tags": []
   },
   "outputs": [],
   "source": [
    "import numpy as np\n",
    "import pandas as pd"
   ]
  },
  {
   "cell_type": "code",
   "execution_count": 2,
   "id": "b075b5f4",
   "metadata": {
    "execution": {
     "iopub.execute_input": "2023-01-10T03:43:24.620967Z",
     "iopub.status.busy": "2023-01-10T03:43:24.620522Z",
     "iopub.status.idle": "2023-01-10T03:43:24.697949Z",
     "shell.execute_reply": "2023-01-10T03:43:24.696836Z"
    },
    "papermill": {
     "duration": 0.103663,
     "end_time": "2023-01-10T03:43:24.700544",
     "exception": false,
     "start_time": "2023-01-10T03:43:24.596881",
     "status": "completed"
    },
    "tags": []
   },
   "outputs": [],
   "source": [
    "train=pd.read_csv('/kaggle/input/spaceship-titanic/train.csv')\n",
    "test=pd.read_csv('/kaggle/input/spaceship-titanic/test.csv')"
   ]
  },
  {
   "cell_type": "code",
   "execution_count": 3,
   "id": "d3afb96a",
   "metadata": {
    "execution": {
     "iopub.execute_input": "2023-01-10T03:43:24.746538Z",
     "iopub.status.busy": "2023-01-10T03:43:24.745811Z",
     "iopub.status.idle": "2023-01-10T03:43:24.780063Z",
     "shell.execute_reply": "2023-01-10T03:43:24.779094Z"
    },
    "papermill": {
     "duration": 0.060086,
     "end_time": "2023-01-10T03:43:24.782571",
     "exception": false,
     "start_time": "2023-01-10T03:43:24.722485",
     "status": "completed"
    },
    "tags": []
   },
   "outputs": [
    {
     "data": {
      "text/html": [
       "<div>\n",
       "<style scoped>\n",
       "    .dataframe tbody tr th:only-of-type {\n",
       "        vertical-align: middle;\n",
       "    }\n",
       "\n",
       "    .dataframe tbody tr th {\n",
       "        vertical-align: top;\n",
       "    }\n",
       "\n",
       "    .dataframe thead th {\n",
       "        text-align: right;\n",
       "    }\n",
       "</style>\n",
       "<table border=\"1\" class=\"dataframe\">\n",
       "  <thead>\n",
       "    <tr style=\"text-align: right;\">\n",
       "      <th></th>\n",
       "      <th>PassengerId</th>\n",
       "      <th>HomePlanet</th>\n",
       "      <th>CryoSleep</th>\n",
       "      <th>Cabin</th>\n",
       "      <th>Destination</th>\n",
       "      <th>Age</th>\n",
       "      <th>VIP</th>\n",
       "      <th>RoomService</th>\n",
       "      <th>FoodCourt</th>\n",
       "      <th>ShoppingMall</th>\n",
       "      <th>Spa</th>\n",
       "      <th>VRDeck</th>\n",
       "      <th>Name</th>\n",
       "      <th>Transported</th>\n",
       "    </tr>\n",
       "  </thead>\n",
       "  <tbody>\n",
       "    <tr>\n",
       "      <th>0</th>\n",
       "      <td>0001_01</td>\n",
       "      <td>Europa</td>\n",
       "      <td>False</td>\n",
       "      <td>B/0/P</td>\n",
       "      <td>TRAPPIST-1e</td>\n",
       "      <td>39.0</td>\n",
       "      <td>False</td>\n",
       "      <td>0.0</td>\n",
       "      <td>0.0</td>\n",
       "      <td>0.0</td>\n",
       "      <td>0.0</td>\n",
       "      <td>0.0</td>\n",
       "      <td>Maham Ofracculy</td>\n",
       "      <td>False</td>\n",
       "    </tr>\n",
       "    <tr>\n",
       "      <th>1</th>\n",
       "      <td>0002_01</td>\n",
       "      <td>Earth</td>\n",
       "      <td>False</td>\n",
       "      <td>F/0/S</td>\n",
       "      <td>TRAPPIST-1e</td>\n",
       "      <td>24.0</td>\n",
       "      <td>False</td>\n",
       "      <td>109.0</td>\n",
       "      <td>9.0</td>\n",
       "      <td>25.0</td>\n",
       "      <td>549.0</td>\n",
       "      <td>44.0</td>\n",
       "      <td>Juanna Vines</td>\n",
       "      <td>True</td>\n",
       "    </tr>\n",
       "    <tr>\n",
       "      <th>2</th>\n",
       "      <td>0003_01</td>\n",
       "      <td>Europa</td>\n",
       "      <td>False</td>\n",
       "      <td>A/0/S</td>\n",
       "      <td>TRAPPIST-1e</td>\n",
       "      <td>58.0</td>\n",
       "      <td>True</td>\n",
       "      <td>43.0</td>\n",
       "      <td>3576.0</td>\n",
       "      <td>0.0</td>\n",
       "      <td>6715.0</td>\n",
       "      <td>49.0</td>\n",
       "      <td>Altark Susent</td>\n",
       "      <td>False</td>\n",
       "    </tr>\n",
       "    <tr>\n",
       "      <th>3</th>\n",
       "      <td>0003_02</td>\n",
       "      <td>Europa</td>\n",
       "      <td>False</td>\n",
       "      <td>A/0/S</td>\n",
       "      <td>TRAPPIST-1e</td>\n",
       "      <td>33.0</td>\n",
       "      <td>False</td>\n",
       "      <td>0.0</td>\n",
       "      <td>1283.0</td>\n",
       "      <td>371.0</td>\n",
       "      <td>3329.0</td>\n",
       "      <td>193.0</td>\n",
       "      <td>Solam Susent</td>\n",
       "      <td>False</td>\n",
       "    </tr>\n",
       "    <tr>\n",
       "      <th>4</th>\n",
       "      <td>0004_01</td>\n",
       "      <td>Earth</td>\n",
       "      <td>False</td>\n",
       "      <td>F/1/S</td>\n",
       "      <td>TRAPPIST-1e</td>\n",
       "      <td>16.0</td>\n",
       "      <td>False</td>\n",
       "      <td>303.0</td>\n",
       "      <td>70.0</td>\n",
       "      <td>151.0</td>\n",
       "      <td>565.0</td>\n",
       "      <td>2.0</td>\n",
       "      <td>Willy Santantines</td>\n",
       "      <td>True</td>\n",
       "    </tr>\n",
       "  </tbody>\n",
       "</table>\n",
       "</div>"
      ],
      "text/plain": [
       "  PassengerId HomePlanet CryoSleep  Cabin  Destination   Age    VIP  \\\n",
       "0     0001_01     Europa     False  B/0/P  TRAPPIST-1e  39.0  False   \n",
       "1     0002_01      Earth     False  F/0/S  TRAPPIST-1e  24.0  False   \n",
       "2     0003_01     Europa     False  A/0/S  TRAPPIST-1e  58.0   True   \n",
       "3     0003_02     Europa     False  A/0/S  TRAPPIST-1e  33.0  False   \n",
       "4     0004_01      Earth     False  F/1/S  TRAPPIST-1e  16.0  False   \n",
       "\n",
       "   RoomService  FoodCourt  ShoppingMall     Spa  VRDeck               Name  \\\n",
       "0          0.0        0.0           0.0     0.0     0.0    Maham Ofracculy   \n",
       "1        109.0        9.0          25.0   549.0    44.0       Juanna Vines   \n",
       "2         43.0     3576.0           0.0  6715.0    49.0      Altark Susent   \n",
       "3          0.0     1283.0         371.0  3329.0   193.0       Solam Susent   \n",
       "4        303.0       70.0         151.0   565.0     2.0  Willy Santantines   \n",
       "\n",
       "   Transported  \n",
       "0        False  \n",
       "1         True  \n",
       "2        False  \n",
       "3        False  \n",
       "4         True  "
      ]
     },
     "execution_count": 3,
     "metadata": {},
     "output_type": "execute_result"
    }
   ],
   "source": [
    "train.head()"
   ]
  },
  {
   "cell_type": "code",
   "execution_count": 4,
   "id": "3188112d",
   "metadata": {
    "execution": {
     "iopub.execute_input": "2023-01-10T03:43:24.827976Z",
     "iopub.status.busy": "2023-01-10T03:43:24.827288Z",
     "iopub.status.idle": "2023-01-10T03:43:24.847621Z",
     "shell.execute_reply": "2023-01-10T03:43:24.846479Z"
    },
    "papermill": {
     "duration": 0.04541,
     "end_time": "2023-01-10T03:43:24.849834",
     "exception": false,
     "start_time": "2023-01-10T03:43:24.804424",
     "status": "completed"
    },
    "tags": []
   },
   "outputs": [
    {
     "data": {
      "text/html": [
       "<div>\n",
       "<style scoped>\n",
       "    .dataframe tbody tr th:only-of-type {\n",
       "        vertical-align: middle;\n",
       "    }\n",
       "\n",
       "    .dataframe tbody tr th {\n",
       "        vertical-align: top;\n",
       "    }\n",
       "\n",
       "    .dataframe thead th {\n",
       "        text-align: right;\n",
       "    }\n",
       "</style>\n",
       "<table border=\"1\" class=\"dataframe\">\n",
       "  <thead>\n",
       "    <tr style=\"text-align: right;\">\n",
       "      <th></th>\n",
       "      <th>PassengerId</th>\n",
       "      <th>HomePlanet</th>\n",
       "      <th>CryoSleep</th>\n",
       "      <th>Cabin</th>\n",
       "      <th>Destination</th>\n",
       "      <th>Age</th>\n",
       "      <th>VIP</th>\n",
       "      <th>RoomService</th>\n",
       "      <th>FoodCourt</th>\n",
       "      <th>ShoppingMall</th>\n",
       "      <th>Spa</th>\n",
       "      <th>VRDeck</th>\n",
       "      <th>Name</th>\n",
       "    </tr>\n",
       "  </thead>\n",
       "  <tbody>\n",
       "    <tr>\n",
       "      <th>0</th>\n",
       "      <td>0013_01</td>\n",
       "      <td>Earth</td>\n",
       "      <td>True</td>\n",
       "      <td>G/3/S</td>\n",
       "      <td>TRAPPIST-1e</td>\n",
       "      <td>27.0</td>\n",
       "      <td>False</td>\n",
       "      <td>0.0</td>\n",
       "      <td>0.0</td>\n",
       "      <td>0.0</td>\n",
       "      <td>0.0</td>\n",
       "      <td>0.0</td>\n",
       "      <td>Nelly Carsoning</td>\n",
       "    </tr>\n",
       "    <tr>\n",
       "      <th>1</th>\n",
       "      <td>0018_01</td>\n",
       "      <td>Earth</td>\n",
       "      <td>False</td>\n",
       "      <td>F/4/S</td>\n",
       "      <td>TRAPPIST-1e</td>\n",
       "      <td>19.0</td>\n",
       "      <td>False</td>\n",
       "      <td>0.0</td>\n",
       "      <td>9.0</td>\n",
       "      <td>0.0</td>\n",
       "      <td>2823.0</td>\n",
       "      <td>0.0</td>\n",
       "      <td>Lerome Peckers</td>\n",
       "    </tr>\n",
       "    <tr>\n",
       "      <th>2</th>\n",
       "      <td>0019_01</td>\n",
       "      <td>Europa</td>\n",
       "      <td>True</td>\n",
       "      <td>C/0/S</td>\n",
       "      <td>55 Cancri e</td>\n",
       "      <td>31.0</td>\n",
       "      <td>False</td>\n",
       "      <td>0.0</td>\n",
       "      <td>0.0</td>\n",
       "      <td>0.0</td>\n",
       "      <td>0.0</td>\n",
       "      <td>0.0</td>\n",
       "      <td>Sabih Unhearfus</td>\n",
       "    </tr>\n",
       "    <tr>\n",
       "      <th>3</th>\n",
       "      <td>0021_01</td>\n",
       "      <td>Europa</td>\n",
       "      <td>False</td>\n",
       "      <td>C/1/S</td>\n",
       "      <td>TRAPPIST-1e</td>\n",
       "      <td>38.0</td>\n",
       "      <td>False</td>\n",
       "      <td>0.0</td>\n",
       "      <td>6652.0</td>\n",
       "      <td>0.0</td>\n",
       "      <td>181.0</td>\n",
       "      <td>585.0</td>\n",
       "      <td>Meratz Caltilter</td>\n",
       "    </tr>\n",
       "    <tr>\n",
       "      <th>4</th>\n",
       "      <td>0023_01</td>\n",
       "      <td>Earth</td>\n",
       "      <td>False</td>\n",
       "      <td>F/5/S</td>\n",
       "      <td>TRAPPIST-1e</td>\n",
       "      <td>20.0</td>\n",
       "      <td>False</td>\n",
       "      <td>10.0</td>\n",
       "      <td>0.0</td>\n",
       "      <td>635.0</td>\n",
       "      <td>0.0</td>\n",
       "      <td>0.0</td>\n",
       "      <td>Brence Harperez</td>\n",
       "    </tr>\n",
       "  </tbody>\n",
       "</table>\n",
       "</div>"
      ],
      "text/plain": [
       "  PassengerId HomePlanet CryoSleep  Cabin  Destination   Age    VIP  \\\n",
       "0     0013_01      Earth      True  G/3/S  TRAPPIST-1e  27.0  False   \n",
       "1     0018_01      Earth     False  F/4/S  TRAPPIST-1e  19.0  False   \n",
       "2     0019_01     Europa      True  C/0/S  55 Cancri e  31.0  False   \n",
       "3     0021_01     Europa     False  C/1/S  TRAPPIST-1e  38.0  False   \n",
       "4     0023_01      Earth     False  F/5/S  TRAPPIST-1e  20.0  False   \n",
       "\n",
       "   RoomService  FoodCourt  ShoppingMall     Spa  VRDeck              Name  \n",
       "0          0.0        0.0           0.0     0.0     0.0   Nelly Carsoning  \n",
       "1          0.0        9.0           0.0  2823.0     0.0    Lerome Peckers  \n",
       "2          0.0        0.0           0.0     0.0     0.0   Sabih Unhearfus  \n",
       "3          0.0     6652.0           0.0   181.0   585.0  Meratz Caltilter  \n",
       "4         10.0        0.0         635.0     0.0     0.0   Brence Harperez  "
      ]
     },
     "execution_count": 4,
     "metadata": {},
     "output_type": "execute_result"
    }
   ],
   "source": [
    "test.head()"
   ]
  },
  {
   "cell_type": "code",
   "execution_count": 5,
   "id": "037c83e6",
   "metadata": {
    "execution": {
     "iopub.execute_input": "2023-01-10T03:43:24.895474Z",
     "iopub.status.busy": "2023-01-10T03:43:24.895084Z",
     "iopub.status.idle": "2023-01-10T03:43:24.928986Z",
     "shell.execute_reply": "2023-01-10T03:43:24.927687Z"
    },
    "papermill": {
     "duration": 0.059393,
     "end_time": "2023-01-10T03:43:24.931305",
     "exception": false,
     "start_time": "2023-01-10T03:43:24.871912",
     "status": "completed"
    },
    "tags": []
   },
   "outputs": [
    {
     "name": "stdout",
     "output_type": "stream",
     "text": [
      "<class 'pandas.core.frame.DataFrame'>\n",
      "RangeIndex: 8693 entries, 0 to 8692\n",
      "Data columns (total 14 columns):\n",
      " #   Column        Non-Null Count  Dtype  \n",
      "---  ------        --------------  -----  \n",
      " 0   PassengerId   8693 non-null   object \n",
      " 1   HomePlanet    8492 non-null   object \n",
      " 2   CryoSleep     8476 non-null   object \n",
      " 3   Cabin         8494 non-null   object \n",
      " 4   Destination   8511 non-null   object \n",
      " 5   Age           8514 non-null   float64\n",
      " 6   VIP           8490 non-null   object \n",
      " 7   RoomService   8512 non-null   float64\n",
      " 8   FoodCourt     8510 non-null   float64\n",
      " 9   ShoppingMall  8485 non-null   float64\n",
      " 10  Spa           8510 non-null   float64\n",
      " 11  VRDeck        8505 non-null   float64\n",
      " 12  Name          8493 non-null   object \n",
      " 13  Transported   8693 non-null   bool   \n",
      "dtypes: bool(1), float64(6), object(7)\n",
      "memory usage: 891.5+ KB\n"
     ]
    }
   ],
   "source": [
    "train.info()"
   ]
  },
  {
   "cell_type": "code",
   "execution_count": 6,
   "id": "b1ebb8ee",
   "metadata": {
    "execution": {
     "iopub.execute_input": "2023-01-10T03:43:24.978157Z",
     "iopub.status.busy": "2023-01-10T03:43:24.977262Z",
     "iopub.status.idle": "2023-01-10T03:43:24.992887Z",
     "shell.execute_reply": "2023-01-10T03:43:24.991184Z"
    },
    "papermill": {
     "duration": 0.042616,
     "end_time": "2023-01-10T03:43:24.996212",
     "exception": false,
     "start_time": "2023-01-10T03:43:24.953596",
     "status": "completed"
    },
    "tags": []
   },
   "outputs": [
    {
     "name": "stdout",
     "output_type": "stream",
     "text": [
      "<class 'pandas.core.frame.DataFrame'>\n",
      "RangeIndex: 4277 entries, 0 to 4276\n",
      "Data columns (total 13 columns):\n",
      " #   Column        Non-Null Count  Dtype  \n",
      "---  ------        --------------  -----  \n",
      " 0   PassengerId   4277 non-null   object \n",
      " 1   HomePlanet    4190 non-null   object \n",
      " 2   CryoSleep     4184 non-null   object \n",
      " 3   Cabin         4177 non-null   object \n",
      " 4   Destination   4185 non-null   object \n",
      " 5   Age           4186 non-null   float64\n",
      " 6   VIP           4184 non-null   object \n",
      " 7   RoomService   4195 non-null   float64\n",
      " 8   FoodCourt     4171 non-null   float64\n",
      " 9   ShoppingMall  4179 non-null   float64\n",
      " 10  Spa           4176 non-null   float64\n",
      " 11  VRDeck        4197 non-null   float64\n",
      " 12  Name          4183 non-null   object \n",
      "dtypes: float64(6), object(7)\n",
      "memory usage: 434.5+ KB\n"
     ]
    }
   ],
   "source": [
    "test.info()"
   ]
  },
  {
   "cell_type": "markdown",
   "id": "667cb7da",
   "metadata": {
    "papermill": {
     "duration": 0.022404,
     "end_time": "2023-01-10T03:43:25.042527",
     "exception": false,
     "start_time": "2023-01-10T03:43:25.020123",
     "status": "completed"
    },
    "tags": []
   },
   "source": [
    "# **Data cleaning**"
   ]
  },
  {
   "cell_type": "code",
   "execution_count": 7,
   "id": "8486e20c",
   "metadata": {
    "execution": {
     "iopub.execute_input": "2023-01-10T03:43:25.090706Z",
     "iopub.status.busy": "2023-01-10T03:43:25.089871Z",
     "iopub.status.idle": "2023-01-10T03:43:25.099216Z",
     "shell.execute_reply": "2023-01-10T03:43:25.098107Z"
    },
    "papermill": {
     "duration": 0.034953,
     "end_time": "2023-01-10T03:43:25.101391",
     "exception": false,
     "start_time": "2023-01-10T03:43:25.066438",
     "status": "completed"
    },
    "tags": []
   },
   "outputs": [
    {
     "data": {
      "text/plain": [
       "Earth     4602\n",
       "Europa    2131\n",
       "Mars      1759\n",
       "Name: HomePlanet, dtype: int64"
      ]
     },
     "execution_count": 7,
     "metadata": {},
     "output_type": "execute_result"
    }
   ],
   "source": [
    "train['HomePlanet'].value_counts()"
   ]
  },
  {
   "cell_type": "code",
   "execution_count": 8,
   "id": "685581fe",
   "metadata": {
    "execution": {
     "iopub.execute_input": "2023-01-10T03:43:25.147678Z",
     "iopub.status.busy": "2023-01-10T03:43:25.147215Z",
     "iopub.status.idle": "2023-01-10T03:43:25.156945Z",
     "shell.execute_reply": "2023-01-10T03:43:25.155785Z"
    },
    "papermill": {
     "duration": 0.035602,
     "end_time": "2023-01-10T03:43:25.159127",
     "exception": false,
     "start_time": "2023-01-10T03:43:25.123525",
     "status": "completed"
    },
    "tags": []
   },
   "outputs": [
    {
     "data": {
      "text/plain": [
       "TRAPPIST-1e      5915\n",
       "55 Cancri e      1800\n",
       "PSO J318.5-22     796\n",
       "Name: Destination, dtype: int64"
      ]
     },
     "execution_count": 8,
     "metadata": {},
     "output_type": "execute_result"
    }
   ],
   "source": [
    "train['Destination'].value_counts()"
   ]
  },
  {
   "cell_type": "code",
   "execution_count": 9,
   "id": "17e6f72b",
   "metadata": {
    "execution": {
     "iopub.execute_input": "2023-01-10T03:43:25.206350Z",
     "iopub.status.busy": "2023-01-10T03:43:25.205219Z",
     "iopub.status.idle": "2023-01-10T03:43:25.214451Z",
     "shell.execute_reply": "2023-01-10T03:43:25.213464Z"
    },
    "papermill": {
     "duration": 0.035193,
     "end_time": "2023-01-10T03:43:25.216632",
     "exception": false,
     "start_time": "2023-01-10T03:43:25.181439",
     "status": "completed"
    },
    "tags": []
   },
   "outputs": [
    {
     "data": {
      "text/plain": [
       "Earth     2263\n",
       "Europa    1002\n",
       "Mars       925\n",
       "Name: HomePlanet, dtype: int64"
      ]
     },
     "execution_count": 9,
     "metadata": {},
     "output_type": "execute_result"
    }
   ],
   "source": [
    "test['HomePlanet'].value_counts()"
   ]
  },
  {
   "cell_type": "code",
   "execution_count": 10,
   "id": "3a4d49da",
   "metadata": {
    "execution": {
     "iopub.execute_input": "2023-01-10T03:43:25.263412Z",
     "iopub.status.busy": "2023-01-10T03:43:25.262719Z",
     "iopub.status.idle": "2023-01-10T03:43:25.271591Z",
     "shell.execute_reply": "2023-01-10T03:43:25.270525Z"
    },
    "papermill": {
     "duration": 0.034809,
     "end_time": "2023-01-10T03:43:25.273768",
     "exception": false,
     "start_time": "2023-01-10T03:43:25.238959",
     "status": "completed"
    },
    "tags": []
   },
   "outputs": [
    {
     "data": {
      "text/plain": [
       "TRAPPIST-1e      2956\n",
       "55 Cancri e       841\n",
       "PSO J318.5-22     388\n",
       "Name: Destination, dtype: int64"
      ]
     },
     "execution_count": 10,
     "metadata": {},
     "output_type": "execute_result"
    }
   ],
   "source": [
    "test['Destination'].value_counts()"
   ]
  },
  {
   "cell_type": "code",
   "execution_count": 11,
   "id": "9110848f",
   "metadata": {
    "execution": {
     "iopub.execute_input": "2023-01-10T03:43:25.320561Z",
     "iopub.status.busy": "2023-01-10T03:43:25.320115Z",
     "iopub.status.idle": "2023-01-10T03:43:25.330264Z",
     "shell.execute_reply": "2023-01-10T03:43:25.329331Z"
    },
    "papermill": {
     "duration": 0.036218,
     "end_time": "2023-01-10T03:43:25.332650",
     "exception": false,
     "start_time": "2023-01-10T03:43:25.296432",
     "status": "completed"
    },
    "tags": []
   },
   "outputs": [],
   "source": [
    "train['HomePlanet'] = train['HomePlanet'].fillna('Earth')\n",
    "train['Destination']=train['Destination'].fillna('TRAPPIST-1e')\n",
    "test['HomePlanet']=test['HomePlanet'].fillna('Earth')\n",
    "test['Destination']=test['Destination'].fillna('TRAPPIST-1e')"
   ]
  },
  {
   "cell_type": "code",
   "execution_count": 12,
   "id": "6f4b137b",
   "metadata": {
    "execution": {
     "iopub.execute_input": "2023-01-10T03:43:25.379740Z",
     "iopub.status.busy": "2023-01-10T03:43:25.379293Z",
     "iopub.status.idle": "2023-01-10T03:43:25.388829Z",
     "shell.execute_reply": "2023-01-10T03:43:25.387798Z"
    },
    "papermill": {
     "duration": 0.035861,
     "end_time": "2023-01-10T03:43:25.391291",
     "exception": false,
     "start_time": "2023-01-10T03:43:25.355430",
     "status": "completed"
    },
    "tags": []
   },
   "outputs": [
    {
     "data": {
      "text/plain": [
       "0.35830580462482303"
      ]
     },
     "execution_count": 12,
     "metadata": {},
     "output_type": "execute_result"
    }
   ],
   "source": [
    "train['CryoSleep']=1*(train['CryoSleep'])\n",
    "train['CryoSleep'].mean()"
   ]
  },
  {
   "cell_type": "code",
   "execution_count": 13,
   "id": "c845cc02",
   "metadata": {
    "execution": {
     "iopub.execute_input": "2023-01-10T03:43:25.439880Z",
     "iopub.status.busy": "2023-01-10T03:43:25.439066Z",
     "iopub.status.idle": "2023-01-10T03:43:25.447815Z",
     "shell.execute_reply": "2023-01-10T03:43:25.446803Z"
    },
    "papermill": {
     "duration": 0.035118,
     "end_time": "2023-01-10T03:43:25.450035",
     "exception": false,
     "start_time": "2023-01-10T03:43:25.414917",
     "status": "completed"
    },
    "tags": []
   },
   "outputs": [
    {
     "data": {
      "text/plain": [
       "0    5439\n",
       "1    3037\n",
       "Name: CryoSleep, dtype: int64"
      ]
     },
     "execution_count": 13,
     "metadata": {},
     "output_type": "execute_result"
    }
   ],
   "source": [
    "train['CryoSleep'].value_counts()"
   ]
  },
  {
   "cell_type": "code",
   "execution_count": 14,
   "id": "bfa71d96",
   "metadata": {
    "execution": {
     "iopub.execute_input": "2023-01-10T03:43:25.497627Z",
     "iopub.status.busy": "2023-01-10T03:43:25.496445Z",
     "iopub.status.idle": "2023-01-10T03:43:25.506286Z",
     "shell.execute_reply": "2023-01-10T03:43:25.505497Z"
    },
    "papermill": {
     "duration": 0.035872,
     "end_time": "2023-01-10T03:43:25.508391",
     "exception": false,
     "start_time": "2023-01-10T03:43:25.472519",
     "status": "completed"
    },
    "tags": []
   },
   "outputs": [],
   "source": [
    "train['CryoSleep']=train['CryoSleep'].fillna(0)\n",
    "test['CryoSleep']=test['CryoSleep'].fillna(0)"
   ]
  },
  {
   "cell_type": "code",
   "execution_count": 15,
   "id": "0ea9ee3f",
   "metadata": {
    "execution": {
     "iopub.execute_input": "2023-01-10T03:43:25.557486Z",
     "iopub.status.busy": "2023-01-10T03:43:25.556403Z",
     "iopub.status.idle": "2023-01-10T03:43:25.564112Z",
     "shell.execute_reply": "2023-01-10T03:43:25.562776Z"
    },
    "papermill": {
     "duration": 0.034155,
     "end_time": "2023-01-10T03:43:25.566400",
     "exception": false,
     "start_time": "2023-01-10T03:43:25.532245",
     "status": "completed"
    },
    "tags": []
   },
   "outputs": [
    {
     "data": {
      "text/plain": [
       "28.82793046746535"
      ]
     },
     "execution_count": 15,
     "metadata": {},
     "output_type": "execute_result"
    }
   ],
   "source": [
    "train['Age'].mean()"
   ]
  },
  {
   "cell_type": "code",
   "execution_count": 16,
   "id": "4741d2cb",
   "metadata": {
    "execution": {
     "iopub.execute_input": "2023-01-10T03:43:25.614507Z",
     "iopub.status.busy": "2023-01-10T03:43:25.613450Z",
     "iopub.status.idle": "2023-01-10T03:43:25.669991Z",
     "shell.execute_reply": "2023-01-10T03:43:25.668927Z"
    },
    "papermill": {
     "duration": 0.083535,
     "end_time": "2023-01-10T03:43:25.672829",
     "exception": false,
     "start_time": "2023-01-10T03:43:25.589294",
     "status": "completed"
    },
    "tags": []
   },
   "outputs": [
    {
     "data": {
      "text/html": [
       "<div>\n",
       "<style scoped>\n",
       "    .dataframe tbody tr th:only-of-type {\n",
       "        vertical-align: middle;\n",
       "    }\n",
       "\n",
       "    .dataframe tbody tr th {\n",
       "        vertical-align: top;\n",
       "    }\n",
       "\n",
       "    .dataframe thead tr th {\n",
       "        text-align: left;\n",
       "    }\n",
       "\n",
       "    .dataframe thead tr:last-of-type th {\n",
       "        text-align: right;\n",
       "    }\n",
       "</style>\n",
       "<table border=\"1\" class=\"dataframe\">\n",
       "  <thead>\n",
       "    <tr>\n",
       "      <th></th>\n",
       "      <th></th>\n",
       "      <th></th>\n",
       "      <th>mean</th>\n",
       "      <th>median</th>\n",
       "    </tr>\n",
       "    <tr>\n",
       "      <th></th>\n",
       "      <th></th>\n",
       "      <th></th>\n",
       "      <th>Age</th>\n",
       "      <th>Age</th>\n",
       "    </tr>\n",
       "    <tr>\n",
       "      <th>HomePlanet</th>\n",
       "      <th>FoodCourt</th>\n",
       "      <th>ShoppingMall</th>\n",
       "      <th></th>\n",
       "      <th></th>\n",
       "    </tr>\n",
       "  </thead>\n",
       "  <tbody>\n",
       "    <tr>\n",
       "      <th rowspan=\"5\" valign=\"top\">Earth</th>\n",
       "      <th rowspan=\"5\" valign=\"top\">0.0</th>\n",
       "      <th>0.0</th>\n",
       "      <td>22.089412</td>\n",
       "      <td>21.0</td>\n",
       "    </tr>\n",
       "    <tr>\n",
       "      <th>1.0</th>\n",
       "      <td>30.921053</td>\n",
       "      <td>25.5</td>\n",
       "    </tr>\n",
       "    <tr>\n",
       "      <th>2.0</th>\n",
       "      <td>28.736842</td>\n",
       "      <td>29.0</td>\n",
       "    </tr>\n",
       "    <tr>\n",
       "      <th>3.0</th>\n",
       "      <td>22.636364</td>\n",
       "      <td>20.0</td>\n",
       "    </tr>\n",
       "    <tr>\n",
       "      <th>4.0</th>\n",
       "      <td>23.615385</td>\n",
       "      <td>23.0</td>\n",
       "    </tr>\n",
       "    <tr>\n",
       "      <th>...</th>\n",
       "      <th>...</th>\n",
       "      <th>...</th>\n",
       "      <td>...</td>\n",
       "      <td>...</td>\n",
       "    </tr>\n",
       "    <tr>\n",
       "      <th rowspan=\"5\" valign=\"top\">Mars</th>\n",
       "      <th>2119.0</th>\n",
       "      <th>315.0</th>\n",
       "      <td>43.000000</td>\n",
       "      <td>43.0</td>\n",
       "    </tr>\n",
       "    <tr>\n",
       "      <th>2207.0</th>\n",
       "      <th>163.0</th>\n",
       "      <td>24.000000</td>\n",
       "      <td>24.0</td>\n",
       "    </tr>\n",
       "    <tr>\n",
       "      <th>2318.0</th>\n",
       "      <th>5.0</th>\n",
       "      <td>38.000000</td>\n",
       "      <td>38.0</td>\n",
       "    </tr>\n",
       "    <tr>\n",
       "      <th>2876.0</th>\n",
       "      <th>202.0</th>\n",
       "      <td>22.000000</td>\n",
       "      <td>22.0</td>\n",
       "    </tr>\n",
       "    <tr>\n",
       "      <th>4389.0</th>\n",
       "      <th>1015.0</th>\n",
       "      <td>35.000000</td>\n",
       "      <td>35.0</td>\n",
       "    </tr>\n",
       "  </tbody>\n",
       "</table>\n",
       "<p>3447 rows × 2 columns</p>\n",
       "</div>"
      ],
      "text/plain": [
       "                                        mean median\n",
       "                                         Age    Age\n",
       "HomePlanet FoodCourt ShoppingMall                  \n",
       "Earth      0.0       0.0           22.089412   21.0\n",
       "                     1.0           30.921053   25.5\n",
       "                     2.0           28.736842   29.0\n",
       "                     3.0           22.636364   20.0\n",
       "                     4.0           23.615385   23.0\n",
       "...                                      ...    ...\n",
       "Mars       2119.0    315.0         43.000000   43.0\n",
       "           2207.0    163.0         24.000000   24.0\n",
       "           2318.0    5.0           38.000000   38.0\n",
       "           2876.0    202.0         22.000000   22.0\n",
       "           4389.0    1015.0        35.000000   35.0\n",
       "\n",
       "[3447 rows x 2 columns]"
      ]
     },
     "execution_count": 16,
     "metadata": {},
     "output_type": "execute_result"
    }
   ],
   "source": [
    "train.pivot_table(index=['HomePlanet','FoodCourt','ShoppingMall'],values='Age',aggfunc=['mean','median'])"
   ]
  },
  {
   "cell_type": "code",
   "execution_count": 17,
   "id": "12d3fe2f",
   "metadata": {
    "execution": {
     "iopub.execute_input": "2023-01-10T03:43:25.721535Z",
     "iopub.status.busy": "2023-01-10T03:43:25.720593Z",
     "iopub.status.idle": "2023-01-10T03:43:25.732152Z",
     "shell.execute_reply": "2023-01-10T03:43:25.731244Z"
    },
    "papermill": {
     "duration": 0.03838,
     "end_time": "2023-01-10T03:43:25.734595",
     "exception": false,
     "start_time": "2023-01-10T03:43:25.696215",
     "status": "completed"
    },
    "tags": []
   },
   "outputs": [],
   "source": [
    "train['Age']=train['Age'].fillna(train.groupby(['HomePlanet','FoodCourt','ShoppingMall'])['Age'].transform('median'))"
   ]
  },
  {
   "cell_type": "code",
   "execution_count": 18,
   "id": "d0130bb8",
   "metadata": {
    "execution": {
     "iopub.execute_input": "2023-01-10T03:43:25.783009Z",
     "iopub.status.busy": "2023-01-10T03:43:25.782462Z",
     "iopub.status.idle": "2023-01-10T03:43:25.788380Z",
     "shell.execute_reply": "2023-01-10T03:43:25.787405Z"
    },
    "papermill": {
     "duration": 0.032686,
     "end_time": "2023-01-10T03:43:25.790484",
     "exception": false,
     "start_time": "2023-01-10T03:43:25.757798",
     "status": "completed"
    },
    "tags": []
   },
   "outputs": [],
   "source": [
    "train['Age']=train['Age'].fillna(29)"
   ]
  },
  {
   "cell_type": "code",
   "execution_count": 19,
   "id": "85b683ef",
   "metadata": {
    "execution": {
     "iopub.execute_input": "2023-01-10T03:43:25.838802Z",
     "iopub.status.busy": "2023-01-10T03:43:25.838386Z",
     "iopub.status.idle": "2023-01-10T03:43:25.845980Z",
     "shell.execute_reply": "2023-01-10T03:43:25.845058Z"
    },
    "papermill": {
     "duration": 0.034646,
     "end_time": "2023-01-10T03:43:25.848251",
     "exception": false,
     "start_time": "2023-01-10T03:43:25.813605",
     "status": "completed"
    },
    "tags": []
   },
   "outputs": [
    {
     "data": {
      "text/plain": [
       "28.65814620162446"
      ]
     },
     "execution_count": 19,
     "metadata": {},
     "output_type": "execute_result"
    }
   ],
   "source": [
    "test['Age'].mean()"
   ]
  },
  {
   "cell_type": "code",
   "execution_count": 20,
   "id": "a147ef6a",
   "metadata": {
    "execution": {
     "iopub.execute_input": "2023-01-10T03:43:25.897632Z",
     "iopub.status.busy": "2023-01-10T03:43:25.896878Z",
     "iopub.status.idle": "2023-01-10T03:43:25.936146Z",
     "shell.execute_reply": "2023-01-10T03:43:25.935063Z"
    },
    "papermill": {
     "duration": 0.066566,
     "end_time": "2023-01-10T03:43:25.938484",
     "exception": false,
     "start_time": "2023-01-10T03:43:25.871918",
     "status": "completed"
    },
    "tags": []
   },
   "outputs": [
    {
     "data": {
      "text/html": [
       "<div>\n",
       "<style scoped>\n",
       "    .dataframe tbody tr th:only-of-type {\n",
       "        vertical-align: middle;\n",
       "    }\n",
       "\n",
       "    .dataframe tbody tr th {\n",
       "        vertical-align: top;\n",
       "    }\n",
       "\n",
       "    .dataframe thead tr th {\n",
       "        text-align: left;\n",
       "    }\n",
       "\n",
       "    .dataframe thead tr:last-of-type th {\n",
       "        text-align: right;\n",
       "    }\n",
       "</style>\n",
       "<table border=\"1\" class=\"dataframe\">\n",
       "  <thead>\n",
       "    <tr>\n",
       "      <th></th>\n",
       "      <th></th>\n",
       "      <th></th>\n",
       "      <th>mean</th>\n",
       "      <th>median</th>\n",
       "    </tr>\n",
       "    <tr>\n",
       "      <th></th>\n",
       "      <th></th>\n",
       "      <th></th>\n",
       "      <th>Age</th>\n",
       "      <th>Age</th>\n",
       "    </tr>\n",
       "    <tr>\n",
       "      <th>HomePlanet</th>\n",
       "      <th>FoodCourt</th>\n",
       "      <th>ShoppingMall</th>\n",
       "      <th></th>\n",
       "      <th></th>\n",
       "    </tr>\n",
       "  </thead>\n",
       "  <tbody>\n",
       "    <tr>\n",
       "      <th rowspan=\"5\" valign=\"top\">Earth</th>\n",
       "      <th rowspan=\"5\" valign=\"top\">0.0</th>\n",
       "      <th>0.0</th>\n",
       "      <td>22.551456</td>\n",
       "      <td>21.0</td>\n",
       "    </tr>\n",
       "    <tr>\n",
       "      <th>1.0</th>\n",
       "      <td>21.928571</td>\n",
       "      <td>22.5</td>\n",
       "    </tr>\n",
       "    <tr>\n",
       "      <th>2.0</th>\n",
       "      <td>30.666667</td>\n",
       "      <td>28.0</td>\n",
       "    </tr>\n",
       "    <tr>\n",
       "      <th>3.0</th>\n",
       "      <td>29.727273</td>\n",
       "      <td>25.0</td>\n",
       "    </tr>\n",
       "    <tr>\n",
       "      <th>4.0</th>\n",
       "      <td>36.600000</td>\n",
       "      <td>44.0</td>\n",
       "    </tr>\n",
       "    <tr>\n",
       "      <th>...</th>\n",
       "      <th>...</th>\n",
       "      <th>...</th>\n",
       "      <td>...</td>\n",
       "      <td>...</td>\n",
       "    </tr>\n",
       "    <tr>\n",
       "      <th rowspan=\"5\" valign=\"top\">Mars</th>\n",
       "      <th>1347.0</th>\n",
       "      <th>197.0</th>\n",
       "      <td>38.000000</td>\n",
       "      <td>38.0</td>\n",
       "    </tr>\n",
       "    <tr>\n",
       "      <th>1439.0</th>\n",
       "      <th>528.0</th>\n",
       "      <td>43.000000</td>\n",
       "      <td>43.0</td>\n",
       "    </tr>\n",
       "    <tr>\n",
       "      <th>1628.0</th>\n",
       "      <th>1184.0</th>\n",
       "      <td>50.000000</td>\n",
       "      <td>50.0</td>\n",
       "    </tr>\n",
       "    <tr>\n",
       "      <th>1633.0</th>\n",
       "      <th>83.0</th>\n",
       "      <td>20.000000</td>\n",
       "      <td>20.0</td>\n",
       "    </tr>\n",
       "    <tr>\n",
       "      <th>1977.0</th>\n",
       "      <th>188.0</th>\n",
       "      <td>43.000000</td>\n",
       "      <td>43.0</td>\n",
       "    </tr>\n",
       "  </tbody>\n",
       "</table>\n",
       "<p>1801 rows × 2 columns</p>\n",
       "</div>"
      ],
      "text/plain": [
       "                                        mean median\n",
       "                                         Age    Age\n",
       "HomePlanet FoodCourt ShoppingMall                  \n",
       "Earth      0.0       0.0           22.551456   21.0\n",
       "                     1.0           21.928571   22.5\n",
       "                     2.0           30.666667   28.0\n",
       "                     3.0           29.727273   25.0\n",
       "                     4.0           36.600000   44.0\n",
       "...                                      ...    ...\n",
       "Mars       1347.0    197.0         38.000000   38.0\n",
       "           1439.0    528.0         43.000000   43.0\n",
       "           1628.0    1184.0        50.000000   50.0\n",
       "           1633.0    83.0          20.000000   20.0\n",
       "           1977.0    188.0         43.000000   43.0\n",
       "\n",
       "[1801 rows x 2 columns]"
      ]
     },
     "execution_count": 20,
     "metadata": {},
     "output_type": "execute_result"
    }
   ],
   "source": [
    "test.pivot_table(index=['HomePlanet','FoodCourt','ShoppingMall'],values='Age',aggfunc=['mean','median'])"
   ]
  },
  {
   "cell_type": "code",
   "execution_count": 21,
   "id": "27babb91",
   "metadata": {
    "execution": {
     "iopub.execute_input": "2023-01-10T03:43:25.987239Z",
     "iopub.status.busy": "2023-01-10T03:43:25.986815Z",
     "iopub.status.idle": "2023-01-10T03:43:25.997460Z",
     "shell.execute_reply": "2023-01-10T03:43:25.996280Z"
    },
    "papermill": {
     "duration": 0.037799,
     "end_time": "2023-01-10T03:43:25.999805",
     "exception": false,
     "start_time": "2023-01-10T03:43:25.962006",
     "status": "completed"
    },
    "tags": []
   },
   "outputs": [],
   "source": [
    "test['Age']=test['Age'].fillna(test.groupby(['HomePlanet','FoodCourt','ShoppingMall'])['Age'].transform('median'))"
   ]
  },
  {
   "cell_type": "code",
   "execution_count": 22,
   "id": "2198e210",
   "metadata": {
    "execution": {
     "iopub.execute_input": "2023-01-10T03:43:26.051270Z",
     "iopub.status.busy": "2023-01-10T03:43:26.050458Z",
     "iopub.status.idle": "2023-01-10T03:43:26.055849Z",
     "shell.execute_reply": "2023-01-10T03:43:26.055028Z"
    },
    "papermill": {
     "duration": 0.033858,
     "end_time": "2023-01-10T03:43:26.058007",
     "exception": false,
     "start_time": "2023-01-10T03:43:26.024149",
     "status": "completed"
    },
    "tags": []
   },
   "outputs": [],
   "source": [
    "test['Age']=test['Age'].fillna(29)"
   ]
  },
  {
   "cell_type": "code",
   "execution_count": 23,
   "id": "4212eab7",
   "metadata": {
    "execution": {
     "iopub.execute_input": "2023-01-10T03:43:26.106962Z",
     "iopub.status.busy": "2023-01-10T03:43:26.106553Z",
     "iopub.status.idle": "2023-01-10T03:43:26.114550Z",
     "shell.execute_reply": "2023-01-10T03:43:26.113804Z"
    },
    "papermill": {
     "duration": 0.035082,
     "end_time": "2023-01-10T03:43:26.116544",
     "exception": false,
     "start_time": "2023-01-10T03:43:26.081462",
     "status": "completed"
    },
    "tags": []
   },
   "outputs": [
    {
     "data": {
      "text/plain": [
       "0.023439340400471142"
      ]
     },
     "execution_count": 23,
     "metadata": {},
     "output_type": "execute_result"
    }
   ],
   "source": [
    "train['VIP']=1*(train['VIP'])\n",
    "train['VIP'].mean()"
   ]
  },
  {
   "cell_type": "code",
   "execution_count": 24,
   "id": "6e1dd338",
   "metadata": {
    "execution": {
     "iopub.execute_input": "2023-01-10T03:43:26.166110Z",
     "iopub.status.busy": "2023-01-10T03:43:26.165416Z",
     "iopub.status.idle": "2023-01-10T03:43:26.174359Z",
     "shell.execute_reply": "2023-01-10T03:43:26.173186Z"
    },
    "papermill": {
     "duration": 0.036137,
     "end_time": "2023-01-10T03:43:26.176468",
     "exception": false,
     "start_time": "2023-01-10T03:43:26.140331",
     "status": "completed"
    },
    "tags": []
   },
   "outputs": [],
   "source": [
    "train['VIP']=train['VIP'].fillna(0)"
   ]
  },
  {
   "cell_type": "code",
   "execution_count": 25,
   "id": "ec08d8a3",
   "metadata": {
    "execution": {
     "iopub.execute_input": "2023-01-10T03:43:26.225106Z",
     "iopub.status.busy": "2023-01-10T03:43:26.224650Z",
     "iopub.status.idle": "2023-01-10T03:43:26.234044Z",
     "shell.execute_reply": "2023-01-10T03:43:26.233041Z"
    },
    "papermill": {
     "duration": 0.036422,
     "end_time": "2023-01-10T03:43:26.236310",
     "exception": false,
     "start_time": "2023-01-10T03:43:26.199888",
     "status": "completed"
    },
    "tags": []
   },
   "outputs": [
    {
     "data": {
      "text/plain": [
       "0.01768642447418738"
      ]
     },
     "execution_count": 25,
     "metadata": {},
     "output_type": "execute_result"
    }
   ],
   "source": [
    "test['VIP']=1*(test['VIP'])\n",
    "test['VIP'].mean()"
   ]
  },
  {
   "cell_type": "code",
   "execution_count": 26,
   "id": "41ce8bfd",
   "metadata": {
    "execution": {
     "iopub.execute_input": "2023-01-10T03:43:26.286145Z",
     "iopub.status.busy": "2023-01-10T03:43:26.285717Z",
     "iopub.status.idle": "2023-01-10T03:43:26.292888Z",
     "shell.execute_reply": "2023-01-10T03:43:26.291880Z"
    },
    "papermill": {
     "duration": 0.034574,
     "end_time": "2023-01-10T03:43:26.295199",
     "exception": false,
     "start_time": "2023-01-10T03:43:26.260625",
     "status": "completed"
    },
    "tags": []
   },
   "outputs": [],
   "source": [
    "test['VIP']=test['VIP'].fillna(0)"
   ]
  },
  {
   "cell_type": "code",
   "execution_count": 27,
   "id": "de74ac33",
   "metadata": {
    "execution": {
     "iopub.execute_input": "2023-01-10T03:43:26.345873Z",
     "iopub.status.busy": "2023-01-10T03:43:26.344870Z",
     "iopub.status.idle": "2023-01-10T03:43:26.352025Z",
     "shell.execute_reply": "2023-01-10T03:43:26.350782Z"
    },
    "papermill": {
     "duration": 0.034631,
     "end_time": "2023-01-10T03:43:26.354250",
     "exception": false,
     "start_time": "2023-01-10T03:43:26.319619",
     "status": "completed"
    },
    "tags": []
   },
   "outputs": [
    {
     "data": {
      "text/plain": [
       "224.687617481203"
      ]
     },
     "execution_count": 27,
     "metadata": {},
     "output_type": "execute_result"
    }
   ],
   "source": [
    "train['RoomService'].mean()"
   ]
  },
  {
   "cell_type": "code",
   "execution_count": 28,
   "id": "6a4a3a3c",
   "metadata": {
    "execution": {
     "iopub.execute_input": "2023-01-10T03:43:26.403667Z",
     "iopub.status.busy": "2023-01-10T03:43:26.403278Z",
     "iopub.status.idle": "2023-01-10T03:43:26.448499Z",
     "shell.execute_reply": "2023-01-10T03:43:26.447311Z"
    },
    "papermill": {
     "duration": 0.072763,
     "end_time": "2023-01-10T03:43:26.451018",
     "exception": false,
     "start_time": "2023-01-10T03:43:26.378255",
     "status": "completed"
    },
    "tags": []
   },
   "outputs": [
    {
     "data": {
      "text/html": [
       "<div>\n",
       "<style scoped>\n",
       "    .dataframe tbody tr th:only-of-type {\n",
       "        vertical-align: middle;\n",
       "    }\n",
       "\n",
       "    .dataframe tbody tr th {\n",
       "        vertical-align: top;\n",
       "    }\n",
       "\n",
       "    .dataframe thead tr th {\n",
       "        text-align: left;\n",
       "    }\n",
       "\n",
       "    .dataframe thead tr:last-of-type th {\n",
       "        text-align: right;\n",
       "    }\n",
       "</style>\n",
       "<table border=\"1\" class=\"dataframe\">\n",
       "  <thead>\n",
       "    <tr>\n",
       "      <th></th>\n",
       "      <th></th>\n",
       "      <th></th>\n",
       "      <th></th>\n",
       "      <th>mean</th>\n",
       "      <th>median</th>\n",
       "    </tr>\n",
       "    <tr>\n",
       "      <th></th>\n",
       "      <th></th>\n",
       "      <th></th>\n",
       "      <th></th>\n",
       "      <th>RoomService</th>\n",
       "      <th>RoomService</th>\n",
       "    </tr>\n",
       "    <tr>\n",
       "      <th>HomePlanet</th>\n",
       "      <th>Age</th>\n",
       "      <th>CryoSleep</th>\n",
       "      <th>Destination</th>\n",
       "      <th></th>\n",
       "      <th></th>\n",
       "    </tr>\n",
       "  </thead>\n",
       "  <tbody>\n",
       "    <tr>\n",
       "      <th rowspan=\"5\" valign=\"top\">Earth</th>\n",
       "      <th rowspan=\"5\" valign=\"top\">0.0</th>\n",
       "      <th rowspan=\"2\" valign=\"top\">0</th>\n",
       "      <th>55 Cancri e</th>\n",
       "      <td>0.0</td>\n",
       "      <td>0.0</td>\n",
       "    </tr>\n",
       "    <tr>\n",
       "      <th>TRAPPIST-1e</th>\n",
       "      <td>0.0</td>\n",
       "      <td>0.0</td>\n",
       "    </tr>\n",
       "    <tr>\n",
       "      <th rowspan=\"3\" valign=\"top\">1</th>\n",
       "      <th>55 Cancri e</th>\n",
       "      <td>0.0</td>\n",
       "      <td>0.0</td>\n",
       "    </tr>\n",
       "    <tr>\n",
       "      <th>PSO J318.5-22</th>\n",
       "      <td>0.0</td>\n",
       "      <td>0.0</td>\n",
       "    </tr>\n",
       "    <tr>\n",
       "      <th>TRAPPIST-1e</th>\n",
       "      <td>0.0</td>\n",
       "      <td>0.0</td>\n",
       "    </tr>\n",
       "    <tr>\n",
       "      <th>...</th>\n",
       "      <th>...</th>\n",
       "      <th>...</th>\n",
       "      <th>...</th>\n",
       "      <td>...</td>\n",
       "      <td>...</td>\n",
       "    </tr>\n",
       "    <tr>\n",
       "      <th rowspan=\"5\" valign=\"top\">Mars</th>\n",
       "      <th rowspan=\"2\" valign=\"top\">71.0</th>\n",
       "      <th>0</th>\n",
       "      <th>TRAPPIST-1e</th>\n",
       "      <td>1072.0</td>\n",
       "      <td>1072.0</td>\n",
       "    </tr>\n",
       "    <tr>\n",
       "      <th>1</th>\n",
       "      <th>PSO J318.5-22</th>\n",
       "      <td>0.0</td>\n",
       "      <td>0.0</td>\n",
       "    </tr>\n",
       "    <tr>\n",
       "      <th>73.0</th>\n",
       "      <th>0</th>\n",
       "      <th>TRAPPIST-1e</th>\n",
       "      <td>413.0</td>\n",
       "      <td>413.0</td>\n",
       "    </tr>\n",
       "    <tr>\n",
       "      <th>75.0</th>\n",
       "      <th>1</th>\n",
       "      <th>TRAPPIST-1e</th>\n",
       "      <td>0.0</td>\n",
       "      <td>0.0</td>\n",
       "    </tr>\n",
       "    <tr>\n",
       "      <th>76.0</th>\n",
       "      <th>1</th>\n",
       "      <th>TRAPPIST-1e</th>\n",
       "      <td>0.0</td>\n",
       "      <td>0.0</td>\n",
       "    </tr>\n",
       "  </tbody>\n",
       "</table>\n",
       "<p>915 rows × 2 columns</p>\n",
       "</div>"
      ],
      "text/plain": [
       "                                               mean      median\n",
       "                                        RoomService RoomService\n",
       "HomePlanet Age  CryoSleep Destination                          \n",
       "Earth      0.0  0         55 Cancri e           0.0         0.0\n",
       "                          TRAPPIST-1e           0.0         0.0\n",
       "                1         55 Cancri e           0.0         0.0\n",
       "                          PSO J318.5-22         0.0         0.0\n",
       "                          TRAPPIST-1e           0.0         0.0\n",
       "...                                             ...         ...\n",
       "Mars       71.0 0         TRAPPIST-1e        1072.0      1072.0\n",
       "                1         PSO J318.5-22         0.0         0.0\n",
       "           73.0 0         TRAPPIST-1e         413.0       413.0\n",
       "           75.0 1         TRAPPIST-1e           0.0         0.0\n",
       "           76.0 1         TRAPPIST-1e           0.0         0.0\n",
       "\n",
       "[915 rows x 2 columns]"
      ]
     },
     "execution_count": 28,
     "metadata": {},
     "output_type": "execute_result"
    }
   ],
   "source": [
    "train.pivot_table(index=['HomePlanet','Age','CryoSleep','Destination'],values='RoomService',aggfunc=['mean','median'])"
   ]
  },
  {
   "cell_type": "code",
   "execution_count": 29,
   "id": "e6a81e46",
   "metadata": {
    "execution": {
     "iopub.execute_input": "2023-01-10T03:43:26.501671Z",
     "iopub.status.busy": "2023-01-10T03:43:26.501275Z",
     "iopub.status.idle": "2023-01-10T03:43:26.512179Z",
     "shell.execute_reply": "2023-01-10T03:43:26.511152Z"
    },
    "papermill": {
     "duration": 0.039329,
     "end_time": "2023-01-10T03:43:26.514685",
     "exception": false,
     "start_time": "2023-01-10T03:43:26.475356",
     "status": "completed"
    },
    "tags": []
   },
   "outputs": [],
   "source": [
    "train['RoomService']=train['RoomService'].fillna(train.groupby(['HomePlanet','Age','CryoSleep','Destination'])['RoomService'].transform('median'))"
   ]
  },
  {
   "cell_type": "code",
   "execution_count": 30,
   "id": "a1d62777",
   "metadata": {
    "execution": {
     "iopub.execute_input": "2023-01-10T03:43:26.566539Z",
     "iopub.status.busy": "2023-01-10T03:43:26.566127Z",
     "iopub.status.idle": "2023-01-10T03:43:26.572438Z",
     "shell.execute_reply": "2023-01-10T03:43:26.571340Z"
    },
    "papermill": {
     "duration": 0.034651,
     "end_time": "2023-01-10T03:43:26.574626",
     "exception": false,
     "start_time": "2023-01-10T03:43:26.539975",
     "status": "completed"
    },
    "tags": []
   },
   "outputs": [],
   "source": [
    "train['RoomService']=train['RoomService'].fillna(225)"
   ]
  },
  {
   "cell_type": "code",
   "execution_count": 31,
   "id": "015b4964",
   "metadata": {
    "execution": {
     "iopub.execute_input": "2023-01-10T03:43:26.624810Z",
     "iopub.status.busy": "2023-01-10T03:43:26.624358Z",
     "iopub.status.idle": "2023-01-10T03:43:26.631967Z",
     "shell.execute_reply": "2023-01-10T03:43:26.631013Z"
    },
    "papermill": {
     "duration": 0.035344,
     "end_time": "2023-01-10T03:43:26.634129",
     "exception": false,
     "start_time": "2023-01-10T03:43:26.598785",
     "status": "completed"
    },
    "tags": []
   },
   "outputs": [
    {
     "data": {
      "text/plain": [
       "219.26626936829558"
      ]
     },
     "execution_count": 31,
     "metadata": {},
     "output_type": "execute_result"
    }
   ],
   "source": [
    "test['RoomService'].mean()"
   ]
  },
  {
   "cell_type": "code",
   "execution_count": 32,
   "id": "45cfa079",
   "metadata": {
    "execution": {
     "iopub.execute_input": "2023-01-10T03:43:26.684827Z",
     "iopub.status.busy": "2023-01-10T03:43:26.684213Z",
     "iopub.status.idle": "2023-01-10T03:43:26.726693Z",
     "shell.execute_reply": "2023-01-10T03:43:26.725599Z"
    },
    "papermill": {
     "duration": 0.071206,
     "end_time": "2023-01-10T03:43:26.729516",
     "exception": false,
     "start_time": "2023-01-10T03:43:26.658310",
     "status": "completed"
    },
    "tags": []
   },
   "outputs": [
    {
     "data": {
      "text/html": [
       "<div>\n",
       "<style scoped>\n",
       "    .dataframe tbody tr th:only-of-type {\n",
       "        vertical-align: middle;\n",
       "    }\n",
       "\n",
       "    .dataframe tbody tr th {\n",
       "        vertical-align: top;\n",
       "    }\n",
       "\n",
       "    .dataframe thead tr th {\n",
       "        text-align: left;\n",
       "    }\n",
       "\n",
       "    .dataframe thead tr:last-of-type th {\n",
       "        text-align: right;\n",
       "    }\n",
       "</style>\n",
       "<table border=\"1\" class=\"dataframe\">\n",
       "  <thead>\n",
       "    <tr>\n",
       "      <th></th>\n",
       "      <th></th>\n",
       "      <th></th>\n",
       "      <th></th>\n",
       "      <th>mean</th>\n",
       "      <th>median</th>\n",
       "    </tr>\n",
       "    <tr>\n",
       "      <th></th>\n",
       "      <th></th>\n",
       "      <th></th>\n",
       "      <th></th>\n",
       "      <th>RoomService</th>\n",
       "      <th>RoomService</th>\n",
       "    </tr>\n",
       "    <tr>\n",
       "      <th>HomePlanet</th>\n",
       "      <th>Age</th>\n",
       "      <th>CryoSleep</th>\n",
       "      <th>Destination</th>\n",
       "      <th></th>\n",
       "      <th></th>\n",
       "    </tr>\n",
       "  </thead>\n",
       "  <tbody>\n",
       "    <tr>\n",
       "      <th rowspan=\"5\" valign=\"top\">Earth</th>\n",
       "      <th rowspan=\"5\" valign=\"top\">0.0</th>\n",
       "      <th rowspan=\"3\" valign=\"top\">False</th>\n",
       "      <th>55 Cancri e</th>\n",
       "      <td>0.0</td>\n",
       "      <td>0.0</td>\n",
       "    </tr>\n",
       "    <tr>\n",
       "      <th>PSO J318.5-22</th>\n",
       "      <td>0.0</td>\n",
       "      <td>0.0</td>\n",
       "    </tr>\n",
       "    <tr>\n",
       "      <th>TRAPPIST-1e</th>\n",
       "      <td>0.0</td>\n",
       "      <td>0.0</td>\n",
       "    </tr>\n",
       "    <tr>\n",
       "      <th rowspan=\"2\" valign=\"top\">True</th>\n",
       "      <th>55 Cancri e</th>\n",
       "      <td>0.0</td>\n",
       "      <td>0.0</td>\n",
       "    </tr>\n",
       "    <tr>\n",
       "      <th>PSO J318.5-22</th>\n",
       "      <td>0.0</td>\n",
       "      <td>0.0</td>\n",
       "    </tr>\n",
       "    <tr>\n",
       "      <th>...</th>\n",
       "      <th>...</th>\n",
       "      <th>...</th>\n",
       "      <th>...</th>\n",
       "      <td>...</td>\n",
       "      <td>...</td>\n",
       "    </tr>\n",
       "    <tr>\n",
       "      <th rowspan=\"5\" valign=\"top\">Mars</th>\n",
       "      <th>70.0</th>\n",
       "      <th>True</th>\n",
       "      <th>TRAPPIST-1e</th>\n",
       "      <td>0.0</td>\n",
       "      <td>0.0</td>\n",
       "    </tr>\n",
       "    <tr>\n",
       "      <th>71.0</th>\n",
       "      <th>True</th>\n",
       "      <th>TRAPPIST-1e</th>\n",
       "      <td>0.0</td>\n",
       "      <td>0.0</td>\n",
       "    </tr>\n",
       "    <tr>\n",
       "      <th>72.0</th>\n",
       "      <th>False</th>\n",
       "      <th>TRAPPIST-1e</th>\n",
       "      <td>2596.0</td>\n",
       "      <td>2596.0</td>\n",
       "    </tr>\n",
       "    <tr>\n",
       "      <th>73.0</th>\n",
       "      <th>False</th>\n",
       "      <th>TRAPPIST-1e</th>\n",
       "      <td>1263.5</td>\n",
       "      <td>1263.5</td>\n",
       "    </tr>\n",
       "    <tr>\n",
       "      <th>75.0</th>\n",
       "      <th>False</th>\n",
       "      <th>TRAPPIST-1e</th>\n",
       "      <td>940.0</td>\n",
       "      <td>940.0</td>\n",
       "    </tr>\n",
       "  </tbody>\n",
       "</table>\n",
       "<p>765 rows × 2 columns</p>\n",
       "</div>"
      ],
      "text/plain": [
       "                                               mean      median\n",
       "                                        RoomService RoomService\n",
       "HomePlanet Age  CryoSleep Destination                          \n",
       "Earth      0.0  False     55 Cancri e           0.0         0.0\n",
       "                          PSO J318.5-22         0.0         0.0\n",
       "                          TRAPPIST-1e           0.0         0.0\n",
       "                True      55 Cancri e           0.0         0.0\n",
       "                          PSO J318.5-22         0.0         0.0\n",
       "...                                             ...         ...\n",
       "Mars       70.0 True      TRAPPIST-1e           0.0         0.0\n",
       "           71.0 True      TRAPPIST-1e           0.0         0.0\n",
       "           72.0 False     TRAPPIST-1e        2596.0      2596.0\n",
       "           73.0 False     TRAPPIST-1e        1263.5      1263.5\n",
       "           75.0 False     TRAPPIST-1e         940.0       940.0\n",
       "\n",
       "[765 rows x 2 columns]"
      ]
     },
     "execution_count": 32,
     "metadata": {},
     "output_type": "execute_result"
    }
   ],
   "source": [
    "test.pivot_table(index=['HomePlanet','Age','CryoSleep','Destination'],values='RoomService',aggfunc=['mean','median'])"
   ]
  },
  {
   "cell_type": "code",
   "execution_count": 33,
   "id": "b3abfb68",
   "metadata": {
    "execution": {
     "iopub.execute_input": "2023-01-10T03:43:26.781229Z",
     "iopub.status.busy": "2023-01-10T03:43:26.780531Z",
     "iopub.status.idle": "2023-01-10T03:43:26.790105Z",
     "shell.execute_reply": "2023-01-10T03:43:26.789295Z"
    },
    "papermill": {
     "duration": 0.037848,
     "end_time": "2023-01-10T03:43:26.792250",
     "exception": false,
     "start_time": "2023-01-10T03:43:26.754402",
     "status": "completed"
    },
    "tags": []
   },
   "outputs": [],
   "source": [
    "test['RoomService']=test['RoomService'].fillna(test.groupby(['HomePlanet','Age','CryoSleep','Destination'])['RoomService'].transform('median'))"
   ]
  },
  {
   "cell_type": "code",
   "execution_count": 34,
   "id": "68f48ee0",
   "metadata": {
    "execution": {
     "iopub.execute_input": "2023-01-10T03:43:26.843239Z",
     "iopub.status.busy": "2023-01-10T03:43:26.842104Z",
     "iopub.status.idle": "2023-01-10T03:43:26.848439Z",
     "shell.execute_reply": "2023-01-10T03:43:26.847600Z"
    },
    "papermill": {
     "duration": 0.034072,
     "end_time": "2023-01-10T03:43:26.850653",
     "exception": false,
     "start_time": "2023-01-10T03:43:26.816581",
     "status": "completed"
    },
    "tags": []
   },
   "outputs": [],
   "source": [
    "test['RoomService']=test['RoomService'].fillna(219)"
   ]
  },
  {
   "cell_type": "code",
   "execution_count": 35,
   "id": "bcd80089",
   "metadata": {
    "execution": {
     "iopub.execute_input": "2023-01-10T03:43:26.902934Z",
     "iopub.status.busy": "2023-01-10T03:43:26.902244Z",
     "iopub.status.idle": "2023-01-10T03:43:26.909313Z",
     "shell.execute_reply": "2023-01-10T03:43:26.908243Z"
    },
    "papermill": {
     "duration": 0.035926,
     "end_time": "2023-01-10T03:43:26.911708",
     "exception": false,
     "start_time": "2023-01-10T03:43:26.875782",
     "status": "completed"
    },
    "tags": []
   },
   "outputs": [
    {
     "data": {
      "text/plain": [
       "458.07720329024676"
      ]
     },
     "execution_count": 35,
     "metadata": {},
     "output_type": "execute_result"
    }
   ],
   "source": [
    "train['FoodCourt'].mean()"
   ]
  },
  {
   "cell_type": "code",
   "execution_count": 36,
   "id": "65fd771c",
   "metadata": {
    "execution": {
     "iopub.execute_input": "2023-01-10T03:43:26.962813Z",
     "iopub.status.busy": "2023-01-10T03:43:26.962406Z",
     "iopub.status.idle": "2023-01-10T03:43:27.006215Z",
     "shell.execute_reply": "2023-01-10T03:43:27.004987Z"
    },
    "papermill": {
     "duration": 0.07263,
     "end_time": "2023-01-10T03:43:27.008882",
     "exception": false,
     "start_time": "2023-01-10T03:43:26.936252",
     "status": "completed"
    },
    "tags": []
   },
   "outputs": [
    {
     "data": {
      "text/html": [
       "<div>\n",
       "<style scoped>\n",
       "    .dataframe tbody tr th:only-of-type {\n",
       "        vertical-align: middle;\n",
       "    }\n",
       "\n",
       "    .dataframe tbody tr th {\n",
       "        vertical-align: top;\n",
       "    }\n",
       "\n",
       "    .dataframe thead tr th {\n",
       "        text-align: left;\n",
       "    }\n",
       "\n",
       "    .dataframe thead tr:last-of-type th {\n",
       "        text-align: right;\n",
       "    }\n",
       "</style>\n",
       "<table border=\"1\" class=\"dataframe\">\n",
       "  <thead>\n",
       "    <tr>\n",
       "      <th></th>\n",
       "      <th></th>\n",
       "      <th></th>\n",
       "      <th></th>\n",
       "      <th>mean</th>\n",
       "      <th>median</th>\n",
       "    </tr>\n",
       "    <tr>\n",
       "      <th></th>\n",
       "      <th></th>\n",
       "      <th></th>\n",
       "      <th></th>\n",
       "      <th>FoodCourt</th>\n",
       "      <th>FoodCourt</th>\n",
       "    </tr>\n",
       "    <tr>\n",
       "      <th>HomePlanet</th>\n",
       "      <th>Age</th>\n",
       "      <th>CryoSleep</th>\n",
       "      <th>Destination</th>\n",
       "      <th></th>\n",
       "      <th></th>\n",
       "    </tr>\n",
       "  </thead>\n",
       "  <tbody>\n",
       "    <tr>\n",
       "      <th rowspan=\"5\" valign=\"top\">Earth</th>\n",
       "      <th rowspan=\"5\" valign=\"top\">0.0</th>\n",
       "      <th rowspan=\"2\" valign=\"top\">0</th>\n",
       "      <th>55 Cancri e</th>\n",
       "      <td>0.0</td>\n",
       "      <td>0.0</td>\n",
       "    </tr>\n",
       "    <tr>\n",
       "      <th>TRAPPIST-1e</th>\n",
       "      <td>0.0</td>\n",
       "      <td>0.0</td>\n",
       "    </tr>\n",
       "    <tr>\n",
       "      <th rowspan=\"3\" valign=\"top\">1</th>\n",
       "      <th>55 Cancri e</th>\n",
       "      <td>0.0</td>\n",
       "      <td>0.0</td>\n",
       "    </tr>\n",
       "    <tr>\n",
       "      <th>PSO J318.5-22</th>\n",
       "      <td>0.0</td>\n",
       "      <td>0.0</td>\n",
       "    </tr>\n",
       "    <tr>\n",
       "      <th>TRAPPIST-1e</th>\n",
       "      <td>0.0</td>\n",
       "      <td>0.0</td>\n",
       "    </tr>\n",
       "    <tr>\n",
       "      <th>...</th>\n",
       "      <th>...</th>\n",
       "      <th>...</th>\n",
       "      <th>...</th>\n",
       "      <td>...</td>\n",
       "      <td>...</td>\n",
       "    </tr>\n",
       "    <tr>\n",
       "      <th rowspan=\"5\" valign=\"top\">Mars</th>\n",
       "      <th>71.0</th>\n",
       "      <th>1</th>\n",
       "      <th>PSO J318.5-22</th>\n",
       "      <td>0.0</td>\n",
       "      <td>0.0</td>\n",
       "    </tr>\n",
       "    <tr>\n",
       "      <th>72.0</th>\n",
       "      <th>1</th>\n",
       "      <th>TRAPPIST-1e</th>\n",
       "      <td>0.0</td>\n",
       "      <td>0.0</td>\n",
       "    </tr>\n",
       "    <tr>\n",
       "      <th>73.0</th>\n",
       "      <th>0</th>\n",
       "      <th>TRAPPIST-1e</th>\n",
       "      <td>1.0</td>\n",
       "      <td>1.0</td>\n",
       "    </tr>\n",
       "    <tr>\n",
       "      <th>75.0</th>\n",
       "      <th>1</th>\n",
       "      <th>TRAPPIST-1e</th>\n",
       "      <td>0.0</td>\n",
       "      <td>0.0</td>\n",
       "    </tr>\n",
       "    <tr>\n",
       "      <th>76.0</th>\n",
       "      <th>1</th>\n",
       "      <th>TRAPPIST-1e</th>\n",
       "      <td>0.0</td>\n",
       "      <td>0.0</td>\n",
       "    </tr>\n",
       "  </tbody>\n",
       "</table>\n",
       "<p>916 rows × 2 columns</p>\n",
       "</div>"
      ],
      "text/plain": [
       "                                             mean    median\n",
       "                                        FoodCourt FoodCourt\n",
       "HomePlanet Age  CryoSleep Destination                      \n",
       "Earth      0.0  0         55 Cancri e         0.0       0.0\n",
       "                          TRAPPIST-1e         0.0       0.0\n",
       "                1         55 Cancri e         0.0       0.0\n",
       "                          PSO J318.5-22       0.0       0.0\n",
       "                          TRAPPIST-1e         0.0       0.0\n",
       "...                                           ...       ...\n",
       "Mars       71.0 1         PSO J318.5-22       0.0       0.0\n",
       "           72.0 1         TRAPPIST-1e         0.0       0.0\n",
       "           73.0 0         TRAPPIST-1e         1.0       1.0\n",
       "           75.0 1         TRAPPIST-1e         0.0       0.0\n",
       "           76.0 1         TRAPPIST-1e         0.0       0.0\n",
       "\n",
       "[916 rows x 2 columns]"
      ]
     },
     "execution_count": 36,
     "metadata": {},
     "output_type": "execute_result"
    }
   ],
   "source": [
    "train.pivot_table(index=['HomePlanet','Age','CryoSleep','Destination'],values='FoodCourt',aggfunc=['mean','median'])"
   ]
  },
  {
   "cell_type": "code",
   "execution_count": 37,
   "id": "e65e3641",
   "metadata": {
    "execution": {
     "iopub.execute_input": "2023-01-10T03:43:27.061432Z",
     "iopub.status.busy": "2023-01-10T03:43:27.061031Z",
     "iopub.status.idle": "2023-01-10T03:43:27.071503Z",
     "shell.execute_reply": "2023-01-10T03:43:27.070704Z"
    },
    "papermill": {
     "duration": 0.039032,
     "end_time": "2023-01-10T03:43:27.073653",
     "exception": false,
     "start_time": "2023-01-10T03:43:27.034621",
     "status": "completed"
    },
    "tags": []
   },
   "outputs": [],
   "source": [
    "train['FoodCourt']=train['FoodCourt'].fillna(train.groupby(['HomePlanet','Age','CryoSleep','Destination'])['FoodCourt'].transform('median'))"
   ]
  },
  {
   "cell_type": "code",
   "execution_count": 38,
   "id": "15eea41d",
   "metadata": {
    "execution": {
     "iopub.execute_input": "2023-01-10T03:43:27.127864Z",
     "iopub.status.busy": "2023-01-10T03:43:27.127116Z",
     "iopub.status.idle": "2023-01-10T03:43:27.132247Z",
     "shell.execute_reply": "2023-01-10T03:43:27.131462Z"
    },
    "papermill": {
     "duration": 0.034352,
     "end_time": "2023-01-10T03:43:27.134298",
     "exception": false,
     "start_time": "2023-01-10T03:43:27.099946",
     "status": "completed"
    },
    "tags": []
   },
   "outputs": [],
   "source": [
    "train['FoodCourt']=train['FoodCourt'].fillna(458)"
   ]
  },
  {
   "cell_type": "code",
   "execution_count": 39,
   "id": "8c0faba2",
   "metadata": {
    "execution": {
     "iopub.execute_input": "2023-01-10T03:43:27.186668Z",
     "iopub.status.busy": "2023-01-10T03:43:27.185979Z",
     "iopub.status.idle": "2023-01-10T03:43:27.192661Z",
     "shell.execute_reply": "2023-01-10T03:43:27.191911Z"
    },
    "papermill": {
     "duration": 0.03557,
     "end_time": "2023-01-10T03:43:27.194800",
     "exception": false,
     "start_time": "2023-01-10T03:43:27.159230",
     "status": "completed"
    },
    "tags": []
   },
   "outputs": [
    {
     "data": {
      "text/plain": [
       "439.4842963318149"
      ]
     },
     "execution_count": 39,
     "metadata": {},
     "output_type": "execute_result"
    }
   ],
   "source": [
    "test['FoodCourt'].mean()"
   ]
  },
  {
   "cell_type": "code",
   "execution_count": 40,
   "id": "e1da452d",
   "metadata": {
    "execution": {
     "iopub.execute_input": "2023-01-10T03:43:27.247111Z",
     "iopub.status.busy": "2023-01-10T03:43:27.246648Z",
     "iopub.status.idle": "2023-01-10T03:43:27.288791Z",
     "shell.execute_reply": "2023-01-10T03:43:27.287581Z"
    },
    "papermill": {
     "duration": 0.07112,
     "end_time": "2023-01-10T03:43:27.291301",
     "exception": false,
     "start_time": "2023-01-10T03:43:27.220181",
     "status": "completed"
    },
    "tags": []
   },
   "outputs": [
    {
     "data": {
      "text/html": [
       "<div>\n",
       "<style scoped>\n",
       "    .dataframe tbody tr th:only-of-type {\n",
       "        vertical-align: middle;\n",
       "    }\n",
       "\n",
       "    .dataframe tbody tr th {\n",
       "        vertical-align: top;\n",
       "    }\n",
       "\n",
       "    .dataframe thead tr th {\n",
       "        text-align: left;\n",
       "    }\n",
       "\n",
       "    .dataframe thead tr:last-of-type th {\n",
       "        text-align: right;\n",
       "    }\n",
       "</style>\n",
       "<table border=\"1\" class=\"dataframe\">\n",
       "  <thead>\n",
       "    <tr>\n",
       "      <th></th>\n",
       "      <th></th>\n",
       "      <th></th>\n",
       "      <th></th>\n",
       "      <th>mean</th>\n",
       "      <th>median</th>\n",
       "    </tr>\n",
       "    <tr>\n",
       "      <th></th>\n",
       "      <th></th>\n",
       "      <th></th>\n",
       "      <th></th>\n",
       "      <th>FoodCourt</th>\n",
       "      <th>FoodCourt</th>\n",
       "    </tr>\n",
       "    <tr>\n",
       "      <th>HomePlanet</th>\n",
       "      <th>Age</th>\n",
       "      <th>CryoSleep</th>\n",
       "      <th>Destination</th>\n",
       "      <th></th>\n",
       "      <th></th>\n",
       "    </tr>\n",
       "  </thead>\n",
       "  <tbody>\n",
       "    <tr>\n",
       "      <th rowspan=\"5\" valign=\"top\">Earth</th>\n",
       "      <th rowspan=\"5\" valign=\"top\">0.0</th>\n",
       "      <th rowspan=\"3\" valign=\"top\">False</th>\n",
       "      <th>55 Cancri e</th>\n",
       "      <td>0.0</td>\n",
       "      <td>0.0</td>\n",
       "    </tr>\n",
       "    <tr>\n",
       "      <th>PSO J318.5-22</th>\n",
       "      <td>0.0</td>\n",
       "      <td>0.0</td>\n",
       "    </tr>\n",
       "    <tr>\n",
       "      <th>TRAPPIST-1e</th>\n",
       "      <td>0.0</td>\n",
       "      <td>0.0</td>\n",
       "    </tr>\n",
       "    <tr>\n",
       "      <th rowspan=\"2\" valign=\"top\">True</th>\n",
       "      <th>55 Cancri e</th>\n",
       "      <td>0.0</td>\n",
       "      <td>0.0</td>\n",
       "    </tr>\n",
       "    <tr>\n",
       "      <th>PSO J318.5-22</th>\n",
       "      <td>0.0</td>\n",
       "      <td>0.0</td>\n",
       "    </tr>\n",
       "    <tr>\n",
       "      <th>...</th>\n",
       "      <th>...</th>\n",
       "      <th>...</th>\n",
       "      <th>...</th>\n",
       "      <td>...</td>\n",
       "      <td>...</td>\n",
       "    </tr>\n",
       "    <tr>\n",
       "      <th rowspan=\"5\" valign=\"top\">Mars</th>\n",
       "      <th>70.0</th>\n",
       "      <th>True</th>\n",
       "      <th>TRAPPIST-1e</th>\n",
       "      <td>0.0</td>\n",
       "      <td>0.0</td>\n",
       "    </tr>\n",
       "    <tr>\n",
       "      <th>71.0</th>\n",
       "      <th>True</th>\n",
       "      <th>TRAPPIST-1e</th>\n",
       "      <td>0.0</td>\n",
       "      <td>0.0</td>\n",
       "    </tr>\n",
       "    <tr>\n",
       "      <th>72.0</th>\n",
       "      <th>False</th>\n",
       "      <th>TRAPPIST-1e</th>\n",
       "      <td>0.0</td>\n",
       "      <td>0.0</td>\n",
       "    </tr>\n",
       "    <tr>\n",
       "      <th>73.0</th>\n",
       "      <th>False</th>\n",
       "      <th>TRAPPIST-1e</th>\n",
       "      <td>42.5</td>\n",
       "      <td>42.5</td>\n",
       "    </tr>\n",
       "    <tr>\n",
       "      <th>75.0</th>\n",
       "      <th>False</th>\n",
       "      <th>TRAPPIST-1e</th>\n",
       "      <td>0.0</td>\n",
       "      <td>0.0</td>\n",
       "    </tr>\n",
       "  </tbody>\n",
       "</table>\n",
       "<p>765 rows × 2 columns</p>\n",
       "</div>"
      ],
      "text/plain": [
       "                                             mean    median\n",
       "                                        FoodCourt FoodCourt\n",
       "HomePlanet Age  CryoSleep Destination                      \n",
       "Earth      0.0  False     55 Cancri e         0.0       0.0\n",
       "                          PSO J318.5-22       0.0       0.0\n",
       "                          TRAPPIST-1e         0.0       0.0\n",
       "                True      55 Cancri e         0.0       0.0\n",
       "                          PSO J318.5-22       0.0       0.0\n",
       "...                                           ...       ...\n",
       "Mars       70.0 True      TRAPPIST-1e         0.0       0.0\n",
       "           71.0 True      TRAPPIST-1e         0.0       0.0\n",
       "           72.0 False     TRAPPIST-1e         0.0       0.0\n",
       "           73.0 False     TRAPPIST-1e        42.5      42.5\n",
       "           75.0 False     TRAPPIST-1e         0.0       0.0\n",
       "\n",
       "[765 rows x 2 columns]"
      ]
     },
     "execution_count": 40,
     "metadata": {},
     "output_type": "execute_result"
    }
   ],
   "source": [
    "test.pivot_table(index=['HomePlanet','Age','CryoSleep','Destination'],values='FoodCourt',aggfunc=['mean','median'])"
   ]
  },
  {
   "cell_type": "code",
   "execution_count": 41,
   "id": "0c702639",
   "metadata": {
    "execution": {
     "iopub.execute_input": "2023-01-10T03:43:27.344591Z",
     "iopub.status.busy": "2023-01-10T03:43:27.343804Z",
     "iopub.status.idle": "2023-01-10T03:43:27.354028Z",
     "shell.execute_reply": "2023-01-10T03:43:27.352997Z"
    },
    "papermill": {
     "duration": 0.039522,
     "end_time": "2023-01-10T03:43:27.356558",
     "exception": false,
     "start_time": "2023-01-10T03:43:27.317036",
     "status": "completed"
    },
    "tags": []
   },
   "outputs": [],
   "source": [
    "test['FoodCourt']=test['FoodCourt'].fillna(test.groupby(['HomePlanet','Age','CryoSleep','Destination'])['FoodCourt'].transform('median'))"
   ]
  },
  {
   "cell_type": "code",
   "execution_count": 42,
   "id": "42331eb6",
   "metadata": {
    "execution": {
     "iopub.execute_input": "2023-01-10T03:43:27.409682Z",
     "iopub.status.busy": "2023-01-10T03:43:27.408333Z",
     "iopub.status.idle": "2023-01-10T03:43:27.414863Z",
     "shell.execute_reply": "2023-01-10T03:43:27.414035Z"
    },
    "papermill": {
     "duration": 0.035413,
     "end_time": "2023-01-10T03:43:27.417119",
     "exception": false,
     "start_time": "2023-01-10T03:43:27.381706",
     "status": "completed"
    },
    "tags": []
   },
   "outputs": [],
   "source": [
    "test['FoodCourt']=test['FoodCourt'].fillna(439)"
   ]
  },
  {
   "cell_type": "code",
   "execution_count": 43,
   "id": "11070dcc",
   "metadata": {
    "execution": {
     "iopub.execute_input": "2023-01-10T03:43:27.469794Z",
     "iopub.status.busy": "2023-01-10T03:43:27.469089Z",
     "iopub.status.idle": "2023-01-10T03:43:27.476575Z",
     "shell.execute_reply": "2023-01-10T03:43:27.475636Z"
    },
    "papermill": {
     "duration": 0.036427,
     "end_time": "2023-01-10T03:43:27.478741",
     "exception": false,
     "start_time": "2023-01-10T03:43:27.442314",
     "status": "completed"
    },
    "tags": []
   },
   "outputs": [
    {
     "data": {
      "text/plain": [
       "173.72916912197996"
      ]
     },
     "execution_count": 43,
     "metadata": {},
     "output_type": "execute_result"
    }
   ],
   "source": [
    "train['ShoppingMall'].mean()"
   ]
  },
  {
   "cell_type": "code",
   "execution_count": 44,
   "id": "cb47dadd",
   "metadata": {
    "execution": {
     "iopub.execute_input": "2023-01-10T03:43:27.530836Z",
     "iopub.status.busy": "2023-01-10T03:43:27.530373Z",
     "iopub.status.idle": "2023-01-10T03:43:27.573657Z",
     "shell.execute_reply": "2023-01-10T03:43:27.572482Z"
    },
    "papermill": {
     "duration": 0.072093,
     "end_time": "2023-01-10T03:43:27.575959",
     "exception": false,
     "start_time": "2023-01-10T03:43:27.503866",
     "status": "completed"
    },
    "tags": []
   },
   "outputs": [
    {
     "data": {
      "text/html": [
       "<div>\n",
       "<style scoped>\n",
       "    .dataframe tbody tr th:only-of-type {\n",
       "        vertical-align: middle;\n",
       "    }\n",
       "\n",
       "    .dataframe tbody tr th {\n",
       "        vertical-align: top;\n",
       "    }\n",
       "\n",
       "    .dataframe thead tr th {\n",
       "        text-align: left;\n",
       "    }\n",
       "\n",
       "    .dataframe thead tr:last-of-type th {\n",
       "        text-align: right;\n",
       "    }\n",
       "</style>\n",
       "<table border=\"1\" class=\"dataframe\">\n",
       "  <thead>\n",
       "    <tr>\n",
       "      <th></th>\n",
       "      <th></th>\n",
       "      <th></th>\n",
       "      <th></th>\n",
       "      <th>mean</th>\n",
       "      <th>median</th>\n",
       "    </tr>\n",
       "    <tr>\n",
       "      <th></th>\n",
       "      <th></th>\n",
       "      <th></th>\n",
       "      <th></th>\n",
       "      <th>ShoppingMall</th>\n",
       "      <th>ShoppingMall</th>\n",
       "    </tr>\n",
       "    <tr>\n",
       "      <th>HomePlanet</th>\n",
       "      <th>Age</th>\n",
       "      <th>CryoSleep</th>\n",
       "      <th>Destination</th>\n",
       "      <th></th>\n",
       "      <th></th>\n",
       "    </tr>\n",
       "  </thead>\n",
       "  <tbody>\n",
       "    <tr>\n",
       "      <th rowspan=\"5\" valign=\"top\">Earth</th>\n",
       "      <th rowspan=\"5\" valign=\"top\">0.0</th>\n",
       "      <th rowspan=\"2\" valign=\"top\">0</th>\n",
       "      <th>55 Cancri e</th>\n",
       "      <td>0.0</td>\n",
       "      <td>0.0</td>\n",
       "    </tr>\n",
       "    <tr>\n",
       "      <th>TRAPPIST-1e</th>\n",
       "      <td>0.0</td>\n",
       "      <td>0.0</td>\n",
       "    </tr>\n",
       "    <tr>\n",
       "      <th rowspan=\"3\" valign=\"top\">1</th>\n",
       "      <th>55 Cancri e</th>\n",
       "      <td>0.0</td>\n",
       "      <td>0.0</td>\n",
       "    </tr>\n",
       "    <tr>\n",
       "      <th>PSO J318.5-22</th>\n",
       "      <td>0.0</td>\n",
       "      <td>0.0</td>\n",
       "    </tr>\n",
       "    <tr>\n",
       "      <th>TRAPPIST-1e</th>\n",
       "      <td>0.0</td>\n",
       "      <td>0.0</td>\n",
       "    </tr>\n",
       "    <tr>\n",
       "      <th>...</th>\n",
       "      <th>...</th>\n",
       "      <th>...</th>\n",
       "      <th>...</th>\n",
       "      <td>...</td>\n",
       "      <td>...</td>\n",
       "    </tr>\n",
       "    <tr>\n",
       "      <th rowspan=\"5\" valign=\"top\">Mars</th>\n",
       "      <th>71.0</th>\n",
       "      <th>1</th>\n",
       "      <th>PSO J318.5-22</th>\n",
       "      <td>0.0</td>\n",
       "      <td>0.0</td>\n",
       "    </tr>\n",
       "    <tr>\n",
       "      <th>72.0</th>\n",
       "      <th>1</th>\n",
       "      <th>TRAPPIST-1e</th>\n",
       "      <td>0.0</td>\n",
       "      <td>0.0</td>\n",
       "    </tr>\n",
       "    <tr>\n",
       "      <th>73.0</th>\n",
       "      <th>0</th>\n",
       "      <th>TRAPPIST-1e</th>\n",
       "      <td>130.5</td>\n",
       "      <td>130.5</td>\n",
       "    </tr>\n",
       "    <tr>\n",
       "      <th>75.0</th>\n",
       "      <th>1</th>\n",
       "      <th>TRAPPIST-1e</th>\n",
       "      <td>0.0</td>\n",
       "      <td>0.0</td>\n",
       "    </tr>\n",
       "    <tr>\n",
       "      <th>76.0</th>\n",
       "      <th>1</th>\n",
       "      <th>TRAPPIST-1e</th>\n",
       "      <td>0.0</td>\n",
       "      <td>0.0</td>\n",
       "    </tr>\n",
       "  </tbody>\n",
       "</table>\n",
       "<p>919 rows × 2 columns</p>\n",
       "</div>"
      ],
      "text/plain": [
       "                                                mean       median\n",
       "                                        ShoppingMall ShoppingMall\n",
       "HomePlanet Age  CryoSleep Destination                            \n",
       "Earth      0.0  0         55 Cancri e            0.0          0.0\n",
       "                          TRAPPIST-1e            0.0          0.0\n",
       "                1         55 Cancri e            0.0          0.0\n",
       "                          PSO J318.5-22          0.0          0.0\n",
       "                          TRAPPIST-1e            0.0          0.0\n",
       "...                                              ...          ...\n",
       "Mars       71.0 1         PSO J318.5-22          0.0          0.0\n",
       "           72.0 1         TRAPPIST-1e            0.0          0.0\n",
       "           73.0 0         TRAPPIST-1e          130.5        130.5\n",
       "           75.0 1         TRAPPIST-1e            0.0          0.0\n",
       "           76.0 1         TRAPPIST-1e            0.0          0.0\n",
       "\n",
       "[919 rows x 2 columns]"
      ]
     },
     "execution_count": 44,
     "metadata": {},
     "output_type": "execute_result"
    }
   ],
   "source": [
    "train.pivot_table(index=['HomePlanet','Age','CryoSleep','Destination'],values='ShoppingMall',aggfunc=['mean','median'])"
   ]
  },
  {
   "cell_type": "code",
   "execution_count": 45,
   "id": "55f681d3",
   "metadata": {
    "execution": {
     "iopub.execute_input": "2023-01-10T03:43:27.629158Z",
     "iopub.status.busy": "2023-01-10T03:43:27.628066Z",
     "iopub.status.idle": "2023-01-10T03:43:27.639333Z",
     "shell.execute_reply": "2023-01-10T03:43:27.638513Z"
    },
    "papermill": {
     "duration": 0.040315,
     "end_time": "2023-01-10T03:43:27.641652",
     "exception": false,
     "start_time": "2023-01-10T03:43:27.601337",
     "status": "completed"
    },
    "tags": []
   },
   "outputs": [],
   "source": [
    "train['ShoppingMall']=train['ShoppingMall'].fillna(train.groupby(['HomePlanet','Age','CryoSleep','Destination'])['ShoppingMall'].transform('median'))"
   ]
  },
  {
   "cell_type": "code",
   "execution_count": 46,
   "id": "cb82765f",
   "metadata": {
    "execution": {
     "iopub.execute_input": "2023-01-10T03:43:27.695232Z",
     "iopub.status.busy": "2023-01-10T03:43:27.694359Z",
     "iopub.status.idle": "2023-01-10T03:43:27.700511Z",
     "shell.execute_reply": "2023-01-10T03:43:27.699279Z"
    },
    "papermill": {
     "duration": 0.035456,
     "end_time": "2023-01-10T03:43:27.702695",
     "exception": false,
     "start_time": "2023-01-10T03:43:27.667239",
     "status": "completed"
    },
    "tags": []
   },
   "outputs": [],
   "source": [
    "train['ShoppingMall']=train['ShoppingMall'].fillna(173)"
   ]
  },
  {
   "cell_type": "code",
   "execution_count": 47,
   "id": "92107e59",
   "metadata": {
    "execution": {
     "iopub.execute_input": "2023-01-10T03:43:27.756336Z",
     "iopub.status.busy": "2023-01-10T03:43:27.755897Z",
     "iopub.status.idle": "2023-01-10T03:43:27.763317Z",
     "shell.execute_reply": "2023-01-10T03:43:27.762282Z"
    },
    "papermill": {
     "duration": 0.036507,
     "end_time": "2023-01-10T03:43:27.765368",
     "exception": false,
     "start_time": "2023-01-10T03:43:27.728861",
     "status": "completed"
    },
    "tags": []
   },
   "outputs": [
    {
     "data": {
      "text/plain": [
       "177.29552524527398"
      ]
     },
     "execution_count": 47,
     "metadata": {},
     "output_type": "execute_result"
    }
   ],
   "source": [
    "test['ShoppingMall'].mean()"
   ]
  },
  {
   "cell_type": "code",
   "execution_count": 48,
   "id": "4057ac83",
   "metadata": {
    "execution": {
     "iopub.execute_input": "2023-01-10T03:43:27.819063Z",
     "iopub.status.busy": "2023-01-10T03:43:27.818355Z",
     "iopub.status.idle": "2023-01-10T03:43:27.859098Z",
     "shell.execute_reply": "2023-01-10T03:43:27.857890Z"
    },
    "papermill": {
     "duration": 0.070456,
     "end_time": "2023-01-10T03:43:27.861491",
     "exception": false,
     "start_time": "2023-01-10T03:43:27.791035",
     "status": "completed"
    },
    "tags": []
   },
   "outputs": [
    {
     "data": {
      "text/html": [
       "<div>\n",
       "<style scoped>\n",
       "    .dataframe tbody tr th:only-of-type {\n",
       "        vertical-align: middle;\n",
       "    }\n",
       "\n",
       "    .dataframe tbody tr th {\n",
       "        vertical-align: top;\n",
       "    }\n",
       "\n",
       "    .dataframe thead tr th {\n",
       "        text-align: left;\n",
       "    }\n",
       "\n",
       "    .dataframe thead tr:last-of-type th {\n",
       "        text-align: right;\n",
       "    }\n",
       "</style>\n",
       "<table border=\"1\" class=\"dataframe\">\n",
       "  <thead>\n",
       "    <tr>\n",
       "      <th></th>\n",
       "      <th></th>\n",
       "      <th></th>\n",
       "      <th></th>\n",
       "      <th>mean</th>\n",
       "      <th>median</th>\n",
       "    </tr>\n",
       "    <tr>\n",
       "      <th></th>\n",
       "      <th></th>\n",
       "      <th></th>\n",
       "      <th></th>\n",
       "      <th>ShoppingMall</th>\n",
       "      <th>ShoppingMall</th>\n",
       "    </tr>\n",
       "    <tr>\n",
       "      <th>HomePlanet</th>\n",
       "      <th>Age</th>\n",
       "      <th>CryoSleep</th>\n",
       "      <th>Destination</th>\n",
       "      <th></th>\n",
       "      <th></th>\n",
       "    </tr>\n",
       "  </thead>\n",
       "  <tbody>\n",
       "    <tr>\n",
       "      <th rowspan=\"5\" valign=\"top\">Earth</th>\n",
       "      <th rowspan=\"5\" valign=\"top\">0.0</th>\n",
       "      <th rowspan=\"3\" valign=\"top\">False</th>\n",
       "      <th>55 Cancri e</th>\n",
       "      <td>0.0</td>\n",
       "      <td>0.0</td>\n",
       "    </tr>\n",
       "    <tr>\n",
       "      <th>PSO J318.5-22</th>\n",
       "      <td>0.0</td>\n",
       "      <td>0.0</td>\n",
       "    </tr>\n",
       "    <tr>\n",
       "      <th>TRAPPIST-1e</th>\n",
       "      <td>0.0</td>\n",
       "      <td>0.0</td>\n",
       "    </tr>\n",
       "    <tr>\n",
       "      <th rowspan=\"2\" valign=\"top\">True</th>\n",
       "      <th>55 Cancri e</th>\n",
       "      <td>0.0</td>\n",
       "      <td>0.0</td>\n",
       "    </tr>\n",
       "    <tr>\n",
       "      <th>PSO J318.5-22</th>\n",
       "      <td>0.0</td>\n",
       "      <td>0.0</td>\n",
       "    </tr>\n",
       "    <tr>\n",
       "      <th>...</th>\n",
       "      <th>...</th>\n",
       "      <th>...</th>\n",
       "      <th>...</th>\n",
       "      <td>...</td>\n",
       "      <td>...</td>\n",
       "    </tr>\n",
       "    <tr>\n",
       "      <th rowspan=\"5\" valign=\"top\">Mars</th>\n",
       "      <th>69.0</th>\n",
       "      <th>False</th>\n",
       "      <th>TRAPPIST-1e</th>\n",
       "      <td>1131.0</td>\n",
       "      <td>1131.0</td>\n",
       "    </tr>\n",
       "    <tr>\n",
       "      <th>70.0</th>\n",
       "      <th>True</th>\n",
       "      <th>TRAPPIST-1e</th>\n",
       "      <td>0.0</td>\n",
       "      <td>0.0</td>\n",
       "    </tr>\n",
       "    <tr>\n",
       "      <th>72.0</th>\n",
       "      <th>False</th>\n",
       "      <th>TRAPPIST-1e</th>\n",
       "      <td>193.0</td>\n",
       "      <td>193.0</td>\n",
       "    </tr>\n",
       "    <tr>\n",
       "      <th>73.0</th>\n",
       "      <th>False</th>\n",
       "      <th>TRAPPIST-1e</th>\n",
       "      <td>662.5</td>\n",
       "      <td>662.5</td>\n",
       "    </tr>\n",
       "    <tr>\n",
       "      <th>75.0</th>\n",
       "      <th>False</th>\n",
       "      <th>TRAPPIST-1e</th>\n",
       "      <td>0.0</td>\n",
       "      <td>0.0</td>\n",
       "    </tr>\n",
       "  </tbody>\n",
       "</table>\n",
       "<p>763 rows × 2 columns</p>\n",
       "</div>"
      ],
      "text/plain": [
       "                                                mean       median\n",
       "                                        ShoppingMall ShoppingMall\n",
       "HomePlanet Age  CryoSleep Destination                            \n",
       "Earth      0.0  False     55 Cancri e            0.0          0.0\n",
       "                          PSO J318.5-22          0.0          0.0\n",
       "                          TRAPPIST-1e            0.0          0.0\n",
       "                True      55 Cancri e            0.0          0.0\n",
       "                          PSO J318.5-22          0.0          0.0\n",
       "...                                              ...          ...\n",
       "Mars       69.0 False     TRAPPIST-1e         1131.0       1131.0\n",
       "           70.0 True      TRAPPIST-1e            0.0          0.0\n",
       "           72.0 False     TRAPPIST-1e          193.0        193.0\n",
       "           73.0 False     TRAPPIST-1e          662.5        662.5\n",
       "           75.0 False     TRAPPIST-1e            0.0          0.0\n",
       "\n",
       "[763 rows x 2 columns]"
      ]
     },
     "execution_count": 48,
     "metadata": {},
     "output_type": "execute_result"
    }
   ],
   "source": [
    "test.pivot_table(index=['HomePlanet','Age','CryoSleep','Destination'],values='ShoppingMall',aggfunc=['mean','median'])"
   ]
  },
  {
   "cell_type": "code",
   "execution_count": 49,
   "id": "3f80408c",
   "metadata": {
    "execution": {
     "iopub.execute_input": "2023-01-10T03:43:27.915432Z",
     "iopub.status.busy": "2023-01-10T03:43:27.915020Z",
     "iopub.status.idle": "2023-01-10T03:43:27.925843Z",
     "shell.execute_reply": "2023-01-10T03:43:27.924890Z"
    },
    "papermill": {
     "duration": 0.04068,
     "end_time": "2023-01-10T03:43:27.928268",
     "exception": false,
     "start_time": "2023-01-10T03:43:27.887588",
     "status": "completed"
    },
    "tags": []
   },
   "outputs": [],
   "source": [
    "test['ShoppingMall']=test['ShoppingMall'].fillna(test.groupby(['HomePlanet','Age','CryoSleep','Destination'])['ShoppingMall'].transform('median'))"
   ]
  },
  {
   "cell_type": "code",
   "execution_count": 50,
   "id": "3cc4745e",
   "metadata": {
    "execution": {
     "iopub.execute_input": "2023-01-10T03:43:27.982019Z",
     "iopub.status.busy": "2023-01-10T03:43:27.981562Z",
     "iopub.status.idle": "2023-01-10T03:43:27.987271Z",
     "shell.execute_reply": "2023-01-10T03:43:27.986310Z"
    },
    "papermill": {
     "duration": 0.03534,
     "end_time": "2023-01-10T03:43:27.989582",
     "exception": false,
     "start_time": "2023-01-10T03:43:27.954242",
     "status": "completed"
    },
    "tags": []
   },
   "outputs": [],
   "source": [
    "test['ShoppingMall']=test['ShoppingMall'].fillna(177)"
   ]
  },
  {
   "cell_type": "code",
   "execution_count": 51,
   "id": "21ae4752",
   "metadata": {
    "execution": {
     "iopub.execute_input": "2023-01-10T03:43:28.044238Z",
     "iopub.status.busy": "2023-01-10T03:43:28.043832Z",
     "iopub.status.idle": "2023-01-10T03:43:28.051900Z",
     "shell.execute_reply": "2023-01-10T03:43:28.050807Z"
    },
    "papermill": {
     "duration": 0.038469,
     "end_time": "2023-01-10T03:43:28.054225",
     "exception": false,
     "start_time": "2023-01-10T03:43:28.015756",
     "status": "completed"
    },
    "tags": []
   },
   "outputs": [
    {
     "data": {
      "text/plain": [
       "311.1387779083431"
      ]
     },
     "execution_count": 51,
     "metadata": {},
     "output_type": "execute_result"
    }
   ],
   "source": [
    "train['Spa'].mean()"
   ]
  },
  {
   "cell_type": "code",
   "execution_count": 52,
   "id": "1671518a",
   "metadata": {
    "execution": {
     "iopub.execute_input": "2023-01-10T03:43:28.108300Z",
     "iopub.status.busy": "2023-01-10T03:43:28.107900Z",
     "iopub.status.idle": "2023-01-10T03:43:28.151720Z",
     "shell.execute_reply": "2023-01-10T03:43:28.150619Z"
    },
    "papermill": {
     "duration": 0.073819,
     "end_time": "2023-01-10T03:43:28.154129",
     "exception": false,
     "start_time": "2023-01-10T03:43:28.080310",
     "status": "completed"
    },
    "tags": []
   },
   "outputs": [
    {
     "data": {
      "text/html": [
       "<div>\n",
       "<style scoped>\n",
       "    .dataframe tbody tr th:only-of-type {\n",
       "        vertical-align: middle;\n",
       "    }\n",
       "\n",
       "    .dataframe tbody tr th {\n",
       "        vertical-align: top;\n",
       "    }\n",
       "\n",
       "    .dataframe thead tr th {\n",
       "        text-align: left;\n",
       "    }\n",
       "\n",
       "    .dataframe thead tr:last-of-type th {\n",
       "        text-align: right;\n",
       "    }\n",
       "</style>\n",
       "<table border=\"1\" class=\"dataframe\">\n",
       "  <thead>\n",
       "    <tr>\n",
       "      <th></th>\n",
       "      <th></th>\n",
       "      <th></th>\n",
       "      <th></th>\n",
       "      <th>mean</th>\n",
       "      <th>median</th>\n",
       "    </tr>\n",
       "    <tr>\n",
       "      <th></th>\n",
       "      <th></th>\n",
       "      <th></th>\n",
       "      <th></th>\n",
       "      <th>Spa</th>\n",
       "      <th>Spa</th>\n",
       "    </tr>\n",
       "    <tr>\n",
       "      <th>HomePlanet</th>\n",
       "      <th>Age</th>\n",
       "      <th>CryoSleep</th>\n",
       "      <th>Destination</th>\n",
       "      <th></th>\n",
       "      <th></th>\n",
       "    </tr>\n",
       "  </thead>\n",
       "  <tbody>\n",
       "    <tr>\n",
       "      <th rowspan=\"5\" valign=\"top\">Earth</th>\n",
       "      <th rowspan=\"5\" valign=\"top\">0.0</th>\n",
       "      <th rowspan=\"2\" valign=\"top\">0</th>\n",
       "      <th>55 Cancri e</th>\n",
       "      <td>0.0</td>\n",
       "      <td>0.0</td>\n",
       "    </tr>\n",
       "    <tr>\n",
       "      <th>TRAPPIST-1e</th>\n",
       "      <td>0.0</td>\n",
       "      <td>0.0</td>\n",
       "    </tr>\n",
       "    <tr>\n",
       "      <th rowspan=\"3\" valign=\"top\">1</th>\n",
       "      <th>55 Cancri e</th>\n",
       "      <td>0.0</td>\n",
       "      <td>0.0</td>\n",
       "    </tr>\n",
       "    <tr>\n",
       "      <th>PSO J318.5-22</th>\n",
       "      <td>0.0</td>\n",
       "      <td>0.0</td>\n",
       "    </tr>\n",
       "    <tr>\n",
       "      <th>TRAPPIST-1e</th>\n",
       "      <td>0.0</td>\n",
       "      <td>0.0</td>\n",
       "    </tr>\n",
       "    <tr>\n",
       "      <th>...</th>\n",
       "      <th>...</th>\n",
       "      <th>...</th>\n",
       "      <th>...</th>\n",
       "      <td>...</td>\n",
       "      <td>...</td>\n",
       "    </tr>\n",
       "    <tr>\n",
       "      <th rowspan=\"5\" valign=\"top\">Mars</th>\n",
       "      <th>71.0</th>\n",
       "      <th>1</th>\n",
       "      <th>PSO J318.5-22</th>\n",
       "      <td>0.0</td>\n",
       "      <td>0.0</td>\n",
       "    </tr>\n",
       "    <tr>\n",
       "      <th>72.0</th>\n",
       "      <th>1</th>\n",
       "      <th>TRAPPIST-1e</th>\n",
       "      <td>0.0</td>\n",
       "      <td>0.0</td>\n",
       "    </tr>\n",
       "    <tr>\n",
       "      <th>73.0</th>\n",
       "      <th>0</th>\n",
       "      <th>TRAPPIST-1e</th>\n",
       "      <td>638.0</td>\n",
       "      <td>638.0</td>\n",
       "    </tr>\n",
       "    <tr>\n",
       "      <th>75.0</th>\n",
       "      <th>1</th>\n",
       "      <th>TRAPPIST-1e</th>\n",
       "      <td>0.0</td>\n",
       "      <td>0.0</td>\n",
       "    </tr>\n",
       "    <tr>\n",
       "      <th>76.0</th>\n",
       "      <th>1</th>\n",
       "      <th>TRAPPIST-1e</th>\n",
       "      <td>0.0</td>\n",
       "      <td>0.0</td>\n",
       "    </tr>\n",
       "  </tbody>\n",
       "</table>\n",
       "<p>916 rows × 2 columns</p>\n",
       "</div>"
      ],
      "text/plain": [
       "                                          mean median\n",
       "                                           Spa    Spa\n",
       "HomePlanet Age  CryoSleep Destination                \n",
       "Earth      0.0  0         55 Cancri e      0.0    0.0\n",
       "                          TRAPPIST-1e      0.0    0.0\n",
       "                1         55 Cancri e      0.0    0.0\n",
       "                          PSO J318.5-22    0.0    0.0\n",
       "                          TRAPPIST-1e      0.0    0.0\n",
       "...                                        ...    ...\n",
       "Mars       71.0 1         PSO J318.5-22    0.0    0.0\n",
       "           72.0 1         TRAPPIST-1e      0.0    0.0\n",
       "           73.0 0         TRAPPIST-1e    638.0  638.0\n",
       "           75.0 1         TRAPPIST-1e      0.0    0.0\n",
       "           76.0 1         TRAPPIST-1e      0.0    0.0\n",
       "\n",
       "[916 rows x 2 columns]"
      ]
     },
     "execution_count": 52,
     "metadata": {},
     "output_type": "execute_result"
    }
   ],
   "source": [
    "train.pivot_table(index=['HomePlanet','Age','CryoSleep','Destination'],values='Spa',aggfunc=['mean','median'])"
   ]
  },
  {
   "cell_type": "code",
   "execution_count": 53,
   "id": "6cf51c11",
   "metadata": {
    "execution": {
     "iopub.execute_input": "2023-01-10T03:43:28.208887Z",
     "iopub.status.busy": "2023-01-10T03:43:28.208458Z",
     "iopub.status.idle": "2023-01-10T03:43:28.220091Z",
     "shell.execute_reply": "2023-01-10T03:43:28.218890Z"
    },
    "papermill": {
     "duration": 0.042145,
     "end_time": "2023-01-10T03:43:28.222706",
     "exception": false,
     "start_time": "2023-01-10T03:43:28.180561",
     "status": "completed"
    },
    "tags": []
   },
   "outputs": [],
   "source": [
    "train['Spa']=train['Spa'].fillna(train.groupby(['HomePlanet','Age','CryoSleep','Destination'])['Spa'].transform('median'))"
   ]
  },
  {
   "cell_type": "code",
   "execution_count": 54,
   "id": "f1451a7a",
   "metadata": {
    "execution": {
     "iopub.execute_input": "2023-01-10T03:43:28.277956Z",
     "iopub.status.busy": "2023-01-10T03:43:28.276850Z",
     "iopub.status.idle": "2023-01-10T03:43:28.283785Z",
     "shell.execute_reply": "2023-01-10T03:43:28.282599Z"
    },
    "papermill": {
     "duration": 0.037095,
     "end_time": "2023-01-10T03:43:28.286309",
     "exception": false,
     "start_time": "2023-01-10T03:43:28.249214",
     "status": "completed"
    },
    "tags": []
   },
   "outputs": [],
   "source": [
    "train['Spa']=train['Spa'].fillna(311)"
   ]
  },
  {
   "cell_type": "code",
   "execution_count": 55,
   "id": "86f90f98",
   "metadata": {
    "execution": {
     "iopub.execute_input": "2023-01-10T03:43:28.341669Z",
     "iopub.status.busy": "2023-01-10T03:43:28.340537Z",
     "iopub.status.idle": "2023-01-10T03:43:28.348115Z",
     "shell.execute_reply": "2023-01-10T03:43:28.347092Z"
    },
    "papermill": {
     "duration": 0.037403,
     "end_time": "2023-01-10T03:43:28.350298",
     "exception": false,
     "start_time": "2023-01-10T03:43:28.312895",
     "status": "completed"
    },
    "tags": []
   },
   "outputs": [
    {
     "data": {
      "text/plain": [
       "303.05244252873564"
      ]
     },
     "execution_count": 55,
     "metadata": {},
     "output_type": "execute_result"
    }
   ],
   "source": [
    "test['Spa'].mean()"
   ]
  },
  {
   "cell_type": "code",
   "execution_count": 56,
   "id": "5af95b32",
   "metadata": {
    "execution": {
     "iopub.execute_input": "2023-01-10T03:43:28.406422Z",
     "iopub.status.busy": "2023-01-10T03:43:28.405984Z",
     "iopub.status.idle": "2023-01-10T03:43:28.448992Z",
     "shell.execute_reply": "2023-01-10T03:43:28.447817Z"
    },
    "papermill": {
     "duration": 0.07479,
     "end_time": "2023-01-10T03:43:28.451616",
     "exception": false,
     "start_time": "2023-01-10T03:43:28.376826",
     "status": "completed"
    },
    "tags": []
   },
   "outputs": [
    {
     "data": {
      "text/html": [
       "<div>\n",
       "<style scoped>\n",
       "    .dataframe tbody tr th:only-of-type {\n",
       "        vertical-align: middle;\n",
       "    }\n",
       "\n",
       "    .dataframe tbody tr th {\n",
       "        vertical-align: top;\n",
       "    }\n",
       "\n",
       "    .dataframe thead tr th {\n",
       "        text-align: left;\n",
       "    }\n",
       "\n",
       "    .dataframe thead tr:last-of-type th {\n",
       "        text-align: right;\n",
       "    }\n",
       "</style>\n",
       "<table border=\"1\" class=\"dataframe\">\n",
       "  <thead>\n",
       "    <tr>\n",
       "      <th></th>\n",
       "      <th></th>\n",
       "      <th></th>\n",
       "      <th></th>\n",
       "      <th>mean</th>\n",
       "      <th>median</th>\n",
       "    </tr>\n",
       "    <tr>\n",
       "      <th></th>\n",
       "      <th></th>\n",
       "      <th></th>\n",
       "      <th></th>\n",
       "      <th>Spa</th>\n",
       "      <th>Spa</th>\n",
       "    </tr>\n",
       "    <tr>\n",
       "      <th>HomePlanet</th>\n",
       "      <th>Age</th>\n",
       "      <th>CryoSleep</th>\n",
       "      <th>Destination</th>\n",
       "      <th></th>\n",
       "      <th></th>\n",
       "    </tr>\n",
       "  </thead>\n",
       "  <tbody>\n",
       "    <tr>\n",
       "      <th rowspan=\"5\" valign=\"top\">Earth</th>\n",
       "      <th rowspan=\"5\" valign=\"top\">0.0</th>\n",
       "      <th rowspan=\"3\" valign=\"top\">False</th>\n",
       "      <th>55 Cancri e</th>\n",
       "      <td>0.0</td>\n",
       "      <td>0.0</td>\n",
       "    </tr>\n",
       "    <tr>\n",
       "      <th>PSO J318.5-22</th>\n",
       "      <td>0.0</td>\n",
       "      <td>0.0</td>\n",
       "    </tr>\n",
       "    <tr>\n",
       "      <th>TRAPPIST-1e</th>\n",
       "      <td>0.0</td>\n",
       "      <td>0.0</td>\n",
       "    </tr>\n",
       "    <tr>\n",
       "      <th rowspan=\"2\" valign=\"top\">True</th>\n",
       "      <th>55 Cancri e</th>\n",
       "      <td>0.0</td>\n",
       "      <td>0.0</td>\n",
       "    </tr>\n",
       "    <tr>\n",
       "      <th>PSO J318.5-22</th>\n",
       "      <td>0.0</td>\n",
       "      <td>0.0</td>\n",
       "    </tr>\n",
       "    <tr>\n",
       "      <th>...</th>\n",
       "      <th>...</th>\n",
       "      <th>...</th>\n",
       "      <th>...</th>\n",
       "      <td>...</td>\n",
       "      <td>...</td>\n",
       "    </tr>\n",
       "    <tr>\n",
       "      <th rowspan=\"5\" valign=\"top\">Mars</th>\n",
       "      <th>70.0</th>\n",
       "      <th>True</th>\n",
       "      <th>TRAPPIST-1e</th>\n",
       "      <td>0.0</td>\n",
       "      <td>0.0</td>\n",
       "    </tr>\n",
       "    <tr>\n",
       "      <th>71.0</th>\n",
       "      <th>True</th>\n",
       "      <th>TRAPPIST-1e</th>\n",
       "      <td>0.0</td>\n",
       "      <td>0.0</td>\n",
       "    </tr>\n",
       "    <tr>\n",
       "      <th>72.0</th>\n",
       "      <th>False</th>\n",
       "      <th>TRAPPIST-1e</th>\n",
       "      <td>0.0</td>\n",
       "      <td>0.0</td>\n",
       "    </tr>\n",
       "    <tr>\n",
       "      <th>73.0</th>\n",
       "      <th>False</th>\n",
       "      <th>TRAPPIST-1e</th>\n",
       "      <td>817.5</td>\n",
       "      <td>817.5</td>\n",
       "    </tr>\n",
       "    <tr>\n",
       "      <th>75.0</th>\n",
       "      <th>False</th>\n",
       "      <th>TRAPPIST-1e</th>\n",
       "      <td>1188.0</td>\n",
       "      <td>1188.0</td>\n",
       "    </tr>\n",
       "  </tbody>\n",
       "</table>\n",
       "<p>760 rows × 2 columns</p>\n",
       "</div>"
      ],
      "text/plain": [
       "                                           mean  median\n",
       "                                            Spa     Spa\n",
       "HomePlanet Age  CryoSleep Destination                  \n",
       "Earth      0.0  False     55 Cancri e       0.0     0.0\n",
       "                          PSO J318.5-22     0.0     0.0\n",
       "                          TRAPPIST-1e       0.0     0.0\n",
       "                True      55 Cancri e       0.0     0.0\n",
       "                          PSO J318.5-22     0.0     0.0\n",
       "...                                         ...     ...\n",
       "Mars       70.0 True      TRAPPIST-1e       0.0     0.0\n",
       "           71.0 True      TRAPPIST-1e       0.0     0.0\n",
       "           72.0 False     TRAPPIST-1e       0.0     0.0\n",
       "           73.0 False     TRAPPIST-1e     817.5   817.5\n",
       "           75.0 False     TRAPPIST-1e    1188.0  1188.0\n",
       "\n",
       "[760 rows x 2 columns]"
      ]
     },
     "execution_count": 56,
     "metadata": {},
     "output_type": "execute_result"
    }
   ],
   "source": [
    "test.pivot_table(index=['HomePlanet','Age','CryoSleep','Destination'],values='Spa',aggfunc=['mean','median'])"
   ]
  },
  {
   "cell_type": "code",
   "execution_count": 57,
   "id": "f83c2f10",
   "metadata": {
    "execution": {
     "iopub.execute_input": "2023-01-10T03:43:28.508525Z",
     "iopub.status.busy": "2023-01-10T03:43:28.507589Z",
     "iopub.status.idle": "2023-01-10T03:43:28.518646Z",
     "shell.execute_reply": "2023-01-10T03:43:28.517677Z"
    },
    "papermill": {
     "duration": 0.042176,
     "end_time": "2023-01-10T03:43:28.520985",
     "exception": false,
     "start_time": "2023-01-10T03:43:28.478809",
     "status": "completed"
    },
    "tags": []
   },
   "outputs": [],
   "source": [
    "test['Spa']=test['Spa'].fillna(test.groupby(['HomePlanet','Age','CryoSleep','Destination'])['Spa'].transform('median'))"
   ]
  },
  {
   "cell_type": "code",
   "execution_count": 58,
   "id": "e73b8dd0",
   "metadata": {
    "execution": {
     "iopub.execute_input": "2023-01-10T03:43:28.576712Z",
     "iopub.status.busy": "2023-01-10T03:43:28.575671Z",
     "iopub.status.idle": "2023-01-10T03:43:28.582184Z",
     "shell.execute_reply": "2023-01-10T03:43:28.581076Z"
    },
    "papermill": {
     "duration": 0.036623,
     "end_time": "2023-01-10T03:43:28.584304",
     "exception": false,
     "start_time": "2023-01-10T03:43:28.547681",
     "status": "completed"
    },
    "tags": []
   },
   "outputs": [],
   "source": [
    "test['Spa']=test['Spa'].fillna(303)"
   ]
  },
  {
   "cell_type": "code",
   "execution_count": 59,
   "id": "72d8e92d",
   "metadata": {
    "execution": {
     "iopub.execute_input": "2023-01-10T03:43:28.639533Z",
     "iopub.status.busy": "2023-01-10T03:43:28.639122Z",
     "iopub.status.idle": "2023-01-10T03:43:28.646062Z",
     "shell.execute_reply": "2023-01-10T03:43:28.645308Z"
    },
    "papermill": {
     "duration": 0.037034,
     "end_time": "2023-01-10T03:43:28.648004",
     "exception": false,
     "start_time": "2023-01-10T03:43:28.610970",
     "status": "completed"
    },
    "tags": []
   },
   "outputs": [
    {
     "data": {
      "text/plain": [
       "304.8547912992357"
      ]
     },
     "execution_count": 59,
     "metadata": {},
     "output_type": "execute_result"
    }
   ],
   "source": [
    "train['VRDeck'].mean()"
   ]
  },
  {
   "cell_type": "code",
   "execution_count": 60,
   "id": "40823d28",
   "metadata": {
    "execution": {
     "iopub.execute_input": "2023-01-10T03:43:28.705198Z",
     "iopub.status.busy": "2023-01-10T03:43:28.704092Z",
     "iopub.status.idle": "2023-01-10T03:43:28.749170Z",
     "shell.execute_reply": "2023-01-10T03:43:28.747892Z"
    },
    "papermill": {
     "duration": 0.076646,
     "end_time": "2023-01-10T03:43:28.751764",
     "exception": false,
     "start_time": "2023-01-10T03:43:28.675118",
     "status": "completed"
    },
    "tags": []
   },
   "outputs": [
    {
     "data": {
      "text/html": [
       "<div>\n",
       "<style scoped>\n",
       "    .dataframe tbody tr th:only-of-type {\n",
       "        vertical-align: middle;\n",
       "    }\n",
       "\n",
       "    .dataframe tbody tr th {\n",
       "        vertical-align: top;\n",
       "    }\n",
       "\n",
       "    .dataframe thead tr th {\n",
       "        text-align: left;\n",
       "    }\n",
       "\n",
       "    .dataframe thead tr:last-of-type th {\n",
       "        text-align: right;\n",
       "    }\n",
       "</style>\n",
       "<table border=\"1\" class=\"dataframe\">\n",
       "  <thead>\n",
       "    <tr>\n",
       "      <th></th>\n",
       "      <th></th>\n",
       "      <th></th>\n",
       "      <th></th>\n",
       "      <th>mean</th>\n",
       "      <th>median</th>\n",
       "    </tr>\n",
       "    <tr>\n",
       "      <th></th>\n",
       "      <th></th>\n",
       "      <th></th>\n",
       "      <th></th>\n",
       "      <th>VRDeck</th>\n",
       "      <th>VRDeck</th>\n",
       "    </tr>\n",
       "    <tr>\n",
       "      <th>HomePlanet</th>\n",
       "      <th>Age</th>\n",
       "      <th>CryoSleep</th>\n",
       "      <th>Destination</th>\n",
       "      <th></th>\n",
       "      <th></th>\n",
       "    </tr>\n",
       "  </thead>\n",
       "  <tbody>\n",
       "    <tr>\n",
       "      <th rowspan=\"5\" valign=\"top\">Earth</th>\n",
       "      <th rowspan=\"5\" valign=\"top\">0.0</th>\n",
       "      <th rowspan=\"2\" valign=\"top\">0</th>\n",
       "      <th>55 Cancri e</th>\n",
       "      <td>0.0</td>\n",
       "      <td>0.0</td>\n",
       "    </tr>\n",
       "    <tr>\n",
       "      <th>TRAPPIST-1e</th>\n",
       "      <td>0.0</td>\n",
       "      <td>0.0</td>\n",
       "    </tr>\n",
       "    <tr>\n",
       "      <th rowspan=\"3\" valign=\"top\">1</th>\n",
       "      <th>55 Cancri e</th>\n",
       "      <td>0.0</td>\n",
       "      <td>0.0</td>\n",
       "    </tr>\n",
       "    <tr>\n",
       "      <th>PSO J318.5-22</th>\n",
       "      <td>0.0</td>\n",
       "      <td>0.0</td>\n",
       "    </tr>\n",
       "    <tr>\n",
       "      <th>TRAPPIST-1e</th>\n",
       "      <td>0.0</td>\n",
       "      <td>0.0</td>\n",
       "    </tr>\n",
       "    <tr>\n",
       "      <th>...</th>\n",
       "      <th>...</th>\n",
       "      <th>...</th>\n",
       "      <th>...</th>\n",
       "      <td>...</td>\n",
       "      <td>...</td>\n",
       "    </tr>\n",
       "    <tr>\n",
       "      <th rowspan=\"5\" valign=\"top\">Mars</th>\n",
       "      <th>71.0</th>\n",
       "      <th>1</th>\n",
       "      <th>PSO J318.5-22</th>\n",
       "      <td>0.0</td>\n",
       "      <td>0.0</td>\n",
       "    </tr>\n",
       "    <tr>\n",
       "      <th>72.0</th>\n",
       "      <th>1</th>\n",
       "      <th>TRAPPIST-1e</th>\n",
       "      <td>0.0</td>\n",
       "      <td>0.0</td>\n",
       "    </tr>\n",
       "    <tr>\n",
       "      <th>73.0</th>\n",
       "      <th>0</th>\n",
       "      <th>TRAPPIST-1e</th>\n",
       "      <td>0.0</td>\n",
       "      <td>0.0</td>\n",
       "    </tr>\n",
       "    <tr>\n",
       "      <th>75.0</th>\n",
       "      <th>1</th>\n",
       "      <th>TRAPPIST-1e</th>\n",
       "      <td>0.0</td>\n",
       "      <td>0.0</td>\n",
       "    </tr>\n",
       "    <tr>\n",
       "      <th>76.0</th>\n",
       "      <th>1</th>\n",
       "      <th>TRAPPIST-1e</th>\n",
       "      <td>0.0</td>\n",
       "      <td>0.0</td>\n",
       "    </tr>\n",
       "  </tbody>\n",
       "</table>\n",
       "<p>918 rows × 2 columns</p>\n",
       "</div>"
      ],
      "text/plain": [
       "                                          mean median\n",
       "                                        VRDeck VRDeck\n",
       "HomePlanet Age  CryoSleep Destination                \n",
       "Earth      0.0  0         55 Cancri e      0.0    0.0\n",
       "                          TRAPPIST-1e      0.0    0.0\n",
       "                1         55 Cancri e      0.0    0.0\n",
       "                          PSO J318.5-22    0.0    0.0\n",
       "                          TRAPPIST-1e      0.0    0.0\n",
       "...                                        ...    ...\n",
       "Mars       71.0 1         PSO J318.5-22    0.0    0.0\n",
       "           72.0 1         TRAPPIST-1e      0.0    0.0\n",
       "           73.0 0         TRAPPIST-1e      0.0    0.0\n",
       "           75.0 1         TRAPPIST-1e      0.0    0.0\n",
       "           76.0 1         TRAPPIST-1e      0.0    0.0\n",
       "\n",
       "[918 rows x 2 columns]"
      ]
     },
     "execution_count": 60,
     "metadata": {},
     "output_type": "execute_result"
    }
   ],
   "source": [
    "train.pivot_table(index=['HomePlanet','Age','CryoSleep','Destination'],values='VRDeck',aggfunc=['mean','median'])"
   ]
  },
  {
   "cell_type": "code",
   "execution_count": 61,
   "id": "6ee8bfd9",
   "metadata": {
    "execution": {
     "iopub.execute_input": "2023-01-10T03:43:28.810361Z",
     "iopub.status.busy": "2023-01-10T03:43:28.809324Z",
     "iopub.status.idle": "2023-01-10T03:43:28.821562Z",
     "shell.execute_reply": "2023-01-10T03:43:28.820514Z"
    },
    "papermill": {
     "duration": 0.044338,
     "end_time": "2023-01-10T03:43:28.824111",
     "exception": false,
     "start_time": "2023-01-10T03:43:28.779773",
     "status": "completed"
    },
    "tags": []
   },
   "outputs": [],
   "source": [
    "train['VRDeck']=train['VRDeck'].fillna(train.groupby(['HomePlanet','Age','CryoSleep','Destination'])['VRDeck'].transform('median'))"
   ]
  },
  {
   "cell_type": "code",
   "execution_count": 62,
   "id": "35df4627",
   "metadata": {
    "execution": {
     "iopub.execute_input": "2023-01-10T03:43:28.881266Z",
     "iopub.status.busy": "2023-01-10T03:43:28.880687Z",
     "iopub.status.idle": "2023-01-10T03:43:28.887118Z",
     "shell.execute_reply": "2023-01-10T03:43:28.886021Z"
    },
    "papermill": {
     "duration": 0.03741,
     "end_time": "2023-01-10T03:43:28.889406",
     "exception": false,
     "start_time": "2023-01-10T03:43:28.851996",
     "status": "completed"
    },
    "tags": []
   },
   "outputs": [],
   "source": [
    "train['VRDeck']=train['VRDeck'].fillna(304)"
   ]
  },
  {
   "cell_type": "code",
   "execution_count": 63,
   "id": "0abba7b7",
   "metadata": {
    "execution": {
     "iopub.execute_input": "2023-01-10T03:43:28.947615Z",
     "iopub.status.busy": "2023-01-10T03:43:28.946369Z",
     "iopub.status.idle": "2023-01-10T03:43:28.954608Z",
     "shell.execute_reply": "2023-01-10T03:43:28.953676Z"
    },
    "papermill": {
     "duration": 0.03898,
     "end_time": "2023-01-10T03:43:28.956901",
     "exception": false,
     "start_time": "2023-01-10T03:43:28.917921",
     "status": "completed"
    },
    "tags": []
   },
   "outputs": [
    {
     "data": {
      "text/plain": [
       "310.71003097450557"
      ]
     },
     "execution_count": 63,
     "metadata": {},
     "output_type": "execute_result"
    }
   ],
   "source": [
    "test['VRDeck'].mean()"
   ]
  },
  {
   "cell_type": "code",
   "execution_count": 64,
   "id": "606220ca",
   "metadata": {
    "execution": {
     "iopub.execute_input": "2023-01-10T03:43:29.014138Z",
     "iopub.status.busy": "2023-01-10T03:43:29.013329Z",
     "iopub.status.idle": "2023-01-10T03:43:29.056612Z",
     "shell.execute_reply": "2023-01-10T03:43:29.055486Z"
    },
    "papermill": {
     "duration": 0.074932,
     "end_time": "2023-01-10T03:43:29.059246",
     "exception": false,
     "start_time": "2023-01-10T03:43:28.984314",
     "status": "completed"
    },
    "tags": []
   },
   "outputs": [
    {
     "data": {
      "text/html": [
       "<div>\n",
       "<style scoped>\n",
       "    .dataframe tbody tr th:only-of-type {\n",
       "        vertical-align: middle;\n",
       "    }\n",
       "\n",
       "    .dataframe tbody tr th {\n",
       "        vertical-align: top;\n",
       "    }\n",
       "\n",
       "    .dataframe thead tr th {\n",
       "        text-align: left;\n",
       "    }\n",
       "\n",
       "    .dataframe thead tr:last-of-type th {\n",
       "        text-align: right;\n",
       "    }\n",
       "</style>\n",
       "<table border=\"1\" class=\"dataframe\">\n",
       "  <thead>\n",
       "    <tr>\n",
       "      <th></th>\n",
       "      <th></th>\n",
       "      <th></th>\n",
       "      <th></th>\n",
       "      <th>mean</th>\n",
       "      <th>median</th>\n",
       "    </tr>\n",
       "    <tr>\n",
       "      <th></th>\n",
       "      <th></th>\n",
       "      <th></th>\n",
       "      <th></th>\n",
       "      <th>VRDeck</th>\n",
       "      <th>VRDeck</th>\n",
       "    </tr>\n",
       "    <tr>\n",
       "      <th>HomePlanet</th>\n",
       "      <th>Age</th>\n",
       "      <th>CryoSleep</th>\n",
       "      <th>Destination</th>\n",
       "      <th></th>\n",
       "      <th></th>\n",
       "    </tr>\n",
       "  </thead>\n",
       "  <tbody>\n",
       "    <tr>\n",
       "      <th rowspan=\"5\" valign=\"top\">Earth</th>\n",
       "      <th rowspan=\"5\" valign=\"top\">0.0</th>\n",
       "      <th rowspan=\"3\" valign=\"top\">False</th>\n",
       "      <th>55 Cancri e</th>\n",
       "      <td>0.0</td>\n",
       "      <td>0.0</td>\n",
       "    </tr>\n",
       "    <tr>\n",
       "      <th>PSO J318.5-22</th>\n",
       "      <td>0.0</td>\n",
       "      <td>0.0</td>\n",
       "    </tr>\n",
       "    <tr>\n",
       "      <th>TRAPPIST-1e</th>\n",
       "      <td>0.0</td>\n",
       "      <td>0.0</td>\n",
       "    </tr>\n",
       "    <tr>\n",
       "      <th rowspan=\"2\" valign=\"top\">True</th>\n",
       "      <th>55 Cancri e</th>\n",
       "      <td>0.0</td>\n",
       "      <td>0.0</td>\n",
       "    </tr>\n",
       "    <tr>\n",
       "      <th>PSO J318.5-22</th>\n",
       "      <td>0.0</td>\n",
       "      <td>0.0</td>\n",
       "    </tr>\n",
       "    <tr>\n",
       "      <th>...</th>\n",
       "      <th>...</th>\n",
       "      <th>...</th>\n",
       "      <th>...</th>\n",
       "      <td>...</td>\n",
       "      <td>...</td>\n",
       "    </tr>\n",
       "    <tr>\n",
       "      <th rowspan=\"5\" valign=\"top\">Mars</th>\n",
       "      <th>70.0</th>\n",
       "      <th>True</th>\n",
       "      <th>TRAPPIST-1e</th>\n",
       "      <td>0.0</td>\n",
       "      <td>0.0</td>\n",
       "    </tr>\n",
       "    <tr>\n",
       "      <th>71.0</th>\n",
       "      <th>True</th>\n",
       "      <th>TRAPPIST-1e</th>\n",
       "      <td>0.0</td>\n",
       "      <td>0.0</td>\n",
       "    </tr>\n",
       "    <tr>\n",
       "      <th>72.0</th>\n",
       "      <th>False</th>\n",
       "      <th>TRAPPIST-1e</th>\n",
       "      <td>0.0</td>\n",
       "      <td>0.0</td>\n",
       "    </tr>\n",
       "    <tr>\n",
       "      <th>73.0</th>\n",
       "      <th>False</th>\n",
       "      <th>TRAPPIST-1e</th>\n",
       "      <td>164.5</td>\n",
       "      <td>164.5</td>\n",
       "    </tr>\n",
       "    <tr>\n",
       "      <th>75.0</th>\n",
       "      <th>False</th>\n",
       "      <th>TRAPPIST-1e</th>\n",
       "      <td>60.0</td>\n",
       "      <td>60.0</td>\n",
       "    </tr>\n",
       "  </tbody>\n",
       "</table>\n",
       "<p>764 rows × 2 columns</p>\n",
       "</div>"
      ],
      "text/plain": [
       "                                          mean median\n",
       "                                        VRDeck VRDeck\n",
       "HomePlanet Age  CryoSleep Destination                \n",
       "Earth      0.0  False     55 Cancri e      0.0    0.0\n",
       "                          PSO J318.5-22    0.0    0.0\n",
       "                          TRAPPIST-1e      0.0    0.0\n",
       "                True      55 Cancri e      0.0    0.0\n",
       "                          PSO J318.5-22    0.0    0.0\n",
       "...                                        ...    ...\n",
       "Mars       70.0 True      TRAPPIST-1e      0.0    0.0\n",
       "           71.0 True      TRAPPIST-1e      0.0    0.0\n",
       "           72.0 False     TRAPPIST-1e      0.0    0.0\n",
       "           73.0 False     TRAPPIST-1e    164.5  164.5\n",
       "           75.0 False     TRAPPIST-1e     60.0   60.0\n",
       "\n",
       "[764 rows x 2 columns]"
      ]
     },
     "execution_count": 64,
     "metadata": {},
     "output_type": "execute_result"
    }
   ],
   "source": [
    "test.pivot_table(index=['HomePlanet','Age','CryoSleep','Destination'],values='VRDeck',aggfunc=['mean','median'])"
   ]
  },
  {
   "cell_type": "code",
   "execution_count": 65,
   "id": "26dc7cb4",
   "metadata": {
    "execution": {
     "iopub.execute_input": "2023-01-10T03:43:29.116413Z",
     "iopub.status.busy": "2023-01-10T03:43:29.115964Z",
     "iopub.status.idle": "2023-01-10T03:43:29.125920Z",
     "shell.execute_reply": "2023-01-10T03:43:29.124948Z"
    },
    "papermill": {
     "duration": 0.041588,
     "end_time": "2023-01-10T03:43:29.128527",
     "exception": false,
     "start_time": "2023-01-10T03:43:29.086939",
     "status": "completed"
    },
    "tags": []
   },
   "outputs": [],
   "source": [
    "test['VRDeck']=test['VRDeck'].fillna(test.groupby(['HomePlanet','Age','CryoSleep','Destination'])['VRDeck'].transform('median'))"
   ]
  },
  {
   "cell_type": "code",
   "execution_count": 66,
   "id": "d8aa7e1d",
   "metadata": {
    "execution": {
     "iopub.execute_input": "2023-01-10T03:43:29.185775Z",
     "iopub.status.busy": "2023-01-10T03:43:29.185323Z",
     "iopub.status.idle": "2023-01-10T03:43:29.191453Z",
     "shell.execute_reply": "2023-01-10T03:43:29.190262Z"
    },
    "papermill": {
     "duration": 0.037615,
     "end_time": "2023-01-10T03:43:29.193849",
     "exception": false,
     "start_time": "2023-01-10T03:43:29.156234",
     "status": "completed"
    },
    "tags": []
   },
   "outputs": [],
   "source": [
    "test['VRDeck']=test['VRDeck'].fillna(310)"
   ]
  },
  {
   "cell_type": "code",
   "execution_count": 67,
   "id": "7a6e4fcf",
   "metadata": {
    "execution": {
     "iopub.execute_input": "2023-01-10T03:43:29.251532Z",
     "iopub.status.busy": "2023-01-10T03:43:29.250351Z",
     "iopub.status.idle": "2023-01-10T03:43:29.266666Z",
     "shell.execute_reply": "2023-01-10T03:43:29.265385Z"
    },
    "papermill": {
     "duration": 0.049561,
     "end_time": "2023-01-10T03:43:29.271012",
     "exception": false,
     "start_time": "2023-01-10T03:43:29.221451",
     "status": "completed"
    },
    "tags": []
   },
   "outputs": [
    {
     "name": "stdout",
     "output_type": "stream",
     "text": [
      "<class 'pandas.core.frame.DataFrame'>\n",
      "RangeIndex: 8693 entries, 0 to 8692\n",
      "Data columns (total 14 columns):\n",
      " #   Column        Non-Null Count  Dtype  \n",
      "---  ------        --------------  -----  \n",
      " 0   PassengerId   8693 non-null   object \n",
      " 1   HomePlanet    8693 non-null   object \n",
      " 2   CryoSleep     8693 non-null   int64  \n",
      " 3   Cabin         8494 non-null   object \n",
      " 4   Destination   8693 non-null   object \n",
      " 5   Age           8693 non-null   float64\n",
      " 6   VIP           8693 non-null   int64  \n",
      " 7   RoomService   8693 non-null   float64\n",
      " 8   FoodCourt     8693 non-null   float64\n",
      " 9   ShoppingMall  8693 non-null   float64\n",
      " 10  Spa           8693 non-null   float64\n",
      " 11  VRDeck        8693 non-null   float64\n",
      " 12  Name          8493 non-null   object \n",
      " 13  Transported   8693 non-null   bool   \n",
      "dtypes: bool(1), float64(6), int64(2), object(5)\n",
      "memory usage: 891.5+ KB\n"
     ]
    }
   ],
   "source": [
    "train.info()"
   ]
  },
  {
   "cell_type": "code",
   "execution_count": 68,
   "id": "047606ec",
   "metadata": {
    "execution": {
     "iopub.execute_input": "2023-01-10T03:43:29.329348Z",
     "iopub.status.busy": "2023-01-10T03:43:29.328645Z",
     "iopub.status.idle": "2023-01-10T03:43:29.343579Z",
     "shell.execute_reply": "2023-01-10T03:43:29.342322Z"
    },
    "papermill": {
     "duration": 0.046661,
     "end_time": "2023-01-10T03:43:29.346356",
     "exception": false,
     "start_time": "2023-01-10T03:43:29.299695",
     "status": "completed"
    },
    "tags": []
   },
   "outputs": [
    {
     "name": "stdout",
     "output_type": "stream",
     "text": [
      "<class 'pandas.core.frame.DataFrame'>\n",
      "RangeIndex: 4277 entries, 0 to 4276\n",
      "Data columns (total 13 columns):\n",
      " #   Column        Non-Null Count  Dtype  \n",
      "---  ------        --------------  -----  \n",
      " 0   PassengerId   4277 non-null   object \n",
      " 1   HomePlanet    4277 non-null   object \n",
      " 2   CryoSleep     4277 non-null   object \n",
      " 3   Cabin         4177 non-null   object \n",
      " 4   Destination   4277 non-null   object \n",
      " 5   Age           4277 non-null   float64\n",
      " 6   VIP           4277 non-null   int64  \n",
      " 7   RoomService   4277 non-null   float64\n",
      " 8   FoodCourt     4277 non-null   float64\n",
      " 9   ShoppingMall  4277 non-null   float64\n",
      " 10  Spa           4277 non-null   float64\n",
      " 11  VRDeck        4277 non-null   float64\n",
      " 12  Name          4183 non-null   object \n",
      "dtypes: float64(6), int64(1), object(6)\n",
      "memory usage: 434.5+ KB\n"
     ]
    }
   ],
   "source": [
    "test.info()"
   ]
  },
  {
   "cell_type": "markdown",
   "id": "12cb2ca8",
   "metadata": {
    "papermill": {
     "duration": 0.027241,
     "end_time": "2023-01-10T03:43:29.401347",
     "exception": false,
     "start_time": "2023-01-10T03:43:29.374106",
     "status": "completed"
    },
    "tags": []
   },
   "source": [
    "# **Features engineering**"
   ]
  },
  {
   "cell_type": "code",
   "execution_count": 69,
   "id": "805da765",
   "metadata": {
    "execution": {
     "iopub.execute_input": "2023-01-10T03:43:29.460558Z",
     "iopub.status.busy": "2023-01-10T03:43:29.459874Z",
     "iopub.status.idle": "2023-01-10T03:43:29.475488Z",
     "shell.execute_reply": "2023-01-10T03:43:29.474019Z"
    },
    "papermill": {
     "duration": 0.04851,
     "end_time": "2023-01-10T03:43:29.477957",
     "exception": false,
     "start_time": "2023-01-10T03:43:29.429447",
     "status": "completed"
    },
    "tags": []
   },
   "outputs": [
    {
     "name": "stdout",
     "output_type": "stream",
     "text": [
      "0.65884561238855 from Europa\n",
      "0.42764938580054135 from Earth\n",
      "0.5230244457077885 from Mars\n"
     ]
    }
   ],
   "source": [
    "for i in train['HomePlanet'].unique():\n",
    "    H = train.loc[train.HomePlanet==i]['Transported']\n",
    "    rate=sum(H)/len(H)\n",
    "    print(f'{rate} from {i}')"
   ]
  },
  {
   "cell_type": "code",
   "execution_count": 70,
   "id": "f1ca2d82",
   "metadata": {
    "execution": {
     "iopub.execute_input": "2023-01-10T03:43:29.537929Z",
     "iopub.status.busy": "2023-01-10T03:43:29.537483Z",
     "iopub.status.idle": "2023-01-10T03:43:29.547224Z",
     "shell.execute_reply": "2023-01-10T03:43:29.546041Z"
    },
    "papermill": {
     "duration": 0.041608,
     "end_time": "2023-01-10T03:43:29.549496",
     "exception": false,
     "start_time": "2023-01-10T03:43:29.507888",
     "status": "completed"
    },
    "tags": []
   },
   "outputs": [
    {
     "data": {
      "text/plain": [
       "0.8175831412578202"
      ]
     },
     "execution_count": 70,
     "metadata": {},
     "output_type": "execute_result"
    }
   ],
   "source": [
    "cryoT=train.loc[train.CryoSleep==1]['Transported']\n",
    "rate_cryoT=sum(cryoT)/len(cryoT)\n",
    "rate_cryoT"
   ]
  },
  {
   "cell_type": "code",
   "execution_count": 71,
   "id": "6bf2cbc4",
   "metadata": {
    "execution": {
     "iopub.execute_input": "2023-01-10T03:43:29.607287Z",
     "iopub.status.busy": "2023-01-10T03:43:29.606886Z",
     "iopub.status.idle": "2023-01-10T03:43:29.623291Z",
     "shell.execute_reply": "2023-01-10T03:43:29.621398Z"
    },
    "papermill": {
     "duration": 0.04883,
     "end_time": "2023-01-10T03:43:29.626462",
     "exception": false,
     "start_time": "2023-01-10T03:43:29.577632",
     "status": "completed"
    },
    "tags": []
   },
   "outputs": [
    {
     "name": "stdout",
     "output_type": "stream",
     "text": [
      "0.4721994423486961 from TRAPPIST-1e\n",
      "0.5037688442211056 from PSO J318.5-22\n",
      "0.61 from 55 Cancri e\n"
     ]
    }
   ],
   "source": [
    "for i in train['Destination'].unique():\n",
    "    H = train.loc[train.Destination==i]['Transported']\n",
    "    rate=sum(H)/len(H)\n",
    "    print(f'{rate} from {i}')"
   ]
  },
  {
   "cell_type": "code",
   "execution_count": 72,
   "id": "06e43489",
   "metadata": {
    "execution": {
     "iopub.execute_input": "2023-01-10T03:43:29.692015Z",
     "iopub.status.busy": "2023-01-10T03:43:29.691062Z",
     "iopub.status.idle": "2023-01-10T03:43:29.701413Z",
     "shell.execute_reply": "2023-01-10T03:43:29.700466Z"
    },
    "papermill": {
     "duration": 0.04624,
     "end_time": "2023-01-10T03:43:29.703709",
     "exception": false,
     "start_time": "2023-01-10T03:43:29.657469",
     "status": "completed"
    },
    "tags": []
   },
   "outputs": [
    {
     "data": {
      "text/plain": [
       "0.6997518610421837"
      ]
     },
     "execution_count": 72,
     "metadata": {},
     "output_type": "execute_result"
    }
   ],
   "source": [
    "kids=train.loc[train.Age<=12]['Transported']\n",
    "rate_kids=sum(kids)/len(kids)\n",
    "rate_kids"
   ]
  },
  {
   "cell_type": "code",
   "execution_count": 73,
   "id": "e5ba6ddd",
   "metadata": {
    "execution": {
     "iopub.execute_input": "2023-01-10T03:43:29.771848Z",
     "iopub.status.busy": "2023-01-10T03:43:29.770482Z",
     "iopub.status.idle": "2023-01-10T03:43:29.783297Z",
     "shell.execute_reply": "2023-01-10T03:43:29.782026Z"
    },
    "papermill": {
     "duration": 0.052003,
     "end_time": "2023-01-10T03:43:29.785823",
     "exception": false,
     "start_time": "2023-01-10T03:43:29.733820",
     "status": "completed"
    },
    "tags": []
   },
   "outputs": [
    {
     "data": {
      "text/plain": [
       "0.5110429447852761"
      ]
     },
     "execution_count": 73,
     "metadata": {},
     "output_type": "execute_result"
    }
   ],
   "source": [
    "teens=train[(train.Age>=13)&(train.Age<=20)]\n",
    "len(teens[(teens.Transported==1)])/len(teens)"
   ]
  },
  {
   "cell_type": "code",
   "execution_count": 74,
   "id": "995d4cae",
   "metadata": {
    "execution": {
     "iopub.execute_input": "2023-01-10T03:43:29.857465Z",
     "iopub.status.busy": "2023-01-10T03:43:29.856541Z",
     "iopub.status.idle": "2023-01-10T03:43:29.869653Z",
     "shell.execute_reply": "2023-01-10T03:43:29.868643Z"
    },
    "papermill": {
     "duration": 0.053955,
     "end_time": "2023-01-10T03:43:29.872005",
     "exception": false,
     "start_time": "2023-01-10T03:43:29.818050",
     "status": "completed"
    },
    "tags": []
   },
   "outputs": [
    {
     "data": {
      "text/plain": [
       "0.4767616191904048"
      ]
     },
     "execution_count": 74,
     "metadata": {},
     "output_type": "execute_result"
    }
   ],
   "source": [
    "adults=train[(train.Age>=21)&(train.Age<=59)]\n",
    "len(adults[(adults.Transported==1)])/len(adults)"
   ]
  },
  {
   "cell_type": "code",
   "execution_count": 75,
   "id": "4d9db7b4",
   "metadata": {
    "execution": {
     "iopub.execute_input": "2023-01-10T03:43:29.932700Z",
     "iopub.status.busy": "2023-01-10T03:43:29.931784Z",
     "iopub.status.idle": "2023-01-10T03:43:29.941703Z",
     "shell.execute_reply": "2023-01-10T03:43:29.940654Z"
    },
    "papermill": {
     "duration": 0.042954,
     "end_time": "2023-01-10T03:43:29.944031",
     "exception": false,
     "start_time": "2023-01-10T03:43:29.901077",
     "status": "completed"
    },
    "tags": []
   },
   "outputs": [
    {
     "data": {
      "text/plain": [
       "0.468503937007874"
      ]
     },
     "execution_count": 75,
     "metadata": {},
     "output_type": "execute_result"
    }
   ],
   "source": [
    "olds=train[(train.Age>=60)]['Transported']\n",
    "rate_olds=sum(olds)/len(olds)\n",
    "rate_olds"
   ]
  },
  {
   "cell_type": "code",
   "execution_count": 76,
   "id": "b0c5de11",
   "metadata": {
    "execution": {
     "iopub.execute_input": "2023-01-10T03:43:30.009999Z",
     "iopub.status.busy": "2023-01-10T03:43:30.009240Z",
     "iopub.status.idle": "2023-01-10T03:43:30.020411Z",
     "shell.execute_reply": "2023-01-10T03:43:30.019207Z"
    },
    "papermill": {
     "duration": 0.048985,
     "end_time": "2023-01-10T03:43:30.022788",
     "exception": false,
     "start_time": "2023-01-10T03:43:29.973803",
     "status": "completed"
    },
    "tags": []
   },
   "outputs": [
    {
     "data": {
      "text/plain": [
       "0.7241379310344828"
      ]
     },
     "execution_count": 76,
     "metadata": {},
     "output_type": "execute_result"
    }
   ],
   "source": [
    "adultcryo=train[(train.Age<=12)&(train.CryoSleep==1)]\n",
    "\n",
    "len(adultcryo[(adultcryo.Transported==1)])/len(adultcryo)"
   ]
  },
  {
   "cell_type": "code",
   "execution_count": 77,
   "id": "4fe354ab",
   "metadata": {
    "execution": {
     "iopub.execute_input": "2023-01-10T03:43:30.085322Z",
     "iopub.status.busy": "2023-01-10T03:43:30.084404Z",
     "iopub.status.idle": "2023-01-10T03:43:30.093676Z",
     "shell.execute_reply": "2023-01-10T03:43:30.092680Z"
    },
    "papermill": {
     "duration": 0.041551,
     "end_time": "2023-01-10T03:43:30.095835",
     "exception": false,
     "start_time": "2023-01-10T03:43:30.054284",
     "status": "completed"
    },
    "tags": []
   },
   "outputs": [
    {
     "data": {
      "text/plain": [
       "0.38190954773869346"
      ]
     },
     "execution_count": 77,
     "metadata": {},
     "output_type": "execute_result"
    }
   ],
   "source": [
    "VIPt=train.loc[train.VIP==1]['Transported']\n",
    "rate_vip=sum(VIPt)/len(VIPt)\n",
    "rate_vip"
   ]
  },
  {
   "cell_type": "code",
   "execution_count": 78,
   "id": "40a8a47c",
   "metadata": {
    "execution": {
     "iopub.execute_input": "2023-01-10T03:43:30.155055Z",
     "iopub.status.busy": "2023-01-10T03:43:30.154231Z",
     "iopub.status.idle": "2023-01-10T03:43:30.168235Z",
     "shell.execute_reply": "2023-01-10T03:43:30.167045Z"
    },
    "papermill": {
     "duration": 0.046516,
     "end_time": "2023-01-10T03:43:30.170621",
     "exception": false,
     "start_time": "2023-01-10T03:43:30.124105",
     "status": "completed"
    },
    "tags": []
   },
   "outputs": [
    {
     "data": {
      "text/plain": [
       "0.787169603524229"
      ]
     },
     "execution_count": 78,
     "metadata": {},
     "output_type": "execute_result"
    }
   ],
   "source": [
    "npay=train[(train.RoomService==0)&(train.FoodCourt==0)&(train.ShoppingMall==0)&(train.Spa==0)&(train.VRDeck==0)]\n",
    "len(npay[(npay.Transported==1)])/len(npay)"
   ]
  },
  {
   "cell_type": "markdown",
   "id": "0f46eb01",
   "metadata": {
    "papermill": {
     "duration": 0.029885,
     "end_time": "2023-01-10T03:43:30.229784",
     "exception": false,
     "start_time": "2023-01-10T03:43:30.199899",
     "status": "completed"
    },
    "tags": []
   },
   "source": [
    "# **Preparing data**"
   ]
  },
  {
   "cell_type": "code",
   "execution_count": 79,
   "id": "eeecd12c",
   "metadata": {
    "execution": {
     "iopub.execute_input": "2023-01-10T03:43:30.290635Z",
     "iopub.status.busy": "2023-01-10T03:43:30.289829Z",
     "iopub.status.idle": "2023-01-10T03:43:30.312883Z",
     "shell.execute_reply": "2023-01-10T03:43:30.311868Z"
    },
    "papermill": {
     "duration": 0.056627,
     "end_time": "2023-01-10T03:43:30.315646",
     "exception": false,
     "start_time": "2023-01-10T03:43:30.259019",
     "status": "completed"
    },
    "tags": []
   },
   "outputs": [],
   "source": [
    "#'Homeplanet','Destination'\n",
    "#Here we make these variables dummies\n",
    "\n",
    "dummies1 = pd.get_dummies(train['HomePlanet'])\n",
    "\n",
    "train = pd.concat([train,dummies1],axis=1)\n",
    "\n",
    "dummies2 = pd.get_dummies(test['HomePlanet'])\n",
    "\n",
    "test = pd.concat([test,dummies2],axis=1)\n",
    "\n",
    "del train['HomePlanet']\n",
    "del test['HomePlanet']\n",
    "\n",
    "dummies1 = pd.get_dummies(train['Destination'])\n",
    "\n",
    "train = pd.concat([train,dummies1],axis=1)\n",
    "\n",
    "dummies2 = pd.get_dummies(test['Destination'])\n",
    "\n",
    "test = pd.concat([test,dummies2],axis=1)\n",
    "\n",
    "del train['Destination']\n",
    "del test['Destination']"
   ]
  },
  {
   "cell_type": "code",
   "execution_count": 80,
   "id": "ec446a10",
   "metadata": {
    "execution": {
     "iopub.execute_input": "2023-01-10T03:43:30.375965Z",
     "iopub.status.busy": "2023-01-10T03:43:30.375118Z",
     "iopub.status.idle": "2023-01-10T03:43:30.382828Z",
     "shell.execute_reply": "2023-01-10T03:43:30.382054Z"
    },
    "papermill": {
     "duration": 0.040366,
     "end_time": "2023-01-10T03:43:30.385120",
     "exception": false,
     "start_time": "2023-01-10T03:43:30.344754",
     "status": "completed"
    },
    "tags": []
   },
   "outputs": [],
   "source": [
    "train['kids']=np.where((train['Age']<=12),1,0)\n",
    "test['kids']=np.where((test['Age']<=12),1,0)"
   ]
  },
  {
   "cell_type": "code",
   "execution_count": 81,
   "id": "95d30ac7",
   "metadata": {
    "execution": {
     "iopub.execute_input": "2023-01-10T03:43:30.444976Z",
     "iopub.status.busy": "2023-01-10T03:43:30.444170Z",
     "iopub.status.idle": "2023-01-10T03:43:30.455473Z",
     "shell.execute_reply": "2023-01-10T03:43:30.454615Z"
    },
    "papermill": {
     "duration": 0.043993,
     "end_time": "2023-01-10T03:43:30.457872",
     "exception": false,
     "start_time": "2023-01-10T03:43:30.413879",
     "status": "completed"
    },
    "tags": []
   },
   "outputs": [],
   "source": [
    "train['NoPay']=np.where((train['RoomService']==0)&(train['FoodCourt']==0)&(train['ShoppingMall']==0)&(train['Spa']==0)&\n",
    "                        (train['VRDeck']==0),1,0)\n",
    "test['NoPay']=np.where((test['RoomService']==0)&(test['FoodCourt']==0)&(test['ShoppingMall']==0)&(test['Spa']==0)&\n",
    "                        (test['VRDeck']==0),1,0)"
   ]
  },
  {
   "cell_type": "code",
   "execution_count": 82,
   "id": "f54dc181",
   "metadata": {
    "execution": {
     "iopub.execute_input": "2023-01-10T03:43:30.518698Z",
     "iopub.status.busy": "2023-01-10T03:43:30.517906Z",
     "iopub.status.idle": "2023-01-10T03:43:30.548161Z",
     "shell.execute_reply": "2023-01-10T03:43:30.538157Z"
    },
    "papermill": {
     "duration": 0.064356,
     "end_time": "2023-01-10T03:43:30.551688",
     "exception": false,
     "start_time": "2023-01-10T03:43:30.487332",
     "status": "completed"
    },
    "tags": []
   },
   "outputs": [],
   "source": [
    "train['oldtcryo']=np.where((train['Age']>=60)&(train['CryoSleep']==1),1,0)\n",
    "train['adultcryo']=np.where((train['Age']>=21)&(train['Age']<=59)&(train['CryoSleep']==1),1,0)\n",
    "train['teencryo']=np.where((train['Age']>=13)&(train['Age']<=20)&(train['CryoSleep']==1),1,0)\n",
    "train['kidscryo']=np.where((train['Age']<=12)&(train['CryoSleep']==1),1,0)\n",
    "\n",
    "test['oldtcryo']=np.where((test['Age']>=60)&(test['CryoSleep']==1),1,0)\n",
    "test['adultcryo']=np.where((test['Age']>=21)&(test['Age']<=59)&(test['CryoSleep']==1),1,0)\n",
    "test['teencryo']=np.where((test['Age']>=13)&(test['Age']<=20)&(test['CryoSleep']==1),1,0)\n",
    "test['kidscryo']=np.where((test['Age']<=12)&(test['CryoSleep']==1),1,0)                           \n"
   ]
  },
  {
   "cell_type": "code",
   "execution_count": 83,
   "id": "5751ad93",
   "metadata": {
    "execution": {
     "iopub.execute_input": "2023-01-10T03:43:30.611676Z",
     "iopub.status.busy": "2023-01-10T03:43:30.610941Z",
     "iopub.status.idle": "2023-01-10T03:43:30.620865Z",
     "shell.execute_reply": "2023-01-10T03:43:30.619894Z"
    },
    "papermill": {
     "duration": 0.04315,
     "end_time": "2023-01-10T03:43:30.623651",
     "exception": false,
     "start_time": "2023-01-10T03:43:30.580501",
     "status": "completed"
    },
    "tags": []
   },
   "outputs": [],
   "source": [
    "train=train.drop(['PassengerId','Cabin','Name'],axis=1)"
   ]
  },
  {
   "cell_type": "code",
   "execution_count": 84,
   "id": "4d9f522b",
   "metadata": {
    "execution": {
     "iopub.execute_input": "2023-01-10T03:43:30.683095Z",
     "iopub.status.busy": "2023-01-10T03:43:30.682370Z",
     "iopub.status.idle": "2023-01-10T03:43:30.690963Z",
     "shell.execute_reply": "2023-01-10T03:43:30.690027Z"
    },
    "papermill": {
     "duration": 0.041037,
     "end_time": "2023-01-10T03:43:30.693520",
     "exception": false,
     "start_time": "2023-01-10T03:43:30.652483",
     "status": "completed"
    },
    "tags": []
   },
   "outputs": [],
   "source": [
    "test=test.drop(['PassengerId','Cabin','Name'],axis=1)"
   ]
  },
  {
   "cell_type": "code",
   "execution_count": 85,
   "id": "3db9a57e",
   "metadata": {
    "execution": {
     "iopub.execute_input": "2023-01-10T03:43:30.753804Z",
     "iopub.status.busy": "2023-01-10T03:43:30.752466Z",
     "iopub.status.idle": "2023-01-10T03:43:30.760615Z",
     "shell.execute_reply": "2023-01-10T03:43:30.759790Z"
    },
    "papermill": {
     "duration": 0.040658,
     "end_time": "2023-01-10T03:43:30.762957",
     "exception": false,
     "start_time": "2023-01-10T03:43:30.722299",
     "status": "completed"
    },
    "tags": []
   },
   "outputs": [],
   "source": [
    "x_t=test.values"
   ]
  },
  {
   "cell_type": "code",
   "execution_count": 86,
   "id": "e283fb92",
   "metadata": {
    "execution": {
     "iopub.execute_input": "2023-01-10T03:43:30.824421Z",
     "iopub.status.busy": "2023-01-10T03:43:30.823167Z",
     "iopub.status.idle": "2023-01-10T03:43:30.830710Z",
     "shell.execute_reply": "2023-01-10T03:43:30.829905Z"
    },
    "papermill": {
     "duration": 0.041271,
     "end_time": "2023-01-10T03:43:30.833092",
     "exception": false,
     "start_time": "2023-01-10T03:43:30.791821",
     "status": "completed"
    },
    "tags": []
   },
   "outputs": [],
   "source": [
    "y_df=train['Transported']\n",
    "x_df=train.drop('Transported',axis=1)"
   ]
  },
  {
   "cell_type": "code",
   "execution_count": 87,
   "id": "11aa4277",
   "metadata": {
    "execution": {
     "iopub.execute_input": "2023-01-10T03:43:30.894455Z",
     "iopub.status.busy": "2023-01-10T03:43:30.893561Z",
     "iopub.status.idle": "2023-01-10T03:43:30.900885Z",
     "shell.execute_reply": "2023-01-10T03:43:30.899945Z"
    },
    "papermill": {
     "duration": 0.042308,
     "end_time": "2023-01-10T03:43:30.904293",
     "exception": false,
     "start_time": "2023-01-10T03:43:30.861985",
     "status": "completed"
    },
    "tags": []
   },
   "outputs": [],
   "source": [
    "y=y_df.values\n",
    "x=x_df.values"
   ]
  },
  {
   "cell_type": "code",
   "execution_count": 88,
   "id": "f73b76f6",
   "metadata": {
    "execution": {
     "iopub.execute_input": "2023-01-10T03:43:30.964078Z",
     "iopub.status.busy": "2023-01-10T03:43:30.963611Z",
     "iopub.status.idle": "2023-01-10T03:43:30.970396Z",
     "shell.execute_reply": "2023-01-10T03:43:30.969255Z"
    },
    "papermill": {
     "duration": 0.039461,
     "end_time": "2023-01-10T03:43:30.972488",
     "exception": false,
     "start_time": "2023-01-10T03:43:30.933027",
     "status": "completed"
    },
    "tags": []
   },
   "outputs": [
    {
     "data": {
      "text/plain": [
       "(8693,)"
      ]
     },
     "execution_count": 88,
     "metadata": {},
     "output_type": "execute_result"
    }
   ],
   "source": [
    "y.shape"
   ]
  },
  {
   "cell_type": "code",
   "execution_count": 89,
   "id": "f122e0bf",
   "metadata": {
    "execution": {
     "iopub.execute_input": "2023-01-10T03:43:31.039014Z",
     "iopub.status.busy": "2023-01-10T03:43:31.038108Z",
     "iopub.status.idle": "2023-01-10T03:43:31.045598Z",
     "shell.execute_reply": "2023-01-10T03:43:31.044499Z"
    },
    "papermill": {
     "duration": 0.043094,
     "end_time": "2023-01-10T03:43:31.048120",
     "exception": false,
     "start_time": "2023-01-10T03:43:31.005026",
     "status": "completed"
    },
    "tags": []
   },
   "outputs": [
    {
     "data": {
      "text/plain": [
       "(8693, 20)"
      ]
     },
     "execution_count": 89,
     "metadata": {},
     "output_type": "execute_result"
    }
   ],
   "source": [
    "x.shape"
   ]
  },
  {
   "cell_type": "code",
   "execution_count": 90,
   "id": "5f6dca28",
   "metadata": {
    "execution": {
     "iopub.execute_input": "2023-01-10T03:43:31.110342Z",
     "iopub.status.busy": "2023-01-10T03:43:31.109530Z",
     "iopub.status.idle": "2023-01-10T03:43:32.269473Z",
     "shell.execute_reply": "2023-01-10T03:43:32.268251Z"
    },
    "papermill": {
     "duration": 1.193335,
     "end_time": "2023-01-10T03:43:32.272319",
     "exception": false,
     "start_time": "2023-01-10T03:43:31.078984",
     "status": "completed"
    },
    "tags": []
   },
   "outputs": [],
   "source": [
    "from sklearn.model_selection import train_test_split\n"
   ]
  },
  {
   "cell_type": "code",
   "execution_count": 91,
   "id": "36d1a163",
   "metadata": {
    "execution": {
     "iopub.execute_input": "2023-01-10T03:43:32.332079Z",
     "iopub.status.busy": "2023-01-10T03:43:32.331165Z",
     "iopub.status.idle": "2023-01-10T03:43:32.339577Z",
     "shell.execute_reply": "2023-01-10T03:43:32.338673Z"
    },
    "papermill": {
     "duration": 0.040469,
     "end_time": "2023-01-10T03:43:32.341855",
     "exception": false,
     "start_time": "2023-01-10T03:43:32.301386",
     "status": "completed"
    },
    "tags": []
   },
   "outputs": [],
   "source": [
    "X_train, X_test, y_train, y_test = train_test_split(x, y, \n",
    "                                                    test_size=0.33, \n",
    "                                                    random_state=42)"
   ]
  },
  {
   "cell_type": "markdown",
   "id": "f579d2b9",
   "metadata": {
    "papermill": {
     "duration": 0.02968,
     "end_time": "2023-01-10T03:43:32.400957",
     "exception": false,
     "start_time": "2023-01-10T03:43:32.371277",
     "status": "completed"
    },
    "tags": []
   },
   "source": [
    "# **Models**"
   ]
  },
  {
   "cell_type": "code",
   "execution_count": 92,
   "id": "f502fceb",
   "metadata": {
    "execution": {
     "iopub.execute_input": "2023-01-10T03:43:32.462920Z",
     "iopub.status.busy": "2023-01-10T03:43:32.462432Z",
     "iopub.status.idle": "2023-01-10T03:43:33.231474Z",
     "shell.execute_reply": "2023-01-10T03:43:33.230365Z"
    },
    "papermill": {
     "duration": 0.802845,
     "end_time": "2023-01-10T03:43:33.233868",
     "exception": false,
     "start_time": "2023-01-10T03:43:32.431023",
     "status": "completed"
    },
    "tags": []
   },
   "outputs": [
    {
     "data": {
      "text/plain": [
       "0.9332074175824175"
      ]
     },
     "execution_count": 92,
     "metadata": {},
     "output_type": "execute_result"
    }
   ],
   "source": [
    "from sklearn.ensemble import  RandomForestClassifier\n",
    "from sklearn.metrics import accuracy_score\n",
    "rf = RandomForestClassifier(n_estimators=100,n_jobs=-1)\n",
    "rf=rf.fit(X_train,y_train)\n",
    "acc=rf.score(X_train,y_train)\n",
    "acc"
   ]
  },
  {
   "cell_type": "code",
   "execution_count": 93,
   "id": "b04836b5",
   "metadata": {
    "execution": {
     "iopub.execute_input": "2023-01-10T03:43:33.295777Z",
     "iopub.status.busy": "2023-01-10T03:43:33.295227Z",
     "iopub.status.idle": "2023-01-10T03:43:34.356605Z",
     "shell.execute_reply": "2023-01-10T03:43:34.355440Z"
    },
    "papermill": {
     "duration": 1.095028,
     "end_time": "2023-01-10T03:43:34.359086",
     "exception": false,
     "start_time": "2023-01-10T03:43:33.264058",
     "status": "completed"
    },
    "tags": []
   },
   "outputs": [
    {
     "data": {
      "text/plain": [
       "0.8933722527472527"
      ]
     },
     "execution_count": 93,
     "metadata": {},
     "output_type": "execute_result"
    }
   ],
   "source": [
    "import xgboost as xgb\n",
    "booster = xgb.XGBClassifier(n_jobs=-1)\n",
    "booster = booster.fit(X_train,y_train)\n",
    "acc2=booster.score(X_train,y_train)\n",
    "acc2"
   ]
  },
  {
   "cell_type": "code",
   "execution_count": 94,
   "id": "c8a870ac",
   "metadata": {
    "execution": {
     "iopub.execute_input": "2023-01-10T03:43:34.422327Z",
     "iopub.status.busy": "2023-01-10T03:43:34.421915Z",
     "iopub.status.idle": "2023-01-10T03:43:40.881707Z",
     "shell.execute_reply": "2023-01-10T03:43:40.880222Z"
    },
    "papermill": {
     "duration": 6.493686,
     "end_time": "2023-01-10T03:43:40.884539",
     "exception": false,
     "start_time": "2023-01-10T03:43:34.390853",
     "status": "completed"
    },
    "tags": []
   },
   "outputs": [],
   "source": [
    "from keras.models import Sequential\n",
    "from keras.layers import Dense\n",
    "from tensorflow.keras.optimizers import SGD"
   ]
  },
  {
   "cell_type": "code",
   "execution_count": 95,
   "id": "dd52dc6c",
   "metadata": {
    "execution": {
     "iopub.execute_input": "2023-01-10T03:43:40.946184Z",
     "iopub.status.busy": "2023-01-10T03:43:40.944538Z",
     "iopub.status.idle": "2023-01-10T03:43:40.953168Z",
     "shell.execute_reply": "2023-01-10T03:43:40.951981Z"
    },
    "papermill": {
     "duration": 0.041852,
     "end_time": "2023-01-10T03:43:40.955910",
     "exception": false,
     "start_time": "2023-01-10T03:43:40.914058",
     "status": "completed"
    },
    "tags": []
   },
   "outputs": [],
   "source": [
    "X_train, X_val, y_train, y_val = train_test_split(X_train, y_train, \n",
    "                                                    test_size=0.1, \n",
    "                                                    random_state=42)"
   ]
  },
  {
   "cell_type": "code",
   "execution_count": 96,
   "id": "af6da2ca",
   "metadata": {
    "execution": {
     "iopub.execute_input": "2023-01-10T03:43:41.019139Z",
     "iopub.status.busy": "2023-01-10T03:43:41.018696Z",
     "iopub.status.idle": "2023-01-10T03:43:41.023862Z",
     "shell.execute_reply": "2023-01-10T03:43:41.022695Z"
    },
    "papermill": {
     "duration": 0.040079,
     "end_time": "2023-01-10T03:43:41.026012",
     "exception": false,
     "start_time": "2023-01-10T03:43:40.985933",
     "status": "completed"
    },
    "tags": []
   },
   "outputs": [],
   "source": [
    "#modelo=Sequential()\n",
    "#modelo.add(Dense(40,input_dim=16,activation='sigmoid'))\n",
    "#modelo.add(Dense(1,activation='sigmoid'))\n",
    "#modelo.compile(loss='binary_crossentropy',optimizer=SGD(lr=0.2),metrics=['acc'])\n",
    "\n",
    "#history=modelo.fit(X_train,y_train,epochs=500,batch_size=x.shape[0],\n",
    "                   #validation_data=(X_val,y_val))\n",
    "     "
   ]
  },
  {
   "cell_type": "code",
   "execution_count": 97,
   "id": "76d66cbc",
   "metadata": {
    "execution": {
     "iopub.execute_input": "2023-01-10T03:43:41.087604Z",
     "iopub.status.busy": "2023-01-10T03:43:41.086495Z",
     "iopub.status.idle": "2023-01-10T03:43:41.090638Z",
     "shell.execute_reply": "2023-01-10T03:43:41.089905Z"
    },
    "papermill": {
     "duration": 0.037507,
     "end_time": "2023-01-10T03:43:41.092576",
     "exception": false,
     "start_time": "2023-01-10T03:43:41.055069",
     "status": "completed"
    },
    "tags": []
   },
   "outputs": [],
   "source": [
    "#test_loss, test_acc = modelo.evaluate(X_train, y_train)\n",
    "#print('Test accuracy:', test_acc,'Test loss:',test_loss)"
   ]
  },
  {
   "cell_type": "code",
   "execution_count": 98,
   "id": "e45b32e3",
   "metadata": {
    "execution": {
     "iopub.execute_input": "2023-01-10T03:43:41.152709Z",
     "iopub.status.busy": "2023-01-10T03:43:41.151642Z",
     "iopub.status.idle": "2023-01-10T03:43:41.291942Z",
     "shell.execute_reply": "2023-01-10T03:43:41.290795Z"
    },
    "papermill": {
     "duration": 0.172983,
     "end_time": "2023-01-10T03:43:41.294563",
     "exception": false,
     "start_time": "2023-01-10T03:43:41.121580",
     "status": "completed"
    },
    "tags": []
   },
   "outputs": [],
   "source": [
    "pred=rf.predict(x_t)\n",
    "pred1=pd.DataFrame(pred)\n",
    "\n",
    "test1=pd.read_csv('/kaggle/input/spaceship-titanic/test.csv')\n",
    "Pas=test1['PassengerId']\n",
    "output=pd.concat([Pas,pred1],axis=1)\n",
    "output=output.rename(columns={0:'Transported'})\n",
    "output.to_csv('submission.csv', index=False)"
   ]
  },
  {
   "cell_type": "code",
   "execution_count": 99,
   "id": "3b0c340d",
   "metadata": {
    "execution": {
     "iopub.execute_input": "2023-01-10T03:43:41.354512Z",
     "iopub.status.busy": "2023-01-10T03:43:41.353720Z",
     "iopub.status.idle": "2023-01-10T03:43:41.367198Z",
     "shell.execute_reply": "2023-01-10T03:43:41.366022Z"
    },
    "papermill": {
     "duration": 0.045964,
     "end_time": "2023-01-10T03:43:41.369557",
     "exception": false,
     "start_time": "2023-01-10T03:43:41.323593",
     "status": "completed"
    },
    "tags": []
   },
   "outputs": [
    {
     "data": {
      "text/html": [
       "<div>\n",
       "<style scoped>\n",
       "    .dataframe tbody tr th:only-of-type {\n",
       "        vertical-align: middle;\n",
       "    }\n",
       "\n",
       "    .dataframe tbody tr th {\n",
       "        vertical-align: top;\n",
       "    }\n",
       "\n",
       "    .dataframe thead th {\n",
       "        text-align: right;\n",
       "    }\n",
       "</style>\n",
       "<table border=\"1\" class=\"dataframe\">\n",
       "  <thead>\n",
       "    <tr style=\"text-align: right;\">\n",
       "      <th></th>\n",
       "      <th>PassengerId</th>\n",
       "      <th>Transported</th>\n",
       "    </tr>\n",
       "  </thead>\n",
       "  <tbody>\n",
       "    <tr>\n",
       "      <th>0</th>\n",
       "      <td>0013_01</td>\n",
       "      <td>True</td>\n",
       "    </tr>\n",
       "    <tr>\n",
       "      <th>1</th>\n",
       "      <td>0018_01</td>\n",
       "      <td>False</td>\n",
       "    </tr>\n",
       "    <tr>\n",
       "      <th>2</th>\n",
       "      <td>0019_01</td>\n",
       "      <td>True</td>\n",
       "    </tr>\n",
       "    <tr>\n",
       "      <th>3</th>\n",
       "      <td>0021_01</td>\n",
       "      <td>True</td>\n",
       "    </tr>\n",
       "    <tr>\n",
       "      <th>4</th>\n",
       "      <td>0023_01</td>\n",
       "      <td>True</td>\n",
       "    </tr>\n",
       "    <tr>\n",
       "      <th>...</th>\n",
       "      <td>...</td>\n",
       "      <td>...</td>\n",
       "    </tr>\n",
       "    <tr>\n",
       "      <th>4272</th>\n",
       "      <td>9266_02</td>\n",
       "      <td>True</td>\n",
       "    </tr>\n",
       "    <tr>\n",
       "      <th>4273</th>\n",
       "      <td>9269_01</td>\n",
       "      <td>False</td>\n",
       "    </tr>\n",
       "    <tr>\n",
       "      <th>4274</th>\n",
       "      <td>9271_01</td>\n",
       "      <td>True</td>\n",
       "    </tr>\n",
       "    <tr>\n",
       "      <th>4275</th>\n",
       "      <td>9273_01</td>\n",
       "      <td>True</td>\n",
       "    </tr>\n",
       "    <tr>\n",
       "      <th>4276</th>\n",
       "      <td>9277_01</td>\n",
       "      <td>False</td>\n",
       "    </tr>\n",
       "  </tbody>\n",
       "</table>\n",
       "<p>4277 rows × 2 columns</p>\n",
       "</div>"
      ],
      "text/plain": [
       "     PassengerId  Transported\n",
       "0        0013_01         True\n",
       "1        0018_01        False\n",
       "2        0019_01         True\n",
       "3        0021_01         True\n",
       "4        0023_01         True\n",
       "...          ...          ...\n",
       "4272     9266_02         True\n",
       "4273     9269_01        False\n",
       "4274     9271_01         True\n",
       "4275     9273_01         True\n",
       "4276     9277_01        False\n",
       "\n",
       "[4277 rows x 2 columns]"
      ]
     },
     "execution_count": 99,
     "metadata": {},
     "output_type": "execute_result"
    }
   ],
   "source": [
    "output"
   ]
  },
  {
   "cell_type": "code",
   "execution_count": null,
   "id": "1bf54a92",
   "metadata": {
    "papermill": {
     "duration": 0.029441,
     "end_time": "2023-01-10T03:43:41.428035",
     "exception": false,
     "start_time": "2023-01-10T03:43:41.398594",
     "status": "completed"
    },
    "tags": []
   },
   "outputs": [],
   "source": []
  }
 ],
 "metadata": {
  "kernelspec": {
   "display_name": "Python 3",
   "language": "python",
   "name": "python3"
  },
  "language_info": {
   "codemirror_mode": {
    "name": "ipython",
    "version": 3
   },
   "file_extension": ".py",
   "mimetype": "text/x-python",
   "name": "python",
   "nbconvert_exporter": "python",
   "pygments_lexer": "ipython3",
   "version": "3.7.12"
  },
  "papermill": {
   "default_parameters": {},
   "duration": 31.397632,
   "end_time": "2023-01-10T03:43:45.071484",
   "environment_variables": {},
   "exception": null,
   "input_path": "__notebook__.ipynb",
   "output_path": "__notebook__.ipynb",
   "parameters": {},
   "start_time": "2023-01-10T03:43:13.673852",
   "version": "2.3.4"
  }
 },
 "nbformat": 4,
 "nbformat_minor": 5
}
