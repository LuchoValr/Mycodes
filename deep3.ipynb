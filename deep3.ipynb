{
 "cells": [
  {
   "cell_type": "code",
   "execution_count": 1,
   "id": "85126458",
   "metadata": {
    "execution": {
     "iopub.execute_input": "2023-01-15T20:38:16.781369Z",
     "iopub.status.busy": "2023-01-15T20:38:16.780519Z",
     "iopub.status.idle": "2023-01-15T20:38:16.790858Z",
     "shell.execute_reply": "2023-01-15T20:38:16.789805Z"
    },
    "papermill": {
     "duration": 0.022091,
     "end_time": "2023-01-15T20:38:16.793328",
     "exception": false,
     "start_time": "2023-01-15T20:38:16.771237",
     "status": "completed"
    },
    "tags": []
   },
   "outputs": [],
   "source": [
    "import numpy as np"
   ]
  },
  {
   "cell_type": "code",
   "execution_count": 2,
   "id": "2466a423",
   "metadata": {
    "execution": {
     "iopub.execute_input": "2023-01-15T20:38:16.807317Z",
     "iopub.status.busy": "2023-01-15T20:38:16.806952Z",
     "iopub.status.idle": "2023-01-15T20:38:23.651716Z",
     "shell.execute_reply": "2023-01-15T20:38:23.650660Z"
    },
    "papermill": {
     "duration": 6.854873,
     "end_time": "2023-01-15T20:38:23.654494",
     "exception": false,
     "start_time": "2023-01-15T20:38:16.799621",
     "status": "completed"
    },
    "tags": []
   },
   "outputs": [
    {
     "name": "stdout",
     "output_type": "stream",
     "text": [
      "Downloading data from https://storage.googleapis.com/tensorflow/tf-keras-datasets/mnist.npz\n",
      "11493376/11490434 [==============================] - 1s 0us/step\n",
      "11501568/11490434 [==============================] - 1s 0us/step\n"
     ]
    }
   ],
   "source": [
    "from keras.datasets import mnist\n",
    "\n",
    "(x_train, y_train), (x_test,y_test)=mnist.load_data()"
   ]
  },
  {
   "cell_type": "code",
   "execution_count": 3,
   "id": "772fb859",
   "metadata": {
    "execution": {
     "iopub.execute_input": "2023-01-15T20:38:23.670695Z",
     "iopub.status.busy": "2023-01-15T20:38:23.669789Z",
     "iopub.status.idle": "2023-01-15T20:38:23.677615Z",
     "shell.execute_reply": "2023-01-15T20:38:23.676836Z"
    },
    "papermill": {
     "duration": 0.017806,
     "end_time": "2023-01-15T20:38:23.679497",
     "exception": false,
     "start_time": "2023-01-15T20:38:23.661691",
     "status": "completed"
    },
    "tags": []
   },
   "outputs": [
    {
     "data": {
      "text/plain": [
       "(60000, 28, 28)"
      ]
     },
     "execution_count": 3,
     "metadata": {},
     "output_type": "execute_result"
    }
   ],
   "source": [
    "x_train.shape"
   ]
  },
  {
   "cell_type": "code",
   "execution_count": 4,
   "id": "e77cf9be",
   "metadata": {
    "execution": {
     "iopub.execute_input": "2023-01-15T20:38:23.695490Z",
     "iopub.status.busy": "2023-01-15T20:38:23.694619Z",
     "iopub.status.idle": "2023-01-15T20:38:23.701586Z",
     "shell.execute_reply": "2023-01-15T20:38:23.700389Z"
    },
    "papermill": {
     "duration": 0.017633,
     "end_time": "2023-01-15T20:38:23.704220",
     "exception": false,
     "start_time": "2023-01-15T20:38:23.686587",
     "status": "completed"
    },
    "tags": []
   },
   "outputs": [
    {
     "data": {
      "text/plain": [
       "(60000, 28, 28, 1)"
      ]
     },
     "execution_count": 4,
     "metadata": {},
     "output_type": "execute_result"
    }
   ],
   "source": [
    "x_train=np.expand_dims(x_train,-1)\n",
    "x_test=np.expand_dims(x_test,-1)\n",
    "x_train.shape"
   ]
  },
  {
   "cell_type": "code",
   "execution_count": 5,
   "id": "99ceb8ad",
   "metadata": {
    "execution": {
     "iopub.execute_input": "2023-01-15T20:38:23.721203Z",
     "iopub.status.busy": "2023-01-15T20:38:23.720192Z",
     "iopub.status.idle": "2023-01-15T20:38:23.726696Z",
     "shell.execute_reply": "2023-01-15T20:38:23.725722Z"
    },
    "papermill": {
     "duration": 0.017281,
     "end_time": "2023-01-15T20:38:23.728784",
     "exception": false,
     "start_time": "2023-01-15T20:38:23.711503",
     "status": "completed"
    },
    "tags": []
   },
   "outputs": [
    {
     "data": {
      "text/plain": [
       "(60000,)"
      ]
     },
     "execution_count": 5,
     "metadata": {},
     "output_type": "execute_result"
    }
   ],
   "source": [
    "y_train.shape"
   ]
  },
  {
   "cell_type": "code",
   "execution_count": 6,
   "id": "d24c2e05",
   "metadata": {
    "execution": {
     "iopub.execute_input": "2023-01-15T20:38:23.746430Z",
     "iopub.status.busy": "2023-01-15T20:38:23.746091Z",
     "iopub.status.idle": "2023-01-15T20:38:23.881730Z",
     "shell.execute_reply": "2023-01-15T20:38:23.880063Z"
    },
    "papermill": {
     "duration": 0.148468,
     "end_time": "2023-01-15T20:38:23.884466",
     "exception": false,
     "start_time": "2023-01-15T20:38:23.735998",
     "status": "completed"
    },
    "tags": []
   },
   "outputs": [
    {
     "name": "stdout",
     "output_type": "stream",
     "text": [
      "Model: \"sequential\"\n",
      "_________________________________________________________________\n",
      "Layer (type)                 Output Shape              Param #   \n",
      "=================================================================\n",
      "conv2d (Conv2D)              (None, 26, 26, 6)         60        \n",
      "_________________________________________________________________\n",
      "activation (Activation)      (None, 26, 26, 6)         0         \n",
      "_________________________________________________________________\n",
      "max_pooling2d (MaxPooling2D) (None, 13, 13, 6)         0         \n",
      "_________________________________________________________________\n",
      "conv2d_1 (Conv2D)            (None, 11, 11, 12)        660       \n",
      "_________________________________________________________________\n",
      "activation_1 (Activation)    (None, 11, 11, 12)        0         \n",
      "_________________________________________________________________\n",
      "max_pooling2d_1 (MaxPooling2 (None, 5, 5, 12)          0         \n",
      "_________________________________________________________________\n",
      "flatten (Flatten)            (None, 300)               0         \n",
      "_________________________________________________________________\n",
      "dense (Dense)                (None, 10)                3010      \n",
      "_________________________________________________________________\n",
      "activation_2 (Activation)    (None, 10)                0         \n",
      "=================================================================\n",
      "Total params: 3,730\n",
      "Trainable params: 3,730\n",
      "Non-trainable params: 0\n",
      "_________________________________________________________________\n"
     ]
    },
    {
     "name": "stderr",
     "output_type": "stream",
     "text": [
      "2023-01-15 20:38:23.781278: I tensorflow/core/common_runtime/process_util.cc:146] Creating new thread pool with default inter op setting: 2. Tune using inter_op_parallelism_threads for best performance.\n"
     ]
    }
   ],
   "source": [
    "from keras.layers import Conv2D, Activation,MaxPool2D, Flatten, Dense\n",
    "from keras.models import Sequential\n",
    "\n",
    "model=Sequential()\n",
    "img_shape=(28,28,1)\n",
    "model.add(Conv2D(filters=6,\n",
    "                kernel_size=3,\n",
    "                strides=1,\n",
    "                padding='valid',\n",
    "                input_shape=img_shape))\n",
    "\n",
    "#Tambien se puede usar\n",
    "#####model.add(Conv2D(6,3,input_shape=img_shape))\n",
    "\n",
    "model.add(Activation('relu'))\n",
    "model.add(MaxPool2D(pool_size=2,\n",
    "                   strides=None,\n",
    "                   padding='valid'))\n",
    "#tambien se puede usar\n",
    "###model.add(MaxPool2D(2))\n",
    "\n",
    "model.add(Conv2D(12,3))\n",
    "model.add(Activation('relu'))\n",
    "model.add(MaxPool2D(2))\n",
    "model.add(Flatten())\n",
    "model.add(Dense(10))\n",
    "model.add(Activation('softmax'))\n",
    "\n",
    "model.summary()"
   ]
  },
  {
   "cell_type": "code",
   "execution_count": 7,
   "id": "810d11e2",
   "metadata": {
    "execution": {
     "iopub.execute_input": "2023-01-15T20:38:23.901460Z",
     "iopub.status.busy": "2023-01-15T20:38:23.901034Z",
     "iopub.status.idle": "2023-01-15T20:38:23.914712Z",
     "shell.execute_reply": "2023-01-15T20:38:23.913510Z"
    },
    "papermill": {
     "duration": 0.024915,
     "end_time": "2023-01-15T20:38:23.917135",
     "exception": false,
     "start_time": "2023-01-15T20:38:23.892220",
     "status": "completed"
    },
    "tags": []
   },
   "outputs": [],
   "source": [
    "model.compile(loss='sparse_categorical_crossentropy',optimizer='adam',metrics=['acc'])"
   ]
  },
  {
   "cell_type": "code",
   "execution_count": 8,
   "id": "33338108",
   "metadata": {
    "execution": {
     "iopub.execute_input": "2023-01-15T20:38:23.935072Z",
     "iopub.status.busy": "2023-01-15T20:38:23.934646Z",
     "iopub.status.idle": "2023-01-15T20:39:05.025761Z",
     "shell.execute_reply": "2023-01-15T20:39:05.024734Z"
    },
    "papermill": {
     "duration": 41.102921,
     "end_time": "2023-01-15T20:39:05.028141",
     "exception": false,
     "start_time": "2023-01-15T20:38:23.925220",
     "status": "completed"
    },
    "tags": []
   },
   "outputs": [
    {
     "name": "stderr",
     "output_type": "stream",
     "text": [
      "2023-01-15 20:38:24.059618: I tensorflow/compiler/mlir/mlir_graph_optimization_pass.cc:185] None of the MLIR Optimization Passes are enabled (registered 2)\n"
     ]
    },
    {
     "name": "stdout",
     "output_type": "stream",
     "text": [
      "Epoch 1/5\n",
      "1875/1875 [==============================] - 9s 4ms/step - loss: 1.0335 - acc: 0.8448 - val_loss: 0.1996 - val_acc: 0.9388\n",
      "Epoch 2/5\n",
      "1875/1875 [==============================] - 8s 4ms/step - loss: 0.1532 - acc: 0.9544 - val_loss: 0.1141 - val_acc: 0.9666\n",
      "Epoch 3/5\n",
      "1875/1875 [==============================] - 8s 4ms/step - loss: 0.1033 - acc: 0.9692 - val_loss: 0.0885 - val_acc: 0.9732\n",
      "Epoch 4/5\n",
      "1875/1875 [==============================] - 8s 4ms/step - loss: 0.0821 - acc: 0.9754 - val_loss: 0.0766 - val_acc: 0.9759\n",
      "Epoch 5/5\n",
      "1875/1875 [==============================] - 8s 4ms/step - loss: 0.0704 - acc: 0.9783 - val_loss: 0.0793 - val_acc: 0.9771\n"
     ]
    }
   ],
   "source": [
    "history=model.fit(x_train,y_train,batch_size=32,epochs=5,validation_data=(x_test,y_test))"
   ]
  },
  {
   "cell_type": "code",
   "execution_count": 9,
   "id": "06149336",
   "metadata": {
    "execution": {
     "iopub.execute_input": "2023-01-15T20:39:05.130735Z",
     "iopub.status.busy": "2023-01-15T20:39:05.130050Z",
     "iopub.status.idle": "2023-01-15T20:39:05.337347Z",
     "shell.execute_reply": "2023-01-15T20:39:05.336510Z"
    },
    "papermill": {
     "duration": 0.260937,
     "end_time": "2023-01-15T20:39:05.339730",
     "exception": false,
     "start_time": "2023-01-15T20:39:05.078793",
     "status": "completed"
    },
    "tags": []
   },
   "outputs": [
    {
     "data": {
      "image/png": "[encoded data removed]",
      "text/plain": [
       "<Figure size 720x432 with 1 Axes>"
      ]
     },
     "metadata": {
      "needs_background": "light"
     },
     "output_type": "display_data"
    }
   ],
   "source": [
    "import matplotlib.pyplot as plt\n",
    "\n",
    "fig,ax=plt.subplots(figsize=(10,6))\n",
    "gen=ax.plot(history.history['val_acc'],label='validation Accuracy')\n",
    "fr=ax.plot(history.history['acc'],dashes=[5,2],label='Training accuracy')\n",
    "\n",
    "legend=ax.legend(loc='lower center',shadow=True)\n",
    "plt.show()"
   ]
  },
  {
   "cell_type": "code",
   "execution_count": 10,
   "id": "79042956",
   "metadata": {
    "execution": {
     "iopub.execute_input": "2023-01-15T20:39:05.440773Z",
     "iopub.status.busy": "2023-01-15T20:39:05.440397Z",
     "iopub.status.idle": "2023-01-15T20:39:05.759922Z",
     "shell.execute_reply": "2023-01-15T20:39:05.758943Z"
    },
    "papermill": {
     "duration": 0.372891,
     "end_time": "2023-01-15T20:39:05.762638",
     "exception": false,
     "start_time": "2023-01-15T20:39:05.389747",
     "status": "completed"
    },
    "tags": []
   },
   "outputs": [],
   "source": [
    "from tensorflow.keras.optimizers import SGD, Adam\n",
    "#momentum\n",
    "momentum_optimizer = SGD(learning_rate=0.01,momentum=0.9)"
   ]
  },
  {
   "cell_type": "code",
   "execution_count": 11,
   "id": "a23d3ba0",
   "metadata": {
    "execution": {
     "iopub.execute_input": "2023-01-15T20:39:05.866801Z",
     "iopub.status.busy": "2023-01-15T20:39:05.865642Z",
     "iopub.status.idle": "2023-01-15T20:39:05.877490Z",
     "shell.execute_reply": "2023-01-15T20:39:05.876659Z"
    },
    "papermill": {
     "duration": 0.065598,
     "end_time": "2023-01-15T20:39:05.879633",
     "exception": false,
     "start_time": "2023-01-15T20:39:05.814035",
     "status": "completed"
    },
    "tags": []
   },
   "outputs": [],
   "source": [
    "model.compile(optimizer=momentum_optimizer,loss='sparse_categorical_crossentropy',metrics=['acc'])"
   ]
  },
  {
   "cell_type": "code",
   "execution_count": 12,
   "id": "a892aca5",
   "metadata": {
    "execution": {
     "iopub.execute_input": "2023-01-15T20:39:05.983217Z",
     "iopub.status.busy": "2023-01-15T20:39:05.982143Z",
     "iopub.status.idle": "2023-01-15T20:39:05.988823Z",
     "shell.execute_reply": "2023-01-15T20:39:05.987944Z"
    },
    "papermill": {
     "duration": 0.061962,
     "end_time": "2023-01-15T20:39:05.992179",
     "exception": false,
     "start_time": "2023-01-15T20:39:05.930217",
     "status": "completed"
    },
    "tags": []
   },
   "outputs": [
    {
     "name": "stderr",
     "output_type": "stream",
     "text": [
      "/opt/conda/lib/python3.7/site-packages/keras/optimizer_v2/optimizer_v2.py:356: UserWarning: The `lr` argument is deprecated, use `learning_rate` instead.\n",
      "  \"The `lr` argument is deprecated, use `learning_rate` instead.\")\n"
     ]
    }
   ],
   "source": [
    "#Adam\n",
    "adam_optimizer=Adam(lr=0.1,beta_1=0.9,beta_2=0.999,epsilon=1e-08)"
   ]
  },
  {
   "cell_type": "code",
   "execution_count": 13,
   "id": "d3961ba3",
   "metadata": {
    "execution": {
     "iopub.execute_input": "2023-01-15T20:39:06.096495Z",
     "iopub.status.busy": "2023-01-15T20:39:06.095511Z",
     "iopub.status.idle": "2023-01-15T20:39:06.105188Z",
     "shell.execute_reply": "2023-01-15T20:39:06.104153Z"
    },
    "papermill": {
     "duration": 0.063014,
     "end_time": "2023-01-15T20:39:06.107588",
     "exception": false,
     "start_time": "2023-01-15T20:39:06.044574",
     "status": "completed"
    },
    "tags": []
   },
   "outputs": [],
   "source": [
    "model.compile(optimizer=adam_optimizer,loss='sparse_categorical_crossentropy',metrics=['acc'])"
   ]
  },
  {
   "cell_type": "code",
   "execution_count": 14,
   "id": "8194dfa9",
   "metadata": {
    "execution": {
     "iopub.execute_input": "2023-01-15T20:39:06.208463Z",
     "iopub.status.busy": "2023-01-15T20:39:06.207675Z",
     "iopub.status.idle": "2023-01-15T20:39:06.264402Z",
     "shell.execute_reply": "2023-01-15T20:39:06.263286Z"
    },
    "papermill": {
     "duration": 0.109873,
     "end_time": "2023-01-15T20:39:06.267110",
     "exception": false,
     "start_time": "2023-01-15T20:39:06.157237",
     "status": "completed"
    },
    "tags": []
   },
   "outputs": [],
   "source": [
    "#regularizacion\n",
    "from keras.regularizers import l2\n",
    "\n",
    "# Set up model\n",
    "model = Sequential()\n",
    "model.add(Conv2D(6,3,input_shape=img_shape, kernel_regularizer=l2(0.01)))\n",
    "model.add(Activation('relu'))\n",
    "model.add(MaxPool2D(2))\n",
    "model.add(Conv2D(12,3,activity_regularizer=l2(0.01)))\n",
    "model.add(Activation('relu'))\n",
    "model.add(MaxPool2D(2))\n",
    "model.add(Flatten())\n",
    "model.add(Dense(10,bias_regularizer=l2(0.01)))\n",
    "model.add(Activation('softmax'))"
   ]
  },
  {
   "cell_type": "code",
   "execution_count": 15,
   "id": "5637ee9e",
   "metadata": {
    "execution": {
     "iopub.execute_input": "2023-01-15T20:39:06.369395Z",
     "iopub.status.busy": "2023-01-15T20:39:06.368971Z",
     "iopub.status.idle": "2023-01-15T20:39:06.379372Z",
     "shell.execute_reply": "2023-01-15T20:39:06.378288Z"
    },
    "papermill": {
     "duration": 0.063725,
     "end_time": "2023-01-15T20:39:06.381589",
     "exception": false,
     "start_time": "2023-01-15T20:39:06.317864",
     "status": "completed"
    },
    "tags": []
   },
   "outputs": [],
   "source": [
    "model.compile(loss='sparse_categorical_crossentropy', optimizer = 'adam', metrics=['acc'])"
   ]
  },
  {
   "cell_type": "code",
   "execution_count": 16,
   "id": "fc90956f",
   "metadata": {
    "execution": {
     "iopub.execute_input": "2023-01-15T20:39:06.482351Z",
     "iopub.status.busy": "2023-01-15T20:39:06.481939Z",
     "iopub.status.idle": "2023-01-15T20:40:35.850138Z",
     "shell.execute_reply": "2023-01-15T20:40:35.848840Z"
    },
    "papermill": {
     "duration": 89.421656,
     "end_time": "2023-01-15T20:40:35.852628",
     "exception": false,
     "start_time": "2023-01-15T20:39:06.430972",
     "status": "completed"
    },
    "tags": []
   },
   "outputs": [
    {
     "name": "stdout",
     "output_type": "stream",
     "text": [
      "Epoch 1/10\n",
      "1875/1875 [==============================] - 10s 5ms/step - loss: 126.6261 - acc: 0.6341 - val_loss: 2.8282 - val_acc: 0.7565\n",
      "Epoch 2/10\n",
      "1875/1875 [==============================] - 9s 5ms/step - loss: 1.7423 - acc: 0.7751 - val_loss: 1.1967 - val_acc: 0.8171\n",
      "Epoch 3/10\n",
      "1875/1875 [==============================] - 9s 5ms/step - loss: 1.0150 - acc: 0.8310 - val_loss: 0.8404 - val_acc: 0.8600\n",
      "Epoch 4/10\n",
      "1875/1875 [==============================] - 9s 5ms/step - loss: 0.7569 - acc: 0.8643 - val_loss: 0.6656 - val_acc: 0.8778\n",
      "Epoch 5/10\n",
      "1875/1875 [==============================] - 9s 5ms/step - loss: 0.6046 - acc: 0.8891 - val_loss: 0.5206 - val_acc: 0.9098\n",
      "Epoch 6/10\n",
      "1875/1875 [==============================] - 9s 5ms/step - loss: 0.4808 - acc: 0.9118 - val_loss: 0.4890 - val_acc: 0.9106\n",
      "Epoch 7/10\n",
      "1875/1875 [==============================] - 9s 5ms/step - loss: 0.4005 - acc: 0.9266 - val_loss: 0.3468 - val_acc: 0.9425\n",
      "Epoch 8/10\n",
      "1875/1875 [==============================] - 9s 5ms/step - loss: 0.3341 - acc: 0.9404 - val_loss: 0.2842 - val_acc: 0.9559\n",
      "Epoch 9/10\n",
      "1875/1875 [==============================] - 9s 5ms/step - loss: 0.2832 - acc: 0.9501 - val_loss: 0.2461 - val_acc: 0.9592\n",
      "Epoch 10/10\n",
      "1875/1875 [==============================] - 9s 5ms/step - loss: 0.2535 - acc: 0.9550 - val_loss: 0.2429 - val_acc: 0.9569\n"
     ]
    }
   ],
   "source": [
    "history = model.fit(x_train,\n",
    "                    y_train,\n",
    "                    batch_size=32,\n",
    "                    epochs=10,\n",
    "                    validation_data=(x_test,y_test))"
   ]
  },
  {
   "cell_type": "code",
   "execution_count": 17,
   "id": "0cd45cb1",
   "metadata": {
    "execution": {
     "iopub.execute_input": "2023-01-15T20:40:36.148685Z",
     "iopub.status.busy": "2023-01-15T20:40:36.148014Z",
     "iopub.status.idle": "2023-01-15T20:40:36.204525Z",
     "shell.execute_reply": "2023-01-15T20:40:36.203377Z"
    },
    "papermill": {
     "duration": 0.20513,
     "end_time": "2023-01-15T20:40:36.207135",
     "exception": false,
     "start_time": "2023-01-15T20:40:36.002005",
     "status": "completed"
    },
    "tags": []
   },
   "outputs": [],
   "source": [
    "#dropout\n",
    "from keras.layers import Dropout\n",
    "\n",
    "\n",
    "model = Sequential()\n",
    "\n",
    "\n",
    "model.add(Conv2D(6,3,input_shape=img_shape))\n",
    "model.add(Activation('relu'))\n",
    "model.add(MaxPool2D(2))\n",
    "\n",
    "model.add(Dropout(0.2))\n",
    "\n",
    "model.add(Conv2D(12,3))\n",
    "model.add(Activation('relu'))\n",
    "model.add(MaxPool2D(2))\n",
    "\n",
    "model.add(Dropout(0.2))\n",
    "\n",
    "model.add(Flatten())\n",
    "\n",
    "model.add(Dense(10,bias_regularizer=l2(0.01)))\n",
    "\n",
    "model.add(Activation('softmax'))"
   ]
  },
  {
   "cell_type": "code",
   "execution_count": 18,
   "id": "2e362415",
   "metadata": {
    "execution": {
     "iopub.execute_input": "2023-01-15T20:40:36.498969Z",
     "iopub.status.busy": "2023-01-15T20:40:36.498557Z",
     "iopub.status.idle": "2023-01-15T20:40:36.508447Z",
     "shell.execute_reply": "2023-01-15T20:40:36.507637Z"
    },
    "papermill": {
     "duration": 0.157828,
     "end_time": "2023-01-15T20:40:36.510456",
     "exception": false,
     "start_time": "2023-01-15T20:40:36.352628",
     "status": "completed"
    },
    "tags": []
   },
   "outputs": [],
   "source": [
    "model.compile(loss='sparse_categorical_crossentropy', optimizer = 'adam', metrics=['acc'])"
   ]
  },
  {
   "cell_type": "code",
   "execution_count": 19,
   "id": "73ce51b2",
   "metadata": {
    "execution": {
     "iopub.execute_input": "2023-01-15T20:40:36.870138Z",
     "iopub.status.busy": "2023-01-15T20:40:36.869392Z",
     "iopub.status.idle": "2023-01-15T20:42:09.441492Z",
     "shell.execute_reply": "2023-01-15T20:42:09.439843Z"
    },
    "papermill": {
     "duration": 92.789371,
     "end_time": "2023-01-15T20:42:09.444017",
     "exception": false,
     "start_time": "2023-01-15T20:40:36.654646",
     "status": "completed"
    },
    "tags": []
   },
   "outputs": [
    {
     "name": "stdout",
     "output_type": "stream",
     "text": [
      "Epoch 1/10\n",
      "1875/1875 [==============================] - 10s 5ms/step - loss: 1.7497 - acc: 0.7249 - val_loss: 0.2089 - val_acc: 0.9391\n",
      "Epoch 2/10\n",
      "1875/1875 [==============================] - 9s 5ms/step - loss: 0.2773 - acc: 0.9122 - val_loss: 0.1104 - val_acc: 0.9662\n",
      "Epoch 3/10\n",
      "1875/1875 [==============================] - 9s 5ms/step - loss: 0.1864 - acc: 0.9414 - val_loss: 0.0754 - val_acc: 0.9758\n",
      "Epoch 4/10\n",
      "1875/1875 [==============================] - 9s 5ms/step - loss: 0.1464 - acc: 0.9538 - val_loss: 0.0747 - val_acc: 0.9759\n",
      "Epoch 5/10\n",
      "1875/1875 [==============================] - 10s 5ms/step - loss: 0.1295 - acc: 0.9597 - val_loss: 0.0607 - val_acc: 0.9790\n",
      "Epoch 6/10\n",
      "1875/1875 [==============================] - 9s 5ms/step - loss: 0.1229 - acc: 0.9627 - val_loss: 0.0638 - val_acc: 0.9798\n",
      "Epoch 7/10\n",
      "1875/1875 [==============================] - 9s 5ms/step - loss: 0.1167 - acc: 0.9635 - val_loss: 0.0575 - val_acc: 0.9812\n",
      "Epoch 8/10\n",
      "1875/1875 [==============================] - 10s 5ms/step - loss: 0.1140 - acc: 0.9644 - val_loss: 0.0571 - val_acc: 0.9808\n",
      "Epoch 9/10\n",
      "1875/1875 [==============================] - 9s 5ms/step - loss: 0.1088 - acc: 0.9654 - val_loss: 0.0553 - val_acc: 0.9816\n",
      "Epoch 10/10\n",
      "1875/1875 [==============================] - 9s 5ms/step - loss: 0.1051 - acc: 0.9662 - val_loss: 0.0598 - val_acc: 0.9800\n"
     ]
    }
   ],
   "source": [
    "history = model.fit(x_train,\n",
    "                    y_train,\n",
    "                    batch_size=32,\n",
    "                    epochs=10,\n",
    "                    validation_data=(x_test,y_test))"
   ]
  },
  {
   "cell_type": "code",
   "execution_count": 20,
   "id": "db237954",
   "metadata": {
    "execution": {
     "iopub.execute_input": "2023-01-15T20:42:09.932035Z",
     "iopub.status.busy": "2023-01-15T20:42:09.931592Z",
     "iopub.status.idle": "2023-01-15T20:42:10.005087Z",
     "shell.execute_reply": "2023-01-15T20:42:10.004260Z"
    },
    "papermill": {
     "duration": 0.320045,
     "end_time": "2023-01-15T20:42:10.007474",
     "exception": false,
     "start_time": "2023-01-15T20:42:09.687429",
     "status": "completed"
    },
    "tags": []
   },
   "outputs": [],
   "source": [
    "#Batchnorm\n",
    "from keras.layers import BatchNormalization\n",
    "\n",
    "\n",
    "model = Sequential()\n",
    "\n",
    "\n",
    "model.add(Conv2D(6,3,input_shape=img_shape))\n",
    "model.add(Activation('relu'))\n",
    "model.add(MaxPool2D(2))\n",
    "\n",
    "model.add(BatchNormalization())\n",
    "\n",
    "model.add(Conv2D(12,3))\n",
    "model.add(Activation('relu'))\n",
    "model.add(MaxPool2D(2))\n",
    "\n",
    "model.add(BatchNormalization())\n",
    "\n",
    "model.add(Flatten())\n",
    "\n",
    "model.add(Dense(10,bias_regularizer=l2(0.01)))\n",
    "\n",
    "model.add(Activation('softmax'))"
   ]
  },
  {
   "cell_type": "code",
   "execution_count": 21,
   "id": "9fc60653",
   "metadata": {
    "execution": {
     "iopub.execute_input": "2023-01-15T20:42:10.564235Z",
     "iopub.status.busy": "2023-01-15T20:42:10.563773Z",
     "iopub.status.idle": "2023-01-15T20:42:10.572972Z",
     "shell.execute_reply": "2023-01-15T20:42:10.572241Z"
    },
    "papermill": {
     "duration": 0.322291,
     "end_time": "2023-01-15T20:42:10.575071",
     "exception": false,
     "start_time": "2023-01-15T20:42:10.252780",
     "status": "completed"
    },
    "tags": []
   },
   "outputs": [],
   "source": [
    "model.compile(loss='sparse_categorical_crossentropy', optimizer = 'adam', metrics=['acc'])"
   ]
  },
  {
   "cell_type": "code",
   "execution_count": 22,
   "id": "8d4831b7",
   "metadata": {
    "execution": {
     "iopub.execute_input": "2023-01-15T20:42:11.069177Z",
     "iopub.status.busy": "2023-01-15T20:42:11.068334Z",
     "iopub.status.idle": "2023-01-15T20:44:20.019398Z",
     "shell.execute_reply": "2023-01-15T20:44:20.017855Z"
    },
    "papermill": {
     "duration": 129.202519,
     "end_time": "2023-01-15T20:44:20.022053",
     "exception": false,
     "start_time": "2023-01-15T20:42:10.819534",
     "status": "completed"
    },
    "tags": []
   },
   "outputs": [
    {
     "name": "stdout",
     "output_type": "stream",
     "text": [
      "Epoch 1/10\n",
      "1875/1875 [==============================] - 14s 7ms/step - loss: 0.2164 - acc: 0.9358 - val_loss: 0.0770 - val_acc: 0.9755\n",
      "Epoch 2/10\n",
      "1875/1875 [==============================] - 13s 7ms/step - loss: 0.0718 - acc: 0.9780 - val_loss: 0.0616 - val_acc: 0.9793\n",
      "Epoch 3/10\n",
      "1875/1875 [==============================] - 13s 7ms/step - loss: 0.0566 - acc: 0.9828 - val_loss: 0.0511 - val_acc: 0.9832\n",
      "Epoch 4/10\n",
      "1875/1875 [==============================] - 12s 7ms/step - loss: 0.0475 - acc: 0.9854 - val_loss: 0.0486 - val_acc: 0.9825\n",
      "Epoch 5/10\n",
      "1875/1875 [==============================] - 13s 7ms/step - loss: 0.0426 - acc: 0.9870 - val_loss: 0.0515 - val_acc: 0.9827\n",
      "Epoch 6/10\n",
      "1875/1875 [==============================] - 13s 7ms/step - loss: 0.0398 - acc: 0.9875 - val_loss: 0.0451 - val_acc: 0.9860\n",
      "Epoch 7/10\n",
      "1875/1875 [==============================] - 12s 7ms/step - loss: 0.0352 - acc: 0.9889 - val_loss: 0.0464 - val_acc: 0.9847\n",
      "Epoch 8/10\n",
      "1875/1875 [==============================] - 13s 7ms/step - loss: 0.0338 - acc: 0.9895 - val_loss: 0.0445 - val_acc: 0.9855\n",
      "Epoch 9/10\n",
      "1875/1875 [==============================] - 12s 7ms/step - loss: 0.0306 - acc: 0.9905 - val_loss: 0.0480 - val_acc: 0.9857\n",
      "Epoch 10/10\n",
      "1875/1875 [==============================] - 13s 7ms/step - loss: 0.0291 - acc: 0.9907 - val_loss: 0.0469 - val_acc: 0.9856\n"
     ]
    }
   ],
   "source": [
    "history = model.fit(x_train,\n",
    "                    y_train,\n",
    "                    batch_size=32,\n",
    "                    epochs=10,\n",
    "                    validation_data=(x_test,y_test))"
   ]
  },
  {
   "cell_type": "code",
   "execution_count": 23,
   "id": "93bfbd7f",
   "metadata": {
    "execution": {
     "iopub.execute_input": "2023-01-15T20:44:20.772286Z",
     "iopub.status.busy": "2023-01-15T20:44:20.771826Z",
     "iopub.status.idle": "2023-01-15T20:44:20.918461Z",
     "shell.execute_reply": "2023-01-15T20:44:20.917423Z"
    },
    "papermill": {
     "duration": 0.52328,
     "end_time": "2023-01-15T20:44:20.921474",
     "exception": false,
     "start_time": "2023-01-15T20:44:20.398194",
     "status": "completed"
    },
    "tags": []
   },
   "outputs": [
    {
     "data": {
      "image/png": "[encoded data removed]",
      "text/plain": [
       "<Figure size 720x432 with 1 Axes>"
      ]
     },
     "metadata": {
      "needs_background": "light"
     },
     "output_type": "display_data"
    }
   ],
   "source": [
    "fig, ax = plt.subplots(figsize=(10,6))\n",
    "gen = ax.plot(history.history['val_acc'], label='Validation Accuracy')\n",
    "fr = ax.plot(history.history['acc'],dashes=[5, 2], label='Training Accuracy')\n",
    "\n",
    "legend = ax.legend(loc='lower center', shadow=True)\n",
    "\n",
    "plt.show()"
   ]
  },
  {
   "cell_type": "code",
   "execution_count": null,
   "id": "52cdb2c6",
   "metadata": {
    "papermill": {
     "duration": 0.376015,
     "end_time": "2023-01-15T20:44:21.674998",
     "exception": false,
     "start_time": "2023-01-15T20:44:21.298983",
     "status": "completed"
    },
    "tags": []
   },
   "outputs": [],
   "source": []
  }
 ],
 "metadata": {
  "kernelspec": {
   "display_name": "Python 3",
   "language": "python",
   "name": "python3"
  },
  "language_info": {
   "codemirror_mode": {
    "name": "ipython",
    "version": 3
   },
   "file_extension": ".py",
   "mimetype": "text/x-python",
   "name": "python",
   "nbconvert_exporter": "python",
   "pygments_lexer": "ipython3",
   "version": "3.7.12"
  },
  "papermill": {
   "default_parameters": {},
   "duration": 376.336729,
   "end_time": "2023-01-15T20:44:25.112349",
   "environment_variables": {},
   "exception": null,
   "input_path": "__notebook__.ipynb",
   "output_path": "__notebook__.ipynb",
   "parameters": {},
   "start_time": "2023-01-15T20:38:08.775620",
   "version": "2.3.4"
  }
 },
 "nbformat": 4,
 "nbformat_minor": 5
}
